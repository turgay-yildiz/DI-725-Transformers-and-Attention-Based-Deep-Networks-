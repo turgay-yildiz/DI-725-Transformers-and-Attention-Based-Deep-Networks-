{
 "cells": [
  {
   "cell_type": "markdown",
   "id": "1a24157c-3ff2-4a66-8dcf-37d2085a776d",
   "metadata": {},
   "source": [
    "<div style=\"background-color:yellow; text-align:center; text-align:center; padding:40px;\">\n",
    "<h1  style=\"color:red;\" > DI-725 : Transformers and Attention-Based Deep Networks </h1>   \n",
    "<h2  style=\"color:red;\" > Assignment - 1 </h2>\n",
    "<br>\n",
    "<br>\n",
    "<h4  style=\"color:red;\" >Turgay Yıldız</h4>\n",
    "<br>\n",
    "<h4  style=\"color:red;\" >Graduate School of Informatics,  Middle East Technical University (METU)</h4>\n",
    "</div>\n"
   ]
  },
  {
   "cell_type": "markdown",
   "id": "82bf8e0a-6828-4a7e-8dd0-dc184062329e",
   "metadata": {},
   "source": [
    "<div span style=\"background-color:yellow;    color:red;      text-align:center;    padding:5px;\">\n",
    "<h2>  First Import the Relevant Packages  </h2>\n",
    "</div>"
   ]
  },
  {
   "cell_type": "code",
   "execution_count": 1,
   "id": "68c533b0-e398-4508-bba6-c8271e76a9f0",
   "metadata": {
    "scrolled": true
   },
   "outputs": [
    {
     "name": "stderr",
     "output_type": "stream",
     "text": [
      "/home/turgay/anaconda3/envs/DI_725_assignment_1/lib/python3.8/site-packages/tqdm/auto.py:21: TqdmWarning: IProgress not found. Please update jupyter and ipywidgets. See https://ipywidgets.readthedocs.io/en/stable/user_install.html\n",
      "  from .autonotebook import tqdm as notebook_tqdm\n"
     ]
    }
   ],
   "source": [
    "import math\n",
    "import inspect\n",
    "from dataclasses import dataclass\n",
    "import torch\n",
    "import torch.nn as nn\n",
    "from torch.nn import functional as F\n",
    "from transformers import GPT2Tokenizer\n",
    "import pandas as pd\n",
    "import matplotlib.pyplot as plt\n",
    "import seaborn as sns\n",
    "import re\n",
    "from torch.utils.data import Dataset, DataLoader, random_split\n",
    "\n",
    "from torch.optim import AdamW\n",
    "\n",
    "import nltk\n",
    "from nltk.stem import PorterStemmer\n",
    "from nltk.tokenize import word_tokenize\n",
    "from nltk.corpus import stopwords, wordnet\n",
    "from nltk.stem import WordNetLemmatizer\n",
    "from nltk import pos_tag\n",
    "\n",
    "#nltk.download(\"punkt\")\n",
    "#nltk.download(\"averaged_perceptron_tagger\")\n",
    "#nltk.download('averaged_perceptron_tagger_eng')\n",
    "#nltk.download(\"wordnet\")\n",
    "#nltk.download(\"stopwords\")\n",
    "\n",
    "from sklearn.metrics import accuracy_score, confusion_matrix, classification_report\n",
    "import tqdm\n",
    "\n",
    "import wandb\n",
    "import os\n",
    "\n",
    "from torch.amp import GradScaler, autocast"
   ]
  },
  {
   "cell_type": "code",
   "execution_count": 2,
   "id": "f343f0ef-ba51-4b1b-bfa9-db464e6eafdd",
   "metadata": {},
   "outputs": [
    {
     "name": "stdout",
     "output_type": "stream",
     "text": [
      "True\n"
     ]
    }
   ],
   "source": [
    "print(torch.cuda.is_available())"
   ]
  },
  {
   "cell_type": "code",
   "execution_count": 3,
   "id": "0a06207e-5a84-42b3-b97d-3e46c5e66b21",
   "metadata": {},
   "outputs": [
    {
     "name": "stdout",
     "output_type": "stream",
     "text": [
      "/home/turgay/Turgay/Academic/2024-2025/Spring/Transformers/Assignments/Assignment_1\n"
     ]
    }
   ],
   "source": [
    "print(os.getcwd())"
   ]
  },
  {
   "cell_type": "code",
   "execution_count": 4,
   "id": "2765b4fc-84b7-40cd-be07-cc9c4f2acb31",
   "metadata": {},
   "outputs": [],
   "source": [
    "os.environ[\"WANDB_NOTEBOOK_NAME\"] = \"DI_725_Assignment_1__2697258.ipynb\""
   ]
  },
  {
   "cell_type": "code",
   "execution_count": 5,
   "id": "365eb0cb-0624-426b-9195-a74fc334fda1",
   "metadata": {},
   "outputs": [
    {
     "name": "stderr",
     "output_type": "stream",
     "text": [
      "\u001b[34m\u001b[1mwandb\u001b[0m: Currently logged in as: \u001b[33mturgay-yildiz-phi-e-pi\u001b[0m (\u001b[33mturgay-yildiz-phi-e-pi-middle-east-technical-university\u001b[0m). Use \u001b[1m`wandb login --relogin`\u001b[0m to force relogin\n"
     ]
    },
    {
     "data": {
      "text/html": [
       "wandb version 0.19.8 is available!  To upgrade, please run:\n",
       " $ pip install wandb --upgrade"
      ],
      "text/plain": [
       "<IPython.core.display.HTML object>"
      ]
     },
     "metadata": {},
     "output_type": "display_data"
    },
    {
     "data": {
      "text/html": [
       "Tracking run with wandb version 0.16.6"
      ],
      "text/plain": [
       "<IPython.core.display.HTML object>"
      ]
     },
     "metadata": {},
     "output_type": "display_data"
    },
    {
     "data": {
      "text/html": [
       "Run data is saved locally in <code>/home/turgay/Turgay/Academic/2024-2025/Spring/Transformers/Assignments/Assignment_1/wandb/run-20250321_170856-mqjdzwd1</code>"
      ],
      "text/plain": [
       "<IPython.core.display.HTML object>"
      ]
     },
     "metadata": {},
     "output_type": "display_data"
    },
    {
     "data": {
      "text/html": [
       "Syncing run <strong><a href='https://wandb.ai/turgay-yildiz-phi-e-pi-middle-east-technical-university/DI_725_Assignment_1___2697258/runs/mqjdzwd1' target=\"_blank\">playful-totem-34</a></strong> to <a href='https://wandb.ai/turgay-yildiz-phi-e-pi-middle-east-technical-university/DI_725_Assignment_1___2697258' target=\"_blank\">Weights & Biases</a> (<a href='https://wandb.me/run' target=\"_blank\">docs</a>)<br/>"
      ],
      "text/plain": [
       "<IPython.core.display.HTML object>"
      ]
     },
     "metadata": {},
     "output_type": "display_data"
    },
    {
     "data": {
      "text/html": [
       " View project at <a href='https://wandb.ai/turgay-yildiz-phi-e-pi-middle-east-technical-university/DI_725_Assignment_1___2697258' target=\"_blank\">https://wandb.ai/turgay-yildiz-phi-e-pi-middle-east-technical-university/DI_725_Assignment_1___2697258</a>"
      ],
      "text/plain": [
       "<IPython.core.display.HTML object>"
      ]
     },
     "metadata": {},
     "output_type": "display_data"
    },
    {
     "data": {
      "text/html": [
       " View run at <a href='https://wandb.ai/turgay-yildiz-phi-e-pi-middle-east-technical-university/DI_725_Assignment_1___2697258/runs/mqjdzwd1' target=\"_blank\">https://wandb.ai/turgay-yildiz-phi-e-pi-middle-east-technical-university/DI_725_Assignment_1___2697258/runs/mqjdzwd1</a>"
      ],
      "text/plain": [
       "<IPython.core.display.HTML object>"
      ]
     },
     "metadata": {},
     "output_type": "display_data"
    }
   ],
   "source": [
    "run  =  wandb.init(project=\"DI_725_Assignment_1___2697258\", entity=\"turgay-yildiz-phi-e-pi-middle-east-technical-university\")"
   ]
  },
  {
   "cell_type": "markdown",
   "id": "b502c6b5-281a-4100-8e07-6fa7e5b8bf1e",
   "metadata": {},
   "source": [
    "<div span style=\"background-color:yellow;    color:red;      text-align:center;    padding:5px;\">\n",
    "<h2>  First Import Dataset  </h2>\n",
    "</div>"
   ]
  },
  {
   "cell_type": "code",
   "execution_count": 6,
   "id": "adee8bb2-6f68-4a74-827a-5e5997ce3f09",
   "metadata": {},
   "outputs": [],
   "source": [
    "path   =   \"/home/turgay/Turgay/Academic/2024-2025/Spring/Transformers/Assignments/Assignment_1/assignment_1/data/customer_service/\""
   ]
  },
  {
   "cell_type": "code",
   "execution_count": 7,
   "id": "a49f7cd3-29c0-408b-9e29-60ccf56ec2e0",
   "metadata": {},
   "outputs": [],
   "source": [
    "df_train = pd.read_csv(path + \"train.csv\") \n",
    "df_test  = pd.read_csv(path + \"test.csv\")"
   ]
  },
  {
   "cell_type": "code",
   "execution_count": 8,
   "id": "de32e182-9483-47f8-897c-5bd16d7a0b7c",
   "metadata": {},
   "outputs": [
    {
     "data": {
      "text/html": [
       "<div>\n",
       "<style scoped>\n",
       "    .dataframe tbody tr th:only-of-type {\n",
       "        vertical-align: middle;\n",
       "    }\n",
       "\n",
       "    .dataframe tbody tr th {\n",
       "        vertical-align: top;\n",
       "    }\n",
       "\n",
       "    .dataframe thead th {\n",
       "        text-align: right;\n",
       "    }\n",
       "</style>\n",
       "<table border=\"1\" class=\"dataframe\">\n",
       "  <thead>\n",
       "    <tr style=\"text-align: right;\">\n",
       "      <th></th>\n",
       "      <th>issue_area</th>\n",
       "      <th>issue_category</th>\n",
       "      <th>issue_sub_category</th>\n",
       "      <th>issue_category_sub_category</th>\n",
       "      <th>customer_sentiment</th>\n",
       "      <th>product_category</th>\n",
       "      <th>product_sub_category</th>\n",
       "      <th>issue_complexity</th>\n",
       "      <th>agent_experience_level</th>\n",
       "      <th>agent_experience_level_desc</th>\n",
       "      <th>conversation</th>\n",
       "    </tr>\n",
       "  </thead>\n",
       "  <tbody>\n",
       "    <tr>\n",
       "      <th>0</th>\n",
       "      <td>Login and Account</td>\n",
       "      <td>Mobile Number and Email Verification</td>\n",
       "      <td>Verification requirement for mobile number or ...</td>\n",
       "      <td>Mobile Number and Email Verification -&gt; Verifi...</td>\n",
       "      <td>neutral</td>\n",
       "      <td>Appliances</td>\n",
       "      <td>Oven Toaster Grills (OTG)</td>\n",
       "      <td>medium</td>\n",
       "      <td>junior</td>\n",
       "      <td>handles customer inquiries independently, poss...</td>\n",
       "      <td>Agent: Thank you for calling BrownBox Customer...</td>\n",
       "    </tr>\n",
       "    <tr>\n",
       "      <th>1</th>\n",
       "      <td>Cancellations and returns</td>\n",
       "      <td>Pickup and Shipping</td>\n",
       "      <td>Reasons for being asked to ship the item</td>\n",
       "      <td>Pickup and Shipping -&gt; Reasons for being asked...</td>\n",
       "      <td>neutral</td>\n",
       "      <td>Electronics</td>\n",
       "      <td>Computer Monitor</td>\n",
       "      <td>less</td>\n",
       "      <td>junior</td>\n",
       "      <td>handles customer inquiries independently, poss...</td>\n",
       "      <td>Agent: Thank you for calling BrownBox customer...</td>\n",
       "    </tr>\n",
       "    <tr>\n",
       "      <th>2</th>\n",
       "      <td>Cancellations and returns</td>\n",
       "      <td>Replacement and Return Process</td>\n",
       "      <td>Inability to click the 'Cancel' button</td>\n",
       "      <td>Replacement and Return Process -&gt; Inability to...</td>\n",
       "      <td>neutral</td>\n",
       "      <td>Appliances</td>\n",
       "      <td>Juicer/Mixer/Grinder</td>\n",
       "      <td>medium</td>\n",
       "      <td>experienced</td>\n",
       "      <td>confidently handles complex customer issues, e...</td>\n",
       "      <td>Agent: Thank you for calling BrownBox Customer...</td>\n",
       "    </tr>\n",
       "    <tr>\n",
       "      <th>3</th>\n",
       "      <td>Login and Account</td>\n",
       "      <td>Login Issues and Error Messages</td>\n",
       "      <td>Error message regarding exceeded attempts to e...</td>\n",
       "      <td>Login Issues and Error Messages -&gt; Error messa...</td>\n",
       "      <td>neutral</td>\n",
       "      <td>Appliances</td>\n",
       "      <td>Water Purifier</td>\n",
       "      <td>less</td>\n",
       "      <td>inexperienced</td>\n",
       "      <td>may struggle with ambiguous queries, rely on c...</td>\n",
       "      <td>Customer: Hi, I am facing an issue while loggi...</td>\n",
       "    </tr>\n",
       "    <tr>\n",
       "      <th>4</th>\n",
       "      <td>Order</td>\n",
       "      <td>Order Delivery Issues</td>\n",
       "      <td>Delivery not attempted again</td>\n",
       "      <td>Order Delivery Issues -&gt; Delivery not attempte...</td>\n",
       "      <td>negative</td>\n",
       "      <td>Electronics</td>\n",
       "      <td>Bp Monitor</td>\n",
       "      <td>medium</td>\n",
       "      <td>experienced</td>\n",
       "      <td>confidently handles complex customer issues, e...</td>\n",
       "      <td>Agent: Thank you for contacting BrownBox custo...</td>\n",
       "    </tr>\n",
       "  </tbody>\n",
       "</table>\n",
       "</div>"
      ],
      "text/plain": [
       "                  issue_area                        issue_category  \\\n",
       "0          Login and Account  Mobile Number and Email Verification   \n",
       "1  Cancellations and returns                   Pickup and Shipping   \n",
       "2  Cancellations and returns        Replacement and Return Process   \n",
       "3          Login and Account       Login Issues and Error Messages   \n",
       "4                      Order                 Order Delivery Issues   \n",
       "\n",
       "                                  issue_sub_category  \\\n",
       "0  Verification requirement for mobile number or ...   \n",
       "1           Reasons for being asked to ship the item   \n",
       "2             Inability to click the 'Cancel' button   \n",
       "3  Error message regarding exceeded attempts to e...   \n",
       "4                       Delivery not attempted again   \n",
       "\n",
       "                         issue_category_sub_category customer_sentiment  \\\n",
       "0  Mobile Number and Email Verification -> Verifi...            neutral   \n",
       "1  Pickup and Shipping -> Reasons for being asked...            neutral   \n",
       "2  Replacement and Return Process -> Inability to...            neutral   \n",
       "3  Login Issues and Error Messages -> Error messa...            neutral   \n",
       "4  Order Delivery Issues -> Delivery not attempte...           negative   \n",
       "\n",
       "  product_category       product_sub_category issue_complexity  \\\n",
       "0       Appliances  Oven Toaster Grills (OTG)           medium   \n",
       "1      Electronics           Computer Monitor             less   \n",
       "2       Appliances       Juicer/Mixer/Grinder           medium   \n",
       "3       Appliances             Water Purifier             less   \n",
       "4      Electronics                 Bp Monitor           medium   \n",
       "\n",
       "  agent_experience_level                        agent_experience_level_desc  \\\n",
       "0                 junior  handles customer inquiries independently, poss...   \n",
       "1                 junior  handles customer inquiries independently, poss...   \n",
       "2            experienced  confidently handles complex customer issues, e...   \n",
       "3          inexperienced  may struggle with ambiguous queries, rely on c...   \n",
       "4            experienced  confidently handles complex customer issues, e...   \n",
       "\n",
       "                                        conversation  \n",
       "0  Agent: Thank you for calling BrownBox Customer...  \n",
       "1  Agent: Thank you for calling BrownBox customer...  \n",
       "2  Agent: Thank you for calling BrownBox Customer...  \n",
       "3  Customer: Hi, I am facing an issue while loggi...  \n",
       "4  Agent: Thank you for contacting BrownBox custo...  "
      ]
     },
     "execution_count": 8,
     "metadata": {},
     "output_type": "execute_result"
    }
   ],
   "source": [
    "df_train.head()"
   ]
  },
  {
   "cell_type": "markdown",
   "id": "7cd1a5bc-5d1f-437b-a7c4-614156d79bdf",
   "metadata": {},
   "source": [
    "<div span style=\"background-color:yellow;    color:red;      text-align:center;    padding:5px;\">\n",
    "<h2>  Exploratory Data Analysis (EDA)  </h2>\n",
    "</div>\n"
   ]
  },
  {
   "cell_type": "markdown",
   "id": "3db8f5dc-989a-4f35-a4a5-468428dbe74d",
   "metadata": {},
   "source": [
    "## 1-) Check for Missing Values : "
   ]
  },
  {
   "cell_type": "code",
   "execution_count": 9,
   "id": "74e3ca4a-2dd9-4a22-8a45-7b38f1e8512c",
   "metadata": {},
   "outputs": [],
   "source": [
    "if False:\n",
    "    \n",
    "    print(df_train.isnull().sum())\n",
    "    print(df_test.isnull().sum())"
   ]
  },
  {
   "cell_type": "markdown",
   "id": "f7dccb83-2258-4957-9543-8c40dacdd1e4",
   "metadata": {},
   "source": [
    "## 2-) Check the Sentiment Class Distribution : "
   ]
  },
  {
   "cell_type": "code",
   "execution_count": 10,
   "id": "3a92bc52-7998-4e77-9ef6-85cb772cb022",
   "metadata": {},
   "outputs": [],
   "source": [
    "if False:\n",
    "    \n",
    "    plt.figure(figsize=(8, 5))\n",
    "    sns.countplot(x=df_train['customer_sentiment'], palette='viridis')\n",
    "    plt.title(\"Distribution of Sentiment Classes for train data\")\n",
    "    plt.xlabel(\"Sentiment\")\n",
    "    plt.ylabel(\"Count\")\n",
    "    plt.show()"
   ]
  },
  {
   "cell_type": "code",
   "execution_count": 11,
   "id": "375e182b-921f-4328-a24d-6eca13eac876",
   "metadata": {},
   "outputs": [],
   "source": [
    "if False:\n",
    "    \n",
    "    plt.figure(figsize=(8, 5))\n",
    "    sns.countplot(x=df_test['customer_sentiment'], palette='viridis')\n",
    "    plt.title(\"Distribution of Sentiment Classes for test data\")\n",
    "    plt.xlabel(\"Sentiment\")\n",
    "    plt.ylabel(\"Count\")\n",
    "    plt.show()"
   ]
  },
  {
   "cell_type": "markdown",
   "id": "aad8c2ac-89a2-4c1a-9d77-0217624dbe08",
   "metadata": {},
   "source": [
    "## 3-) Statistical Summary : "
   ]
  },
  {
   "cell_type": "code",
   "execution_count": 12,
   "id": "5a65bbcf-fcb5-4801-b2b6-9078b1050418",
   "metadata": {},
   "outputs": [],
   "source": [
    "if False:\n",
    "    \n",
    "    df_train.describe()"
   ]
  },
  {
   "cell_type": "markdown",
   "id": "767310d3-7157-494d-84b7-8b9a1593ce64",
   "metadata": {},
   "source": [
    "## Baseline : "
   ]
  },
  {
   "cell_type": "code",
   "execution_count": 13,
   "id": "5ea25248-71d3-4e81-9f73-3f1aaf834f76",
   "metadata": {},
   "outputs": [],
   "source": [
    "if False:\n",
    "    542 / 970"
   ]
  },
  {
   "cell_type": "markdown",
   "id": "7d8fdd57-b39b-4848-94eb-9f31095fa8d8",
   "metadata": {},
   "source": [
    "## 4-)  Correlation Analysis  : "
   ]
  },
  {
   "cell_type": "code",
   "execution_count": 14,
   "id": "4e02c9fe-3a29-4b79-94d8-2f4b4d0c9b9b",
   "metadata": {},
   "outputs": [],
   "source": [
    "if False:\n",
    "    df_train.dtypes"
   ]
  },
  {
   "cell_type": "code",
   "execution_count": 15,
   "id": "d989c5d4-6baa-4d68-8c0c-3764e4222bb3",
   "metadata": {},
   "outputs": [],
   "source": [
    "if False:\n",
    "    for i in df_train:\n",
    "        df_train[i] = df_train[i].astype(\"category\").cat.codes"
   ]
  },
  {
   "cell_type": "code",
   "execution_count": 16,
   "id": "0550ed37-8440-43ee-9214-46b9d36acdf4",
   "metadata": {},
   "outputs": [],
   "source": [
    "if False:\n",
    "    sns.heatmap(df_train.corr(), annot=True, cmap=\"coolwarm\", fmt=\".2f\")\n",
    "    plt.show()"
   ]
  },
  {
   "cell_type": "code",
   "execution_count": 17,
   "id": "8be3308e-5a1e-4d7f-a517-dd3e268a7e3e",
   "metadata": {},
   "outputs": [],
   "source": [
    "if False:\n",
    "    df_train.columns"
   ]
  },
  {
   "cell_type": "code",
   "execution_count": 18,
   "id": "4cb91a5d-80aa-4853-a088-bba659e6cd99",
   "metadata": {},
   "outputs": [],
   "source": [
    "if False:\n",
    "    len(df_train.columns) "
   ]
  },
  {
   "cell_type": "code",
   "execution_count": 19,
   "id": "6f2f5338-0ff9-48f3-9b05-0b874eba0e43",
   "metadata": {},
   "outputs": [],
   "source": [
    "if False:\n",
    "    sns.pairplot(df_train)"
   ]
  },
  {
   "cell_type": "code",
   "execution_count": 20,
   "id": "f7a3faf0-20a3-4afa-ad7a-d812eaa97397",
   "metadata": {},
   "outputs": [],
   "source": [
    "if False:\n",
    "    \n",
    "    fig, (ax1) = plt.subplots(1, 1, figsize=(10, 5)) \n",
    "    \n",
    "    \n",
    "    ax1.plot(df_train[\"issue_category\"], df_train[\"issue_category_sub_category\"], \"b.\")\n",
    "    ax1.set_title(f'issue_category against issue_category_sub_category')\n",
    "    \n",
    "    plt.tight_layout()\n",
    "    plt.show()"
   ]
  },
  {
   "cell_type": "markdown",
   "id": "64cb6299-90c7-4058-ac8d-899a2d21eed0",
   "metadata": {},
   "source": [
    "<div span style=\"background-color:yellow;    color:red;      text-align:center;    padding:5px;\">\n",
    "<h2>  Drop Unnecessary Features </h2>\n",
    "</div>"
   ]
  },
  {
   "cell_type": "code",
   "execution_count": 21,
   "id": "8a9fe001-c3b4-4502-b69a-eecd84add00d",
   "metadata": {},
   "outputs": [],
   "source": [
    "df_train   =   pd.read_csv(path + \"train.csv\") \n",
    "df_test    =   pd.read_csv(path + \"test.csv\")"
   ]
  },
  {
   "cell_type": "code",
   "execution_count": 22,
   "id": "60ece448-059e-417e-8936-d8001e2bd43e",
   "metadata": {},
   "outputs": [],
   "source": [
    "df_train   =   df_train[['customer_sentiment', 'conversation']]\n",
    "df_test    =   df_test[['customer_sentiment', 'conversation']]"
   ]
  },
  {
   "cell_type": "code",
   "execution_count": 23,
   "id": "9652c32d-7a8d-4d38-b1a4-d77fe64d0fb0",
   "metadata": {},
   "outputs": [],
   "source": [
    "if False:\n",
    "    df_train.head()"
   ]
  },
  {
   "cell_type": "code",
   "execution_count": 24,
   "id": "685b6e1d-eb16-47a2-828c-93d4eb7d6b4d",
   "metadata": {},
   "outputs": [],
   "source": [
    "if False:\n",
    "    df_train[\"conversation\"][0]"
   ]
  },
  {
   "cell_type": "code",
   "execution_count": 25,
   "id": "745bd45c-1884-460c-a1ac-f2b7981eb8bb",
   "metadata": {},
   "outputs": [],
   "source": [
    "if False:\n",
    "    df_train.dtypes"
   ]
  },
  {
   "cell_type": "markdown",
   "id": "bf894a36-71c9-4663-bddf-7804ec8ecce9",
   "metadata": {},
   "source": [
    "<div span style=\"background-color:yellow;    color:red;      text-align:center;    padding:5px;\">\n",
    "<h2>  Steps to Preprocess the Data: </h2>\n",
    "</div>"
   ]
  },
  {
   "cell_type": "markdown",
   "id": "af4bd36c-d7ce-426e-9ba6-76e2216a9229",
   "metadata": {},
   "source": [
    "## 1-) Handle Missing Values: \n",
    "\n",
    "We already checked."
   ]
  },
  {
   "cell_type": "markdown",
   "id": "4b256ec4-87d6-45fd-ae28-7a248af37172",
   "metadata": {},
   "source": [
    "## 2-) Text Preprocessing: "
   ]
  },
  {
   "cell_type": "markdown",
   "id": "14865204-295b-4523-a5d8-017031b81c76",
   "metadata": {},
   "source": [
    "### A-)  Convert POS Tags to WordNet Format :"
   ]
  },
  {
   "cell_type": "code",
   "execution_count": 26,
   "id": "d8e0ad7c-3287-47db-bb5e-444ae3d99e4b",
   "metadata": {
    "scrolled": true
   },
   "outputs": [],
   "source": [
    "def get_wordnet_pos(tag):\n",
    "    \"\"\"Convert POS tag to WordNet format for better lemmatization\"\"\"\n",
    "    if tag.startswith('J'):\n",
    "        return wordnet.ADJ\n",
    "    elif tag.startswith('V'):\n",
    "        return wordnet.VERB\n",
    "    elif tag.startswith('N'):\n",
    "        return wordnet.NOUN\n",
    "    elif tag.startswith('R'):\n",
    "        return wordnet.ADV\n",
    "    else:\n",
    "        return wordnet.NOUN  # Default to noun"
   ]
  },
  {
   "cell_type": "markdown",
   "id": "b2f5fc0b-614d-434f-8762-cb190a2b9c34",
   "metadata": {},
   "source": [
    "### B-)  Preprocess Each Conversation (Tokenization, Lemmatization, Stopword Removal)"
   ]
  },
  {
   "cell_type": "code",
   "execution_count": 27,
   "id": "3a0050b1-b7d3-445c-bfce-77ded4aa2cb3",
   "metadata": {},
   "outputs": [],
   "source": [
    "lemmatizer = WordNetLemmatizer()\n",
    "stop_words = set(stopwords.words(\"english\"))"
   ]
  },
  {
   "cell_type": "code",
   "execution_count": 28,
   "id": "72adbb2c-b200-4952-8339-c040fd3b9bda",
   "metadata": {
    "scrolled": true
   },
   "outputs": [],
   "source": [
    "def preprocess_text(text):\n",
    "    \n",
    "    \"\"\"Tokenizes, removes stopwords, and lemmatizes text\"\"\"\n",
    "    \n",
    "    tokens          = word_tokenize(text.lower())                  # Lowercase & tokenize\n",
    "    tokens          = [word for word in tokens if word.isalnum()]  # Remove punctuation\n",
    "    pos_tags        = pos_tag(tokens)                              # POS tagging\n",
    "    lemmatized      = [lemmatizer.lemmatize(word, get_wordnet_pos(tag)) for word, tag in pos_tags]\n",
    "    filtered_tokens = [word for word in lemmatized if word not in stop_words]             # Remove stopwords\n",
    "    \n",
    "    return \" \".join(filtered_tokens)                                                      # Return processed text as a string\n"
   ]
  },
  {
   "cell_type": "code",
   "execution_count": 29,
   "id": "7039684c-4b73-4499-ae31-65028eddb207",
   "metadata": {
    "scrolled": true
   },
   "outputs": [],
   "source": [
    "df_train[\"conversation\"]   =   df_train[\"conversation\"].apply(preprocess_text)\n",
    "df_test[\"conversation\"]    =   df_test[\"conversation\"].apply(preprocess_text)"
   ]
  },
  {
   "cell_type": "code",
   "execution_count": 30,
   "id": "43464941-0385-496a-8512-8e7f1dfed90d",
   "metadata": {},
   "outputs": [],
   "source": [
    "if False:\n",
    "    df_train[\"conversation\"][0]"
   ]
  },
  {
   "cell_type": "markdown",
   "id": "c2c59bfa-e73c-4d98-92aa-988733adc3fd",
   "metadata": {},
   "source": [
    "## 3-)  Label Encoding (for Sentiment Classification): "
   ]
  },
  {
   "cell_type": "code",
   "execution_count": 31,
   "id": "0cd20b15-bbe3-472d-828f-19347928d1b5",
   "metadata": {},
   "outputs": [],
   "source": [
    "sentiment_map = {'neutral': 0, 'negative': 1, 'positive': 2} "
   ]
  },
  {
   "cell_type": "code",
   "execution_count": 32,
   "id": "78304618-b079-4798-b8a8-04be427ae3a0",
   "metadata": {},
   "outputs": [],
   "source": [
    "df_train['sentiment_label']   =   df_train['customer_sentiment'].map(sentiment_map)\n",
    "df_test['sentiment_label']    =   df_test['customer_sentiment'].map(sentiment_map)"
   ]
  },
  {
   "cell_type": "code",
   "execution_count": 33,
   "id": "f68a13e6-e94d-4c0a-9580-9fd2a5beb62c",
   "metadata": {},
   "outputs": [],
   "source": [
    "if False:\n",
    "    df_train.head()"
   ]
  },
  {
   "cell_type": "code",
   "execution_count": 34,
   "id": "24b30d38-4601-4876-b664-fd32b5663f74",
   "metadata": {},
   "outputs": [],
   "source": [
    "if False:\n",
    "    len(df_train)"
   ]
  },
  {
   "cell_type": "code",
   "execution_count": 35,
   "id": "5e6a7e82-615d-444a-87be-568ee0417846",
   "metadata": {},
   "outputs": [],
   "source": [
    "if False:\n",
    "    print(df_train['conversation'].isnull().sum())\n",
    "    print(df_train['sentiment_label'].isnull().sum())"
   ]
  },
  {
   "cell_type": "markdown",
   "id": "8e2db963-6d4c-4e99-b6ca-a7d6aaef8d54",
   "metadata": {},
   "source": [
    "## 4-)  Tokenization : "
   ]
  },
  {
   "cell_type": "code",
   "execution_count": 36,
   "id": "3b5bddd9-4d70-44f7-aade-0b332178d290",
   "metadata": {},
   "outputs": [],
   "source": [
    "tokenizer = GPT2Tokenizer.from_pretrained(\"gpt2\")"
   ]
  },
  {
   "cell_type": "code",
   "execution_count": 37,
   "id": "392d7fe2-19f1-41c0-b3ce-eeafcccc858e",
   "metadata": {},
   "outputs": [],
   "source": [
    "if tokenizer.pad_token is None:\n",
    "    tokenizer.pad_token = tokenizer.eos_token\n",
    "\n",
    "df_train['tokenized_conversation'] = df_train['conversation'].apply(\n",
    "    lambda x: tokenizer.encode(x, truncation=True, padding='max_length', max_length=512)\n",
    ")\n",
    "\n",
    "df_test['tokenized_conversation'] = df_test['conversation'].apply(\n",
    "    lambda x: tokenizer.encode(x, truncation=True, padding='max_length', max_length=512)\n",
    ")"
   ]
  },
  {
   "cell_type": "markdown",
   "id": "6b8f2526-616e-4212-9668-1c63d6909929",
   "metadata": {},
   "source": [
    "max_length = 512 \n",
    "\n",
    "1. Consistent Input Shape: Helps when batching data in deep learning models (like transformers).\n",
    "2. Memory Optimization: Prevents excessive tokenization, ensuring each input stays within 512 tokens (a common limit in models like GPT-2 and BERT).\n",
    "3. Prevents Errors: Some transformer architectures require fixed input lengths."
   ]
  },
  {
   "cell_type": "code",
   "execution_count": 38,
   "id": "7bb66d34-391e-41ec-a212-cf98e686ec92",
   "metadata": {},
   "outputs": [],
   "source": [
    "if False:\n",
    "    df_train.head() "
   ]
  },
  {
   "cell_type": "code",
   "execution_count": 39,
   "id": "18b3cf47-07b3-4088-bc16-75b7c9654162",
   "metadata": {},
   "outputs": [],
   "source": [
    "if False:\n",
    "    len(df_train)"
   ]
  },
  {
   "cell_type": "code",
   "execution_count": 40,
   "id": "adff4941-3c16-4c22-9591-e93a9fc4ace6",
   "metadata": {},
   "outputs": [],
   "source": [
    "if False:\n",
    "    print(df_train['conversation'].isnull().sum())\n",
    "    print(df_train['sentiment_label'].isnull().sum())"
   ]
  },
  {
   "cell_type": "code",
   "execution_count": 41,
   "id": "6931cc9a-fd94-4b01-ade6-cbec06c64a12",
   "metadata": {},
   "outputs": [],
   "source": [
    "if False:\n",
    "    len(df_train[\"tokenized_conversation\"])"
   ]
  },
  {
   "cell_type": "code",
   "execution_count": null,
   "id": "eb8d8dc0-baf3-4c42-85ee-0c93480ecca6",
   "metadata": {},
   "outputs": [],
   "source": []
  },
  {
   "cell_type": "code",
   "execution_count": 42,
   "id": "eac2b4b3-5b85-4a61-851c-c5b4b0d3263e",
   "metadata": {},
   "outputs": [],
   "source": [
    "if False:\n",
    "    vocab_size = tokenizer.vocab_size\n",
    "    print(\"Vocabulary size:\", vocab_size)"
   ]
  },
  {
   "cell_type": "code",
   "execution_count": 43,
   "id": "778ed248-e27a-49fc-b02d-61631f6d9ac0",
   "metadata": {},
   "outputs": [],
   "source": [
    "if False:\n",
    "    vocab_size = len(tokenizer)\n",
    "    print(\"Vocabulary size:\", vocab_size)"
   ]
  },
  {
   "cell_type": "markdown",
   "id": "a75dcfc1-0d8d-414d-bbbf-16d5699f0ae7",
   "metadata": {},
   "source": [
    "## 5-)   Prepare Data for Training: "
   ]
  },
  {
   "cell_type": "code",
   "execution_count": 44,
   "id": "65c01326-8e77-4fe6-bda0-77f17c2ec88b",
   "metadata": {},
   "outputs": [],
   "source": [
    "x_train   =   df_train['tokenized_conversation'].tolist()\n",
    "y_train   =   df_train['sentiment_label'].values \n",
    "\n",
    "x_test    =   df_test['tokenized_conversation'].tolist()\n",
    "y_test    =   df_test['sentiment_label'].values  "
   ]
  },
  {
   "cell_type": "code",
   "execution_count": 45,
   "id": "437b95ec-cddb-4c54-97ca-ccb04697fd01",
   "metadata": {},
   "outputs": [],
   "source": [
    "if False:\n",
    "    len(x_train), len(y_train)"
   ]
  },
  {
   "cell_type": "code",
   "execution_count": 46,
   "id": "4d8c32cd-06a8-4c7d-afcf-d50220ea2267",
   "metadata": {},
   "outputs": [],
   "source": [
    "if False:\n",
    "    len(x_test), len(y_test)"
   ]
  },
  {
   "cell_type": "markdown",
   "id": "586ae24e-0e2d-47a7-9cb8-5c24962358ae",
   "metadata": {},
   "source": [
    "## 6-)  Convert Data to Tensors : "
   ]
  },
  {
   "cell_type": "code",
   "execution_count": 47,
   "id": "c81bb48e-f271-4ebf-9787-c28546d27652",
   "metadata": {},
   "outputs": [],
   "source": [
    "x_train = torch.tensor(x_train)\n",
    "y_train = torch.tensor(y_train) \n",
    "\n",
    "x_test  = torch.tensor(x_test)\n",
    "y_test  = torch.tensor(y_test) "
   ]
  },
  {
   "cell_type": "markdown",
   "id": "d735ed9e-888d-4885-8553-082f1aba63b4",
   "metadata": {},
   "source": [
    "## 7-)   Prepare the Dataset for Training:  "
   ]
  },
  {
   "cell_type": "code",
   "execution_count": 48,
   "id": "5f6c7b2b-9461-4987-bef9-48808ec57c94",
   "metadata": {},
   "outputs": [],
   "source": [
    "class SentimentDataset(Dataset):\n",
    "    \n",
    "    def __init__(self, x, y):\n",
    "        self.x = x\n",
    "        self.y = y\n",
    "\n",
    "    def __len__(self):\n",
    "        return len(self.x)\n",
    "\n",
    "    def __getitem__(self, idx):\n",
    "        return {'input_ids': self.x[idx], 'labels': self.y[idx]}"
   ]
  },
  {
   "cell_type": "code",
   "execution_count": 49,
   "id": "cfb3c110-6ced-47d3-a4a2-aa2263b5b918",
   "metadata": {},
   "outputs": [],
   "source": [
    "train_set    =   SentimentDataset(x_train, y_train)\n",
    "test_set     =   SentimentDataset(x_test, y_test)"
   ]
  },
  {
   "cell_type": "code",
   "execution_count": 50,
   "id": "a559c7aa-8624-4226-a9ab-322f2a95c893",
   "metadata": {},
   "outputs": [],
   "source": [
    "train_size   =    int(0.9 * len(train_set))\n",
    "val_size     =    len(train_set) - train_size"
   ]
  },
  {
   "cell_type": "code",
   "execution_count": 51,
   "id": "16b5e586-15fc-40bc-8e1a-85b8327737d5",
   "metadata": {},
   "outputs": [],
   "source": [
    "train_dataset, val_dataset = random_split(train_set, [train_size, val_size]) "
   ]
  },
  {
   "cell_type": "code",
   "execution_count": 52,
   "id": "bbea9157-85cd-4060-93bf-6cad0169244a",
   "metadata": {},
   "outputs": [],
   "source": [
    "train_loader   =   DataLoader(train_set, batch_size=4, shuffle=True)\n",
    "val_loader     =   DataLoader(val_dataset,   batch_size=4, shuffle=False)\n",
    "test_loader    =   DataLoader(test_set   ,   batch_size=4, shuffle=True)"
   ]
  },
  {
   "cell_type": "markdown",
   "id": "ea78e341-6d98-4aee-a844-efcc8b86e351",
   "metadata": {},
   "source": [
    "<div span style=\"background-color:yellow;    color:red;      text-align:center;    padding:5px;\">\n",
    "<h2>  NanoGPT </h2>\n",
    "</div>"
   ]
  },
  {
   "cell_type": "markdown",
   "id": "1283720f-dca5-4c60-b296-00102ec64a21",
   "metadata": {},
   "source": [
    "NanoGPT From Andrej Karpathy \n",
    "\n",
    "link : https://github.com/karpathy/nanoGPT/blob/master/model.py "
   ]
  },
  {
   "cell_type": "markdown",
   "id": "fdd48034-ebdd-4133-abe2-cf2186145141",
   "metadata": {},
   "source": [
    "<div span style=\"background-color:yellow;    color:red;      text-align:center;    padding:5px;\">\n",
    "<h2>  Layer Normalization </h2>\n",
    "</div>"
   ]
  },
  {
   "cell_type": "code",
   "execution_count": 53,
   "id": "dff7a7a3-70d5-45de-a9a2-927908338bd2",
   "metadata": {},
   "outputs": [],
   "source": [
    "class LayerNorm(nn.Module):\n",
    "    \"\"\" LayerNorm but with an optional bias. PyTorch doesn't support simply bias=False \"\"\"\n",
    "\n",
    "    def __init__(self, ndim, bias):\n",
    "        super().__init__()\n",
    "        \n",
    "        self.weight = nn.Parameter(torch.ones(ndim))\n",
    "        self.bias   = nn.Parameter(torch.zeros(ndim)) if bias else None\n",
    "\n",
    "    def forward(self, input):\n",
    "        return F.layer_norm(input, self.weight.shape, self.weight, self.bias, 1e-5) "
   ]
  },
  {
   "cell_type": "markdown",
   "id": "2167c8ae-25f0-441e-b44a-7b28251673a2",
   "metadata": {},
   "source": [
    "<div span style=\"background-color:yellow;    color:red;      text-align:center;    padding:5px;\">\n",
    "<h2>  Causal Self Attention </h2>\n",
    "</div>"
   ]
  },
  {
   "cell_type": "code",
   "execution_count": 54,
   "id": "525456fc-54cd-4364-a421-9a5629404bb5",
   "metadata": {},
   "outputs": [],
   "source": [
    "class CausalSelfAttention(nn.Module):\n",
    "\n",
    "    def __init__(self, config):\n",
    "        super().__init__()\n",
    "        assert config.n_embd % config.n_head == 0\n",
    "        \n",
    "        # key, query, value projections for all heads, but in a batch\n",
    "        self.c_attn = nn.Linear(config.n_embd, 3 * config.n_embd, bias=config.bias)\n",
    "        \n",
    "        # output projection\n",
    "        self.c_proj = nn.Linear(config.n_embd, config.n_embd, bias=config.bias)\n",
    "        \n",
    "        # regularization\n",
    "        self.attn_dropout   =   nn.Dropout(config.dropout)\n",
    "        self.resid_dropout  =   nn.Dropout(config.dropout)\n",
    "        self.n_head         =   config.n_head\n",
    "        self.n_embd         =   config.n_embd\n",
    "        self.dropout        =   config.dropout\n",
    "        \n",
    "        # flash attention make GPU go brrrrr but support is only in PyTorch >= 2.0\n",
    "        self.flash = hasattr(torch.nn.functional, 'scaled_dot_product_attention')\n",
    "        if not self.flash:\n",
    "            print(\"WARNING: using slow attention. Flash Attention requires PyTorch >= 2.0\")\n",
    "            # causal mask to ensure that attention is only applied to the left in the input sequence\n",
    "            self.register_buffer(\"bias\", torch.tril(torch.ones(config.block_size, config.block_size))\n",
    "                                        .view(1, 1, config.block_size, config.block_size))\n",
    "\n",
    "        \n",
    "    def forward(self, x):\n",
    "        \n",
    "        B, T, C = x.size()            # batch size, sequence length, embedding dimensionality (n_embd)\n",
    "\n",
    "        # calculate query, key, values for all heads in batch and move head forward to be the batch dim\n",
    "        q, k, v  = self.c_attn(x).split(self.n_embd, dim=2)\n",
    "        \n",
    "        k = k.view(B, T, self.n_head, C // self.n_head).transpose(1, 2) # (B, nh, T, hs)\n",
    "        q = q.view(B, T, self.n_head, C // self.n_head).transpose(1, 2) # (B, nh, T, hs)\n",
    "        v = v.view(B, T, self.n_head, C // self.n_head).transpose(1, 2) # (B, nh, T, hs)\n",
    "\n",
    "        # causal self-attention; Self-attend: (B, nh, T, hs) x (B, nh, hs, T) -> (B, nh, T, T)\n",
    "        if self.flash:\n",
    "            # efficient attention using Flash Attention CUDA kernels\n",
    "            y = torch.nn.functional.scaled_dot_product_attention(q, k, v, attn_mask=None, dropout_p=self.dropout if self.training else 0, is_causal=True)\n",
    "        else:\n",
    "            # manual implementation of attention\n",
    "            att = (q @ k.transpose(-2, -1)) * (1.0 / math.sqrt(k.size(-1)))\n",
    "            att = att.masked_fill(self.bias[:,:,:T,:T] == 0, float('-inf'))\n",
    "            att = F.softmax(att, dim=-1)\n",
    "            att = self.attn_dropout(att)\n",
    "            y   = att @ v # (B, nh, T, T) x (B, nh, T, hs) -> (B, nh, T, hs)\n",
    "            \n",
    "        y = y.transpose(1, 2).contiguous().view(B, T, C) # re-assemble all head outputs side by side\n",
    "\n",
    "        # output projection\n",
    "        y = self.resid_dropout(self.c_proj(y))\n",
    "        return y"
   ]
  },
  {
   "cell_type": "markdown",
   "id": "4f5125d2-8655-468f-a3b8-889fe5493d22",
   "metadata": {},
   "source": [
    "<div span style=\"background-color:yellow;    color:red;      text-align:center;    padding:5px;\">\n",
    "<h2>  Configuration class </h2>\n",
    "</div>"
   ]
  },
  {
   "cell_type": "code",
   "execution_count": 55,
   "id": "85eda2cd-95db-41c1-9121-70b7b90937d8",
   "metadata": {},
   "outputs": [],
   "source": [
    "@dataclass\n",
    "class GPTConfig:\n",
    "    block_size: int =   1024\n",
    "    vocab_size: int =   50304    # GPT-2 vocab_size of 50257, padded up to nearest multiple of 64 for efficiency\n",
    "    n_layer: int    =   12\n",
    "    n_head: int     =   12\n",
    "    n_embd: int     =   768\n",
    "    dropout: float  =   0.0\n",
    "    bias: bool      =   True    # True: bias in Linears and LayerNorms, like GPT-2. False: a bit better and faster\n"
   ]
  },
  {
   "cell_type": "markdown",
   "id": "49e20359-d461-43f8-8925-21ccd0cff23b",
   "metadata": {},
   "source": [
    "Why is block_size Important?\n",
    "\n",
    "    Controls memory usage: Longer sequences require more GPU/CPU memory.\n",
    "    Defines training efficiency: Larger block sizes allow more context but slow down training.\n",
    "    Determines attention scope: Transformer self-attention can only process up to block_size tokens."
   ]
  },
  {
   "cell_type": "markdown",
   "id": "bef69272-d29d-4428-b96c-11a7bb9e5b2b",
   "metadata": {},
   "source": [
    "<div span style=\"background-color:yellow;    color:red;      text-align:center;    padding:5px;\">\n",
    "<h2>  Checking the Dimensions </h2>\n",
    "</div>"
   ]
  },
  {
   "cell_type": "code",
   "execution_count": 56,
   "id": "53751806-224f-4438-9768-b016663bc3de",
   "metadata": {},
   "outputs": [],
   "source": [
    "if False:\n",
    "    config  =  GPTConfig() "
   ]
  },
  {
   "cell_type": "code",
   "execution_count": 57,
   "id": "e94b90d3-300d-4969-92dc-c3f0dc20e258",
   "metadata": {},
   "outputs": [],
   "source": [
    "if False:\n",
    "    c       =  CausalSelfAttention(config)"
   ]
  },
  {
   "cell_type": "code",
   "execution_count": 58,
   "id": "42223bb7-0860-4401-8604-546684abdf24",
   "metadata": {},
   "outputs": [],
   "source": [
    "if False:\n",
    "    dummy   =   torch.zeros(8, 100, 768)"
   ]
  },
  {
   "cell_type": "code",
   "execution_count": 59,
   "id": "7946e6ee-fbeb-418c-ae3d-1086cc5044a5",
   "metadata": {},
   "outputs": [],
   "source": [
    "if False:\n",
    "    x       =  c.forward(dummy)  "
   ]
  },
  {
   "cell_type": "code",
   "execution_count": 60,
   "id": "27257d5f-b353-40ad-a78a-a5f71f832cff",
   "metadata": {},
   "outputs": [],
   "source": [
    "if False:\n",
    "    x.shape"
   ]
  },
  {
   "cell_type": "markdown",
   "id": "e690d3d8-4fc5-422d-99b9-e74a543da28c",
   "metadata": {},
   "source": [
    "<div span style=\"background-color:yellow;    color:red;      text-align:center;    padding:5px;\">\n",
    "<h2>  Multi-Layer Perceptron </h2>\n",
    "</div>"
   ]
  },
  {
   "cell_type": "code",
   "execution_count": 61,
   "id": "8e19f479-2adb-44c8-9fa9-0d66c5e7cca6",
   "metadata": {},
   "outputs": [],
   "source": [
    "class MLP(nn.Module):\n",
    "\n",
    "    def __init__(self, config):\n",
    "        super().__init__()\n",
    "        \n",
    "        self.c_fc    = nn.Linear(config.n_embd, 4 * config.n_embd, bias=config.bias)\n",
    "        self.gelu    = nn.GELU()\n",
    "        self.c_proj  = nn.Linear(4 * config.n_embd, config.n_embd, bias=config.bias)\n",
    "        self.dropout = nn.Dropout(config.dropout)\n",
    "\n",
    "    def forward(self, x):\n",
    "        x = self.c_fc(x)\n",
    "        x = self.gelu(x)\n",
    "        x = self.c_proj(x)\n",
    "        x = self.dropout(x)\n",
    "        return x"
   ]
  },
  {
   "cell_type": "markdown",
   "id": "4773bab8-c25c-4ee2-8abf-7712b148d2b2",
   "metadata": {},
   "source": [
    "<div span style=\"background-color:yellow;    color:red;      text-align:center;    padding:5px;\">\n",
    "<h2>  Checking the Dimensions </h2>\n",
    "</div>"
   ]
  },
  {
   "cell_type": "code",
   "execution_count": 62,
   "id": "b429b4a0-11f3-490d-b1fe-acbc4d21556c",
   "metadata": {},
   "outputs": [],
   "source": [
    "if False:\n",
    "    mlp    =   MLP(config)"
   ]
  },
  {
   "cell_type": "code",
   "execution_count": 63,
   "id": "e699376b-8286-4fe0-91c3-6bc6e570d5c8",
   "metadata": {},
   "outputs": [],
   "source": [
    "if False:\n",
    "    x1  =  mlp.forward(x)"
   ]
  },
  {
   "cell_type": "code",
   "execution_count": 64,
   "id": "5725075f-8058-4f9d-8d3b-a7fa55949ef4",
   "metadata": {},
   "outputs": [],
   "source": [
    "if False:\n",
    "    x1.shape"
   ]
  },
  {
   "cell_type": "markdown",
   "id": "b3373bff-3fd5-4210-88c9-eb46c5772b88",
   "metadata": {},
   "source": [
    "<div span style=\"background-color:yellow;    color:red;      text-align:center;    padding:5px;\">\n",
    "<h2>  Transformer Decoder Block </h2>\n",
    "</div>"
   ]
  },
  {
   "cell_type": "code",
   "execution_count": 65,
   "id": "20b2a12c-156a-4f7d-b343-39c4d5f0ee8e",
   "metadata": {},
   "outputs": [],
   "source": [
    "class Block(nn.Module):\n",
    "\n",
    "    def __init__(self, config):\n",
    "        super().__init__()\n",
    "        \n",
    "        self.ln_1 = LayerNorm(config.n_embd, bias=config.bias)\n",
    "        self.attn = CausalSelfAttention(config)\n",
    "        self.ln_2 = LayerNorm(config.n_embd, bias=config.bias)\n",
    "        self.mlp  = MLP(config)\n",
    "\n",
    "    def forward(self, x):\n",
    "        x = x + self.attn(self.ln_1(x))\n",
    "        x = x + self.mlp(self.ln_2(x))\n",
    "        return x"
   ]
  },
  {
   "cell_type": "markdown",
   "id": "2bbf3173-0d93-4998-b53f-12c4e21513cc",
   "metadata": {},
   "source": [
    "<div span style=\"background-color:yellow;    color:red;      text-align:center;    padding:5px;\">\n",
    "<h2>  Nano-GPT : Decoder-Only Transformer </h2>\n",
    "</div>"
   ]
  },
  {
   "cell_type": "code",
   "execution_count": 66,
   "id": "171c178e-4b46-4506-b4d3-826de45f3b74",
   "metadata": {},
   "outputs": [],
   "source": [
    "class GPT(nn.Module):\n",
    "\n",
    "    def __init__(self, config):\n",
    "        super().__init__()\n",
    "        assert config.vocab_size is not None\n",
    "        assert config.block_size is not None\n",
    "        self.config = config\n",
    "\n",
    "        self.transformer = nn.ModuleDict(dict(\n",
    "            wte    = nn.Embedding(config.vocab_size, config.n_embd),\n",
    "            wpe    = nn.Embedding(config.block_size, config.n_embd),\n",
    "            drop   = nn.Dropout(config.dropout),\n",
    "            h      = nn.ModuleList([Block(config) for _ in range(config.n_layer)]),\n",
    "            ln_f   = LayerNorm(config.n_embd, bias=config.bias),\n",
    "        ))\n",
    "        self.lm_head = nn.Linear(config.n_embd, config.vocab_size, bias=False)\n",
    "        # with weight tying when using torch.compile() some warnings get generated:\n",
    "        # \"UserWarning: functional_call was passed multiple values for tied weights.\n",
    "        # This behavior is deprecated and will be an error in future versions\"\n",
    "        # not 100% sure what this is, so far seems to be harmless. TODO investigate\n",
    "        self.transformer.wte.weight = self.lm_head.weight # https://paperswithcode.com/method/weight-tying\n",
    "\n",
    "        # init all weights\n",
    "        self.apply(self._init_weights)\n",
    "        # apply special scaled init to the residual projections, per GPT-2 paper\n",
    "        for pn, p in self.named_parameters():\n",
    "            if pn.endswith('c_proj.weight'):\n",
    "                torch.nn.init.normal_(p, mean=0.0, std=0.02/math.sqrt(2 * config.n_layer))\n",
    "\n",
    "        # report number of parameters\n",
    "        print(\"number of parameters: %.2fM\" % (self.get_num_params()/1e6,))\n",
    "#----------------------------------------------------------------------------------------------------------------------------\n",
    "    def get_num_params(self, non_embedding=True):\n",
    "        \"\"\"\n",
    "        Return the number of parameters in the model.\n",
    "        For non-embedding count (default), the position embeddings get subtracted.\n",
    "        The token embeddings would too, except due to the parameter sharing these\n",
    "        params are actually used as weights in the final layer, so we include them.\n",
    "        \"\"\"\n",
    "        n_params = sum(p.numel() for p in self.parameters())\n",
    "        if non_embedding:\n",
    "            n_params -= self.transformer.wpe.weight.numel()\n",
    "        return n_params\n",
    "#----------------------------------------------------------------------------------------------------------------------------\n",
    "    def _init_weights(self, module):\n",
    "        if isinstance(module, nn.Linear):\n",
    "            torch.nn.init.normal_(module.weight, mean=0.0, std=0.02)\n",
    "            if module.bias is not None:\n",
    "                torch.nn.init.zeros_(module.bias)\n",
    "        elif isinstance(module, nn.Embedding):\n",
    "                torch.nn.init.normal_(module.weight, mean=0.0, std=0.02)\n",
    "#----------------------------------------------------------------------------------------------------------------------------\n",
    "    def forward(self, idx, targets=None):\n",
    "        \n",
    "        device    = idx.device\n",
    "        b, t      = idx.size()\n",
    "        assert t <= self.config.block_size, f\"Cannot forward sequence of length {t}, block size is only {self.config.block_size}\"\n",
    "        pos       = torch.arange(0, t, dtype=torch.long, device=device) # shape (t)\n",
    "\n",
    "        # forward the GPT model itself\n",
    "        tok_emb = self.transformer.wte(idx) # token embeddings of shape (b, t, n_embd)\n",
    "        pos_emb = self.transformer.wpe(pos) # position embeddings of shape (t, n_embd)\n",
    "        x = self.transformer.drop(tok_emb + pos_emb)\n",
    "        for block in self.transformer.h:\n",
    "            x = block(x)\n",
    "        x = self.transformer.ln_f(x)\n",
    "\n",
    "        if targets is not None:\n",
    "            # if we are given some desired targets also calculate the loss\n",
    "            logits = self.lm_head(x)\n",
    "            loss = F.cross_entropy(logits.view(-1, logits.size(-1)), targets.view(-1), ignore_index=-1)\n",
    "        else:\n",
    "            # inference-time mini-optimization: only forward the lm_head on the very last position\n",
    "            logits = self.lm_head(x[:, [-1], :]) # note: using list [-1] to preserve the time dim\n",
    "            loss = None\n",
    "\n",
    "        return logits, loss\n",
    "#----------------------------------------------------------------------------------------------------------------------------\n",
    "    def crop_block_size(self, block_size):\n",
    "        # model surgery to decrease the block size if necessary\n",
    "        # e.g. we may load the GPT2 pretrained model checkpoint (block size 1024)\n",
    "        # but want to use a smaller block size for some smaller, simpler model\n",
    "        assert block_size <= self.config.block_size\n",
    "        self.config.block_size = block_size\n",
    "        self.transformer.wpe.weight = nn.Parameter(self.transformer.wpe.weight[:block_size])\n",
    "        for block in self.transformer.h:\n",
    "            if hasattr(block.attn, 'bias'):\n",
    "                block.attn.bias = block.attn.bias[:,:,:block_size,:block_size]\n",
    "#----------------------------------------------------------------------------------------------------------------------------\n",
    "    @classmethod\n",
    "    def from_pretrained(cls, model_type, override_args=None):\n",
    "        assert model_type in {'gpt2', 'gpt2-medium', 'gpt2-large', 'gpt2-xl'}\n",
    "        override_args = override_args or {} # default to empty dict\n",
    "        # only dropout can be overridden see more notes below\n",
    "        assert all(k == 'dropout' for k in override_args)\n",
    "        from transformers import GPT2LMHeadModel\n",
    "        print(\"loading weights from pretrained gpt: %s\" % model_type)\n",
    "\n",
    "        # n_layer, n_head and n_embd are determined from model_type\n",
    "        config_args = {\n",
    "            'gpt2':         dict(n_layer=12, n_head=12, n_embd=768),  # 124M params\n",
    "            'gpt2-medium':  dict(n_layer=24, n_head=16, n_embd=1024), # 350M params\n",
    "            'gpt2-large':   dict(n_layer=36, n_head=20, n_embd=1280), # 774M params\n",
    "            'gpt2-xl':      dict(n_layer=48, n_head=25, n_embd=1600), # 1558M params\n",
    "        }[model_type]\n",
    "        print(\"forcing vocab_size=50257, block_size=1024, bias=True\")\n",
    "        config_args['vocab_size'] = 50257 # always 50257 for GPT model checkpoints\n",
    "        config_args['block_size'] = 1024 # always 1024 for GPT model checkpoints\n",
    "        config_args['bias'] = True # always True for GPT model checkpoints\n",
    "        # we can override the dropout rate, if desired\n",
    "        if 'dropout' in override_args:\n",
    "            print(f\"overriding dropout rate to {override_args['dropout']}\")\n",
    "            config_args['dropout'] = override_args['dropout']\n",
    "        # create a from-scratch initialized minGPT model\n",
    "        config = GPTConfig(**config_args)\n",
    "        model = GPT(config)\n",
    "        sd = model.state_dict()\n",
    "        sd_keys = sd.keys()\n",
    "        sd_keys = [k for k in sd_keys if not k.endswith('.attn.bias')] # discard this mask / buffer, not a param\n",
    "\n",
    "        # init a huggingface/transformers model\n",
    "        model_hf = GPT2LMHeadModel.from_pretrained(model_type)\n",
    "        sd_hf = model_hf.state_dict()\n",
    "\n",
    "        # copy while ensuring all of the parameters are aligned and match in names and shapes\n",
    "        sd_keys_hf = sd_hf.keys()\n",
    "        sd_keys_hf = [k for k in sd_keys_hf if not k.endswith('.attn.masked_bias')] # ignore these, just a buffer\n",
    "        sd_keys_hf = [k for k in sd_keys_hf if not k.endswith('.attn.bias')] # same, just the mask (buffer)\n",
    "        transposed = ['attn.c_attn.weight', 'attn.c_proj.weight', 'mlp.c_fc.weight', 'mlp.c_proj.weight']\n",
    "        # basically the openai checkpoints use a \"Conv1D\" module, but we only want to use a vanilla Linear\n",
    "        # this means that we have to transpose these weights when we import them\n",
    "        assert len(sd_keys_hf) == len(sd_keys), f\"mismatched keys: {len(sd_keys_hf)} != {len(sd_keys)}\"\n",
    "        for k in sd_keys_hf:\n",
    "            if any(k.endswith(w) for w in transposed):\n",
    "                # special treatment for the Conv1D weights we need to transpose\n",
    "                assert sd_hf[k].shape[::-1] == sd[k].shape\n",
    "                with torch.no_grad():\n",
    "                    sd[k].copy_(sd_hf[k].t())\n",
    "            else:\n",
    "                # vanilla copy over the other parameters\n",
    "                assert sd_hf[k].shape == sd[k].shape\n",
    "                with torch.no_grad():\n",
    "                    sd[k].copy_(sd_hf[k])\n",
    "\n",
    "        return model\n",
    "#----------------------------------------------------------------------------------------------------------------------------\n",
    "    def configure_optimizers(self, weight_decay, learning_rate, betas, device_type):\n",
    "        # start with all of the candidate parameters\n",
    "        param_dict = {pn: p for pn, p in self.named_parameters()}\n",
    "        # filter out those that do not require grad\n",
    "        param_dict = {pn: p for pn, p in param_dict.items() if p.requires_grad}\n",
    "        # create optim groups. Any parameters that is 2D will be weight decayed, otherwise no.\n",
    "        # i.e. all weight tensors in matmuls + embeddings decay, all biases and layernorms don't.\n",
    "        decay_params = [p for n, p in param_dict.items() if p.dim() >= 2]\n",
    "        nodecay_params = [p for n, p in param_dict.items() if p.dim() < 2]\n",
    "        optim_groups = [\n",
    "            {'params': decay_params, 'weight_decay': weight_decay},\n",
    "            {'params': nodecay_params, 'weight_decay': 0.0}\n",
    "        ]\n",
    "        num_decay_params = sum(p.numel() for p in decay_params)\n",
    "        num_nodecay_params = sum(p.numel() for p in nodecay_params)\n",
    "        print(f\"num decayed parameter tensors: {len(decay_params)}, with {num_decay_params:,} parameters\")\n",
    "        print(f\"num non-decayed parameter tensors: {len(nodecay_params)}, with {num_nodecay_params:,} parameters\")\n",
    "        # Create AdamW optimizer and use the fused version if it is available\n",
    "        fused_available = 'fused' in inspect.signature(torch.optim.AdamW).parameters\n",
    "        use_fused = fused_available and device_type == 'cuda'\n",
    "        extra_args = dict(fused=True) if use_fused else dict()\n",
    "        optimizer = torch.optim.AdamW(optim_groups, lr=learning_rate, betas=betas, **extra_args)\n",
    "        print(f\"using fused AdamW: {use_fused}\")\n",
    "\n",
    "        return optimizer\n",
    "#----------------------------------------------------------------------------------------------------------------------------\n",
    "    def estimate_mfu(self, fwdbwd_per_iter, dt):\n",
    "        \"\"\" estimate model flops utilization (MFU) in units of A100 bfloat16 peak FLOPS \"\"\"\n",
    "        # first estimate the number of flops we do per iteration.\n",
    "        # see PaLM paper Appendix B as ref: https://arxiv.org/abs/2204.02311\n",
    "        N = self.get_num_params()\n",
    "        cfg = self.config\n",
    "        L, H, Q, T = cfg.n_layer, cfg.n_head, cfg.n_embd//cfg.n_head, cfg.block_size\n",
    "        flops_per_token = 6*N + 12*L*H*Q*T\n",
    "        flops_per_fwdbwd = flops_per_token * T\n",
    "        flops_per_iter = flops_per_fwdbwd * fwdbwd_per_iter\n",
    "        # express our flops throughput as ratio of A100 bfloat16 peak flops\n",
    "        flops_achieved = flops_per_iter * (1.0/dt) # per second\n",
    "        flops_promised = 312e12 # A100 GPU bfloat16 peak flops is 312 TFLOPS\n",
    "        mfu = flops_achieved / flops_promised\n",
    "        return mfu\n",
    "#----------------------------------------------------------------------------------------------------------------------------\n",
    "    @torch.no_grad()\n",
    "    def generate(self, idx, max_new_tokens, temperature=1.0, top_k=None):\n",
    "        \"\"\"\n",
    "        Take a conditioning sequence of indices idx (LongTensor of shape (b,t)) and complete\n",
    "        the sequence max_new_tokens times, feeding the predictions back into the model each time.\n",
    "        Most likely you'll want to make sure to be in model.eval() mode of operation for this.\n",
    "        \"\"\"\n",
    "        for _ in range(max_new_tokens):\n",
    "            # if the sequence context is growing too long we must crop it at block_size\n",
    "            idx_cond = idx if idx.size(1) <= self.config.block_size else idx[:, -self.config.block_size:]\n",
    "            # forward the model to get the logits for the index in the sequence\n",
    "            logits, _ = self(idx_cond)\n",
    "            # pluck the logits at the final step and scale by desired temperature\n",
    "            logits = logits[:, -1, :] / temperature\n",
    "            # optionally crop the logits to only the top k options\n",
    "            if top_k is not None:\n",
    "                v, _ = torch.topk(logits, min(top_k, logits.size(-1)))\n",
    "                logits[logits < v[:, [-1]]] = -float('Inf')\n",
    "            # apply softmax to convert logits to (normalized) probabilities\n",
    "            probs = F.softmax(logits, dim=-1)\n",
    "            # sample from the distribution\n",
    "            idx_next = torch.multinomial(probs, num_samples=1)\n",
    "            # append sampled index to the running sequence and continue\n",
    "            idx = torch.cat((idx, idx_next), dim=1)\n",
    "\n",
    "        return idx"
   ]
  },
  {
   "cell_type": "code",
   "execution_count": 67,
   "id": "3b16fe3f-2205-4a50-9dab-a726a222fb80",
   "metadata": {},
   "outputs": [],
   "source": [
    "if False:\n",
    "    \n",
    "    b, t, n_embd   =   2, 512, 768                        # Batch size, sequence length, embedding dim\n",
    "    idx            =   torch.randint(0, 50304, (b, t))    # Random token indices from vocab size 50257 (GPT-2) "
   ]
  },
  {
   "cell_type": "code",
   "execution_count": 68,
   "id": "378a98d6-bc5e-45f7-968a-02a589d35039",
   "metadata": {},
   "outputs": [],
   "source": [
    "if False:\n",
    "    idx.shape"
   ]
  },
  {
   "cell_type": "code",
   "execution_count": 69,
   "id": "1d161c0b-73a7-4af7-93c2-9b929b3823ab",
   "metadata": {},
   "outputs": [],
   "source": [
    "if False:\n",
    "    modelx   =   GPT(config)"
   ]
  },
  {
   "cell_type": "code",
   "execution_count": 70,
   "id": "02eb77f2-bb69-4883-8881-eae3340c4ff8",
   "metadata": {},
   "outputs": [],
   "source": [
    "if False:\n",
    "    x   =   modelx.forward(idx)"
   ]
  },
  {
   "cell_type": "code",
   "execution_count": 71,
   "id": "b77c7a4e-3431-4121-b823-d47f44c72519",
   "metadata": {},
   "outputs": [],
   "source": [
    "if False:\n",
    "    x[0].shape"
   ]
  },
  {
   "cell_type": "code",
   "execution_count": null,
   "id": "3e109b09-a36c-4455-a6b0-fa313cc876e2",
   "metadata": {},
   "outputs": [],
   "source": []
  },
  {
   "cell_type": "markdown",
   "id": "b7857b91-c8e1-40b3-9ea5-7eecc0b8cee6",
   "metadata": {},
   "source": [
    "<div span style=\"background-color:yellow;    color:red;      text-align:center;    padding:5px;\">\n",
    "<h2>  Classification Head for Sentiment Classification</h2>\n",
    "</div>"
   ]
  },
  {
   "cell_type": "code",
   "execution_count": 72,
   "id": "50504b43-9baa-4084-a5ee-5d04c3cd9496",
   "metadata": {},
   "outputs": [],
   "source": [
    "if False:\n",
    "\n",
    "    class GPTForClassification(GPT):\n",
    "        def __init__(self, config, num_classes):\n",
    "            super().__init__(config)\n",
    "            \n",
    "            self.classifier =   nn.Linear(50304, num_classes)\n",
    "                              \n",
    "    \n",
    "        def forward(self, idx, targets=None):\n",
    "            \n",
    "            b, t   = idx.size()\n",
    "    \n",
    "            logits, _ = super().forward(idx)\n",
    "            \n",
    "            rep       = logits[:, -1, :]                # Get the last token representation\n",
    "            \n",
    "            logits = self.classifier(rep)\n",
    "            loss   = None\n",
    "        \n",
    "            if targets is not None:\n",
    "                loss = F.cross_entropy(logits, targets)\n",
    "        \n",
    "            return logits, loss\n"
   ]
  },
  {
   "cell_type": "code",
   "execution_count": 73,
   "id": "c299845b-e97c-4195-bc6b-8d3258df37d3",
   "metadata": {},
   "outputs": [],
   "source": [
    "if False:\n",
    "    modelx2   =   GPTForClassification(config, 3)"
   ]
  },
  {
   "cell_type": "code",
   "execution_count": 74,
   "id": "c36df4c1-2285-455d-b116-0d2c2276afbe",
   "metadata": {},
   "outputs": [],
   "source": [
    "if False:\n",
    "    y2   =   torch.tensor(\n",
    "    [[0., 0., 2.],\n",
    "        [0., 1., 2.]]\n",
    "    )"
   ]
  },
  {
   "cell_type": "code",
   "execution_count": 75,
   "id": "b2573052-654d-42f5-a464-6273c31db4bc",
   "metadata": {},
   "outputs": [],
   "source": [
    "if False:\n",
    "    y2"
   ]
  },
  {
   "cell_type": "code",
   "execution_count": 76,
   "id": "9eda37a7-cd28-4260-8b3a-555a28e7ff64",
   "metadata": {},
   "outputs": [],
   "source": [
    "if False:\n",
    "    x2   =   modelx2.forward(idx, y2)"
   ]
  },
  {
   "cell_type": "code",
   "execution_count": 77,
   "id": "735955e9-49a1-4cd6-af21-91feb018f8ea",
   "metadata": {},
   "outputs": [],
   "source": [
    "if False:\n",
    "    x2[0].shape"
   ]
  },
  {
   "cell_type": "markdown",
   "id": "c36550eb-1900-4edd-9ff5-23ed96705c6d",
   "metadata": {},
   "source": [
    "<div span style=\"background-color:yellow;    color:red;      text-align:center;    padding:5px;\">\n",
    "<h2>  Configuration for parameters </h2>\n",
    "</div>"
   ]
  },
  {
   "cell_type": "code",
   "execution_count": 78,
   "id": "43df20fb-e63e-4972-ae5f-bb1e6d3e6eb0",
   "metadata": {},
   "outputs": [],
   "source": [
    "@dataclass\n",
    "class GPTConfig:\n",
    "    block_size: int =   1024\n",
    "    vocab_size: int =   50304    # GPT-2 vocab_size of 50257, padded up to nearest multiple of 64 for efficiency\n",
    "    n_layer: int    =   8\n",
    "    n_head: int     =   12\n",
    "    n_embd: int     =   768\n",
    "    dropout: float  =   0.2\n",
    "    bias: bool      =   True    # True: bias in Linears and LayerNorms, like GPT-2. False: a bit better and faster\n"
   ]
  },
  {
   "cell_type": "code",
   "execution_count": 79,
   "id": "fc4a1986-8120-4aaa-973c-fe7f5cdfc8e0",
   "metadata": {},
   "outputs": [],
   "source": [
    "#config = GPTConfig(vocab_size=50257, block_size=128, n_layer=6, n_head=8, n_embd=512)\n",
    "#config  =  GPTConfig() "
   ]
  },
  {
   "cell_type": "code",
   "execution_count": 80,
   "id": "81c15ec4-9540-414e-be13-3db92093c517",
   "metadata": {},
   "outputs": [],
   "source": [
    "#run.config.update(config)"
   ]
  },
  {
   "cell_type": "code",
   "execution_count": 81,
   "id": "a8bc7b0c-5637-4de2-9dbd-006d18345fd3",
   "metadata": {},
   "outputs": [],
   "source": [
    "#model = GPTForClassification(config, num_classes=3).to(device)"
   ]
  },
  {
   "cell_type": "markdown",
   "id": "ec4145be-47dd-47ad-ae2f-15e4a1464395",
   "metadata": {},
   "source": [
    "<div span style=\"background-color:green;    color:red;      text-align:center;    padding:5px;\">\n",
    "<h2>  Fine-Tuning for the Pre-Trained Models</h2>\n",
    "</div>"
   ]
  },
  {
   "cell_type": "code",
   "execution_count": 82,
   "id": "a9fad1fd-d7a4-48c0-a82f-9f321cb64f91",
   "metadata": {},
   "outputs": [],
   "source": [
    "@dataclass\n",
    "class GPTConfig:\n",
    "    block_size: int =   1024\n",
    "    vocab_size: int =   50257    # GPT-2 vocab_size of 50257, padded up to nearest multiple of 64 for efficiency\n",
    "    n_layer: int    =   12\n",
    "    n_head: int     =   12\n",
    "    n_embd: int     =   768\n",
    "    dropout: float  =   0.2\n",
    "    bias: bool      =   True    # True: bias in Linears and LayerNorms, like GPT-2. False: a bit better and faster\n"
   ]
  },
  {
   "cell_type": "code",
   "execution_count": 83,
   "id": "f4135ad8-f4ce-4c6d-be14-af0461679469",
   "metadata": {},
   "outputs": [
    {
     "name": "stdout",
     "output_type": "stream",
     "text": [
      "loading weights from pretrained gpt: gpt2\n",
      "forcing vocab_size=50257, block_size=1024, bias=True\n",
      "number of parameters: 123.65M\n"
     ]
    }
   ],
   "source": [
    "pre_trained = GPT.from_pretrained(\"gpt2\")   "
   ]
  },
  {
   "cell_type": "code",
   "execution_count": 84,
   "id": "414c15d6-c963-435b-9af3-abefc6aced75",
   "metadata": {},
   "outputs": [],
   "source": [
    "config   =  pre_trained.config"
   ]
  },
  {
   "cell_type": "code",
   "execution_count": 85,
   "id": "95c781d2-764b-460a-8d0e-48ceb9a97d62",
   "metadata": {},
   "outputs": [],
   "source": [
    "if False:\n",
    "\n",
    "    dummy_input = torch.randint(0, config.vocab_size, (2, 10))\n",
    "\n",
    "    # For inference (targets=None):\n",
    "    logits, loss = pre_trained(dummy_input)\n",
    "    print(\"Inference output shape:\", logits.shape)"
   ]
  },
  {
   "cell_type": "markdown",
   "id": "3d8f9c3a-1de7-49a5-8839-ae83cdbfe804",
   "metadata": {},
   "source": [
    "Actually, we only changed the input dimension to the linear layer for classification . "
   ]
  },
  {
   "cell_type": "code",
   "execution_count": 86,
   "id": "31d2bd8e-6ab4-45c6-aace-61c329f396bc",
   "metadata": {},
   "outputs": [],
   "source": [
    "class GPTForClassification_pretrained(GPT):\n",
    "    def __init__(self, config, num_classes):\n",
    "        super().__init__(config)\n",
    "\n",
    "        self.classifier = nn.Linear(config.vocab_size, num_classes)\n",
    "\n",
    "    def forward(self, idx, targets=None):\n",
    "\n",
    "        logits, _ = super().forward(idx)\n",
    "\n",
    "        rep = logits[:, -1, :]\n",
    "\n",
    "        logits = self.classifier(rep)\n",
    "        loss = None\n",
    "        if targets is not None:\n",
    "            loss = F.cross_entropy(logits, targets)\n",
    "            \n",
    "        return logits, loss"
   ]
  },
  {
   "cell_type": "code",
   "execution_count": 87,
   "id": "33067192-0b4c-4a79-8a33-a72129d91444",
   "metadata": {},
   "outputs": [
    {
     "name": "stdout",
     "output_type": "stream",
     "text": [
      "number of parameters: 123.65M\n"
     ]
    }
   ],
   "source": [
    "modelx3   =   GPTForClassification_pretrained(config, 3)"
   ]
  },
  {
   "cell_type": "code",
   "execution_count": 88,
   "id": "3945a994-3274-464a-99b4-2c7bb48c2926",
   "metadata": {},
   "outputs": [],
   "source": [
    "if False:\n",
    "\n",
    "    l1, l2   =  modelx3.forward(dummy_input)"
   ]
  },
  {
   "cell_type": "code",
   "execution_count": 89,
   "id": "6919706d-eeb2-4426-8bdb-ebb080a4d93b",
   "metadata": {},
   "outputs": [],
   "source": [
    "#l1.shape"
   ]
  },
  {
   "cell_type": "code",
   "execution_count": 90,
   "id": "4309f9d3-828e-4ff9-a0c6-98244bb68ff0",
   "metadata": {},
   "outputs": [
    {
     "ename": "SyntaxError",
     "evalue": "invalid syntax (4110802630.py, line 1)",
     "output_type": "error",
     "traceback": [
      "\u001b[0;36m  Cell \u001b[0;32mIn[90], line 1\u001b[0;36m\u001b[0m\n\u001b[0;31m    if\u001b[0m\n\u001b[0m      ^\u001b[0m\n\u001b[0;31mSyntaxError\u001b[0m\u001b[0;31m:\u001b[0m invalid syntax\n"
     ]
    }
   ],
   "source": [
    "if"
   ]
  },
  {
   "cell_type": "markdown",
   "id": "4f858773-7887-40bb-83b2-d50db06b68d7",
   "metadata": {},
   "source": [
    "<div span style=\"background-color:yellow;    color:red;      text-align:center;    padding:5px;\">\n",
    "<h2>  Employ GPU</h2>\n",
    "</div>"
   ]
  },
  {
   "cell_type": "code",
   "execution_count": 91,
   "id": "41bc87ca-6869-4663-8a85-37323b955cee",
   "metadata": {},
   "outputs": [],
   "source": [
    "device = torch.device(\"cuda\" if torch.cuda.is_available() else \"cpu\")"
   ]
  },
  {
   "cell_type": "code",
   "execution_count": 92,
   "id": "f4c5af8b-43b2-4583-b7d2-0fcd4fb2083d",
   "metadata": {},
   "outputs": [
    {
     "data": {
      "text/plain": [
       "device(type='cuda')"
      ]
     },
     "execution_count": 92,
     "metadata": {},
     "output_type": "execute_result"
    }
   ],
   "source": [
    "device"
   ]
  },
  {
   "cell_type": "markdown",
   "id": "8a3e5fc7-2d1f-41a5-8758-a698a8faaf4e",
   "metadata": {},
   "source": [
    "<div span style=\"background-color:yellow;    color:red;      text-align:center;    padding:5px;\">\n",
    "<h2>  For Transfer Learning : Freeze some layers :  </h2>\n",
    "</div>"
   ]
  },
  {
   "cell_type": "code",
   "execution_count": null,
   "id": "b34c18f4-f6e3-4bc2-b50f-ebe24461303f",
   "metadata": {},
   "outputs": [],
   "source": [
    "for param in modelx3.parameters():\n",
    "    param.requires_grad = False\n",
    "\n",
    "for param in modelx3.classifier.parameters():\n",
    "    param.requires_grad = True\n",
    "\n",
    "# Unfreeze only the last 2 layers of the transformer blocks\n",
    "# Assuming model_cls.transformer.h is a ModuleList containing the transformer layers\n",
    "for layer in modelx3.transformer.h[-2:]:\n",
    "    for param in layer.parameters():\n",
    "        param.requires_grad = True\n",
    "\n",
    "# Optionally, unfreeze the final layer norm if needed\n",
    "for param in modelx3.transformer.ln_f.parameters():\n",
    "    param.requires_grad = True"
   ]
  },
  {
   "cell_type": "code",
   "execution_count": null,
   "id": "378105b2-c279-4128-920d-82f59453f8f1",
   "metadata": {},
   "outputs": [],
   "source": [
    "total_params = sum(p.numel() for p in modelx3.parameters())\n",
    "print(f\"Total parameters: {total_params}\")"
   ]
  },
  {
   "cell_type": "code",
   "execution_count": null,
   "id": "f5fb66fc-26d4-4eb9-a276-288faebd5d8d",
   "metadata": {},
   "outputs": [],
   "source": [
    "trainable_params = sum(p.numel() for p in modelx3.parameters() if p.requires_grad)\n",
    "print(f\"Trainable parameters: {trainable_params}\")"
   ]
  },
  {
   "cell_type": "code",
   "execution_count": null,
   "id": "d9045932-1ce2-4c88-b061-90d6cba25c18",
   "metadata": {},
   "outputs": [],
   "source": [
    "#   14 328 054 "
   ]
  },
  {
   "cell_type": "markdown",
   "id": "4d259514-7ed2-44f1-b7e6-31ae8cdc9c77",
   "metadata": {},
   "source": [
    "<div span style=\"background-color:yellow;    color:red;      text-align:center;    padding:5px;\">\n",
    "<h2>  To Save Weights and Losses : </h2>\n",
    "</div>"
   ]
  },
  {
   "cell_type": "code",
   "execution_count": 93,
   "id": "79bb52f6-5bcb-4fc0-8850-9e53a1064933",
   "metadata": {},
   "outputs": [],
   "source": [
    "#path_model   =  \"/home/turgay/Turgay/Academic/2024-2025/Spring/Transformers/Assignments/Assignment_1/weights/Transformers_weights_1.pth\"\n",
    "#path_losses  =  \"/home/turgay/Turgay/Academic/2024-2025/Spring/Transformers/Assignments/Assignment_1/weights/Transformers_losses_1.pth\"\n",
    "\n",
    "\n",
    "path_model   =  \"/home/turgay/Turgay/Academic/2024-2025/Spring/Transformers/Assignments/Assignment_1/weights/Transformers_pre_trained_weights_1.pth\"\n",
    "path_losses  =  \"/home/turgay/Turgay/Academic/2024-2025/Spring/Transformers/Assignments/Assignment_1/weights/Transformers_pre_trained_losses_1.pth\""
   ]
  },
  {
   "cell_type": "code",
   "execution_count": null,
   "id": "e8994d1c-a829-4299-be70-9586104373d6",
   "metadata": {},
   "outputs": [],
   "source": [
    "#torch.save({\n",
    "            'model_state_dict': modelx3.state_dict(),\n",
    "            'best_loss'       : 9999999999999,\n",
    "        }, path_model)   "
   ]
  },
  {
   "cell_type": "code",
   "execution_count": null,
   "id": "b23b2f2f-5527-4a1c-869a-974b5c3ffe36",
   "metadata": {},
   "outputs": [],
   "source": [
    "#torch.save({\n",
    "        \n",
    "            'train_loss'    : [],\n",
    "            'val_loss'      : [], \n",
    "    \n",
    "            'epochs'        : [],\n",
    "    \n",
    "        }, path_losses)    "
   ]
  },
  {
   "cell_type": "code",
   "execution_count": 94,
   "id": "b8a37900-3496-4487-9b72-429ed0c87a8c",
   "metadata": {},
   "outputs": [],
   "source": [
    "checkpoint_weights   =   torch.load(path_model, weights_only=True) \n",
    "checkpoint_losses    =   torch.load(path_losses, weights_only=True)  \n",
    "\n",
    "modelx3.load_state_dict(checkpoint_weights['model_state_dict'])\n",
    "\n",
    "best_loss       =  checkpoint_weights['best_loss'] \n",
    "train_loss      =  checkpoint_losses['train_loss']\n",
    "val_loss        =  checkpoint_losses['val_loss']\n",
    "\n",
    "epochs          =  checkpoint_losses['epochs'] "
   ]
  },
  {
   "cell_type": "markdown",
   "id": "a89e9336-491f-4b72-8eb1-7124a9920dc4",
   "metadata": {},
   "source": [
    "<div span style=\"background-color:yellow;    color:red;      text-align:center;    padding:5px;\">\n",
    "<h2>  Check for dimensions </h2>\n",
    "</div>"
   ]
  },
  {
   "cell_type": "code",
   "execution_count": null,
   "id": "dfea9bf0-3a88-4e6c-8b47-eda4dadaca31",
   "metadata": {},
   "outputs": [],
   "source": [
    "for batch in dataloader_train:\n",
    "        \n",
    "    break"
   ]
  },
  {
   "cell_type": "code",
   "execution_count": null,
   "id": "fb761215-d403-4c75-9b2e-b56b6f373481",
   "metadata": {},
   "outputs": [],
   "source": [
    "batch[\"input_ids\"].shape"
   ]
  },
  {
   "cell_type": "code",
   "execution_count": null,
   "id": "834c4817-497d-42ce-a55d-1d47b7c54dd5",
   "metadata": {},
   "outputs": [],
   "source": [
    "x  =  modelx.forward(batch[\"input_ids\"])\n",
    "x[0].shape"
   ]
  },
  {
   "cell_type": "code",
   "execution_count": null,
   "id": "e19c2502-1d21-421f-a2a5-dcb71d173bb2",
   "metadata": {},
   "outputs": [],
   "source": [
    "#x1  =  x[0].squeeze(1)\n",
    "#x1.shape"
   ]
  },
  {
   "cell_type": "code",
   "execution_count": null,
   "id": "ba3e6904-0aff-4d6a-a3a3-4cdea9c51215",
   "metadata": {},
   "outputs": [],
   "source": [
    "rep  =   x[0][:, -1, :] "
   ]
  },
  {
   "cell_type": "code",
   "execution_count": null,
   "id": "423f7c9f-6438-4785-b56f-aca822de804d",
   "metadata": {},
   "outputs": [],
   "source": [
    "rep.shape"
   ]
  },
  {
   "cell_type": "code",
   "execution_count": null,
   "id": "77f2e67a-ca10-41af-b99e-182869580c2a",
   "metadata": {},
   "outputs": [],
   "source": [
    "x   =  model(batch[\"input_ids\"].to(device))"
   ]
  },
  {
   "cell_type": "code",
   "execution_count": null,
   "id": "13bdbd6b-cbaa-4e5f-ac10-6e77ebb901a8",
   "metadata": {},
   "outputs": [],
   "source": [
    "x[0].shape"
   ]
  },
  {
   "cell_type": "markdown",
   "id": "fcce11b4-cc0b-4da8-944c-2780f5ae6f55",
   "metadata": {},
   "source": [
    "<div span style=\"background-color:yellow;    color:red;      text-align:center;    padding:5px;\">\n",
    "<h2>  Training : </h2>\n",
    "</div>"
   ]
  },
  {
   "cell_type": "code",
   "execution_count": 95,
   "id": "28fb47c7-4d5d-445e-b377-0137d3629dd2",
   "metadata": {},
   "outputs": [],
   "source": [
    "# After training model for classification layer and last layer of GPT-2 \n",
    "# Now, we should change all weights slowly\n",
    "\n",
    "for param in modelx3.parameters():\n",
    "    \n",
    "    param.requires_grad = True"
   ]
  },
  {
   "cell_type": "code",
   "execution_count": null,
   "id": "11e713b7-4145-4adb-a53d-4f0b1835f362",
   "metadata": {},
   "outputs": [],
   "source": [
    "def train(num_epochs=10, counter=0, patience=10, best_loss=best_loss):\n",
    "    \n",
    "    model     = modelx3\n",
    "    model.to(device) \n",
    "\n",
    "    lr        = 0.00001\n",
    "    optimizer = AdamW(model.parameters(), lr=lr)\n",
    "    \n",
    "    run.log({\"LR\": lr})  \n",
    "    \n",
    "    scheduler = torch.optim.lr_scheduler.StepLR(optimizer, step_size=20, gamma=0.8)\n",
    "    scaler    = GradScaler()\n",
    "\n",
    "    for epoch in range(num_epochs):\n",
    "    \n",
    "        model.train()\n",
    "        total_loss_train = 0\n",
    "        \n",
    "        for batch in tqdm.tqdm(train_loader):\n",
    "            \n",
    "            inputs   =   batch[\"input_ids\"]\n",
    "            labels   =   batch[\"labels\"]\n",
    "            \n",
    "            inputs, labels = inputs.to(device), labels.to(device)\n",
    "    \n",
    "            optimizer.zero_grad()\n",
    "\n",
    "            with autocast(device_type='cuda'):\n",
    "                \n",
    "                logits, loss = model(inputs, labels)\n",
    "                \n",
    "            scaler.scale(loss).backward()\n",
    "            #torch.nn.utils.clip_grad_norm_(model.parameters(), max_norm=1.0)  \n",
    "            scaler.step(optimizer)\n",
    "            scaler.update()\n",
    "    \n",
    "            total_loss_train += loss.item()\n",
    "\n",
    "        total_loss_train     /= len(train_loader)\n",
    "\n",
    "        train_loss.append(total_loss_train)\n",
    "    \n",
    "\n",
    "        # Log metrics to wandb.\n",
    "        run.log({\"GPT-2 : Train Loss\": total_loss_train})\n",
    "    \n",
    "\n",
    "        if torch.isnan(torch.tensor(total_loss_train)):\n",
    "            print(\"NaN value encountered!\")\n",
    "            break\n",
    "\n",
    "        print(\"-------------------------------------------------------------------------------\")\n",
    "        print(f\"|  Epoch [{epoch+1}/{num_epochs}]          |        Total Train Loss : {total_loss_train:.4f}           |\")\n",
    "        print(\"-------------------------------------------------------------------------------\")\n",
    "\n",
    "#-----------------------------------------------------------------------------------------------\n",
    "\n",
    "        \n",
    "        model.eval()\n",
    "\n",
    "        total_loss_val      =   0.0\n",
    "\n",
    "        with torch.no_grad():\n",
    "            for batch in tqdm.tqdm(val_loader, desc=f\"Epoch {epoch+1}/{num_epochs}\"):\n",
    "\n",
    "                inputs   =   batch[\"input_ids\"]\n",
    "                labels   =   batch[\"labels\"]\n",
    "            \n",
    "                inputs, labels = inputs.to(device), labels.to(device)\n",
    "        \n",
    "\n",
    "                logits, loss = model(inputs, labels)\n",
    "\n",
    "                total_loss_val     += loss.item()\n",
    "\n",
    "        total_loss_val     /= len(val_loader)\n",
    "\n",
    "        val_loss.append(total_loss_val)\n",
    "\n",
    "        run.log({\"GPT-2 : Val Loss\": total_loss_val})\n",
    "\n",
    "        print(\"-------------------------------------------------------------------------------\")\n",
    "        print(f\"|  Epoch [{epoch+1}/{num_epochs}]         |       Total Validation Loss : {total_loss_val:.4f}           |\")\n",
    "        print(\"-------------------------------------------------------------------------------\")\n",
    "\n",
    "        \n",
    "        if len(val_loss) >= 2:\n",
    "            res = ((val_loss[-2] - val_loss[-1]) / val_loss[-2]) * 100\n",
    "            print(\"-------------------------------------------------------------------------------\")\n",
    "            print(f\"|              Change in loss is      %   {res:.2f}                               |\")\n",
    "            print(\"-------------------------------------------------------------------------------\")\n",
    "\n",
    "        if  total_loss_val < best_loss:\n",
    "            \n",
    "            print(\"*************...saving best model *************\")\n",
    "            \n",
    "            best_loss = total_loss_val\n",
    "            \n",
    "            torch.save({\n",
    "                'model_state_dict': model.state_dict(),\n",
    "                'best_loss'       : best_loss,\n",
    "            }, path_model)\n",
    "             \n",
    "\n",
    "        epochs.append(epoch)\n",
    "\n",
    "        torch.save({\n",
    "        \n",
    "            'train_loss': train_loss,\n",
    "            'val_loss': val_loss,\n",
    "            'epochs': epochs,\n",
    "        }, path_losses)\n",
    "\n",
    "        if (len(val_loss) >= 2) and (val_loss[-2] > val_loss[-1]):\n",
    "            counter = 0\n",
    "        else:\n",
    "            counter += 1\n",
    "            if counter >= patience:\n",
    "                print(\"Early stopping!\")\n",
    "                break\n",
    "\n",
    "        scheduler.step()  \n",
    "        torch.cuda.empty_cache()"
   ]
  },
  {
   "cell_type": "code",
   "execution_count": null,
   "id": "5ebe1695-8dad-4efa-8659-db6e12c33f38",
   "metadata": {
    "scrolled": true
   },
   "outputs": [],
   "source": [
    "train(num_epochs=25, best_loss=best_loss)"
   ]
  },
  {
   "cell_type": "code",
   "execution_count": null,
   "id": "45bec4e7-c9e4-481e-bcc7-cf5101cf276c",
   "metadata": {},
   "outputs": [],
   "source": [
    "if"
   ]
  },
  {
   "cell_type": "code",
   "execution_count": null,
   "id": "5ace0ec9-61e1-435b-a8bc-59d8f435bd6d",
   "metadata": {},
   "outputs": [],
   "source": []
  },
  {
   "cell_type": "code",
   "execution_count": null,
   "id": "a4cbc75f-9b07-4599-9eb4-cd976f6af068",
   "metadata": {
    "jupyter": {
     "source_hidden": true
    }
   },
   "outputs": [],
   "source": [
    "#  This  was part of the training loop .\n",
    "\n",
    "# Validation phase\n",
    "    model.eval()\n",
    "    total_val_loss = 0\n",
    "\n",
    "    with torch.no_grad():\n",
    "        for batch in val_loader:\n",
    "            inputs   = batch[\"input_ids\"]\n",
    "            labels   = batch[\"labels\"]\n",
    "            \n",
    "            inputs, labels = inputs.to(device), labels.to(device)\n",
    "\n",
    "            logits, loss = model(inputs, labels)\n",
    "            total_val_loss += loss.item()\n",
    "\n",
    "    avg_val_loss = total_val_loss / len(val_loader)\n",
    "    print(f\"Epoch {epoch+1}, Validation Loss: {avg_val_loss}\")\n",
    "\n",
    "    run.log({\"Val Loss\": avg_val_loss})\n"
   ]
  },
  {
   "cell_type": "code",
   "execution_count": null,
   "id": "62d02029-0bd6-4731-994d-b3cb0ae03645",
   "metadata": {},
   "outputs": [],
   "source": [
    "e = model.eval()"
   ]
  },
  {
   "cell_type": "code",
   "execution_count": null,
   "id": "a6891fdf-1976-4449-a475-7586d0b4e641",
   "metadata": {},
   "outputs": [],
   "source": [
    "all_preds, all_labels = [], []"
   ]
  },
  {
   "cell_type": "code",
   "execution_count": null,
   "id": "f10052ec-ae26-4615-9db8-275c8c90f0eb",
   "metadata": {},
   "outputs": [],
   "source": [
    "labels"
   ]
  },
  {
   "cell_type": "markdown",
   "id": "851949d8-e7a4-4ffc-968c-e29997c66819",
   "metadata": {},
   "source": [
    "<div span style=\"background-color:yellow;    color:red;      text-align:center;    padding:5px;\">\n",
    "<h2>  Accuracy Score on Unseen data : </h2>\n",
    "</div>"
   ]
  },
  {
   "cell_type": "code",
   "execution_count": 96,
   "id": "bea0605d-e28e-4d07-9b1f-0df5cdaa2bef",
   "metadata": {},
   "outputs": [
    {
     "name": "stderr",
     "output_type": "stream",
     "text": [
      "100%|██████████| 8/8 [00:00<00:00,  8.50it/s]"
     ]
    },
    {
     "name": "stdout",
     "output_type": "stream",
     "text": [
      "Accuracy: 0.7000\n"
     ]
    },
    {
     "name": "stderr",
     "output_type": "stream",
     "text": [
      "\n"
     ]
    }
   ],
   "source": [
    "model  =  modelx3.to(device)\n",
    "\n",
    "model.eval()\n",
    "\n",
    "all_preds, all_labels = [], []\n",
    "\n",
    "for batch in tqdm.tqdm(test_loader):\n",
    "        \n",
    "    inputs   =   batch[\"input_ids\"]\n",
    "    labels   =   batch[\"labels\"]\n",
    "    \n",
    "    inputs, labels = inputs.to(device), labels.to(device)\n",
    "\n",
    "    with torch.no_grad():\n",
    "        logits, _ = model(inputs)\n",
    "        preds     = torch.argmax(logits, dim=1).cpu().numpy()\n",
    "\n",
    "    all_preds.extend(preds)\n",
    "    all_labels.extend(labels.cpu().numpy())\n",
    "\n",
    "\n",
    "acc  =  accuracy_score(all_labels, all_preds)\n",
    "\n",
    "\n",
    "print(f\"Accuracy: {acc:.4f}\")\n",
    "\n",
    "#run.log({\"acc\": acc})"
   ]
  },
  {
   "cell_type": "markdown",
   "id": "5307a629-28db-4631-97c2-51b599bbec7d",
   "metadata": {},
   "source": [
    "<div span style=\"background-color:yellow;    color:red;      text-align:center;    padding:5px;\">\n",
    "<h2>  Confusion Matrix</h2>\n",
    "</div>"
   ]
  },
  {
   "cell_type": "code",
   "execution_count": 97,
   "id": "48c994e3-02ba-4bb0-a5f1-9c68312d8606",
   "metadata": {},
   "outputs": [
    {
     "name": "stdout",
     "output_type": "stream",
     "text": [
      "Confusion Matrix:\n",
      "[[10  0  0]\n",
      " [ 1  9  0]\n",
      " [ 8  0  2]]\n"
     ]
    }
   ],
   "source": [
    "cm = confusion_matrix(all_labels, all_preds)\n",
    "print(\"Confusion Matrix:\")\n",
    "print(cm)"
   ]
  },
  {
   "cell_type": "markdown",
   "id": "c4594625-bc6d-40fe-bb1b-0c28603702d1",
   "metadata": {},
   "source": [
    "<div span style=\"background-color:yellow;    color:red;      text-align:center;    padding:5px;\">\n",
    "<h2>  Heatmap</h2>\n",
    "</div>"
   ]
  },
  {
   "cell_type": "code",
   "execution_count": 99,
   "id": "46c28e09-819c-430a-baee-685f53cc17ce",
   "metadata": {},
   "outputs": [
    {
     "data": {
      "image/png": "[encoded data removed]",
      "text/plain": [
       "<Figure size 1000x800 with 2 Axes>"
      ]
     },
     "metadata": {},
     "output_type": "display_data"
    }
   ],
   "source": [
    "# Optionally, display a heatmap for better visualization\n",
    "plt.figure(figsize=(10, 8))\n",
    "sns.heatmap(cm, annot=True, fmt=\"d\", cmap=\"Blues\", \n",
    "            xticklabels=[0, 1, 2], yticklabels=[0, 1, 2])\n",
    "plt.xlabel(\"Predicted\")\n",
    "plt.ylabel(\"True\")\n",
    "plt.title(\"Confusion Matrix\")\n",
    "plt.show()"
   ]
  },
  {
   "cell_type": "code",
   "execution_count": null,
   "id": "54b591af-a8ea-41a1-ad80-a45d804894f7",
   "metadata": {},
   "outputs": [],
   "source": []
  },
  {
   "cell_type": "markdown",
   "id": "c8afd358-4f32-4b69-b8b2-25d61fbf881f",
   "metadata": {},
   "source": [
    "<div span style=\"background-color:yellow;    color:red;      text-align:center;    padding:5px;\">\n",
    "<h2>  Sync for WANDB</h2>\n",
    "</div>"
   ]
  },
  {
   "cell_type": "code",
   "execution_count": null,
   "id": "f5ff60ce-0cd6-4de3-bf37-14260195a421",
   "metadata": {},
   "outputs": [],
   "source": [
    "run.finish() "
   ]
  },
  {
   "cell_type": "code",
   "execution_count": null,
   "id": "b2c71cef-138d-4560-9044-a048bd2b620c",
   "metadata": {},
   "outputs": [],
   "source": []
  }
 ],
 "metadata": {
  "kernelspec": {
   "display_name": "Python 3 (ipykernel)",
   "language": "python",
   "name": "python3"
  },
  "language_info": {
   "codemirror_mode": {
    "name": "ipython",
    "version": 3
   },
   "file_extension": ".py",
   "mimetype": "text/x-python",
   "name": "python",
   "nbconvert_exporter": "python",
   "pygments_lexer": "ipython3",
   "version": "3.8.20"
  }
 },
 "nbformat": 4,
 "nbformat_minor": 5
}
