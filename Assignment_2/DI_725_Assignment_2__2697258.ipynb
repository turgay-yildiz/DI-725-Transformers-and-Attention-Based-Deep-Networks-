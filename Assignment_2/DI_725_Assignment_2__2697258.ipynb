{
 "cells": [
  {
   "cell_type": "markdown",
   "id": "1a24157c-3ff2-4a66-8dcf-37d2085a776d",
   "metadata": {},
   "source": [
    "<div style=\"background-color:yellow; text-align:center; text-align:center; padding:40px;\">\n",
    "<h1  style=\"color:red;\" > DI-725 : Transformers and Attention-Based Deep Networks </h1>   \n",
    "<h2  style=\"color:red;\" > Assignment - 2 </h2>\n",
    "<br>\n",
    "<br>\n",
    "<h4  style=\"color:red;\" >Turgay Yıldız</h4>\n",
    "<br>\n",
    "<h4  style=\"color:red;\" >Graduate School of Informatics,  Middle East Technical University (METU)</h4>\n",
    "</div>\n"
   ]
  },
  {
   "cell_type": "markdown",
   "id": "82bf8e0a-6828-4a7e-8dd0-dc184062329e",
   "metadata": {},
   "source": [
    "<div span style=\"background-color:yellow;    color:red;      text-align:center;    padding:5px;\">\n",
    "<h2>  First Import the Relevant Packages  </h2>\n",
    "</div>"
   ]
  },
  {
   "cell_type": "code",
   "execution_count": 1,
   "id": "68c533b0-e398-4508-bba6-c8271e76a9f0",
   "metadata": {
    "scrolled": true
   },
   "outputs": [],
   "source": [
    "import torch\n",
    "import torch.nn as nn\n",
    "from torch.nn import functional as F\n",
    "from torch.utils.data import Dataset, DataLoader, random_split\n",
    "from torchvision import transforms\n",
    "from torch import Tensor\n",
    "\n",
    "from einops.layers.torch import Rearrange\n",
    "\n",
    "import pandas as pd\n",
    "import matplotlib.pyplot as plt\n",
    "import matplotlib.patches as patches\n",
    "import seaborn as sns\n",
    "import numpy as np\n",
    "\n",
    "from torch.optim import AdamW\n",
    "\n",
    "import json\n",
    "\n",
    "from sklearn.metrics import accuracy_score, confusion_matrix, classification_report\n",
    "import tqdm\n",
    "from PIL import Image\n",
    "\n",
    "import wandb\n",
    "import os\n",
    "\n",
    "from torch.amp import GradScaler, autocast"
   ]
  },
  {
   "cell_type": "code",
   "execution_count": 2,
   "id": "f343f0ef-ba51-4b1b-bfa9-db464e6eafdd",
   "metadata": {},
   "outputs": [
    {
     "name": "stdout",
     "output_type": "stream",
     "text": [
      "True\n"
     ]
    }
   ],
   "source": [
    "print(torch.cuda.is_available())"
   ]
  },
  {
   "cell_type": "markdown",
   "id": "a5c67c80-67be-49e0-aec9-2255f0367d42",
   "metadata": {},
   "source": [
    "<div span style=\"background-color:yellow;    color:red;      text-align:center;    padding:5px;\">\n",
    "<h2>  WANDB </h2>\n",
    "</div>"
   ]
  },
  {
   "cell_type": "code",
   "execution_count": 3,
   "id": "0a06207e-5a84-42b3-b97d-3e46c5e66b21",
   "metadata": {},
   "outputs": [
    {
     "name": "stdout",
     "output_type": "stream",
     "text": [
      "/home/turgay/Turgay/Academic/2024-2025/Spring/Transformers/Assignments/Assignment_2\n"
     ]
    }
   ],
   "source": [
    "print(os.getcwd())"
   ]
  },
  {
   "cell_type": "code",
   "execution_count": 4,
   "id": "2765b4fc-84b7-40cd-be07-cc9c4f2acb31",
   "metadata": {},
   "outputs": [],
   "source": [
    "os.environ[\"WANDB_NOTEBOOK_NAME\"] = \"DI_725_Assignment_2__2697258.ipynb\" "
   ]
  },
  {
   "cell_type": "code",
   "execution_count": 5,
   "id": "365eb0cb-0624-426b-9195-a74fc334fda1",
   "metadata": {},
   "outputs": [
    {
     "name": "stderr",
     "output_type": "stream",
     "text": [
      "\u001b[34m\u001b[1mwandb\u001b[0m: Currently logged in as: \u001b[33mturgay-yildiz-phi-e-pi\u001b[0m (\u001b[33mDI_725_Assignment_2___2697258\u001b[0m). Use \u001b[1m`wandb login --relogin`\u001b[0m to force relogin\n"
     ]
    },
    {
     "data": {
      "text/html": [
       "wandb version 0.19.9 is available!  To upgrade, please run:\n",
       " $ pip install wandb --upgrade"
      ],
      "text/plain": [
       "<IPython.core.display.HTML object>"
      ]
     },
     "metadata": {},
     "output_type": "display_data"
    },
    {
     "data": {
      "text/html": [
       "Tracking run with wandb version 0.16.6"
      ],
      "text/plain": [
       "<IPython.core.display.HTML object>"
      ]
     },
     "metadata": {},
     "output_type": "display_data"
    },
    {
     "data": {
      "text/html": [
       "Run data is saved locally in <code>/home/turgay/Turgay/Academic/2024-2025/Spring/Transformers/Assignments/Assignment_2/wandb/run-20250412_130016-e2ny6taj</code>"
      ],
      "text/plain": [
       "<IPython.core.display.HTML object>"
      ]
     },
     "metadata": {},
     "output_type": "display_data"
    },
    {
     "data": {
      "text/html": [
       "Syncing run <strong><a href='https://wandb.ai/DI_725_Assignment_2___2697258/DI_725_Assignment_2___2697258/runs/e2ny6taj' target=\"_blank\">eager-oath-16</a></strong> to <a href='https://wandb.ai/DI_725_Assignment_2___2697258/DI_725_Assignment_2___2697258' target=\"_blank\">Weights & Biases</a> (<a href='https://wandb.me/run' target=\"_blank\">docs</a>)<br/>"
      ],
      "text/plain": [
       "<IPython.core.display.HTML object>"
      ]
     },
     "metadata": {},
     "output_type": "display_data"
    },
    {
     "data": {
      "text/html": [
       " View project at <a href='https://wandb.ai/DI_725_Assignment_2___2697258/DI_725_Assignment_2___2697258' target=\"_blank\">https://wandb.ai/DI_725_Assignment_2___2697258/DI_725_Assignment_2___2697258</a>"
      ],
      "text/plain": [
       "<IPython.core.display.HTML object>"
      ]
     },
     "metadata": {},
     "output_type": "display_data"
    },
    {
     "data": {
      "text/html": [
       " View run at <a href='https://wandb.ai/DI_725_Assignment_2___2697258/DI_725_Assignment_2___2697258/runs/e2ny6taj' target=\"_blank\">https://wandb.ai/DI_725_Assignment_2___2697258/DI_725_Assignment_2___2697258/runs/e2ny6taj</a>"
      ],
      "text/plain": [
       "<IPython.core.display.HTML object>"
      ]
     },
     "metadata": {},
     "output_type": "display_data"
    }
   ],
   "source": [
    "run  =  wandb.init(project=\"DI_725_Assignment_2___2697258\", entity=\"DI_725_Assignment_2___2697258\") "
   ]
  },
  {
   "cell_type": "markdown",
   "id": "b502c6b5-281a-4100-8e07-6fa7e5b8bf1e",
   "metadata": {},
   "source": [
    "<div span style=\"background-color:yellow;    color:red;      text-align:center;    padding:5px;\">\n",
    "<h2>  Import Dataset  </h2>\n",
    "</div>"
   ]
  },
  {
   "cell_type": "code",
   "execution_count": 6,
   "id": "adee8bb2-6f68-4a74-827a-5e5997ce3f09",
   "metadata": {},
   "outputs": [],
   "source": [
    "path   =   \"/home/turgay/Turgay/Academic/2024-2025/Spring/Transformers/Assignments/Assignment_2/\""
   ]
  },
  {
   "cell_type": "code",
   "execution_count": 7,
   "id": "6bb1cd83-b128-4c70-b53a-6a3bb2819968",
   "metadata": {},
   "outputs": [],
   "source": [
    "images_p        =    os.listdir(path + \"auair2019/images\")\n",
    "annotations_p   =   path + \"auair2019/annotations.json\""
   ]
  },
  {
   "cell_type": "code",
   "execution_count": 8,
   "id": "69e2c534-4aa6-4100-bfc5-f26b9d9517bf",
   "metadata": {},
   "outputs": [
    {
     "data": {
      "text/plain": [
       "['frame_20190905103112_xx_0000365.jpg',\n",
       " 'frame_20190906150731_xx_0002188.jpg',\n",
       " 'frame_20190906150731_x_0001674.jpg']"
      ]
     },
     "execution_count": 8,
     "metadata": {},
     "output_type": "execute_result"
    }
   ],
   "source": [
    "images_p[:3]"
   ]
  },
  {
   "cell_type": "code",
   "execution_count": 9,
   "id": "77b4a17b-6fd7-4f7a-8b0a-0b082254fb5a",
   "metadata": {},
   "outputs": [],
   "source": [
    "with open(annotations_p, 'r') as f:\n",
    "    annotations = json.load(f)"
   ]
  },
  {
   "cell_type": "code",
   "execution_count": 10,
   "id": "e17e7c6f-1ae2-430a-902b-0e62b8ab69c0",
   "metadata": {},
   "outputs": [],
   "source": [
    "annotations_info    =   annotations[\"info\"]\n",
    "annotations_ann     =   annotations[\"annotations\"]"
   ]
  },
  {
   "cell_type": "code",
   "execution_count": 11,
   "id": "3cd2c79d-4bf1-4e5c-8836-7af9d3b2273f",
   "metadata": {},
   "outputs": [
    {
     "data": {
      "text/plain": [
       "{'description': 'AUAIR 2019 Dataset',\n",
       " 'url': 'https://bozcani.github.io/AU-AIR-dataset.html',\n",
       " 'version': '1.0',\n",
       " 'year': '2019',\n",
       " 'contributor': 'Ilker Bozcan',\n",
       " 'date_created': '2019/10/01'}"
      ]
     },
     "execution_count": 11,
     "metadata": {},
     "output_type": "execute_result"
    }
   ],
   "source": [
    "annotations_info"
   ]
  },
  {
   "cell_type": "code",
   "execution_count": 12,
   "id": "00864bc6-f3d2-44d3-a814-b0c317472273",
   "metadata": {},
   "outputs": [
    {
     "data": {
      "text/plain": [
       "32823"
      ]
     },
     "execution_count": 12,
     "metadata": {},
     "output_type": "execute_result"
    }
   ],
   "source": [
    "len(annotations_ann)"
   ]
  },
  {
   "cell_type": "markdown",
   "id": "8f6241b7-7958-49b0-8b07-2c91a7d45eb4",
   "metadata": {},
   "source": [
    "<div span style=\"background-color:yellow;    color:red;      text-align:center;    padding:5px;\">\n",
    "<h2>  BBoxes </h2>\n",
    "</div>"
   ]
  },
  {
   "cell_type": "code",
   "execution_count": 13,
   "id": "6581b1db-aa9a-4291-aa62-e8c8ef7d8ee1",
   "metadata": {},
   "outputs": [
    {
     "data": {
      "text/plain": [
       "[{'top': 857, 'left': 976, 'height': 86, 'width': 139, 'class': 0},\n",
       " {'top': 11, 'left': 624, 'height': 210, 'width': 328, 'class': 1}]"
      ]
     },
     "execution_count": 13,
     "metadata": {},
     "output_type": "execute_result"
    }
   ],
   "source": [
    "annotations_ann[1][\"bbox\"]"
   ]
  },
  {
   "cell_type": "markdown",
   "id": "d888b6aa-ac6d-4528-9dd1-01532f4030ff",
   "metadata": {},
   "source": [
    "<div span style=\"background-color:yellow;    color:red;      text-align:center;    padding:5px;\">\n",
    "<h2>  Average Length of Classes for an image </h2>\n",
    "</div>"
   ]
  },
  {
   "cell_type": "code",
   "execution_count": 14,
   "id": "a4869347-e937-429a-94ca-ab04f73de2a6",
   "metadata": {},
   "outputs": [],
   "source": [
    "summ = 0\n",
    "\n",
    "for i in range(len(annotations_ann)):\n",
    "\n",
    "    summ   +=    len(annotations_ann[i][\"bbox\"])"
   ]
  },
  {
   "cell_type": "code",
   "execution_count": 15,
   "id": "ba5a74f0-6d7f-495a-9266-f2b10d4ff048",
   "metadata": {},
   "outputs": [
    {
     "data": {
      "text/plain": [
       "132031"
      ]
     },
     "execution_count": 15,
     "metadata": {},
     "output_type": "execute_result"
    }
   ],
   "source": [
    "summ"
   ]
  },
  {
   "cell_type": "code",
   "execution_count": 16,
   "id": "6b9950aa-0d26-4e8f-9e78-ad9d62975bc4",
   "metadata": {},
   "outputs": [
    {
     "data": {
      "text/plain": [
       "4.0225147000578865"
      ]
     },
     "execution_count": 16,
     "metadata": {},
     "output_type": "execute_result"
    }
   ],
   "source": [
    "summ /  len(annotations_ann) "
   ]
  },
  {
   "cell_type": "markdown",
   "id": "d80cfbc6-ba31-41c7-8a7d-e271328c112f",
   "metadata": {},
   "source": [
    "<div span style=\"background-color:yellow;    color:red;      text-align:center;    padding:5px;\">\n",
    "<h2>  Max Class Indices in an image</h2>\n",
    "</div>"
   ]
  },
  {
   "cell_type": "code",
   "execution_count": 17,
   "id": "592b87cb-749c-4655-b561-d7b45c72b080",
   "metadata": {},
   "outputs": [],
   "source": [
    "summs   =  [] \n",
    "\n",
    "for i in range(len(annotations_ann)):\n",
    "\n",
    "    summs.append(len(annotations_ann[i][\"bbox\"]))"
   ]
  },
  {
   "cell_type": "code",
   "execution_count": 18,
   "id": "54fafa7e-1066-42e3-8446-fc70a75fcc09",
   "metadata": {},
   "outputs": [
    {
     "data": {
      "text/plain": [
       "56"
      ]
     },
     "execution_count": 18,
     "metadata": {},
     "output_type": "execute_result"
    }
   ],
   "source": [
    "np.array(summs).max()"
   ]
  },
  {
   "cell_type": "code",
   "execution_count": 19,
   "id": "70137c1e-0056-4e8e-9a66-345f873a523b",
   "metadata": {},
   "outputs": [
    {
     "data": {
      "text/plain": [
       "25251"
      ]
     },
     "execution_count": 19,
     "metadata": {},
     "output_type": "execute_result"
    }
   ],
   "source": [
    "np.array(summs).argmax()"
   ]
  },
  {
   "cell_type": "code",
   "execution_count": 20,
   "id": "d7ea0b42-b722-4215-936c-b2e5a2598ea2",
   "metadata": {},
   "outputs": [
    {
     "data": {
      "text/plain": [
       "[{'top': 396, 'left': 439, 'height': 35, 'width': 101, 'class': 1},\n",
       " {'top': 375, 'left': 453, 'height': 30, 'width': 105, 'class': 1},\n",
       " {'top': 347, 'left': 464, 'height': 31, 'width': 83, 'class': 1},\n",
       " {'top': 328, 'left': 473, 'height': 27, 'width': 68, 'class': 1},\n",
       " {'top': 303, 'left': 468, 'height': 24, 'width': 85, 'class': 1},\n",
       " {'top': 293, 'left': 470, 'height': 18, 'width': 82, 'class': 1},\n",
       " {'top': 273, 'left': 477, 'height': 21, 'width': 68, 'class': 1},\n",
       " {'top': 260, 'left': 477, 'height': 18, 'width': 73, 'class': 1},\n",
       " {'top': 241, 'left': 481, 'height': 24, 'width': 63, 'class': 1},\n",
       " {'top': 236, 'left': 399, 'height': 27, 'width': 62, 'class': 1},\n",
       " {'top': 260, 'left': 400, 'height': 23, 'width': 63, 'class': 1},\n",
       " {'top': 276, 'left': 400, 'height': 20, 'width': 57, 'class': 1},\n",
       " {'top': 295, 'left': 404, 'height': 21, 'width': 49, 'class': 1},\n",
       " {'top': 312, 'left': 411, 'height': 27, 'width': 40, 'class': 1},\n",
       " {'top': 339, 'left': 418, 'height': 20, 'width': 33, 'class': 1},\n",
       " {'top': 355, 'left': 412, 'height': 31, 'width': 39, 'class': 1},\n",
       " {'top': 154, 'left': 594, 'height': 26, 'width': 32, 'class': 1},\n",
       " {'top': 145, 'left': 653, 'height': 22, 'width': 22, 'class': 1},\n",
       " {'top': 145, 'left': 680, 'height': 27, 'width': 23, 'class': 1},\n",
       " {'top': 144, 'left': 724, 'height': 26, 'width': 32, 'class': 1},\n",
       " {'top': 133, 'left': 748, 'height': 33, 'width': 38, 'class': 1},\n",
       " {'top': 143, 'left': 783, 'height': 16, 'width': 26, 'class': 1},\n",
       " {'top': 139, 'left': 810, 'height': 24, 'width': 25, 'class': 1},\n",
       " {'top': 136, 'left': 861, 'height': 28, 'width': 36, 'class': 1},\n",
       " {'top': 133, 'left': 898, 'height': 24, 'width': 24, 'class': 1},\n",
       " {'top': 135, 'left': 964, 'height': 22, 'width': 29, 'class': 1},\n",
       " {'top': 133, 'left': 993, 'height': 21, 'width': 23, 'class': 1},\n",
       " {'top': 133, 'left': 1020, 'height': 22, 'width': 18, 'class': 1},\n",
       " {'top': 143, 'left': 1040, 'height': 20, 'width': 28, 'class': 1},\n",
       " {'top': 131, 'left': 1056, 'height': 24, 'width': 27, 'class': 1},\n",
       " {'top': 123, 'left': 1094, 'height': 33, 'width': 35, 'class': 1},\n",
       " {'top': 128, 'left': 1107, 'height': 7, 'width': 30, 'class': 1},\n",
       " {'top': 166, 'left': 1263, 'height': 27, 'width': 46, 'class': 1},\n",
       " {'top': 160, 'left': 1314, 'height': 26, 'width': 46, 'class': 1},\n",
       " {'top': 167, 'left': 1071, 'height': 15, 'width': 34, 'class': 1},\n",
       " {'top': 174, 'left': 968, 'height': 18, 'width': 37, 'class': 1},\n",
       " {'top': 173, 'left': 921, 'height': 19, 'width': 24, 'class': 1},\n",
       " {'top': 158, 'left': 1225, 'height': 34, 'width': 35, 'class': 1},\n",
       " {'top': 190, 'left': 809, 'height': 13, 'width': 30, 'class': 1},\n",
       " {'top': 184, 'left': 786, 'height': 28, 'width': 22, 'class': 1},\n",
       " {'top': 173, 'left': 891, 'height': 36, 'width': 37, 'class': 1},\n",
       " {'top': 182, 'left': 726, 'height': 17, 'width': 28, 'class': 1},\n",
       " {'top': 186, 'left': 692, 'height': 34, 'width': 38, 'class': 1},\n",
       " {'top': 188, 'left': 630, 'height': 36, 'width': 41, 'class': 1},\n",
       " {'top': 190, 'left': 595, 'height': 47, 'width': 33, 'class': 1},\n",
       " {'top': 156, 'left': 75, 'height': 25, 'width': 15, 'class': 1},\n",
       " {'top': 130, 'left': 87, 'height': 23, 'width': 26, 'class': 1},\n",
       " {'top': 117, 'left': 135, 'height': 17, 'width': 17, 'class': 1},\n",
       " {'top': 164, 'left': 0, 'height': 30, 'width': 30, 'class': 1},\n",
       " {'top': 115, 'left': 0, 'height': 23, 'width': 21, 'class': 1},\n",
       " {'top': 106, 'left': 25, 'height': 26, 'width': 26, 'class': 1},\n",
       " {'top': 102, 'left': 57, 'height': 28, 'width': 28, 'class': 1},\n",
       " {'top': 98, 'left': 85, 'height': 28, 'width': 39, 'class': 1},\n",
       " {'top': 98, 'left': 128, 'height': 17, 'width': 32, 'class': 1},\n",
       " {'top': 25, 'left': 55, 'height': 11, 'width': 35, 'class': 1},\n",
       " {'top': 10, 'left': 81, 'height': 17, 'width': 30, 'class': 1}]"
      ]
     },
     "execution_count": 20,
     "metadata": {},
     "output_type": "execute_result"
    }
   ],
   "source": [
    "annotations_ann[25251][\"bbox\"]"
   ]
  },
  {
   "cell_type": "markdown",
   "id": "bdf3fa98-9d26-4572-b90b-95ef2af8ce53",
   "metadata": {},
   "source": [
    "<div span style=\"background-color:yellow;    color:red;      text-align:center;    padding:5px;\">\n",
    "<h2>  Unique Classes</h2>\n",
    "</div>"
   ]
  },
  {
   "cell_type": "code",
   "execution_count": 21,
   "id": "a2ffffab-a13e-43b2-ba1e-3a07682d53d2",
   "metadata": {},
   "outputs": [],
   "source": [
    "lst   =   []\n",
    "\n",
    "for i in range(len(annotations_ann)):\n",
    "\n",
    "    bbox   =   annotations_ann[i][\"bbox\"]\n",
    "\n",
    "    for j in range(len(bbox)):\n",
    "\n",
    "        label   =   bbox[j][\"class\"] \n",
    "\n",
    "        if label  not  in  lst :\n",
    "    \n",
    "            lst.append(label) \n"
   ]
  },
  {
   "cell_type": "code",
   "execution_count": 22,
   "id": "a97f54f7-49ca-4902-8687-ffb7d98ad210",
   "metadata": {},
   "outputs": [
    {
     "data": {
      "text/plain": [
       "[1, 0, 2, 3, 5, 7, 4, 6]"
      ]
     },
     "execution_count": 22,
     "metadata": {},
     "output_type": "execute_result"
    }
   ],
   "source": [
    "lst"
   ]
  },
  {
   "cell_type": "code",
   "execution_count": 23,
   "id": "c171f512-2be0-4c28-ab72-6c1f201c5dc8",
   "metadata": {},
   "outputs": [
    {
     "data": {
      "text/plain": [
       "8"
      ]
     },
     "execution_count": 23,
     "metadata": {},
     "output_type": "execute_result"
    }
   ],
   "source": [
    "len(lst)"
   ]
  },
  {
   "cell_type": "markdown",
   "id": "b1e5319f-3ae3-462a-aad4-7110dbfdb66e",
   "metadata": {},
   "source": [
    "<div span style=\"background-color:yellow;    color:red;      text-align:center;    padding:5px;\">\n",
    "<h2>  Preprocess Data</h2>\n",
    "</div>"
   ]
  },
  {
   "cell_type": "code",
   "execution_count": null,
   "id": "8ec375b2-8ff4-4137-8e88-cdb08f6a56df",
   "metadata": {},
   "outputs": [],
   "source": []
  },
  {
   "cell_type": "code",
   "execution_count": 13,
   "id": "7155d80b-928f-47c3-9a13-43fd4c1b6820",
   "metadata": {},
   "outputs": [],
   "source": [
    "def preprocess_annotations(annotations_ann):\n",
    "\n",
    "    all_bboxes = []\n",
    "    all_images = [] \n",
    "\n",
    "    path   =   \"/home/turgay/Turgay/Academic/2024-2025/Spring/Transformers/Assignments/Assignment_2/auair2019/images/\"\n",
    "\n",
    "    for i in tqdm.tqdm(range(len(annotations_ann))):\n",
    "\n",
    "        \n",
    "        image_name    =     annotations_ann[i][\"image_name\"] \n",
    "        img_path      =     os.path.join(path ,  image_name)   \n",
    "\n",
    "\n",
    "        all_images.append(img_path)\n",
    "\n",
    "\n",
    "        \n",
    "        len_bbox   =  len(annotations_ann[i][\"bbox\"])\n",
    "        bbox_list  =  []\n",
    "\n",
    "        for j in range(len_bbox):\n",
    "\n",
    "            top       =   annotations_ann[i][\"bbox\"][j][\"top\"]\n",
    "            left      =   annotations_ann[i][\"bbox\"][j][\"left\"]\n",
    "            height    =   annotations_ann[i][\"bbox\"][j][\"height\"]\n",
    "            width     =   annotations_ann[i][\"bbox\"][j][\"width\"]\n",
    "            clas      =   annotations_ann[i][\"bbox\"][j][\"class\"]\n",
    "\n",
    "            bbox_list.append([top, left, height, width, clas])\n",
    "\n",
    "        bbox_arr   =   np.array(bbox_list, dtype=np.float32)\n",
    "\n",
    "        if  len_bbox  <  100:\n",
    "\n",
    "            pad       =   np.zeros((100 - len_bbox, 5), dtype=np.float32)\n",
    "            pad[:, 4] =   9      # padding class as 9 (\"no object\")\n",
    "            bbox_arr  =   np.concatenate([bbox_arr, pad], axis=0)\n",
    "\n",
    "        elif len_bbox  >  100:\n",
    "\n",
    "            bbox_arr  =   bbox_arr[:100]\n",
    "\n",
    "        all_bboxes.append(bbox_arr) \n",
    "    \n",
    "\n",
    "    all_bboxes = np.stack(all_bboxes, axis=0)\n",
    "    all_images = np.stack(all_images, axis=0)\n",
    "\n",
    "    return    all_images,    all_bboxes\n"
   ]
  },
  {
   "cell_type": "code",
   "execution_count": 14,
   "id": "4df1dd85-76cd-4959-88ac-45c2cce3f629",
   "metadata": {},
   "outputs": [
    {
     "name": "stderr",
     "output_type": "stream",
     "text": [
      "100%|██████████| 32823/32823 [00:00<00:00, 124973.23it/s]\n"
     ]
    }
   ],
   "source": [
    "all_images,     all_bboxes    =    preprocess_annotations(annotations_ann)"
   ]
  },
  {
   "cell_type": "code",
   "execution_count": 15,
   "id": "6b4cc224-8821-436f-91a4-608106e13998",
   "metadata": {},
   "outputs": [
    {
     "data": {
      "text/plain": [
       "((32823,), (32823, 100, 5))"
      ]
     },
     "execution_count": 15,
     "metadata": {},
     "output_type": "execute_result"
    }
   ],
   "source": [
    "all_images.shape,  all_bboxes.shape"
   ]
  },
  {
   "cell_type": "markdown",
   "id": "4ecc5b54-668b-4bcb-8339-0ac2689e0644",
   "metadata": {},
   "source": [
    "<div span style=\"background-color:yellow;    color:red;      text-align:center;    padding:5px;\">\n",
    "<h2>  Check the Preprocessed Data</h2>\n",
    "</div>"
   ]
  },
  {
   "cell_type": "code",
   "execution_count": 16,
   "id": "8fe1a569-795f-48a6-8b21-b38ee3ea20a7",
   "metadata": {},
   "outputs": [
    {
     "data": {
      "text/plain": [
       "'/home/turgay/Turgay/Academic/2024-2025/Spring/Transformers/Assignments/Assignment_2/auair2019/images/frame_20190829091111_x_0001973.jpg'"
      ]
     },
     "execution_count": 16,
     "metadata": {},
     "output_type": "execute_result"
    }
   ],
   "source": [
    "all_images[0]"
   ]
  },
  {
   "cell_type": "code",
   "execution_count": 17,
   "id": "daa6b157-6c20-491a-9c2c-ba501f3d3bdb",
   "metadata": {},
   "outputs": [
    {
     "data": {
      "text/plain": [
       "array([[1.630e+02, 1.098e+03, 1.850e+02, 4.200e+02, 1.000e+00],\n",
       "       [4.210e+02, 1.128e+03, 1.760e+02, 3.930e+02, 1.000e+00],\n",
       "       [9.270e+02, 1.703e+03, 1.530e+02, 1.830e+02, 0.000e+00],\n",
       "       [0.000e+00, 0.000e+00, 0.000e+00, 0.000e+00, 9.000e+00],\n",
       "       [0.000e+00, 0.000e+00, 0.000e+00, 0.000e+00, 9.000e+00],\n",
       "       [0.000e+00, 0.000e+00, 0.000e+00, 0.000e+00, 9.000e+00],\n",
       "       [0.000e+00, 0.000e+00, 0.000e+00, 0.000e+00, 9.000e+00],\n",
       "       [0.000e+00, 0.000e+00, 0.000e+00, 0.000e+00, 9.000e+00],\n",
       "       [0.000e+00, 0.000e+00, 0.000e+00, 0.000e+00, 9.000e+00],\n",
       "       [0.000e+00, 0.000e+00, 0.000e+00, 0.000e+00, 9.000e+00],\n",
       "       [0.000e+00, 0.000e+00, 0.000e+00, 0.000e+00, 9.000e+00],\n",
       "       [0.000e+00, 0.000e+00, 0.000e+00, 0.000e+00, 9.000e+00],\n",
       "       [0.000e+00, 0.000e+00, 0.000e+00, 0.000e+00, 9.000e+00],\n",
       "       [0.000e+00, 0.000e+00, 0.000e+00, 0.000e+00, 9.000e+00],\n",
       "       [0.000e+00, 0.000e+00, 0.000e+00, 0.000e+00, 9.000e+00],\n",
       "       [0.000e+00, 0.000e+00, 0.000e+00, 0.000e+00, 9.000e+00],\n",
       "       [0.000e+00, 0.000e+00, 0.000e+00, 0.000e+00, 9.000e+00],\n",
       "       [0.000e+00, 0.000e+00, 0.000e+00, 0.000e+00, 9.000e+00],\n",
       "       [0.000e+00, 0.000e+00, 0.000e+00, 0.000e+00, 9.000e+00],\n",
       "       [0.000e+00, 0.000e+00, 0.000e+00, 0.000e+00, 9.000e+00],\n",
       "       [0.000e+00, 0.000e+00, 0.000e+00, 0.000e+00, 9.000e+00],\n",
       "       [0.000e+00, 0.000e+00, 0.000e+00, 0.000e+00, 9.000e+00],\n",
       "       [0.000e+00, 0.000e+00, 0.000e+00, 0.000e+00, 9.000e+00],\n",
       "       [0.000e+00, 0.000e+00, 0.000e+00, 0.000e+00, 9.000e+00],\n",
       "       [0.000e+00, 0.000e+00, 0.000e+00, 0.000e+00, 9.000e+00],\n",
       "       [0.000e+00, 0.000e+00, 0.000e+00, 0.000e+00, 9.000e+00],\n",
       "       [0.000e+00, 0.000e+00, 0.000e+00, 0.000e+00, 9.000e+00],\n",
       "       [0.000e+00, 0.000e+00, 0.000e+00, 0.000e+00, 9.000e+00],\n",
       "       [0.000e+00, 0.000e+00, 0.000e+00, 0.000e+00, 9.000e+00],\n",
       "       [0.000e+00, 0.000e+00, 0.000e+00, 0.000e+00, 9.000e+00],\n",
       "       [0.000e+00, 0.000e+00, 0.000e+00, 0.000e+00, 9.000e+00],\n",
       "       [0.000e+00, 0.000e+00, 0.000e+00, 0.000e+00, 9.000e+00],\n",
       "       [0.000e+00, 0.000e+00, 0.000e+00, 0.000e+00, 9.000e+00],\n",
       "       [0.000e+00, 0.000e+00, 0.000e+00, 0.000e+00, 9.000e+00],\n",
       "       [0.000e+00, 0.000e+00, 0.000e+00, 0.000e+00, 9.000e+00],\n",
       "       [0.000e+00, 0.000e+00, 0.000e+00, 0.000e+00, 9.000e+00],\n",
       "       [0.000e+00, 0.000e+00, 0.000e+00, 0.000e+00, 9.000e+00],\n",
       "       [0.000e+00, 0.000e+00, 0.000e+00, 0.000e+00, 9.000e+00],\n",
       "       [0.000e+00, 0.000e+00, 0.000e+00, 0.000e+00, 9.000e+00],\n",
       "       [0.000e+00, 0.000e+00, 0.000e+00, 0.000e+00, 9.000e+00],\n",
       "       [0.000e+00, 0.000e+00, 0.000e+00, 0.000e+00, 9.000e+00],\n",
       "       [0.000e+00, 0.000e+00, 0.000e+00, 0.000e+00, 9.000e+00],\n",
       "       [0.000e+00, 0.000e+00, 0.000e+00, 0.000e+00, 9.000e+00],\n",
       "       [0.000e+00, 0.000e+00, 0.000e+00, 0.000e+00, 9.000e+00],\n",
       "       [0.000e+00, 0.000e+00, 0.000e+00, 0.000e+00, 9.000e+00],\n",
       "       [0.000e+00, 0.000e+00, 0.000e+00, 0.000e+00, 9.000e+00],\n",
       "       [0.000e+00, 0.000e+00, 0.000e+00, 0.000e+00, 9.000e+00],\n",
       "       [0.000e+00, 0.000e+00, 0.000e+00, 0.000e+00, 9.000e+00],\n",
       "       [0.000e+00, 0.000e+00, 0.000e+00, 0.000e+00, 9.000e+00],\n",
       "       [0.000e+00, 0.000e+00, 0.000e+00, 0.000e+00, 9.000e+00],\n",
       "       [0.000e+00, 0.000e+00, 0.000e+00, 0.000e+00, 9.000e+00],\n",
       "       [0.000e+00, 0.000e+00, 0.000e+00, 0.000e+00, 9.000e+00],\n",
       "       [0.000e+00, 0.000e+00, 0.000e+00, 0.000e+00, 9.000e+00],\n",
       "       [0.000e+00, 0.000e+00, 0.000e+00, 0.000e+00, 9.000e+00],\n",
       "       [0.000e+00, 0.000e+00, 0.000e+00, 0.000e+00, 9.000e+00],\n",
       "       [0.000e+00, 0.000e+00, 0.000e+00, 0.000e+00, 9.000e+00],\n",
       "       [0.000e+00, 0.000e+00, 0.000e+00, 0.000e+00, 9.000e+00],\n",
       "       [0.000e+00, 0.000e+00, 0.000e+00, 0.000e+00, 9.000e+00],\n",
       "       [0.000e+00, 0.000e+00, 0.000e+00, 0.000e+00, 9.000e+00],\n",
       "       [0.000e+00, 0.000e+00, 0.000e+00, 0.000e+00, 9.000e+00],\n",
       "       [0.000e+00, 0.000e+00, 0.000e+00, 0.000e+00, 9.000e+00],\n",
       "       [0.000e+00, 0.000e+00, 0.000e+00, 0.000e+00, 9.000e+00],\n",
       "       [0.000e+00, 0.000e+00, 0.000e+00, 0.000e+00, 9.000e+00],\n",
       "       [0.000e+00, 0.000e+00, 0.000e+00, 0.000e+00, 9.000e+00],\n",
       "       [0.000e+00, 0.000e+00, 0.000e+00, 0.000e+00, 9.000e+00],\n",
       "       [0.000e+00, 0.000e+00, 0.000e+00, 0.000e+00, 9.000e+00],\n",
       "       [0.000e+00, 0.000e+00, 0.000e+00, 0.000e+00, 9.000e+00],\n",
       "       [0.000e+00, 0.000e+00, 0.000e+00, 0.000e+00, 9.000e+00],\n",
       "       [0.000e+00, 0.000e+00, 0.000e+00, 0.000e+00, 9.000e+00],\n",
       "       [0.000e+00, 0.000e+00, 0.000e+00, 0.000e+00, 9.000e+00],\n",
       "       [0.000e+00, 0.000e+00, 0.000e+00, 0.000e+00, 9.000e+00],\n",
       "       [0.000e+00, 0.000e+00, 0.000e+00, 0.000e+00, 9.000e+00],\n",
       "       [0.000e+00, 0.000e+00, 0.000e+00, 0.000e+00, 9.000e+00],\n",
       "       [0.000e+00, 0.000e+00, 0.000e+00, 0.000e+00, 9.000e+00],\n",
       "       [0.000e+00, 0.000e+00, 0.000e+00, 0.000e+00, 9.000e+00],\n",
       "       [0.000e+00, 0.000e+00, 0.000e+00, 0.000e+00, 9.000e+00],\n",
       "       [0.000e+00, 0.000e+00, 0.000e+00, 0.000e+00, 9.000e+00],\n",
       "       [0.000e+00, 0.000e+00, 0.000e+00, 0.000e+00, 9.000e+00],\n",
       "       [0.000e+00, 0.000e+00, 0.000e+00, 0.000e+00, 9.000e+00],\n",
       "       [0.000e+00, 0.000e+00, 0.000e+00, 0.000e+00, 9.000e+00],\n",
       "       [0.000e+00, 0.000e+00, 0.000e+00, 0.000e+00, 9.000e+00],\n",
       "       [0.000e+00, 0.000e+00, 0.000e+00, 0.000e+00, 9.000e+00],\n",
       "       [0.000e+00, 0.000e+00, 0.000e+00, 0.000e+00, 9.000e+00],\n",
       "       [0.000e+00, 0.000e+00, 0.000e+00, 0.000e+00, 9.000e+00],\n",
       "       [0.000e+00, 0.000e+00, 0.000e+00, 0.000e+00, 9.000e+00],\n",
       "       [0.000e+00, 0.000e+00, 0.000e+00, 0.000e+00, 9.000e+00],\n",
       "       [0.000e+00, 0.000e+00, 0.000e+00, 0.000e+00, 9.000e+00],\n",
       "       [0.000e+00, 0.000e+00, 0.000e+00, 0.000e+00, 9.000e+00],\n",
       "       [0.000e+00, 0.000e+00, 0.000e+00, 0.000e+00, 9.000e+00],\n",
       "       [0.000e+00, 0.000e+00, 0.000e+00, 0.000e+00, 9.000e+00],\n",
       "       [0.000e+00, 0.000e+00, 0.000e+00, 0.000e+00, 9.000e+00],\n",
       "       [0.000e+00, 0.000e+00, 0.000e+00, 0.000e+00, 9.000e+00],\n",
       "       [0.000e+00, 0.000e+00, 0.000e+00, 0.000e+00, 9.000e+00],\n",
       "       [0.000e+00, 0.000e+00, 0.000e+00, 0.000e+00, 9.000e+00],\n",
       "       [0.000e+00, 0.000e+00, 0.000e+00, 0.000e+00, 9.000e+00],\n",
       "       [0.000e+00, 0.000e+00, 0.000e+00, 0.000e+00, 9.000e+00],\n",
       "       [0.000e+00, 0.000e+00, 0.000e+00, 0.000e+00, 9.000e+00],\n",
       "       [0.000e+00, 0.000e+00, 0.000e+00, 0.000e+00, 9.000e+00],\n",
       "       [0.000e+00, 0.000e+00, 0.000e+00, 0.000e+00, 9.000e+00],\n",
       "       [0.000e+00, 0.000e+00, 0.000e+00, 0.000e+00, 9.000e+00]],\n",
       "      dtype=float32)"
      ]
     },
     "execution_count": 17,
     "metadata": {},
     "output_type": "execute_result"
    }
   ],
   "source": [
    "all_bboxes[0]"
   ]
  },
  {
   "cell_type": "code",
   "execution_count": 35,
   "id": "44af93cf-d942-48e9-82ce-3d8f5239febd",
   "metadata": {},
   "outputs": [],
   "source": [
    "img   =   Image.open(all_images[0]).convert(\"RGB\")"
   ]
  },
  {
   "cell_type": "code",
   "execution_count": 37,
   "id": "27798442-ad6a-42f7-80eb-599c7fc1f478",
   "metadata": {},
   "outputs": [],
   "source": [
    "image = transforms.ToTensor()(img)"
   ]
  },
  {
   "cell_type": "code",
   "execution_count": 38,
   "id": "754f1695-79fb-4be6-a409-b6d98f3cc319",
   "metadata": {},
   "outputs": [
    {
     "data": {
      "text/plain": [
       "torch.Size([3, 1080, 1920])"
      ]
     },
     "execution_count": 38,
     "metadata": {},
     "output_type": "execute_result"
    }
   ],
   "source": [
    "image.shape"
   ]
  },
  {
   "cell_type": "code",
   "execution_count": 30,
   "id": "0ad14cba-bc21-4d98-8847-50c82cf9cdf5",
   "metadata": {},
   "outputs": [
    {
     "data": {
      "image/png": "[encoded data removed]",
      "text/plain": [
       "<Figure size 640x480 with 1 Axes>"
      ]
     },
     "metadata": {},
     "output_type": "display_data"
    }
   ],
   "source": [
    "fig, ax = plt.subplots(1)\n",
    "\n",
    "\n",
    "ax.imshow(img)\n",
    "\n",
    "for i in range(100):\n",
    "    \n",
    "    rect = patches.Rectangle((all_bboxes[0][i][1], all_bboxes[0][i][0]), all_bboxes[0][i][3], all_bboxes[0][i][2], linewidth=2, edgecolor='r', facecolor='none')\n",
    "    \n",
    "    ax.add_patch(rect)\n",
    "\n",
    "plt.show()"
   ]
  },
  {
   "cell_type": "code",
   "execution_count": null,
   "id": "d358b5d0-7fde-4b5e-a427-08e4a228a3de",
   "metadata": {},
   "outputs": [],
   "source": []
  },
  {
   "cell_type": "markdown",
   "id": "24d754cd-68d7-4fea-ab5f-d51d1860c95e",
   "metadata": {},
   "source": [
    "<div span style=\"background-color:yellow;    color:red;      text-align:center;    padding:5px;\">\n",
    "<h2>  Split Dataset according to the Report Paper </h2>\n",
    "</div>"
   ]
  },
  {
   "cell_type": "markdown",
   "id": "e0285f95-9ec5-4914-b0ed-6b3500a3e48d",
   "metadata": {},
   "source": [
    "```python\n",
    "annotations_train_val        =    all_bboxes[:30000,    :,  :]\n",
    "annotations_test             =    all_bboxes[30000:-1,  :,  :] \n",
    "```"
   ]
  },
  {
   "cell_type": "markdown",
   "id": "91b5dba2-8fe4-42c0-a7e0-6af907130514",
   "metadata": {},
   "source": [
    "<div span style=\"background-color:yellow;    color:red;      text-align:center;    padding:5px;\">\n",
    "<h2>  Prepare Dataset for Training </h2>\n",
    "</div>"
   ]
  },
  {
   "cell_type": "code",
   "execution_count": 18,
   "id": "7e23d468-accb-453d-bede-56974a599e3c",
   "metadata": {},
   "outputs": [],
   "source": [
    "class AUAIRDataset(Dataset):\n",
    "\n",
    "    def __init__(self, img_paths,   all_bboxes,   test = False,  transform=None):\n",
    "\n",
    "        \n",
    "        self.transform          =   transform \n",
    "        \n",
    "        if test:\n",
    "\n",
    "            self.annotations    =   all_bboxes[30000:-1,  :,  :]  \n",
    "            self.img_paths      =   img_paths[30000:-1] \n",
    "\n",
    "        else:\n",
    "\n",
    "            self.annotations    =   all_bboxes[:30000,    :,  :]\n",
    "            self.img_paths      =   img_paths[:30000]  \n",
    "\n",
    "    \n",
    "    def __len__(self):\n",
    "        \n",
    "        return    len(self.annotations)  \n",
    "\n",
    "\n",
    "    def __getitem__(self, idx):\n",
    "\n",
    "        data          =     self.annotations[idx]   \n",
    "        img_path      =     self.img_paths[idx]  \n",
    "            \n",
    "        image         =     Image.open(img_path).convert(\"RGB\")   \n",
    "        #img_array     =     np.array(image, dtype=np.float32) / 255.0 \n",
    "        \n",
    "                \n",
    "        \n",
    "        if self.transform:\n",
    "            \n",
    "            image = self.transform(image) \n",
    "\n",
    "        else:\n",
    "            image = transforms.ToTensor()(image)\n",
    "\n",
    "        \n",
    "        return     image,       data  \n",
    "\n"
   ]
  },
  {
   "cell_type": "code",
   "execution_count": 19,
   "id": "2bcacbb6-5ca5-4f46-b2e9-994893c6580f",
   "metadata": {},
   "outputs": [],
   "source": [
    "data_transform = transforms.Compose([\n",
    "    \n",
    "    transforms.Resize((480, 640)),  \n",
    "    transforms.ToTensor()\n",
    "])\n"
   ]
  },
  {
   "cell_type": "markdown",
   "id": "56ae930b-ea8b-4377-b892-d4724e90f8d4",
   "metadata": {},
   "source": [
    "<div span style=\"background-color:yellow;    color:red;      text-align:center;    padding:5px;\">\n",
    "<h2>  For Training   </h2>\n",
    "</div>"
   ]
  },
  {
   "cell_type": "code",
   "execution_count": 20,
   "id": "fbc3f6b9-5028-4967-937b-a77010a343b6",
   "metadata": {},
   "outputs": [],
   "source": [
    "dataset      =   AUAIRDataset(all_images,  all_bboxes,    test=False,    transform  =  data_transform)"
   ]
  },
  {
   "cell_type": "code",
   "execution_count": 21,
   "id": "26f5013a-cdae-4b5d-a9d3-f6e574f75505",
   "metadata": {},
   "outputs": [
    {
     "data": {
      "text/plain": [
       "30000"
      ]
     },
     "execution_count": 21,
     "metadata": {},
     "output_type": "execute_result"
    }
   ],
   "source": [
    "len(dataset)"
   ]
  },
  {
   "cell_type": "code",
   "execution_count": 22,
   "id": "08975b0e-2557-4b67-b64e-1c49f294e290",
   "metadata": {},
   "outputs": [],
   "source": [
    "train_size   =    int(0.9 * len(dataset))\n",
    "val_size     =    len(dataset) - train_size "
   ]
  },
  {
   "cell_type": "code",
   "execution_count": 23,
   "id": "4527697d-4ae4-4c1c-ae35-7f7eff235605",
   "metadata": {},
   "outputs": [],
   "source": [
    "train_dataset, val_dataset = random_split(dataset, [train_size, val_size]) "
   ]
  },
  {
   "cell_type": "code",
   "execution_count": 24,
   "id": "c4d7ed03-25db-426e-bf48-c421baf447ae",
   "metadata": {},
   "outputs": [],
   "source": [
    "train_loader   =   DataLoader(train_dataset, batch_size=32, num_workers  =   8,   pin_memory = True,    shuffle=True)\n",
    "val_loader     =   DataLoader(val_dataset,   batch_size=32, num_workers  =   8,   pin_memory = True,    shuffle=True)   "
   ]
  },
  {
   "cell_type": "markdown",
   "id": "ef997cdd-2333-4fcf-897b-8e1a370dde28",
   "metadata": {},
   "source": [
    "<div span style=\"background-color:yellow;    color:red;      text-align:center;    padding:5px;\">\n",
    "<h2>  For Testing (Unseen Data)   </h2>\n",
    "</div>"
   ]
  },
  {
   "cell_type": "code",
   "execution_count": 46,
   "id": "aa909376-4f95-45bf-9f3c-1d47a82f58a3",
   "metadata": {},
   "outputs": [],
   "source": [
    "#dataset2       =   AUAIRDataset(all_images,  all_bboxes,      test=True,    transform  =  data_transform)"
   ]
  },
  {
   "cell_type": "code",
   "execution_count": 47,
   "id": "583a6865-6bb0-4b6d-a98d-85922e43b0fb",
   "metadata": {},
   "outputs": [],
   "source": [
    "#len(dataset2)"
   ]
  },
  {
   "cell_type": "code",
   "execution_count": 48,
   "id": "069dafd8-3e6d-415d-8138-5da0ce1afef9",
   "metadata": {},
   "outputs": [],
   "source": [
    "#test_loader   =   DataLoader(dataset2,  batch_size=16, num_workers  =   8,   pin_memory = True,   shuffle=True)"
   ]
  },
  {
   "cell_type": "code",
   "execution_count": null,
   "id": "d53f2b53-7e0a-4315-9d41-ac9277ce48e7",
   "metadata": {},
   "outputs": [],
   "source": []
  },
  {
   "cell_type": "markdown",
   "id": "4fdcaafa-5f09-4991-9e7f-37f453dad855",
   "metadata": {},
   "source": [
    "<div span style=\"background-color:yellow;    color:red;      text-align:center;    padding:5px;\">\n",
    "<h2>  Dimensions  </h2>\n",
    "</div>"
   ]
  },
  {
   "cell_type": "code",
   "execution_count": 49,
   "id": "811e5682-5d83-437b-a6d1-adc5b1744831",
   "metadata": {},
   "outputs": [],
   "source": [
    "for i, j in train_loader:\n",
    "    break"
   ]
  },
  {
   "cell_type": "code",
   "execution_count": 50,
   "id": "0baf1a02-a9cd-47f0-8e5c-e62b1737e614",
   "metadata": {},
   "outputs": [
    {
     "data": {
      "text/plain": [
       "torch.Size([64, 3, 480, 640])"
      ]
     },
     "execution_count": 50,
     "metadata": {},
     "output_type": "execute_result"
    }
   ],
   "source": [
    "i.shape"
   ]
  },
  {
   "cell_type": "code",
   "execution_count": null,
   "id": "ba5be47c-e0d8-423f-98fb-53dbff952575",
   "metadata": {},
   "outputs": [],
   "source": [
    "plt.imshow(i[0].reshape(480, 640, 3)) "
   ]
  },
  {
   "cell_type": "code",
   "execution_count": 51,
   "id": "c1eec666-e85f-4b91-94e7-e31092f083a7",
   "metadata": {},
   "outputs": [
    {
     "data": {
      "text/plain": [
       "torch.Size([64, 100, 5])"
      ]
     },
     "execution_count": 51,
     "metadata": {},
     "output_type": "execute_result"
    }
   ],
   "source": [
    "j.shape"
   ]
  },
  {
   "cell_type": "markdown",
   "id": "ea78e341-6d98-4aee-a844-efcc8b86e351",
   "metadata": {},
   "source": [
    "<div span style=\"background-color:yellow;    color:red;      text-align:center;    padding:10px;\">\n",
    "<h2>  Model </h2>\n",
    "</div>\n"
   ]
  },
  {
   "cell_type": "markdown",
   "id": "06064435-07ee-4d5c-baf5-3c00306f8bca",
   "metadata": {},
   "source": [
    "<div span style=\"background-color:yellow;    color:red;      text-align:center;    padding:5px;\">\n",
    "<h2>  Patch Embeddings </h2>\n",
    "</div>\n"
   ]
  },
  {
   "cell_type": "code",
   "execution_count": 25,
   "id": "73b680f5-9189-4688-be55-f1af9b4851fd",
   "metadata": {},
   "outputs": [],
   "source": [
    "class PatchEmbedding(nn.Module):\n",
    "    \n",
    "    def __init__(self, in_channels = 0, img_size= (0,0) , patch_size = 0, embed_dim = 0):\n",
    "        \n",
    "        self.patch_size  = patch_size\n",
    "        self.num_patches = (img_size[0] // patch_size) * (img_size[1] // patch_size)\n",
    "        \n",
    "        super().__init__()\n",
    "        \n",
    "        self.projection = nn.Sequential(\n",
    "\n",
    "            Rearrange('b c (h p1) (w p2) -> b (h w) (p1 p2 c)', p1=patch_size, p2=patch_size),\n",
    "            \n",
    "            nn.Linear(patch_size * patch_size * in_channels, embed_dim)\n",
    "        )\n",
    "\n",
    "    def forward(self, x: Tensor) -> Tensor:\n",
    "        x = self.projection(x)\n",
    "        \n",
    "        return x"
   ]
  },
  {
   "cell_type": "markdown",
   "id": "4f5125d2-8655-468f-a3b8-889fe5493d22",
   "metadata": {},
   "source": [
    "<div span style=\"background-color:yellow;    color:red;      text-align:center;    padding:5px;\">\n",
    "<h2>  ViT </h2>\n",
    "</div>"
   ]
  },
  {
   "cell_type": "code",
   "execution_count": 26,
   "id": "85eda2cd-95db-41c1-9121-70b7b90937d8",
   "metadata": {},
   "outputs": [],
   "source": [
    "class ViT(nn.Module):\n",
    "    \n",
    "    def __init__(self, ch=0, img_size=0, patch_size=0, num_classes=0, embed_dim=0, n_layers=0, mlp_ratio=0, dropout=0, heads=0, num_queries=0):\n",
    "        \n",
    "        super(ViT, self).__init__()\n",
    "\n",
    "#---------------------------------------------------------------------------------------------------------------------------------------#\n",
    "        \n",
    "        self.patch_embedding  =   PatchEmbedding(in_channels   =   ch,\n",
    "                                                  img_size     =   img_size,\n",
    "                                                  patch_size   =   patch_size,\n",
    "                                                  embed_dim    =   embed_dim)\n",
    "\n",
    "        self.num_patches      =   self.patch_embedding.num_patches \n",
    "#---------------------------------------------------------------------------------------------------------------------------------------#\n",
    "        #self.cls_token        =   nn.Parameter(torch.zeros(1, 1, embed_dim))\n",
    "#---------------------------------------------------------------------------------------------------------------------------------------#        \n",
    "        self.pos_embedding    =   nn.Parameter(torch.zeros(1, self.num_patches , embed_dim))\n",
    "#---------------------------------------------------------------------------------------------------------------------------------------#\n",
    "        self.pos_drop         =   nn.Dropout(dropout)\n",
    "#---------------------------------------------------------------------------------------------------------------------------------------#\n",
    "        # Transformer Encoder\n",
    "               \n",
    "        encoder_layer = nn.TransformerEncoderLayer(d_model          =  embed_dim,\n",
    "                                                   nhead            =  heads,\n",
    "                                                   dim_feedforward  =  int(embed_dim * mlp_ratio),\n",
    "                                                   dropout          =  dropout,\n",
    "                                                   activation       =  'gelu',\n",
    "                                                   batch_first      =  True)\n",
    "\n",
    "        \n",
    "        self.transformer_encoder = nn.TransformerEncoder(encoder_layer, num_layers=n_layers)\n",
    "\n",
    "#---------------------------------------------------------------------------------------------------------------------------------------#\n",
    "        \n",
    "        self.query_embed      =   nn.Embedding(num_queries, embed_dim)\n",
    "        \n",
    "        # Transformer decoder\n",
    "        \n",
    "        decoder_layer = nn.TransformerDecoderLayer(d_model      =   embed_dim,\n",
    "                                                   nhead        =   heads,\n",
    "                                                   dropout      =   dropout,\n",
    "                                                   activation   =   'gelu',\n",
    "                                                   batch_first  =    True)\n",
    "            \n",
    "        self.decoder = nn.TransformerDecoder(decoder_layer, num_layers=n_layers)\n",
    "        \n",
    "#---------------------------------------------------------------------------------------------------------------------------------------#\n",
    "        \n",
    "        # Prediction heads:\n",
    "        # One head for bounding box regression: output 4 values (cx, cy, w, h) normalized to [0, 1].\n",
    "        \n",
    "        self.bbox_head        =   nn.Linear(embed_dim, 4) \n",
    "        \n",
    "        # One head for classification: output probabilities for each class (plus 1 for \"no object\" if desired)\n",
    "        self.class_head       =   nn.Linear(embed_dim, num_classes + 1)\n",
    "\n",
    "#---------------------------------------------------------------------------------------------------------------------------------------#\n",
    "        self.norm             =   nn.LayerNorm(embed_dim)\n",
    "#---------------------------------------------------------------------------------------------------------------------------------------#\n",
    "        # Initialize weights (a simple approach; for production consider a better init scheme).\n",
    "        self._init_weights()\n",
    "        \n",
    "#---------------------------------------------------------------------------------------------------------------------------------------#        \n",
    "        \n",
    "    def _init_weights(self):\n",
    "\n",
    "        nn.init.trunc_normal_(self.pos_embedding, std=0.02)\n",
    "        \n",
    "        nn.init.zeros_(self.bbox_head.bias)\n",
    "        nn.init.trunc_normal_(self.bbox_head.weight, std=0.02)\n",
    "\n",
    "        nn.init.zeros_(self.class_head.bias)\n",
    "        nn.init.trunc_normal_(self.class_head.weight, std=0.02)\n",
    "        \n",
    "#---------------------------------------------------------------------------------------------------------------------------------------#        \n",
    "        \n",
    "    def forward(self, x):\n",
    "        \n",
    "        B = x.shape[0]\n",
    "        \n",
    "        x = self.patch_embedding(x)                      # B x 3 x 224 x 224    ->   B, num_patches, embed_dim  \n",
    "        \n",
    "        \n",
    "        x = x + self.pos_embedding                       #  Add positional embeddings\n",
    "        x = self.pos_drop(x)\n",
    "        \n",
    "        x = self.transformer_encoder(x)                  # process transformer layers\n",
    "        x = self.norm(x)\n",
    "        \n",
    "        # Prepare object queries: shape [num_queries, B, embed_dim]\n",
    "        queries = self.query_embed.weight.unsqueeze(1).repeat(1, B, 1)\n",
    "        \n",
    "        decoded = self.decoder(tgt=queries.transpose(0, 1), memory=x) \n",
    "        \n",
    "        \n",
    "        # Get predictions\n",
    "        bbox_preds  = self.bbox_head(decoded).sigmoid()   # normalize coordinates\n",
    "        class_preds = self.class_head(decoded)           # raw logits\n",
    "        \n",
    "        return bbox_preds, class_preds\n"
   ]
  },
  {
   "cell_type": "markdown",
   "id": "bef69272-d29d-4428-b96c-11a7bb9e5b2b",
   "metadata": {
    "jp-MarkdownHeadingCollapsed": true
   },
   "source": [
    "<div span style=\"background-color:yellow;    color:red;      text-align:center;    padding:5px;\">\n",
    "<h2>  Checking the Dimensions </h2>\n",
    "</div>"
   ]
  },
  {
   "cell_type": "code",
   "execution_count": null,
   "id": "53751806-224f-4438-9768-b016663bc3de",
   "metadata": {},
   "outputs": [],
   "source": [
    "if 0:\n",
    "    m   =   ViT(ch=3, img_size=224, patch_size=16, num_classes=8, embed_dim=768, n_layers=6, mlp_ratio=4, dropout=0.2, heads=8, num_queries=100)"
   ]
  },
  {
   "cell_type": "code",
   "execution_count": null,
   "id": "42223bb7-0860-4401-8604-546684abdf24",
   "metadata": {},
   "outputs": [],
   "source": [
    "if 0:\n",
    "    dummy   =   torch.zeros(8, 3, 224, 224)"
   ]
  },
  {
   "cell_type": "code",
   "execution_count": null,
   "id": "7946e6ee-fbeb-418c-ae3d-1086cc5044a5",
   "metadata": {},
   "outputs": [],
   "source": [
    "if 0:\n",
    "    x       =  m.forward(i[\"image\"])  "
   ]
  },
  {
   "cell_type": "code",
   "execution_count": null,
   "id": "27257d5f-b353-40ad-a78a-a5f71f832cff",
   "metadata": {},
   "outputs": [],
   "source": [
    "if 0:\n",
    "    print(x[0].shape),  print(x[1].shape)"
   ]
  },
  {
   "cell_type": "markdown",
   "id": "7a645fb8-5f81-4a83-9d66-1afcabef8b6c",
   "metadata": {},
   "source": [
    "<div span style=\"background-color:yellow;    color:red;      text-align:center;    padding:5px;\">\n",
    "<h2>  Employ GPU</h2>\n",
    "</div>"
   ]
  },
  {
   "cell_type": "code",
   "execution_count": 27,
   "id": "5bd3b354-73a2-4df5-9af0-7698241676ce",
   "metadata": {},
   "outputs": [],
   "source": [
    "device  = torch.device(\"cuda\" if torch.cuda.is_available() else \"cpu\")"
   ]
  },
  {
   "cell_type": "code",
   "execution_count": 28,
   "id": "f680eb70-2d96-40e1-934a-1e97bece03b6",
   "metadata": {},
   "outputs": [
    {
     "data": {
      "text/plain": [
       "device(type='cuda')"
      ]
     },
     "execution_count": 28,
     "metadata": {},
     "output_type": "execute_result"
    }
   ],
   "source": [
    "device"
   ]
  },
  {
   "cell_type": "code",
   "execution_count": 29,
   "id": "dcf73100-70b3-47d7-9f1e-7b448bab0ecd",
   "metadata": {},
   "outputs": [
    {
     "data": {
      "text/plain": [
       "40.0"
      ]
     },
     "execution_count": 29,
     "metadata": {},
     "output_type": "execute_result"
    }
   ],
   "source": [
    "640 / 16"
   ]
  },
  {
   "cell_type": "code",
   "execution_count": 30,
   "id": "39dfb21f-bcac-4166-9c7d-e4f48bb95800",
   "metadata": {},
   "outputs": [
    {
     "data": {
      "text/plain": [
       "30.0"
      ]
     },
     "execution_count": 30,
     "metadata": {},
     "output_type": "execute_result"
    }
   ],
   "source": [
    "480 / 16"
   ]
  },
  {
   "cell_type": "code",
   "execution_count": 31,
   "id": "9c4e632c-a43a-474b-abcd-768a0c7b0b7d",
   "metadata": {},
   "outputs": [],
   "source": [
    "model   =  ViT(ch=3, img_size= (480, 640), patch_size=16, num_classes=8, embed_dim=256, n_layers=6, mlp_ratio=4, dropout=0.2, heads=8, num_queries=100).to(device)"
   ]
  },
  {
   "cell_type": "code",
   "execution_count": 32,
   "id": "960e0575-bbc5-43a6-a572-c6c9f37070c2",
   "metadata": {},
   "outputs": [
    {
     "name": "stdout",
     "output_type": "stream",
     "text": [
      "Number of trainable parameters in the model: 14744589\n"
     ]
    }
   ],
   "source": [
    "num_params = sum(p.numel() for p in model.parameters() if p.requires_grad)\n",
    "\n",
    "print(\"Number of trainable parameters in the model:\", num_params)"
   ]
  },
  {
   "cell_type": "code",
   "execution_count": 33,
   "id": "b1f1c3a6-022a-4c0e-a614-715a420c1f97",
   "metadata": {},
   "outputs": [
    {
     "ename": "SyntaxError",
     "evalue": "invalid syntax (1561776530.py, line 1)",
     "output_type": "error",
     "traceback": [
      "\u001b[0;36m  Cell \u001b[0;32mIn[33], line 1\u001b[0;36m\u001b[0m\n\u001b[0;31m    15 604 749\u001b[0m\n\u001b[0m       ^\u001b[0m\n\u001b[0;31mSyntaxError\u001b[0m\u001b[0;31m:\u001b[0m invalid syntax\n"
     ]
    }
   ],
   "source": [
    "15 604 749"
   ]
  },
  {
   "cell_type": "markdown",
   "id": "4d259514-7ed2-44f1-b7e6-31ae8cdc9c77",
   "metadata": {},
   "source": [
    "<div span style=\"background-color:yellow;    color:red;      text-align:center;    padding:5px;\">\n",
    "<h2>  To Save Weights and Losses : </h2>\n",
    "</div>"
   ]
  },
  {
   "cell_type": "code",
   "execution_count": 34,
   "id": "79bb52f6-5bcb-4fc0-8850-9e53a1064933",
   "metadata": {},
   "outputs": [],
   "source": [
    "path_model   =  \"/home/turgay/Turgay/Academic/2024-2025/Spring/Transformers/Assignments/Assignment_2/weights/Transformer_weight_1.pth\"\n",
    "path_losses  =  \"/home/turgay/Turgay/Academic/2024-2025/Spring/Transformers/Assignments/Assignment_2/weights/Transformer_losses_1.pth\""
   ]
  },
  {
   "cell_type": "code",
   "execution_count": 35,
   "id": "e8994d1c-a829-4299-be70-9586104373d6",
   "metadata": {},
   "outputs": [],
   "source": [
    "if 1:\n",
    "    \n",
    "    torch.save({\n",
    "            'model_state_dict': model.state_dict(),\n",
    "            'best_loss'       : 9999999999999,\n",
    "        }, path_model)   "
   ]
  },
  {
   "cell_type": "code",
   "execution_count": 36,
   "id": "b23b2f2f-5527-4a1c-869a-974b5c3ffe36",
   "metadata": {},
   "outputs": [],
   "source": [
    "if 1:\n",
    "    \n",
    "    torch.save({\n",
    "        \n",
    "            'train_loss'    : [],\n",
    "            'val_loss'      : [], \n",
    "    \n",
    "            'epochs'        : [],\n",
    "    \n",
    "        }, path_losses)    "
   ]
  },
  {
   "cell_type": "code",
   "execution_count": 37,
   "id": "b8a37900-3496-4487-9b72-429ed0c87a8c",
   "metadata": {},
   "outputs": [],
   "source": [
    "if 1:\n",
    "    \n",
    "    checkpoint_weights   =   torch.load(path_model, weights_only=True) \n",
    "    checkpoint_losses    =   torch.load(path_losses, weights_only=True)  \n",
    "    \n",
    "    model.load_state_dict(checkpoint_weights['model_state_dict'])\n",
    "    \n",
    "    best_loss       =  checkpoint_weights['best_loss'] \n",
    "    train_loss      =  checkpoint_losses['train_loss']\n",
    "    val_loss        =  checkpoint_losses['val_loss']\n",
    "    \n",
    "    epochs          =  checkpoint_losses['epochs'] "
   ]
  },
  {
   "cell_type": "markdown",
   "id": "fcce11b4-cc0b-4da8-944c-2780f5ae6f55",
   "metadata": {},
   "source": [
    "<div span style=\"background-color:yellow;    color:red;      text-align:center;    padding:5px;\">\n",
    "<h2>  Training : </h2>\n",
    "</div>"
   ]
  },
  {
   "cell_type": "code",
   "execution_count": 38,
   "id": "11e713b7-4145-4adb-a53d-4f0b1835f362",
   "metadata": {
    "jupyter": {
     "source_hidden": true
    }
   },
   "outputs": [],
   "source": [
    "def train2(num_epochs=0, patience=0, counter=0, learning_rate=0,     best_loss=best_loss):\n",
    "    \n",
    "\n",
    "    optimizer = AdamW(model.parameters(), lr=learning_rate)\n",
    "    \n",
    "    run.log({\"LRate\": learning_rate})  \n",
    "    \n",
    "    scheduler = torch.optim.lr_scheduler.StepLR(optimizer, step_size=20, gamma=0.5) \n",
    "    scaler    = GradScaler()\n",
    "\n",
    "    for epoch in range(num_epochs):\n",
    "    \n",
    "        model.train()\n",
    "        \n",
    "        total_loss_train = 0\n",
    "        \n",
    "        for batch in tqdm.tqdm(train_loader):\n",
    "            \n",
    "            inputs   =   batch[\"image\"]\n",
    "            labels   =   batch[\"bbox\"]      #  top, left, height, width, class \n",
    "            \n",
    "            inputs, labels = inputs.to(device), labels.to(device)\n",
    "    \n",
    "            optimizer.zero_grad()\n",
    "\n",
    "            with autocast(device_type='cuda'):\n",
    "                \n",
    "                bbox_preds, class_preds = model(inputs)\n",
    "\n",
    "                loss(labels[\"top\"], )\n",
    "                \n",
    "            scaler.scale(loss).backward()\n",
    "            #torch.nn.utils.clip_grad_norm_(model.parameters(), max_norm=1.0)  \n",
    "            scaler.step(optimizer)\n",
    "            scaler.update()\n",
    "    \n",
    "            total_loss_train += loss.item()\n",
    "\n",
    "        total_loss_train     /= len(train_loader)\n",
    "\n",
    "        train_loss.append(total_loss_train)\n",
    "    \n",
    "\n",
    "        # Log metrics to wandb.\n",
    "        run.log({\"Train Loss\": total_loss_train})\n",
    "    \n",
    "\n",
    "        if torch.isnan(torch.tensor(total_loss_train)):\n",
    "            print(\"NaN value encountered!\")\n",
    "            break\n",
    "\n",
    "        print(\"-------------------------------------------------------------------------------\")\n",
    "        print(f\"|  Epoch [{epoch+1}/{num_epochs}]          |        Total Train Loss : {total_loss_train:.4f}           |\")\n",
    "        print(\"-------------------------------------------------------------------------------\")\n",
    "\n",
    "#-----------------------------------------------------------------------------------------------\n",
    "\n",
    "        \n",
    "        model.eval()\n",
    "\n",
    "        total_loss_val      =   0.0\n",
    "\n",
    "        with torch.no_grad():\n",
    "            for batch in tqdm.tqdm(val_loader, desc=f\"Epoch {epoch+1}/{num_epochs}\"):\n",
    "\n",
    "                inputs   =   batch[\"input_ids\"]\n",
    "                labels   =   batch[\"labels\"]\n",
    "            \n",
    "                inputs, labels = inputs.to(device), labels.to(device)\n",
    "        \n",
    "\n",
    "                logits, loss = model(inputs, labels)\n",
    "\n",
    "                total_loss_val     += loss.item()\n",
    "\n",
    "        total_loss_val     /= len(val_loader)\n",
    "\n",
    "        val_loss.append(total_loss_val)\n",
    "\n",
    "        run.log({\"Val Loss\": total_loss_val})\n",
    "\n",
    "        print(\"-------------------------------------------------------------------------------\")\n",
    "        print(f\"|  Epoch [{epoch+1}/{num_epochs}]         |       Total Validation Loss : {total_loss_val:.4f}           |\")\n",
    "        print(\"-------------------------------------------------------------------------------\")\n",
    "\n",
    "        \n",
    "        if len(val_loss) >= 2:\n",
    "            res = ((val_loss[-2] - val_loss[-1]) / val_loss[-2]) * 100\n",
    "            print(\"-------------------------------------------------------------------------------\")\n",
    "            print(f\"|              Change in loss is      %   {res:.2f}                               |\")\n",
    "            print(\"-------------------------------------------------------------------------------\")\n",
    "\n",
    "        if  total_loss_val < best_loss:\n",
    "            \n",
    "            print(\"*************...saving best model *************\")\n",
    "            \n",
    "            best_loss = total_loss_val\n",
    "            \n",
    "            torch.save({\n",
    "                'model_state_dict': model.state_dict(),\n",
    "                'best_loss'       : best_loss,\n",
    "            }, path_model)\n",
    "             \n",
    "\n",
    "        epochs.append(epoch)\n",
    "\n",
    "        torch.save({\n",
    "        \n",
    "            'train_loss': train_loss,\n",
    "            'val_loss': val_loss,\n",
    "            'epochs': epochs,\n",
    "        }, path_losses)\n",
    "\n",
    "        if (len(val_loss) >= 2) and (val_loss[-2] > val_loss[-1]):\n",
    "            counter = 0\n",
    "        else:\n",
    "            counter += 1\n",
    "            if counter >= patience:\n",
    "                print(\"Early stopping!\")\n",
    "                break\n",
    "\n",
    "        scheduler.step()  \n",
    "        torch.cuda.empty_cache()"
   ]
  },
  {
   "cell_type": "code",
   "execution_count": null,
   "id": "a18ad209-f1e8-4688-891f-cd593e24b600",
   "metadata": {},
   "outputs": [],
   "source": []
  },
  {
   "cell_type": "code",
   "execution_count": 39,
   "id": "fd1ee1b2-e501-49fb-a7f3-521e8aea0331",
   "metadata": {},
   "outputs": [],
   "source": [
    "def train(num_epochs=0, patience=0, counter=0, learning_rate=0, best_loss=best_loss):\n",
    "    \n",
    "    optimizer       =   AdamW(model.parameters(), lr=learning_rate)\n",
    "    \n",
    "    run.log({\"LRate\": learning_rate})  \n",
    "    \n",
    "    scheduler       =   torch.optim.lr_scheduler.StepLR(optimizer, step_size=20, gamma=0.5) \n",
    "    scaler          =   GradScaler()\n",
    "\n",
    "    for epoch in range(num_epochs):\n",
    "    \n",
    "        model.train()\n",
    "        \n",
    "        total_loss_train   =   0\n",
    "        \n",
    "        for img, bbox in tqdm.tqdm(train_loader):\n",
    "            \n",
    "            img       =     img.to(device)\n",
    "            bbox      =     bbox.to(device) \n",
    "\n",
    "            run.log({\"Batch_size\": img.shape[0]})   \n",
    "    \n",
    "            optimizer.zero_grad()\n",
    "\n",
    "            with autocast(device_type='cuda'):\n",
    "                \n",
    "                bbox_preds, class_preds   =   model(img)\n",
    "                gt_bbox                   =   bbox[:, :, :4]\n",
    "                gt_class                  =   bbox[:, :, 4].long() \n",
    "                loss_bbox                 =   F.l1_loss(bbox_preds[gt_class != 9], gt_bbox[gt_class != 9], reduction='mean')\n",
    "                loss_cls                  =   F.cross_entropy(class_preds.reshape(-1, class_preds.shape[-1]), gt_class.reshape(-1), ignore_index=9)\n",
    "                loss                      =   loss_bbox + loss_cls\n",
    "                \n",
    "            scaler.scale(loss).backward()\n",
    "            scaler.step(optimizer)\n",
    "            scaler.update()\n",
    "    \n",
    "            total_loss_train   +=   loss.item()\n",
    "\n",
    "        total_loss_train   /=   len(train_loader)\n",
    "\n",
    "        train_loss.append(total_loss_train)\n",
    "    \n",
    "        run.log({\"Train Loss\": total_loss_train})\n",
    "    \n",
    "        if torch.isnan(torch.tensor(total_loss_train)):\n",
    "            print(\"NaN value encountered!\")\n",
    "            break\n",
    "\n",
    "        print(\"-------------------------------------------------------------------------------\")\n",
    "        print(f\"|  Epoch [{epoch+1}/{num_epochs}]          |        Total Train Loss : {total_loss_train:.4f}           |\")\n",
    "        print(\"-------------------------------------------------------------------------------\")\n",
    "\n",
    "#-----------------------------------------------------------------------------------------------\n",
    "        \n",
    "        model.eval()\n",
    "\n",
    "        total_loss_val   =   0.0\n",
    "\n",
    "        with torch.no_grad():\n",
    "            \n",
    "            for img, bbox in tqdm.tqdm(val_loader, desc=f\"Epoch {epoch+1}/{num_epochs}\"):\n",
    "\n",
    "                img       =     img.to(device)\n",
    "                bbox      =     bbox.to(device) \n",
    "            \n",
    "                with autocast(device_type='cuda'):\n",
    "                    \n",
    "                    bbox_preds, class_preds   =   model(img)\n",
    "                    gt_bbox                   =   bbox[:, :, :4]\n",
    "                    gt_class                  =   bbox[:, :, 4].long() \n",
    "                    loss_bbox                 =   F.l1_loss(bbox_preds[gt_class != 9], gt_bbox[gt_class != 9], reduction='mean')\n",
    "                    loss_cls                  =   F.cross_entropy(class_preds.reshape(-1, class_preds.shape[-1]), gt_class.reshape(-1), ignore_index=9)\n",
    "                    loss                      =   loss_bbox + loss_cls\n",
    "    \n",
    "                total_loss_val   +=   loss.item()\n",
    "\n",
    "        total_loss_val   /=   len(val_loader)\n",
    "\n",
    "        val_loss.append(total_loss_val)\n",
    "\n",
    "        run.log({\"Val Loss\": total_loss_val})\n",
    "\n",
    "        print(\"-------------------------------------------------------------------------------\")\n",
    "        print(f\"|  Epoch [{epoch+1}/{num_epochs}]         |       Total Validation Loss : {total_loss_val:.4f}           |\")\n",
    "        print(\"-------------------------------------------------------------------------------\")\n",
    "\n",
    "        if len(val_loss) >= 2:\n",
    "            res       =   ((val_loss[-2] - val_loss[-1]) / val_loss[-2]) * 100\n",
    "            print(\"-------------------------------------------------------------------------------\")\n",
    "            print(f\"|              Change in loss is      %   {res:.2f}                               |\")\n",
    "            print(\"-------------------------------------------------------------------------------\")\n",
    "\n",
    "        if total_loss_val < best_loss:\n",
    "            \n",
    "            print(\"*************...saving best model *************\")\n",
    "            \n",
    "            best_loss       =   total_loss_val\n",
    "            \n",
    "            torch.save({\n",
    "                'model_state_dict': model.state_dict(),\n",
    "                'best_loss'       : best_loss,\n",
    "            }, path_model)\n",
    "             \n",
    "\n",
    "        epochs.append(epoch)\n",
    "\n",
    "        torch.save({\n",
    "            'train_loss': train_loss,\n",
    "            'val_loss': val_loss,\n",
    "            'epochs': epochs,\n",
    "        }, path_losses)\n",
    "\n",
    "        if (len(val_loss) >= 2) and (val_loss[-2] > val_loss[-1]):\n",
    "            counter       =   0\n",
    "        else:\n",
    "            counter       +=   1\n",
    "            if counter >= patience:\n",
    "                print(\"Early stopping!\")\n",
    "                break\n",
    "\n",
    "        scheduler.step()  \n",
    "        torch.cuda.empty_cache()\n"
   ]
  },
  {
   "cell_type": "code",
   "execution_count": 40,
   "id": "979442a9-97ec-419a-befd-a07663a6d123",
   "metadata": {},
   "outputs": [],
   "source": [
    "torch.cuda.empty_cache()"
   ]
  },
  {
   "cell_type": "code",
   "execution_count": null,
   "id": "5ebe1695-8dad-4efa-8659-db6e12c33f38",
   "metadata": {
    "scrolled": true
   },
   "outputs": [
    {
     "name": "stderr",
     "output_type": "stream",
     "text": [
      " 22%|██▏       | 189/844 [01:28<04:51,  2.24it/s]"
     ]
    }
   ],
   "source": [
    "train(num_epochs=20, patience=5, counter=0, learning_rate=0.0001, best_loss=best_loss)"
   ]
  },
  {
   "cell_type": "markdown",
   "id": "851949d8-e7a4-4ffc-968c-e29997c66819",
   "metadata": {},
   "source": [
    "<div span style=\"background-color:yellow;    color:red;      text-align:center;    padding:5px;\">\n",
    "<h2>  Accuracy Score on Unseen data : </h2>\n",
    "</div>"
   ]
  },
  {
   "cell_type": "code",
   "execution_count": null,
   "id": "bea0605d-e28e-4d07-9b1f-0df5cdaa2bef",
   "metadata": {},
   "outputs": [],
   "source": [
    "model  =  model.to(device)\n",
    "\n",
    "model.eval()\n",
    "\n",
    "all_preds, all_labels = [], []\n",
    "\n",
    "for batch in tqdm.tqdm(test_loader):\n",
    "        \n",
    "    inputs   =   batch[\"input_ids\"]\n",
    "    labels   =   batch[\"labels\"]\n",
    "    \n",
    "    inputs, labels = inputs.to(device), labels.to(device)\n",
    "\n",
    "    with torch.no_grad():\n",
    "        logits, _ = model(inputs)\n",
    "        preds     = torch.argmax(logits, dim=1).cpu().numpy()\n",
    "\n",
    "    all_preds.extend(preds)\n",
    "    all_labels.extend(labels.cpu().numpy())\n",
    "\n",
    "\n",
    "acc  =  accuracy_score(all_labels, all_preds)\n",
    "\n",
    "\n",
    "print(f\"Accuracy: {acc:.4f}\")\n",
    "\n",
    "#run.log({\"acc\": acc})"
   ]
  },
  {
   "cell_type": "markdown",
   "id": "5307a629-28db-4631-97c2-51b599bbec7d",
   "metadata": {},
   "source": [
    "<div span style=\"background-color:yellow;    color:red;      text-align:center;    padding:5px;\">\n",
    "<h2>  Confusion Matrix</h2>\n",
    "</div>"
   ]
  },
  {
   "cell_type": "code",
   "execution_count": null,
   "id": "48c994e3-02ba-4bb0-a5f1-9c68312d8606",
   "metadata": {},
   "outputs": [],
   "source": []
  },
  {
   "cell_type": "markdown",
   "id": "c4594625-bc6d-40fe-bb1b-0c28603702d1",
   "metadata": {},
   "source": [
    "<div span style=\"background-color:yellow;    color:red;      text-align:center;    padding:5px;\">\n",
    "<h2>  Heatmap</h2>\n",
    "</div>"
   ]
  },
  {
   "cell_type": "code",
   "execution_count": null,
   "id": "46c28e09-819c-430a-baee-685f53cc17ce",
   "metadata": {},
   "outputs": [],
   "source": []
  },
  {
   "cell_type": "code",
   "execution_count": null,
   "id": "54b591af-a8ea-41a1-ad80-a45d804894f7",
   "metadata": {},
   "outputs": [],
   "source": []
  },
  {
   "cell_type": "markdown",
   "id": "c8afd358-4f32-4b69-b8b2-25d61fbf881f",
   "metadata": {},
   "source": [
    "<div span style=\"background-color:yellow;    color:red;      text-align:center;    padding:5px;\">\n",
    "<h2>  Sync for WANDB</h2>\n",
    "</div>"
   ]
  },
  {
   "cell_type": "code",
   "execution_count": null,
   "id": "f5ff60ce-0cd6-4de3-bf37-14260195a421",
   "metadata": {},
   "outputs": [],
   "source": [
    "#run.finish() "
   ]
  },
  {
   "cell_type": "code",
   "execution_count": null,
   "id": "b2c71cef-138d-4560-9044-a048bd2b620c",
   "metadata": {},
   "outputs": [],
   "source": []
  }
 ],
 "metadata": {
  "kernelspec": {
   "display_name": "Python 3 (ipykernel)",
   "language": "python",
   "name": "python3"
  },
  "language_info": {
   "codemirror_mode": {
    "name": "ipython",
    "version": 3
   },
   "file_extension": ".py",
   "mimetype": "text/x-python",
   "name": "python",
   "nbconvert_exporter": "python",
   "pygments_lexer": "ipython3",
   "version": "3.8.20"
  }
 },
 "nbformat": 4,
 "nbformat_minor": 5
}
