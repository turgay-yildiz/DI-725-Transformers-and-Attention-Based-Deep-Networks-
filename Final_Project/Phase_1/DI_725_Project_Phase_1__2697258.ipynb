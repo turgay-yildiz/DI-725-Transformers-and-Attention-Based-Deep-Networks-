{
 "cells": [
  {
   "cell_type": "markdown",
   "id": "1a24157c-3ff2-4a66-8dcf-37d2085a776d",
   "metadata": {},
   "source": [
    "<div style=\"background-color:yellow; text-align:center; text-align:center; padding:40px;\">\n",
    "<h1  style=\"color:red;\" > DI-725 : Transformers and Attention-Based Deep Networks </h1>   \n",
    "<h2  style=\"color:red;\" > Assignment - 2 </h2>\n",
    "<br>\n",
    "<br>\n",
    "<h4  style=\"color:red;\" >Turgay Yıldız</h4>\n",
    "<br>\n",
    "<h4  style=\"color:red;\" >Graduate School of Informatics,  Middle East Technical University (METU)</h4>\n",
    "</div>\n"
   ]
  },
  {
   "cell_type": "markdown",
   "id": "82bf8e0a-6828-4a7e-8dd0-dc184062329e",
   "metadata": {},
   "source": [
    "<div span style=\"background-color:yellow;    color:red;      text-align:center;    padding:5px;\">\n",
    "<h2>  First Import the Relevant Packages  </h2>\n",
    "</div>"
   ]
  },
  {
   "cell_type": "code",
   "execution_count": 1,
   "id": "68c533b0-e398-4508-bba6-c8271e76a9f0",
   "metadata": {
    "scrolled": true
   },
   "outputs": [],
   "source": [
    "import torch\n",
    "import torch.nn as nn\n",
    "from torch.nn import functional as F\n",
    "from torch.utils.data import Dataset, DataLoader, random_split\n",
    "from torchvision import transforms\n",
    "from torch import Tensor\n",
    "import torchvision\n",
    "\n",
    "from nltk.tokenize import word_tokenize\n",
    "\n",
    "import pandas as pd\n",
    "import matplotlib.pyplot as plt\n",
    "import matplotlib.patches as patches\n",
    "import seaborn as sns\n",
    "import numpy as np\n",
    "\n",
    "from torch.optim import AdamW\n",
    "\n",
    "import json\n",
    "\n",
    "from sklearn.metrics import accuracy_score, confusion_matrix, classification_report\n",
    "import tqdm\n",
    "from PIL import Image\n",
    "\n",
    "import wandb\n",
    "import os\n",
    "\n",
    "from torch.amp import GradScaler, autocast"
   ]
  },
  {
   "cell_type": "code",
   "execution_count": 2,
   "id": "f343f0ef-ba51-4b1b-bfa9-db464e6eafdd",
   "metadata": {},
   "outputs": [
    {
     "name": "stdout",
     "output_type": "stream",
     "text": [
      "True\n"
     ]
    }
   ],
   "source": [
    "print(torch.cuda.is_available())"
   ]
  },
  {
   "cell_type": "markdown",
   "id": "a5c67c80-67be-49e0-aec9-2255f0367d42",
   "metadata": {},
   "source": [
    "<div span style=\"background-color:yellow;    color:red;      text-align:center;    padding:5px;\">\n",
    "<h2>  WANDB </h2>\n",
    "</div>"
   ]
  },
  {
   "cell_type": "code",
   "execution_count": 3,
   "id": "0a06207e-5a84-42b3-b97d-3e46c5e66b21",
   "metadata": {},
   "outputs": [
    {
     "name": "stdout",
     "output_type": "stream",
     "text": [
      "/home/turgay/Turgay/Academic/2024-2025/Spring/Transformers/Project/Phase_1\n"
     ]
    }
   ],
   "source": [
    "print(os.getcwd())"
   ]
  },
  {
   "cell_type": "code",
   "execution_count": 6,
   "id": "2765b4fc-84b7-40cd-be07-cc9c4f2acb31",
   "metadata": {},
   "outputs": [],
   "source": [
    "os.environ[\"WANDB_NOTEBOOK_NAME\"] = \"DI_725_Project_Phase_1__2697258.ipynb\" "
   ]
  },
  {
   "cell_type": "code",
   "execution_count": 9,
   "id": "65f40d6a-6dc5-4c5f-9342-fee91ff1876b",
   "metadata": {},
   "outputs": [
    {
     "data": {
      "text/html": [],
      "text/plain": [
       "<IPython.core.display.HTML object>"
      ]
     },
     "metadata": {},
     "output_type": "display_data"
    },
    {
     "data": {
      "text/html": [
       " View run <strong style=\"color:#cdcd00\">different-breeze-2</strong> at: <a href='https://wandb.ai/DI_725___Final_Project/Phase_1/runs/mgcbgbo2' target=\"_blank\">https://wandb.ai/DI_725___Final_Project/Phase_1/runs/mgcbgbo2</a><br> View project at: <a href='https://wandb.ai/DI_725___Final_Project/Phase_1' target=\"_blank\">https://wandb.ai/DI_725___Final_Project/Phase_1</a><br>Synced 5 W&B file(s), 0 media file(s), 0 artifact file(s) and 0 other file(s)"
      ],
      "text/plain": [
       "<IPython.core.display.HTML object>"
      ]
     },
     "metadata": {},
     "output_type": "display_data"
    },
    {
     "data": {
      "text/html": [
       "Find logs at: <code>./wandb/run-20250418_171519-mgcbgbo2/logs</code>"
      ],
      "text/plain": [
       "<IPython.core.display.HTML object>"
      ]
     },
     "metadata": {},
     "output_type": "display_data"
    }
   ],
   "source": [
    "wandb.finish() "
   ]
  },
  {
   "cell_type": "code",
   "execution_count": 8,
   "id": "365eb0cb-0624-426b-9195-a74fc334fda1",
   "metadata": {},
   "outputs": [
    {
     "data": {
      "text/html": [
       "Changes to your `wandb` environment variables will be ignored because your `wandb` session has already started. For more information on how to modify your settings with `wandb.init()` arguments, please refer to <a href='https://wandb.me/wandb-init' target=\"_blank\">the W&B docs</a>."
      ],
      "text/plain": [
       "<IPython.core.display.HTML object>"
      ]
     },
     "metadata": {},
     "output_type": "display_data"
    },
    {
     "data": {
      "text/html": [],
      "text/plain": [
       "<IPython.core.display.HTML object>"
      ]
     },
     "metadata": {},
     "output_type": "display_data"
    },
    {
     "data": {
      "text/html": [
       " View run <strong style=\"color:#cdcd00\">dazzling-terrain-1</strong> at: <a href='https://wandb.ai/DI_725___Final_Project/Phase_1/runs/162hw252' target=\"_blank\">https://wandb.ai/DI_725___Final_Project/Phase_1/runs/162hw252</a><br> View project at: <a href='https://wandb.ai/DI_725___Final_Project/Phase_1' target=\"_blank\">https://wandb.ai/DI_725___Final_Project/Phase_1</a><br>Synced 5 W&B file(s), 0 media file(s), 0 artifact file(s) and 0 other file(s)"
      ],
      "text/plain": [
       "<IPython.core.display.HTML object>"
      ]
     },
     "metadata": {},
     "output_type": "display_data"
    },
    {
     "data": {
      "text/html": [
       "Find logs at: <code>./wandb/run-20250418_171452-162hw252/logs</code>"
      ],
      "text/plain": [
       "<IPython.core.display.HTML object>"
      ]
     },
     "metadata": {},
     "output_type": "display_data"
    },
    {
     "data": {
      "text/html": [
       "Tracking run with wandb version 0.19.9"
      ],
      "text/plain": [
       "<IPython.core.display.HTML object>"
      ]
     },
     "metadata": {},
     "output_type": "display_data"
    },
    {
     "data": {
      "text/html": [
       "Run data is saved locally in <code>/home/turgay/Turgay/Academic/2024-2025/Spring/Transformers/Project/Phase_1/wandb/run-20250418_171519-mgcbgbo2</code>"
      ],
      "text/plain": [
       "<IPython.core.display.HTML object>"
      ]
     },
     "metadata": {},
     "output_type": "display_data"
    },
    {
     "data": {
      "text/html": [
       "Syncing run <strong><a href='https://wandb.ai/DI_725___Final_Project/Phase_1/runs/mgcbgbo2' target=\"_blank\">different-breeze-2</a></strong> to <a href='https://wandb.ai/DI_725___Final_Project/Phase_1' target=\"_blank\">Weights & Biases</a> (<a href='https://wandb.me/developer-guide' target=\"_blank\">docs</a>)<br>"
      ],
      "text/plain": [
       "<IPython.core.display.HTML object>"
      ]
     },
     "metadata": {},
     "output_type": "display_data"
    },
    {
     "data": {
      "text/html": [
       " View project at <a href='https://wandb.ai/DI_725___Final_Project/Phase_1' target=\"_blank\">https://wandb.ai/DI_725___Final_Project/Phase_1</a>"
      ],
      "text/plain": [
       "<IPython.core.display.HTML object>"
      ]
     },
     "metadata": {},
     "output_type": "display_data"
    },
    {
     "data": {
      "text/html": [
       " View run at <a href='https://wandb.ai/DI_725___Final_Project/Phase_1/runs/mgcbgbo2' target=\"_blank\">https://wandb.ai/DI_725___Final_Project/Phase_1/runs/mgcbgbo2</a>"
      ],
      "text/plain": [
       "<IPython.core.display.HTML object>"
      ]
     },
     "metadata": {},
     "output_type": "display_data"
    }
   ],
   "source": [
    "run  =  wandb.init(project=\"Phase_1\", entity=\"DI_725___Final_Project\") "
   ]
  },
  {
   "cell_type": "markdown",
   "id": "b502c6b5-281a-4100-8e07-6fa7e5b8bf1e",
   "metadata": {},
   "source": [
    "<div span style=\"background-color:yellow;    color:red;      text-align:center;    padding:5px;\">\n",
    "<h2>  Import Dataset  </h2>\n",
    "</div>"
   ]
  },
  {
   "cell_type": "code",
   "execution_count": 33,
   "id": "adee8bb2-6f68-4a74-827a-5e5997ce3f09",
   "metadata": {},
   "outputs": [],
   "source": [
    "path            =     \"/home/turgay/Turgay/Academic/2024-2025/Spring/Transformers/Project/RISCM/\""
   ]
  },
  {
   "cell_type": "code",
   "execution_count": 34,
   "id": "6bb1cd83-b128-4c70-b53a-6a3bb2819968",
   "metadata": {},
   "outputs": [],
   "source": [
    "images_p        =    os.listdir(path + \"resized/\")\n",
    "captions_p      =    path + \"captions.csv\" "
   ]
  },
  {
   "cell_type": "code",
   "execution_count": 63,
   "id": "69e2c534-4aa6-4100-bfc5-f26b9d9517bf",
   "metadata": {},
   "outputs": [
    {
     "data": {
      "text/plain": [
       "['NWPU_112.jpg',\n",
       " 'RSICD_6644.jpg',\n",
       " 'NWPU_28028.jpg',\n",
       " 'NWPU_14741.jpg',\n",
       " 'NWPU_20089.jpg']"
      ]
     },
     "execution_count": 63,
     "metadata": {},
     "output_type": "execute_result"
    }
   ],
   "source": [
    "images_p[:5]"
   ]
  },
  {
   "cell_type": "code",
   "execution_count": 36,
   "id": "77b4a17b-6fd7-4f7a-8b0a-0b082254fb5a",
   "metadata": {},
   "outputs": [],
   "source": [
    "data   =  pd.read_csv(captions_p)"
   ]
  },
  {
   "cell_type": "code",
   "execution_count": 37,
   "id": "c38b1721-85e2-49c4-ae94-42c12a8516f6",
   "metadata": {},
   "outputs": [
    {
     "data": {
      "text/html": [
       "<div>\n",
       "<style scoped>\n",
       "    .dataframe tbody tr th:only-of-type {\n",
       "        vertical-align: middle;\n",
       "    }\n",
       "\n",
       "    .dataframe tbody tr th {\n",
       "        vertical-align: top;\n",
       "    }\n",
       "\n",
       "    .dataframe thead th {\n",
       "        text-align: right;\n",
       "    }\n",
       "</style>\n",
       "<table border=\"1\" class=\"dataframe\">\n",
       "  <thead>\n",
       "    <tr style=\"text-align: right;\">\n",
       "      <th></th>\n",
       "      <th>source</th>\n",
       "      <th>split</th>\n",
       "      <th>image</th>\n",
       "      <th>caption_1</th>\n",
       "      <th>caption_2</th>\n",
       "      <th>caption_3</th>\n",
       "      <th>caption_4</th>\n",
       "      <th>caption_5</th>\n",
       "    </tr>\n",
       "  </thead>\n",
       "  <tbody>\n",
       "    <tr>\n",
       "      <th>0</th>\n",
       "      <td>NWPU</td>\n",
       "      <td>test</td>\n",
       "      <td>NWPU_31430.jpg</td>\n",
       "      <td>A gray plane on the runway and the lawn beside .</td>\n",
       "      <td>A grey plane is on the runway by the lawn .</td>\n",
       "      <td>There is an airplane on the runway with a larg...</td>\n",
       "      <td>A plane is parked on the runway next to the gr...</td>\n",
       "      <td>There is a plane on the runway beside the grass .</td>\n",
       "    </tr>\n",
       "    <tr>\n",
       "      <th>1</th>\n",
       "      <td>NWPU</td>\n",
       "      <td>test</td>\n",
       "      <td>NWPU_31431.jpg</td>\n",
       "      <td>Three small planes parked in a line on the air...</td>\n",
       "      <td>There are four aircraft on the open ground, Th...</td>\n",
       "      <td>There are many planes of different sizes in a ...</td>\n",
       "      <td>Four planes are parked on the runway .</td>\n",
       "      <td>Four planes of different sizes were on the mar...</td>\n",
       "    </tr>\n",
       "    <tr>\n",
       "      <th>2</th>\n",
       "      <td>NWPU</td>\n",
       "      <td>test</td>\n",
       "      <td>NWPU_31432.jpg</td>\n",
       "      <td>A plane parked in a line on the airport with s...</td>\n",
       "      <td>A white plane was parked on the instruction li...</td>\n",
       "      <td>An airplane parked in an open area with many c...</td>\n",
       "      <td>A plane is parked on the open space .</td>\n",
       "      <td>There is 1 plane on the ground marked .</td>\n",
       "    </tr>\n",
       "    <tr>\n",
       "      <th>3</th>\n",
       "      <td>NWPU</td>\n",
       "      <td>test</td>\n",
       "      <td>NWPU_31433.jpg</td>\n",
       "      <td>A small plane and a big plane parked next to b...</td>\n",
       "      <td>A white plane and a gray plane parked at the b...</td>\n",
       "      <td>Two planes of different sizes are neatly parke...</td>\n",
       "      <td>A large plane and a small plane are parked nea...</td>\n",
       "      <td>Two planes are on the marked ground .</td>\n",
       "    </tr>\n",
       "    <tr>\n",
       "      <th>4</th>\n",
       "      <td>NWPU</td>\n",
       "      <td>test</td>\n",
       "      <td>NWPU_31434.jpg</td>\n",
       "      <td>Two planes parked next to boarding bridges .</td>\n",
       "      <td>Two aircraft were parked at the departure gates .</td>\n",
       "      <td>Two planes of different sizes are neatly parke...</td>\n",
       "      <td>Two planes are parked next to the terminal .</td>\n",
       "      <td>Two planes are on the marked ground .</td>\n",
       "    </tr>\n",
       "  </tbody>\n",
       "</table>\n",
       "</div>"
      ],
      "text/plain": [
       "  source split           image  \\\n",
       "0   NWPU  test  NWPU_31430.jpg   \n",
       "1   NWPU  test  NWPU_31431.jpg   \n",
       "2   NWPU  test  NWPU_31432.jpg   \n",
       "3   NWPU  test  NWPU_31433.jpg   \n",
       "4   NWPU  test  NWPU_31434.jpg   \n",
       "\n",
       "                                           caption_1  \\\n",
       "0   A gray plane on the runway and the lawn beside .   \n",
       "1  Three small planes parked in a line on the air...   \n",
       "2  A plane parked in a line on the airport with s...   \n",
       "3  A small plane and a big plane parked next to b...   \n",
       "4       Two planes parked next to boarding bridges .   \n",
       "\n",
       "                                           caption_2  \\\n",
       "0        A grey plane is on the runway by the lawn .   \n",
       "1  There are four aircraft on the open ground, Th...   \n",
       "2  A white plane was parked on the instruction li...   \n",
       "3  A white plane and a gray plane parked at the b...   \n",
       "4  Two aircraft were parked at the departure gates .   \n",
       "\n",
       "                                           caption_3  \\\n",
       "0  There is an airplane on the runway with a larg...   \n",
       "1  There are many planes of different sizes in a ...   \n",
       "2  An airplane parked in an open area with many c...   \n",
       "3  Two planes of different sizes are neatly parke...   \n",
       "4  Two planes of different sizes are neatly parke...   \n",
       "\n",
       "                                           caption_4  \\\n",
       "0  A plane is parked on the runway next to the gr...   \n",
       "1             Four planes are parked on the runway .   \n",
       "2              A plane is parked on the open space .   \n",
       "3  A large plane and a small plane are parked nea...   \n",
       "4       Two planes are parked next to the terminal .   \n",
       "\n",
       "                                           caption_5  \n",
       "0  There is a plane on the runway beside the grass .  \n",
       "1  Four planes of different sizes were on the mar...  \n",
       "2            There is 1 plane on the ground marked .  \n",
       "3              Two planes are on the marked ground .  \n",
       "4              Two planes are on the marked ground .  "
      ]
     },
     "execution_count": 37,
     "metadata": {},
     "output_type": "execute_result"
    }
   ],
   "source": [
    "data.head()"
   ]
  },
  {
   "cell_type": "code",
   "execution_count": 52,
   "id": "eb52d613-6c19-44ce-b04f-5684dbac6b98",
   "metadata": {},
   "outputs": [
    {
     "data": {
      "text/plain": [
       "44521"
      ]
     },
     "execution_count": 52,
     "metadata": {},
     "output_type": "execute_result"
    }
   ],
   "source": [
    "len(data)"
   ]
  },
  {
   "cell_type": "markdown",
   "id": "b1e5319f-3ae3-462a-aad4-7110dbfdb66e",
   "metadata": {},
   "source": [
    "<div span style=\"background-color:yellow;    color:red;      text-align:center;    padding:5px;\">\n",
    "<h2>  Exploratory Data Analysis (EDA)  </h2>\n",
    "</div>\n"
   ]
  },
  {
   "cell_type": "code",
   "execution_count": 38,
   "id": "4eaa2380-b44d-4d17-b4a5-04fcfcf8ce2a",
   "metadata": {},
   "outputs": [
    {
     "data": {
      "text/plain": [
       "0         test\n",
       "1         test\n",
       "2         test\n",
       "3         test\n",
       "4         test\n",
       "         ...  \n",
       "44516    train\n",
       "44517    train\n",
       "44518    train\n",
       "44519    train\n",
       "44520    train\n",
       "Name: split, Length: 44521, dtype: object"
      ]
     },
     "execution_count": 38,
     "metadata": {},
     "output_type": "execute_result"
    }
   ],
   "source": [
    "data[\"split\"]"
   ]
  },
  {
   "cell_type": "code",
   "execution_count": 39,
   "id": "222b34be-8464-4128-a853-d6c11f3a71bc",
   "metadata": {},
   "outputs": [
    {
     "name": "stdout",
     "output_type": "stream",
     "text": [
      "split\n",
      "train    35614\n",
      "test      4454\n",
      "val       4453\n",
      "Name: count, dtype: int64\n"
     ]
    }
   ],
   "source": [
    "split_series = data['split']\n",
    "counts       = split_series.value_counts()\n",
    "\n",
    "print(counts)"
   ]
  },
  {
   "cell_type": "code",
   "execution_count": 40,
   "id": "904752c6-01fa-46ab-9747-d22cd4726006",
   "metadata": {},
   "outputs": [
    {
     "name": "stdout",
     "output_type": "stream",
     "text": [
      "Number of train samples: 35614\n",
      "Number of test samples: 4454\n",
      "Number of val samples: 4453\n"
     ]
    }
   ],
   "source": [
    "num_train = counts.get('train', 0)\n",
    "num_test  = counts.get('test', 0)\n",
    "num_val   = counts.get('val', 0)\n",
    "\n",
    "print(\"Number of train samples:\", num_train)\n",
    "print(\"Number of test samples:\", num_test)\n",
    "print(\"Number of val samples:\", num_val)"
   ]
  },
  {
   "cell_type": "code",
   "execution_count": null,
   "id": "28040e46-ba64-4b4c-bece-55392773afd9",
   "metadata": {},
   "outputs": [],
   "source": []
  },
  {
   "cell_type": "markdown",
   "id": "01adf74b-5cb0-470b-b35e-4e8f23c34a22",
   "metadata": {},
   "source": [
    "## 1-) Check for Missing Values : "
   ]
  },
  {
   "cell_type": "code",
   "execution_count": 41,
   "id": "7155d80b-928f-47c3-9a13-43fd4c1b6820",
   "metadata": {},
   "outputs": [
    {
     "name": "stdout",
     "output_type": "stream",
     "text": [
      "source       0\n",
      "split        0\n",
      "image        0\n",
      "caption_1    0\n",
      "caption_2    0\n",
      "caption_3    0\n",
      "caption_4    0\n",
      "caption_5    0\n",
      "dtype: int64\n"
     ]
    }
   ],
   "source": [
    "if 1:\n",
    "    \n",
    "    print(data.isnull().sum())"
   ]
  },
  {
   "cell_type": "markdown",
   "id": "343ef2ca-0188-4287-befc-8b4516c09ce4",
   "metadata": {},
   "source": [
    "## 2-) Statistical Summary : "
   ]
  },
  {
   "cell_type": "code",
   "execution_count": 55,
   "id": "9e0a12da-51a6-4b6b-9e81-525ed4864bb0",
   "metadata": {},
   "outputs": [
    {
     "data": {
      "text/html": [
       "<div>\n",
       "<style scoped>\n",
       "    .dataframe tbody tr th:only-of-type {\n",
       "        vertical-align: middle;\n",
       "    }\n",
       "\n",
       "    .dataframe tbody tr th {\n",
       "        vertical-align: top;\n",
       "    }\n",
       "\n",
       "    .dataframe thead th {\n",
       "        text-align: right;\n",
       "    }\n",
       "</style>\n",
       "<table border=\"1\" class=\"dataframe\">\n",
       "  <thead>\n",
       "    <tr style=\"text-align: right;\">\n",
       "      <th></th>\n",
       "      <th>source</th>\n",
       "      <th>split</th>\n",
       "      <th>image</th>\n",
       "      <th>caption_1</th>\n",
       "      <th>caption_2</th>\n",
       "      <th>caption_3</th>\n",
       "      <th>caption_4</th>\n",
       "      <th>caption_5</th>\n",
       "    </tr>\n",
       "  </thead>\n",
       "  <tbody>\n",
       "    <tr>\n",
       "      <th>count</th>\n",
       "      <td>44521</td>\n",
       "      <td>44521</td>\n",
       "      <td>44521</td>\n",
       "      <td>44521</td>\n",
       "      <td>44521</td>\n",
       "      <td>44521</td>\n",
       "      <td>44521</td>\n",
       "      <td>44521</td>\n",
       "    </tr>\n",
       "    <tr>\n",
       "      <th>unique</th>\n",
       "      <td>3</td>\n",
       "      <td>3</td>\n",
       "      <td>44521</td>\n",
       "      <td>22503</td>\n",
       "      <td>14838</td>\n",
       "      <td>16113</td>\n",
       "      <td>12775</td>\n",
       "      <td>18289</td>\n",
       "    </tr>\n",
       "    <tr>\n",
       "      <th>top</th>\n",
       "      <td>NWPU</td>\n",
       "      <td>train</td>\n",
       "      <td>NWPU_31430.jpg</td>\n",
       "      <td>This meadow has different sparsity in differen...</td>\n",
       "      <td>The entire image is dominated by grass .</td>\n",
       "      <td>The snow berg is consist of bare land and whit...</td>\n",
       "      <td>The meadow is dense but uneven .</td>\n",
       "      <td>The grass is beside the beach .</td>\n",
       "    </tr>\n",
       "    <tr>\n",
       "      <th>freq</th>\n",
       "      <td>31500</td>\n",
       "      <td>35614</td>\n",
       "      <td>1</td>\n",
       "      <td>130</td>\n",
       "      <td>435</td>\n",
       "      <td>448</td>\n",
       "      <td>288</td>\n",
       "      <td>232</td>\n",
       "    </tr>\n",
       "  </tbody>\n",
       "</table>\n",
       "</div>"
      ],
      "text/plain": [
       "       source  split           image  \\\n",
       "count   44521  44521           44521   \n",
       "unique      3      3           44521   \n",
       "top      NWPU  train  NWPU_31430.jpg   \n",
       "freq    31500  35614               1   \n",
       "\n",
       "                                                caption_1  \\\n",
       "count                                               44521   \n",
       "unique                                              22503   \n",
       "top     This meadow has different sparsity in differen...   \n",
       "freq                                                  130   \n",
       "\n",
       "                                       caption_2  \\\n",
       "count                                      44521   \n",
       "unique                                     14838   \n",
       "top     The entire image is dominated by grass .   \n",
       "freq                                         435   \n",
       "\n",
       "                                                caption_3  \\\n",
       "count                                               44521   \n",
       "unique                                              16113   \n",
       "top     The snow berg is consist of bare land and whit...   \n",
       "freq                                                  448   \n",
       "\n",
       "                               caption_4                        caption_5  \n",
       "count                              44521                            44521  \n",
       "unique                             12775                            18289  \n",
       "top     The meadow is dense but uneven .  The grass is beside the beach .  \n",
       "freq                                 288                              232  "
      ]
     },
     "execution_count": 55,
     "metadata": {},
     "output_type": "execute_result"
    }
   ],
   "source": [
    "data.describe(include='all')"
   ]
  },
  {
   "cell_type": "code",
   "execution_count": 56,
   "id": "0b6a315b-eac8-4efc-bc3a-1e87f582d5d9",
   "metadata": {},
   "outputs": [
    {
     "data": {
      "text/plain": [
       "source                                                    NWPU\n",
       "split                                                    train\n",
       "image                                           NWPU_31430.jpg\n",
       "caption_1    This meadow has different sparsity in differen...\n",
       "caption_2             The entire image is dominated by grass .\n",
       "caption_3    The snow berg is consist of bare land and whit...\n",
       "caption_4                     The meadow is dense but uneven .\n",
       "caption_5                      The grass is beside the beach .\n",
       "Name: top, dtype: object"
      ]
     },
     "execution_count": 56,
     "metadata": {},
     "output_type": "execute_result"
    }
   ],
   "source": [
    "data.describe(include='all').loc['top']"
   ]
  },
  {
   "cell_type": "code",
   "execution_count": 61,
   "id": "02612ded-def2-4e81-89e1-477b1e19ce24",
   "metadata": {},
   "outputs": [
    {
     "data": {
      "text/plain": [
       "'The grass is beside the beach .'"
      ]
     },
     "execution_count": 61,
     "metadata": {},
     "output_type": "execute_result"
    }
   ],
   "source": [
    "data.describe(include='all').loc['top'][\"caption_5\"]"
   ]
  },
  {
   "cell_type": "code",
   "execution_count": 65,
   "id": "f92ce267-b00c-441f-a015-1322015cd505",
   "metadata": {},
   "outputs": [
    {
     "name": "stdout",
     "output_type": "stream",
     "text": [
      "Total captions: 222605\n"
     ]
    }
   ],
   "source": [
    "total_images     = len(data)\n",
    "captions_per_img = 5\n",
    "total_captions   = total_images * captions_per_img\n",
    "print(f\"Total captions: {total_captions}\")"
   ]
  },
  {
   "cell_type": "code",
   "execution_count": 66,
   "id": "b5b10382-f18e-4205-9cea-e540185f0739",
   "metadata": {},
   "outputs": [
    {
     "name": "stdout",
     "output_type": "stream",
     "text": [
      "Min: 5, Max: 51, Mean: 12.19, Median: 11.0\n"
     ]
    }
   ],
   "source": [
    "all_captions = []\n",
    "\n",
    "for i in range(1, 6):\n",
    "    all_captions.extend(data[f'caption_{i}'].tolist())\n",
    "\n",
    "# Tokenize and compute word counts\n",
    "caption_lengths = [len(word_tokenize(caption)) for caption in all_captions]\n",
    "\n",
    "\n",
    "\n",
    "min_len   = np.min(caption_lengths)\n",
    "max_len   = np.max(caption_lengths)\n",
    "mean_len  = np.mean(caption_lengths)\n",
    "median_len= np.median(caption_lengths)\n",
    "\n",
    "print(f\"Min: {min_len}, Max: {max_len}, Mean: {mean_len:.2f}, Median: {median_len}\")"
   ]
  },
  {
   "cell_type": "code",
   "execution_count": 67,
   "id": "460dde36-baa2-4dad-b3af-6d8061318e12",
   "metadata": {},
   "outputs": [],
   "source": [
    "from collections import Counter\n",
    "import string"
   ]
  },
  {
   "cell_type": "code",
   "execution_count": 68,
   "id": "db320dd6-1454-4226-af3a-874b0317cf6a",
   "metadata": {},
   "outputs": [
    {
     "name": "stdout",
     "output_type": "stream",
     "text": [
      "Vocabulary size: 3565\n",
      "Top 20 words:\n",
      "the: 205467\n",
      "a: 117753\n",
      "are: 110828\n",
      "and: 100622\n",
      "is: 77975\n",
      "there: 73976\n",
      "of: 69650\n",
      "some: 62091\n",
      "many: 61774\n",
      "green: 61300\n",
      "on: 55452\n",
      "in: 54672\n",
      "trees: 51503\n",
      "buildings: 47186\n",
      "with: 43122\n",
      "to: 26743\n",
      "next: 24675\n",
      "area: 24371\n",
      "by: 21303\n",
      "two: 18839\n"
     ]
    }
   ],
   "source": [
    "# Build list of all words\n",
    "all_tokens = []\n",
    "for caption in all_captions:\n",
    "    tokens = word_tokenize(caption.lower())\n",
    "    tokens = [word for word in tokens if word.isalpha()]  # remove punctuation/numbers\n",
    "    all_tokens.extend(tokens)\n",
    "\n",
    "# Vocabulary size\n",
    "vocab_size = len(set(all_tokens))\n",
    "print(f\"Vocabulary size: {vocab_size}\")\n",
    "\n",
    "# Top 20 words\n",
    "word_counts = Counter(all_tokens)\n",
    "top_20_words = word_counts.most_common(20)\n",
    "print(\"Top 20 words:\")\n",
    "for word, freq in top_20_words:\n",
    "    print(f\"{word}: {freq}\")"
   ]
  },
  {
   "cell_type": "code",
   "execution_count": 69,
   "id": "aa11b839-1282-4056-88e0-7b13de4c700c",
   "metadata": {},
   "outputs": [
    {
     "data": {
      "image/png": "[encoded data removed]",
      "text/plain": [
       "<Figure size 640x480 with 1 Axes>"
      ]
     },
     "metadata": {},
     "output_type": "display_data"
    }
   ],
   "source": [
    "plt.hist(caption_lengths, bins=30, color='skyblue', edgecolor='black')\n",
    "plt.title(\"Caption Length Distribution\")\n",
    "plt.xlabel(\"Number of Words\")\n",
    "plt.ylabel(\"Frequency\")\n",
    "plt.show()"
   ]
  },
  {
   "cell_type": "code",
   "execution_count": null,
   "id": "fe86344a-d824-48cb-a048-22acd8029003",
   "metadata": {},
   "outputs": [],
   "source": []
  },
  {
   "cell_type": "code",
   "execution_count": 43,
   "id": "0ad14cba-bc21-4d98-8847-50c82cf9cdf5",
   "metadata": {},
   "outputs": [],
   "source": [
    "class RSICDDataset(Dataset):\n",
    "    def __init__(self, dataframe, images_dir, transform=None):\n",
    "        \n",
    "        self.dataframe  = dataframe\n",
    "        self.images_dir = images_dir\n",
    "        self.transform  = transform\n",
    "\n",
    "    def __len__(self):\n",
    "        return len(self.dataframe)\n",
    "\n",
    "    def __getitem__(self, idx):\n",
    "        \n",
    "        row         = self.dataframe.iloc[idx]\n",
    "        img_path    = f\"{self.images_dir}/{row['filename']}\"\n",
    "        image       = Image.open(img_path).convert('RGB')\n",
    "        captions    = row[3:].tolist()  # Assuming captions start from 4th column\n",
    "\n",
    "        if self.transform:\n",
    "            image = self.transform(image)\n",
    "\n",
    "        return image, captions\n"
   ]
  },
  {
   "cell_type": "code",
   "execution_count": 44,
   "id": "c26c0dd3-c189-4b27-8583-96c3047dffc5",
   "metadata": {},
   "outputs": [],
   "source": [
    "dataset      =   RSICDDataset( data,  path + \"resized/\"  ) "
   ]
  },
  {
   "cell_type": "code",
   "execution_count": 45,
   "id": "82977bf3-6749-418e-b3ba-88d44a2c8047",
   "metadata": {},
   "outputs": [
    {
     "data": {
      "text/plain": [
       "44521"
      ]
     },
     "execution_count": 45,
     "metadata": {},
     "output_type": "execute_result"
    }
   ],
   "source": [
    "len(dataset)"
   ]
  },
  {
   "cell_type": "code",
   "execution_count": 46,
   "id": "81022ee3-b0b3-4b89-b755-66d3d689c470",
   "metadata": {},
   "outputs": [],
   "source": [
    "train_data = data[data['split'] == 'train'].reset_index(drop=True)\n",
    "val_data   = data[data['split'] == 'val'].reset_index(drop=True) \n",
    "test_data  = data[data['split'] == 'test'].reset_index(drop=True)"
   ]
  },
  {
   "cell_type": "code",
   "execution_count": 47,
   "id": "a3106ba2-27f6-4c5d-bd8c-6a8f76d2b0b6",
   "metadata": {},
   "outputs": [],
   "source": [
    "train_dataset = RSICDDataset(train_data, path + \"resized/\")\n",
    "val_dataset   = RSICDDataset(val_data,   path + \"resized/\")\n",
    "test_dataset  = RSICDDataset(test_data,  path + \"resized/\") "
   ]
  },
  {
   "cell_type": "code",
   "execution_count": 49,
   "id": "5cf8a956-5bde-4e6d-891b-b55972a9a6b8",
   "metadata": {},
   "outputs": [
    {
     "data": {
      "text/plain": [
       "(35614, 4453, 4454)"
      ]
     },
     "execution_count": 49,
     "metadata": {},
     "output_type": "execute_result"
    }
   ],
   "source": [
    "len(train_dataset), len(val_dataset),  len(test_dataset) "
   ]
  },
  {
   "cell_type": "code",
   "execution_count": 51,
   "id": "b30f948d-037e-4081-9029-7507d161d5fb",
   "metadata": {},
   "outputs": [
    {
     "name": "stdout",
     "output_type": "stream",
     "text": [
      "Number of train samples: 35614\n",
      "Number of val samples: 4453\n",
      "Number of test samples: 4454\n"
     ]
    }
   ],
   "source": [
    "print(\"Number of train samples:\", num_train)\n",
    "print(\"Number of val samples:\", num_val)\n",
    "print(\"Number of test samples:\", num_test)"
   ]
  },
  {
   "cell_type": "code",
   "execution_count": null,
   "id": "614dbcb4-85d9-41ae-b334-6b45fd1f1159",
   "metadata": {},
   "outputs": [],
   "source": []
  },
  {
   "cell_type": "markdown",
   "id": "56ae930b-ea8b-4377-b892-d4724e90f8d4",
   "metadata": {},
   "source": [
    "<div span style=\"background-color:yellow;    color:red;      text-align:center;    padding:5px;\">\n",
    "<h2>  For Training   </h2>\n",
    "</div>"
   ]
  },
  {
   "cell_type": "markdown",
   "id": "ef997cdd-2333-4fcf-897b-8e1a370dde28",
   "metadata": {},
   "source": [
    "<div span style=\"background-color:yellow;    color:red;      text-align:center;    padding:5px;\">\n",
    "<h2>  For Testing (Unseen Data)   </h2>\n",
    "</div>"
   ]
  },
  {
   "cell_type": "markdown",
   "id": "4fdcaafa-5f09-4991-9e7f-37f453dad855",
   "metadata": {},
   "source": [
    "<div span style=\"background-color:yellow;    color:red;      text-align:center;    padding:5px;\">\n",
    "<h2>  Dimensions of Scaled-Data  </h2>\n",
    "</div>"
   ]
  },
  {
   "cell_type": "markdown",
   "id": "ea78e341-6d98-4aee-a844-efcc8b86e351",
   "metadata": {},
   "source": [
    "<div span style=\"background-color:yellow;    color:red;      text-align:center;    padding:10px;\">\n",
    "<h2>  Model </h2>\n",
    "</div>\n"
   ]
  },
  {
   "cell_type": "code",
   "execution_count": null,
   "id": "83363730-3b45-4b6e-b40a-1bb4d6c95076",
   "metadata": {},
   "outputs": [],
   "source": []
  },
  {
   "cell_type": "markdown",
   "id": "da8e6576-23e0-48f0-b3e0-0743a6b50936",
   "metadata": {},
   "source": [
    "<div span style=\"background-color:yellow;    color:red;      text-align:center;    padding:5px;\">\n",
    "<h2>  CNN  </h2>\n",
    "</div>\n"
   ]
  },
  {
   "cell_type": "markdown",
   "id": "4f5125d2-8655-468f-a3b8-889fe5493d22",
   "metadata": {},
   "source": [
    "<div span style=\"background-color:yellow;    color:red;      text-align:center;    padding:5px;\">\n",
    "<h2>  ViT </h2>\n",
    "</div>"
   ]
  },
  {
   "cell_type": "markdown",
   "id": "dbd5302d-783a-4f8c-93f4-42f1a6ce147e",
   "metadata": {
    "jp-MarkdownHeadingCollapsed": true
   },
   "source": [
    "<div span style=\"background-color:yellow;    color:red;      text-align:center;    padding:5px;\">\n",
    "<h2>  Clear CUDA :</h2>\n",
    "</div>"
   ]
  },
  {
   "cell_type": "code",
   "execution_count": 64,
   "id": "e98f275c-0896-4700-952c-e25e422bf638",
   "metadata": {},
   "outputs": [],
   "source": [
    "def  clear_cuda(verbose=None):\n",
    "    \n",
    "    import  gc\n",
    "    \n",
    "    # 1) Move any models (and large tensors) back to CPU:\n",
    "\n",
    "    \n",
    "    # 2) Delete absolutely every reference you might have:\n",
    "    for name in [\"model\",\"optimizer\",\"scheduler\",\"train_loader\",\"val_loader\",\"imgs\",\"bboxes\"]:\n",
    "        if name in globals():\n",
    "            del globals()[name]\n",
    "    # Also clear the special notebook underscore variable:\n",
    "    _ = None\n",
    "    \n",
    "    # 3) Force Python garbage collection:\n",
    "    gc.collect()\n",
    "    \n",
    "    # 4) Clear PyTorch’s CUDA cache:\n",
    "    torch.cuda.empty_cache()\n",
    "\n",
    "    if verbose:\n",
    "        # 5) (Optional) Print memory summary to confirm\n",
    "        print(torch.cuda.memory_summary())\n"
   ]
  },
  {
   "cell_type": "markdown",
   "id": "b8154aa6-e790-402b-b6e3-51823b4f1698",
   "metadata": {
    "jp-MarkdownHeadingCollapsed": true
   },
   "source": [
    "<div span style=\"background-color:yellow;    color:red;      text-align:center;    padding:5px;\">\n",
    "<h2>  Loaders :</h2>\n",
    "</div>"
   ]
  },
  {
   "cell_type": "code",
   "execution_count": 65,
   "id": "841b97db-8875-4b0a-a408-3c02dd54c58b",
   "metadata": {},
   "outputs": [],
   "source": [
    "def loaders(batch_size=0, num_workers =0, shuffle=True, transform=None,  test=False):\n",
    "\n",
    "    dataset      =   AUAIRDataset(    test=False,    transform  =  data_transform)\n",
    "    train_size   =    int(0.9 * len(dataset))\n",
    "    val_size     =    len(dataset) - train_size \n",
    "\n",
    "    \n",
    "    train_dataset, val_dataset = random_split(dataset, [train_size, val_size]) \n",
    "\n",
    "    train_loader   =   DataLoader(train_dataset, batch_size=batch_size, num_workers  =   num_workers,   pin_memory = True,    shuffle=shuffle)\n",
    "    val_loader     =   DataLoader(val_dataset,   batch_size=batch_size, num_workers  =   num_workers,   pin_memory = True,    shuffle=shuffle) \n",
    "\n",
    "    return     train_loader,     val_loader       \n",
    "\n"
   ]
  },
  {
   "cell_type": "markdown",
   "id": "ad41a385-386f-4a70-aa2b-df67c480cac6",
   "metadata": {
    "jp-MarkdownHeadingCollapsed": true
   },
   "source": [
    "<div span style=\"background-color:yellow;    color:red;      text-align:center;    padding:5px;\">\n",
    "<h2>  Check Number of  Parameters :</h2>\n",
    "</div>"
   ]
  },
  {
   "cell_type": "code",
   "execution_count": 66,
   "id": "90a15b4f-b1ee-401e-85ad-3b055eeaad0f",
   "metadata": {},
   "outputs": [],
   "source": [
    "clear_cuda()"
   ]
  },
  {
   "cell_type": "code",
   "execution_count": 67,
   "id": "622441ec-0bd7-4f49-9d72-f170303dc52c",
   "metadata": {},
   "outputs": [
    {
     "name": "stderr",
     "output_type": "stream",
     "text": [
      "100%|██████████| 32823/32823 [00:00<00:00, 100877.57it/s]\n"
     ]
    }
   ],
   "source": [
    "train_loader,   val_loader   =   loaders(batch_size = 32, num_workers = 12, shuffle=True, transform=data_transform,  test=False) "
   ]
  },
  {
   "cell_type": "code",
   "execution_count": 70,
   "id": "0b877dd3-5ee4-4087-ac91-1baad2afca94",
   "metadata": {},
   "outputs": [],
   "source": [
    "model_p     =   ViT(n_layers=12, mlp_ratio=4, dropout=0, heads= 16)  "
   ]
  },
  {
   "cell_type": "code",
   "execution_count": 71,
   "id": "25b577ff-bdc3-43d4-8669-a48c99abaea5",
   "metadata": {},
   "outputs": [
    {
     "name": "stdout",
     "output_type": "stream",
     "text": [
      "Number of trainable parameters in the model: 14838672\n"
     ]
    }
   ],
   "source": [
    "num_params = sum(p.numel() for p in model_p.parameters() if p.requires_grad)\n",
    "\n",
    "print(\"Number of trainable parameters in the model:\", num_params)"
   ]
  },
  {
   "cell_type": "markdown",
   "id": "7a645fb8-5f81-4a83-9d66-1afcabef8b6c",
   "metadata": {
    "jp-MarkdownHeadingCollapsed": true
   },
   "source": [
    "<div span style=\"background-color:yellow;    color:red;      text-align:center;    padding:5px;\">\n",
    "<h2>  Employ GPU</h2>\n",
    "</div>"
   ]
  },
  {
   "cell_type": "code",
   "execution_count": 72,
   "id": "5bd3b354-73a2-4df5-9af0-7698241676ce",
   "metadata": {},
   "outputs": [],
   "source": [
    "device  = torch.device(\"cuda\" if torch.cuda.is_available() else \"cpu\")"
   ]
  },
  {
   "cell_type": "code",
   "execution_count": 73,
   "id": "f680eb70-2d96-40e1-934a-1e97bece03b6",
   "metadata": {},
   "outputs": [
    {
     "data": {
      "text/plain": [
       "device(type='cuda')"
      ]
     },
     "execution_count": 73,
     "metadata": {},
     "output_type": "execute_result"
    }
   ],
   "source": [
    "device"
   ]
  },
  {
   "cell_type": "code",
   "execution_count": 74,
   "id": "9c4e632c-a43a-474b-abcd-768a0c7b0b7d",
   "metadata": {},
   "outputs": [],
   "source": [
    "model      =        model_p.to(device)   "
   ]
  },
  {
   "cell_type": "markdown",
   "id": "4d259514-7ed2-44f1-b7e6-31ae8cdc9c77",
   "metadata": {
    "jp-MarkdownHeadingCollapsed": true
   },
   "source": [
    "<div span style=\"background-color:yellow;    color:red;      text-align:center;    padding:5px;\">\n",
    "<h2>  To Save Weights and Losses : </h2>\n",
    "</div>"
   ]
  },
  {
   "cell_type": "code",
   "execution_count": 75,
   "id": "79bb52f6-5bcb-4fc0-8850-9e53a1064933",
   "metadata": {},
   "outputs": [],
   "source": [
    "path_model   =  \"/home/turgay/Turgay/Academic/2024-2025/Spring/Transformers/Assignments/Assignment_2/weights/Transformer_weight_1.pth\"\n",
    "path_losses  =  \"/home/turgay/Turgay/Academic/2024-2025/Spring/Transformers/Assignments/Assignment_2/weights/Transformer_losses_1.pth\"  "
   ]
  },
  {
   "cell_type": "code",
   "execution_count": 76,
   "id": "e8994d1c-a829-4299-be70-9586104373d6",
   "metadata": {},
   "outputs": [],
   "source": [
    "if 0:\n",
    "    \n",
    "    torch.save({\n",
    "            'model_state_dict': model.state_dict(),\n",
    "            'best_loss'       : 9999999999999,\n",
    "        }, path_model)   "
   ]
  },
  {
   "cell_type": "code",
   "execution_count": 77,
   "id": "b23b2f2f-5527-4a1c-869a-974b5c3ffe36",
   "metadata": {},
   "outputs": [],
   "source": [
    "if 0:\n",
    "    \n",
    "    torch.save({\n",
    "        \n",
    "            'train_loss'    : [],\n",
    "            'val_loss'      : [], \n",
    "    \n",
    "            'epochs'        : [],\n",
    "    \n",
    "        }, path_losses)    "
   ]
  },
  {
   "cell_type": "code",
   "execution_count": 78,
   "id": "b8a37900-3496-4487-9b72-429ed0c87a8c",
   "metadata": {},
   "outputs": [],
   "source": [
    "if 1:\n",
    "    \n",
    "    checkpoint_weights   =   torch.load(path_model, weights_only=True) \n",
    "    checkpoint_losses    =   torch.load(path_losses, weights_only=True)  \n",
    "    \n",
    "    model.load_state_dict(checkpoint_weights['model_state_dict'])\n",
    "    \n",
    "    best_loss       =  checkpoint_weights['best_loss'] \n",
    "    train_loss      =  checkpoint_losses['train_loss']\n",
    "    val_loss        =  checkpoint_losses['val_loss']\n",
    "    \n",
    "    epochs          =  checkpoint_losses['epochs'] "
   ]
  },
  {
   "cell_type": "markdown",
   "id": "fcce11b4-cc0b-4da8-944c-2780f5ae6f55",
   "metadata": {},
   "source": [
    "<div span style=\"background-color:yellow;    color:red;      text-align:center;    padding:5px;\">\n",
    "<h2>  Loss Functions : </h2>\n",
    "</div>"
   ]
  },
  {
   "cell_type": "markdown",
   "id": "6e257303-6c70-4447-8ec9-7a112ba3f046",
   "metadata": {},
   "source": [
    "<div span style=\"background-color:yellow;    color:red;      text-align:center;    padding:5px;\">\n",
    "<h2> Sanity Check for loss  </h2>\n",
    "</div>"
   ]
  },
  {
   "cell_type": "markdown",
   "id": "ced96a4b-c6c1-442e-986d-e952b8d8a9a1",
   "metadata": {
    "jp-MarkdownHeadingCollapsed": true
   },
   "source": [
    "<div span style=\"background-color:yellow;    color:red;      text-align:center;    padding:5px;\">\n",
    "<h2>  Training : </h2>\n",
    "</div>"
   ]
  },
  {
   "cell_type": "code",
   "execution_count": null,
   "id": "412c75ef-d66e-4773-b3f4-805a040a49c7",
   "metadata": {},
   "outputs": [],
   "source": []
  },
  {
   "cell_type": "code",
   "execution_count": 42,
   "id": "57e7fe32-357a-470f-8ffb-bcba4bafe636",
   "metadata": {},
   "outputs": [],
   "source": [
    "def train(num_epochs=0, patience=0, counter=0,  best_loss=best_loss):\n",
    "\n",
    "    for epoch in range(num_epochs):\n",
    "\n",
    "        model.train() \n",
    "        total_loss_train   =   0\n",
    "        \n",
    "        for img, bbox, clas in tqdm.tqdm(train_loader):\n",
    "            \n",
    "            img       =   img.to(device)\n",
    "            bbox      =   bbox.to(device)   \n",
    "            clas      =   clas.to(device)\n",
    "            \n",
    "            optimizer.zero_grad()\n",
    "\n",
    "            with autocast(device_type='cuda'):\n",
    "\n",
    "\n",
    "                pred_box, pred_clas         =   model(img)\n",
    "                \n",
    "\n",
    "                loss_bbox         =   1 * criterion_l1(pred_box, bbox) + 0 * torchvision.ops.generalized_box_iou_loss(bbox.view(-1, 4), pred_box.view(-1, 4), reduction='mean') \n",
    "                loss_bbox         =   10 * loss_bbox\n",
    "                loss_class        =   criterion_bce(pred_clas, clas)\n",
    "\n",
    "                loss              =   loss_bbox + loss_class\n",
    "                \n",
    "            scaler.scale(loss).backward()\n",
    "            scaler.step(optimizer)\n",
    "            scaler.update()\n",
    "    \n",
    "            total_loss_train   +=   loss.item()\n",
    "\n",
    "        total_loss_train   /=   len(train_loader)\n",
    "        train_loss.append(total_loss_train)\n",
    "        run.log({\"Train Loss\": total_loss_train})\n",
    "        print(\"-------------------------------------------------------------------------------\")\n",
    "        print(f\"|  Epoch [{epoch+1}/{num_epochs}]          |        Total Train LOSS : {total_loss_train:.4f}           |\")\n",
    "        print(\"-------------------------------------------------------------------------------\")\n",
    "        print(\"-------------------------------------------------------------------------------\")\n",
    "        print(f\"|  Epoch [{epoch+1}/{num_epochs}]          |        Total Train BBOX : {loss_bbox:.4f}           |\")\n",
    "        print(\"-------------------------------------------------------------------------------\")\n",
    "        print(\"-------------------------------------------------------------------------------\")\n",
    "        print(f\"|  Epoch [{epoch+1}/{num_epochs}]          |        Total Train CLS  : {loss_class:.4f}           |\")\n",
    "        print(\"-------------------------------------------------------------------------------\")\n",
    "\n",
    "        model.eval()\n",
    "        \n",
    "        total_loss_val   =   0.0\n",
    "\n",
    "        with torch.no_grad():\n",
    "            \n",
    "            for img, bbox, clas in tqdm.tqdm(val_loader, desc=f\"Epoch {epoch+1}/{num_epochs}\"):\n",
    "                \n",
    "                img       =   img.to(device) \n",
    "                bbox      =   bbox.to(device)   \n",
    "                clas      =   clas.to(device)\n",
    "            \n",
    "                with autocast(device_type='cuda'):\n",
    "\n",
    "\n",
    "                    pred_box, pred_clas         =   model(img)\n",
    "                \n",
    "\n",
    "                    loss_bbox         =   1 * criterion_l1(pred_box, bbox) + 0 * torchvision.ops.generalized_box_iou_loss(bbox.view(-1, 4), pred_box.view(-1, 4), reduction='mean') \n",
    "                    loss_bbox         =   10 * loss_bbox\n",
    "                    loss_class        =   criterion_bce(pred_clas, clas)\n",
    "    \n",
    "                    loss              =   loss_bbox + loss_class\n",
    "        \n",
    "                \n",
    "                total_loss_val   +=   loss.item()\n",
    "\n",
    "        total_loss_val   /=   len(val_loader)\n",
    "        val_loss.append(total_loss_val)\n",
    "        \n",
    "        run.log({\"Val Loss\": total_loss_val})\n",
    "        \n",
    "        print(\"-------------------------------------------------------------------------------\")\n",
    "        print(f\"|  Epoch [{epoch+1}/{num_epochs}]         |       Total Validation LOSS : {total_loss_val:.4f}           |\")\n",
    "        print(\"-------------------------------------------------------------------------------\")\n",
    "        print(\"-------------------------------------------------------------------------------\")\n",
    "        print(f\"|  Epoch [{epoch+1}/{num_epochs}]         |       Total Validation BBOX : {loss_bbox:.4f}           |\")\n",
    "        print(\"-------------------------------------------------------------------------------\")\n",
    "        print(\"-------------------------------------------------------------------------------\")\n",
    "        print(f\"|  Epoch [{epoch+1}/{num_epochs}]         |       Total Validation CLS : {loss_class:.4f}           |\")\n",
    "        print(\"-------------------------------------------------------------------------------\")\n",
    "        \n",
    "        if len(val_loss) >= 2:\n",
    "            res       =   ((val_loss[-2] - val_loss[-1]) / val_loss[-2]) * 100\n",
    "            print(\"-------------------------------------------------------------------------------\")\n",
    "            print(f\"|              Change in loss is      %   {res:.2f}                               |\")\n",
    "            print(\"-------------------------------------------------------------------------------\")\n",
    "        if total_loss_val < best_loss:\n",
    "            \n",
    "            print(\"*************...saving best model *************\")\n",
    "            best_loss       =   total_loss_val\n",
    "            torch.save({\n",
    "                'model_state_dict': model.state_dict(),\n",
    "                'best_loss': best_loss,\n",
    "            }, path_model)\n",
    "        epochs.append(epoch)\n",
    "        torch.save({\n",
    "            'train_loss': train_loss,\n",
    "            'val_loss': val_loss,\n",
    "            'epochs': epochs,\n",
    "        }, path_losses)\n",
    "        if (len(val_loss) >= 2) and (val_loss[-2] > val_loss[-1]):\n",
    "            counter       =   0\n",
    "        else:\n",
    "            counter       +=   1\n",
    "            if counter >= patience:\n",
    "                print(\"Early stopping!\")\n",
    "                break\n",
    "        scheduler.step()\n",
    "        torch.cuda.empty_cache()"
   ]
  },
  {
   "cell_type": "code",
   "execution_count": 71,
   "id": "87416cdd-685d-4db6-af58-0271cd44d31a",
   "metadata": {},
   "outputs": [],
   "source": [
    "learning_rate   =  0.0005"
   ]
  },
  {
   "cell_type": "code",
   "execution_count": 72,
   "id": "979442a9-97ec-419a-befd-a07663a6d123",
   "metadata": {},
   "outputs": [],
   "source": [
    "optimizer       =   AdamW(model.parameters(), lr=learning_rate, weight_decay=0.0)\n",
    "criterion_bce   =   nn.BCEWithLogitsLoss()\n",
    "criterion_l1    =   nn.L1Loss()\n",
    "\n",
    "run.log({\"LRate\": learning_rate})  \n",
    "\n",
    "scheduler       =   torch.optim.lr_scheduler.StepLR(optimizer, step_size=25, gamma=0.8)\n",
    "scaler          =   GradScaler()"
   ]
  },
  {
   "cell_type": "code",
   "execution_count": 73,
   "id": "5ebe1695-8dad-4efa-8659-db6e12c33f38",
   "metadata": {
    "scrolled": true
   },
   "outputs": [
    {
     "name": "stderr",
     "output_type": "stream",
     "text": [
      " 33%|███▎      | 279/844 [02:10<08:55,  1.05it/s]wandb: Network error (ConnectionError), entering retry loop.\n",
      "100%|██████████| 844/844 [11:18<00:00,  1.24it/s]\n"
     ]
    },
    {
     "name": "stdout",
     "output_type": "stream",
     "text": [
      "-------------------------------------------------------------------------------\n",
      "|  Epoch [1/25]          |        Total Train LOSS : 0.1604           |\n",
      "-------------------------------------------------------------------------------\n",
      "-------------------------------------------------------------------------------\n",
      "|  Epoch [1/25]          |        Total Train BBOX : 0.1386           |\n",
      "-------------------------------------------------------------------------------\n",
      "-------------------------------------------------------------------------------\n",
      "|  Epoch [1/25]          |        Total Train CLS  : 0.0267           |\n",
      "-------------------------------------------------------------------------------\n"
     ]
    },
    {
     "name": "stderr",
     "output_type": "stream",
     "text": [
      "Epoch 1/25: 100%|██████████| 94/94 [00:48<00:00,  1.95it/s]\n"
     ]
    },
    {
     "name": "stdout",
     "output_type": "stream",
     "text": [
      "-------------------------------------------------------------------------------\n",
      "|  Epoch [1/25]         |       Total Validation LOSS : 0.1462           |\n",
      "-------------------------------------------------------------------------------\n",
      "-------------------------------------------------------------------------------\n",
      "|  Epoch [1/25]         |       Total Validation BBOX : 0.1403           |\n",
      "-------------------------------------------------------------------------------\n",
      "-------------------------------------------------------------------------------\n",
      "|  Epoch [1/25]         |       Total Validation CLS : 0.0319           |\n",
      "-------------------------------------------------------------------------------\n",
      "*************...saving best model *************\n"
     ]
    },
    {
     "name": "stderr",
     "output_type": "stream",
     "text": [
      "100%|██████████| 844/844 [06:13<00:00,  2.26it/s]\n"
     ]
    },
    {
     "name": "stdout",
     "output_type": "stream",
     "text": [
      "-------------------------------------------------------------------------------\n",
      "|  Epoch [2/25]          |        Total Train LOSS : 0.1449           |\n",
      "-------------------------------------------------------------------------------\n",
      "-------------------------------------------------------------------------------\n",
      "|  Epoch [2/25]          |        Total Train BBOX : 0.1131           |\n",
      "-------------------------------------------------------------------------------\n",
      "-------------------------------------------------------------------------------\n",
      "|  Epoch [2/25]          |        Total Train CLS  : 0.0220           |\n",
      "-------------------------------------------------------------------------------\n"
     ]
    },
    {
     "name": "stderr",
     "output_type": "stream",
     "text": [
      "Epoch 2/25: 100%|██████████| 94/94 [00:17<00:00,  5.46it/s]\n"
     ]
    },
    {
     "name": "stdout",
     "output_type": "stream",
     "text": [
      "-------------------------------------------------------------------------------\n",
      "|  Epoch [2/25]         |       Total Validation LOSS : 0.1454           |\n",
      "-------------------------------------------------------------------------------\n",
      "-------------------------------------------------------------------------------\n",
      "|  Epoch [2/25]         |       Total Validation BBOX : 0.1262           |\n",
      "-------------------------------------------------------------------------------\n",
      "-------------------------------------------------------------------------------\n",
      "|  Epoch [2/25]         |       Total Validation CLS : 0.0262           |\n",
      "-------------------------------------------------------------------------------\n",
      "-------------------------------------------------------------------------------\n",
      "|              Change in loss is      %   0.55                               |\n",
      "-------------------------------------------------------------------------------\n",
      "*************...saving best model *************\n"
     ]
    },
    {
     "name": "stderr",
     "output_type": "stream",
     "text": [
      "100%|██████████| 844/844 [05:31<00:00,  2.54it/s]\n"
     ]
    },
    {
     "name": "stdout",
     "output_type": "stream",
     "text": [
      "-------------------------------------------------------------------------------\n",
      "|  Epoch [3/25]          |        Total Train LOSS : 0.1442           |\n",
      "-------------------------------------------------------------------------------\n",
      "-------------------------------------------------------------------------------\n",
      "|  Epoch [3/25]          |        Total Train BBOX : 0.1339           |\n",
      "-------------------------------------------------------------------------------\n",
      "-------------------------------------------------------------------------------\n",
      "|  Epoch [3/25]          |        Total Train CLS  : 0.0271           |\n",
      "-------------------------------------------------------------------------------\n"
     ]
    },
    {
     "name": "stderr",
     "output_type": "stream",
     "text": [
      "Epoch 3/25: 100%|██████████| 94/94 [00:17<00:00,  5.51it/s]\n"
     ]
    },
    {
     "name": "stdout",
     "output_type": "stream",
     "text": [
      "-------------------------------------------------------------------------------\n",
      "|  Epoch [3/25]         |       Total Validation LOSS : 0.1445           |\n",
      "-------------------------------------------------------------------------------\n",
      "-------------------------------------------------------------------------------\n",
      "|  Epoch [3/25]         |       Total Validation BBOX : 0.0977           |\n",
      "-------------------------------------------------------------------------------\n",
      "-------------------------------------------------------------------------------\n",
      "|  Epoch [3/25]         |       Total Validation CLS : 0.0178           |\n",
      "-------------------------------------------------------------------------------\n",
      "-------------------------------------------------------------------------------\n",
      "|              Change in loss is      %   0.59                               |\n",
      "-------------------------------------------------------------------------------\n",
      "*************...saving best model *************\n"
     ]
    },
    {
     "name": "stderr",
     "output_type": "stream",
     "text": [
      "100%|██████████| 844/844 [05:32<00:00,  2.54it/s]\n"
     ]
    },
    {
     "name": "stdout",
     "output_type": "stream",
     "text": [
      "-------------------------------------------------------------------------------\n",
      "|  Epoch [4/25]          |        Total Train LOSS : 0.1438           |\n",
      "-------------------------------------------------------------------------------\n",
      "-------------------------------------------------------------------------------\n",
      "|  Epoch [4/25]          |        Total Train BBOX : 0.1390           |\n",
      "-------------------------------------------------------------------------------\n",
      "-------------------------------------------------------------------------------\n",
      "|  Epoch [4/25]          |        Total Train CLS  : 0.0213           |\n",
      "-------------------------------------------------------------------------------\n"
     ]
    },
    {
     "name": "stderr",
     "output_type": "stream",
     "text": [
      "Epoch 4/25: 100%|██████████| 94/94 [00:16<00:00,  5.64it/s]\n"
     ]
    },
    {
     "name": "stdout",
     "output_type": "stream",
     "text": [
      "-------------------------------------------------------------------------------\n",
      "|  Epoch [4/25]         |       Total Validation LOSS : 0.1444           |\n",
      "-------------------------------------------------------------------------------\n",
      "-------------------------------------------------------------------------------\n",
      "|  Epoch [4/25]         |       Total Validation BBOX : 0.0927           |\n",
      "-------------------------------------------------------------------------------\n",
      "-------------------------------------------------------------------------------\n",
      "|  Epoch [4/25]         |       Total Validation CLS : 0.0143           |\n",
      "-------------------------------------------------------------------------------\n",
      "-------------------------------------------------------------------------------\n",
      "|              Change in loss is      %   0.08                               |\n",
      "-------------------------------------------------------------------------------\n",
      "*************...saving best model *************\n"
     ]
    },
    {
     "name": "stderr",
     "output_type": "stream",
     "text": [
      " 27%|██▋       | 232/844 [01:33<04:06,  2.48it/s]\n"
     ]
    },
    {
     "ename": "KeyboardInterrupt",
     "evalue": "",
     "output_type": "error",
     "traceback": [
      "\u001b[0;31m---------------------------------------------------------------------------\u001b[0m",
      "\u001b[0;31mKeyboardInterrupt\u001b[0m                         Traceback (most recent call last)",
      "Cell \u001b[0;32mIn[73], line 1\u001b[0m\n\u001b[0;32m----> 1\u001b[0m \u001b[43mtrain\u001b[49m\u001b[43m(\u001b[49m\u001b[43mnum_epochs\u001b[49m\u001b[38;5;241;43m=\u001b[39;49m\u001b[38;5;241;43m25\u001b[39;49m\u001b[43m,\u001b[49m\u001b[43m \u001b[49m\u001b[43mpatience\u001b[49m\u001b[38;5;241;43m=\u001b[39;49m\u001b[38;5;241;43m10\u001b[39;49m\u001b[43m,\u001b[49m\u001b[43m \u001b[49m\u001b[43mcounter\u001b[49m\u001b[38;5;241;43m=\u001b[39;49m\u001b[38;5;241;43m0\u001b[39;49m\u001b[43m,\u001b[49m\u001b[43m \u001b[49m\u001b[43mbest_loss\u001b[49m\u001b[38;5;241;43m=\u001b[39;49m\u001b[43mbest_loss\u001b[49m\u001b[43m)\u001b[49m\n",
      "Cell \u001b[0;32mIn[70], line 22\u001b[0m, in \u001b[0;36mtrain\u001b[0;34m(num_epochs, patience, counter, best_loss)\u001b[0m\n\u001b[1;32m     16\u001b[0m \u001b[38;5;28;01mwith\u001b[39;00m autocast(device_type\u001b[38;5;241m=\u001b[39m\u001b[38;5;124m'\u001b[39m\u001b[38;5;124mcuda\u001b[39m\u001b[38;5;124m'\u001b[39m):\n\u001b[1;32m     19\u001b[0m     pred_box, pred_clas         \u001b[38;5;241m=\u001b[39m   model(img)\n\u001b[0;32m---> 22\u001b[0m     loss_bbox         \u001b[38;5;241m=\u001b[39m   \u001b[38;5;241m1\u001b[39m \u001b[38;5;241m*\u001b[39m criterion_l1(pred_box, bbox) \u001b[38;5;241m+\u001b[39m \u001b[38;5;241m0\u001b[39m \u001b[38;5;241m*\u001b[39m \u001b[43mtorchvision\u001b[49m\u001b[38;5;241;43m.\u001b[39;49m\u001b[43mops\u001b[49m\u001b[38;5;241;43m.\u001b[39;49m\u001b[43mgeneralized_box_iou_loss\u001b[49m\u001b[43m(\u001b[49m\u001b[43mbbox\u001b[49m\u001b[38;5;241;43m.\u001b[39;49m\u001b[43mview\u001b[49m\u001b[43m(\u001b[49m\u001b[38;5;241;43m-\u001b[39;49m\u001b[38;5;241;43m1\u001b[39;49m\u001b[43m,\u001b[49m\u001b[43m \u001b[49m\u001b[38;5;241;43m4\u001b[39;49m\u001b[43m)\u001b[49m\u001b[43m,\u001b[49m\u001b[43m \u001b[49m\u001b[43mpred_box\u001b[49m\u001b[38;5;241;43m.\u001b[39;49m\u001b[43mview\u001b[49m\u001b[43m(\u001b[49m\u001b[38;5;241;43m-\u001b[39;49m\u001b[38;5;241;43m1\u001b[39;49m\u001b[43m,\u001b[49m\u001b[43m \u001b[49m\u001b[38;5;241;43m4\u001b[39;49m\u001b[43m)\u001b[49m\u001b[43m,\u001b[49m\u001b[43m \u001b[49m\u001b[43mreduction\u001b[49m\u001b[38;5;241;43m=\u001b[39;49m\u001b[38;5;124;43m'\u001b[39;49m\u001b[38;5;124;43mmean\u001b[39;49m\u001b[38;5;124;43m'\u001b[39;49m\u001b[43m)\u001b[49m \n\u001b[1;32m     23\u001b[0m     loss_bbox         \u001b[38;5;241m=\u001b[39m   \u001b[38;5;241m10\u001b[39m \u001b[38;5;241m*\u001b[39m loss_bbox\n\u001b[1;32m     24\u001b[0m     loss_class        \u001b[38;5;241m=\u001b[39m   criterion_bce(pred_clas, clas)\n",
      "File \u001b[0;32m~/anaconda3/envs/DI_725_assignment_2/lib/python3.8/site-packages/torchvision/ops/giou_loss.py:48\u001b[0m, in \u001b[0;36mgeneralized_box_iou_loss\u001b[0;34m(boxes1, boxes2, reduction, eps)\u001b[0m\n\u001b[1;32m     46\u001b[0m boxes1 \u001b[38;5;241m=\u001b[39m _upcast_non_float(boxes1)\n\u001b[1;32m     47\u001b[0m boxes2 \u001b[38;5;241m=\u001b[39m _upcast_non_float(boxes2)\n\u001b[0;32m---> 48\u001b[0m intsctk, unionk \u001b[38;5;241m=\u001b[39m \u001b[43m_loss_inter_union\u001b[49m\u001b[43m(\u001b[49m\u001b[43mboxes1\u001b[49m\u001b[43m,\u001b[49m\u001b[43m \u001b[49m\u001b[43mboxes2\u001b[49m\u001b[43m)\u001b[49m\n\u001b[1;32m     49\u001b[0m iouk \u001b[38;5;241m=\u001b[39m intsctk \u001b[38;5;241m/\u001b[39m (unionk \u001b[38;5;241m+\u001b[39m eps)\n\u001b[1;32m     51\u001b[0m x1, y1, x2, y2 \u001b[38;5;241m=\u001b[39m boxes1\u001b[38;5;241m.\u001b[39munbind(dim\u001b[38;5;241m=\u001b[39m\u001b[38;5;241m-\u001b[39m\u001b[38;5;241m1\u001b[39m)\n",
      "File \u001b[0;32m~/anaconda3/envs/DI_725_assignment_2/lib/python3.8/site-packages/torchvision/ops/_utils.py:103\u001b[0m, in \u001b[0;36m_loss_inter_union\u001b[0;34m(boxes1, boxes2)\u001b[0m\n\u001b[1;32m    101\u001b[0m intsctk \u001b[38;5;241m=\u001b[39m torch\u001b[38;5;241m.\u001b[39mzeros_like(x1)\n\u001b[1;32m    102\u001b[0m mask \u001b[38;5;241m=\u001b[39m (ykis2 \u001b[38;5;241m>\u001b[39m ykis1) \u001b[38;5;241m&\u001b[39m (xkis2 \u001b[38;5;241m>\u001b[39m xkis1)\n\u001b[0;32m--> 103\u001b[0m intsctk[mask] \u001b[38;5;241m=\u001b[39m (\u001b[43mxkis2\u001b[49m\u001b[43m[\u001b[49m\u001b[43mmask\u001b[49m\u001b[43m]\u001b[49m \u001b[38;5;241m-\u001b[39m xkis1[mask]) \u001b[38;5;241m*\u001b[39m (ykis2[mask] \u001b[38;5;241m-\u001b[39m ykis1[mask])\n\u001b[1;32m    104\u001b[0m unionk \u001b[38;5;241m=\u001b[39m (x2 \u001b[38;5;241m-\u001b[39m x1) \u001b[38;5;241m*\u001b[39m (y2 \u001b[38;5;241m-\u001b[39m y1) \u001b[38;5;241m+\u001b[39m (x2g \u001b[38;5;241m-\u001b[39m x1g) \u001b[38;5;241m*\u001b[39m (y2g \u001b[38;5;241m-\u001b[39m y1g) \u001b[38;5;241m-\u001b[39m intsctk\n\u001b[1;32m    106\u001b[0m \u001b[38;5;28;01mreturn\u001b[39;00m intsctk, unionk\n",
      "\u001b[0;31mKeyboardInterrupt\u001b[0m: "
     ]
    }
   ],
   "source": [
    "train(num_epochs=25, patience=10, counter=0, best_loss=best_loss)  "
   ]
  },
  {
   "cell_type": "code",
   "execution_count": 96,
   "id": "3338c52e-962a-4f18-b319-d96efda454fc",
   "metadata": {},
   "outputs": [
    {
     "data": {
      "text/plain": [
       "<matplotlib.legend.Legend at 0x7f3d74124a90>"
      ]
     },
     "execution_count": 96,
     "metadata": {},
     "output_type": "execute_result"
    },
    {
     "data": {
      "image/png": "[encoded data removed]",
      "text/plain": [
       "<Figure size 600x600 with 1 Axes>"
      ]
     },
     "metadata": {},
     "output_type": "display_data"
    }
   ],
   "source": [
    "fig, ax = plt.subplots(1,1, figsize=(6,6))\n",
    "\n",
    "ax.plot(train_loss, \"b-\", label=\"Train Loss\")\n",
    "ax.plot(val_loss, \"r-\", label=\"Validation Loss\")\n",
    "ax.set_xlabel(\"Epochs\")\n",
    "ax.set_ylabel(\"Loss\")\n",
    "\n",
    "ax.set_xlim([0, 10])\n",
    "ax.set_ylim([0,1])\n",
    "\n",
    "ax.legend()"
   ]
  },
  {
   "cell_type": "markdown",
   "id": "851949d8-e7a4-4ffc-968c-e29997c66819",
   "metadata": {
    "jp-MarkdownHeadingCollapsed": true
   },
   "source": [
    "<div span style=\"background-color:yellow;    color:red;      text-align:center;    padding:5px;\">\n",
    "<h2>  Results : </h2>\n",
    "</div>"
   ]
  },
  {
   "cell_type": "code",
   "execution_count": 97,
   "id": "d418b3bc-38be-4c64-98a2-17f6c3491811",
   "metadata": {},
   "outputs": [],
   "source": [
    "e  =  model.eval()"
   ]
  },
  {
   "cell_type": "code",
   "execution_count": 98,
   "id": "516cc157-16a1-4df9-a80e-95447885528e",
   "metadata": {},
   "outputs": [],
   "source": [
    "for imgs, bbox, clas in train_loader:\n",
    "    break"
   ]
  },
  {
   "cell_type": "code",
   "execution_count": 99,
   "id": "0e2e06bd-1fb5-4c49-a57b-c0751b32976b",
   "metadata": {},
   "outputs": [
    {
     "data": {
      "text/plain": [
       "torch.Size([32, 3, 360, 640])"
      ]
     },
     "execution_count": 99,
     "metadata": {},
     "output_type": "execute_result"
    }
   ],
   "source": [
    "imgs.shape"
   ]
  },
  {
   "cell_type": "code",
   "execution_count": 100,
   "id": "40364fe8-7e25-4a61-a5ed-4fdc8bcb6ed3",
   "metadata": {},
   "outputs": [
    {
     "data": {
      "text/plain": [
       "torch.Size([32, 60, 4])"
      ]
     },
     "execution_count": 100,
     "metadata": {},
     "output_type": "execute_result"
    }
   ],
   "source": [
    "bbox.shape"
   ]
  },
  {
   "cell_type": "code",
   "execution_count": 125,
   "id": "69915388-c7a5-4ffa-95ef-d4a6e5e62a68",
   "metadata": {},
   "outputs": [],
   "source": [
    "num  =  7"
   ]
  },
  {
   "cell_type": "code",
   "execution_count": 126,
   "id": "bea0605d-e28e-4d07-9b1f-0df5cdaa2bef",
   "metadata": {},
   "outputs": [],
   "source": [
    "with torch.no_grad():\n",
    "\n",
    "    img            =     (imgs).to(device) \n",
    "\n",
    "    p_box, clas          =     model(img)       \n",
    "    \n"
   ]
  },
  {
   "cell_type": "code",
   "execution_count": 127,
   "id": "04e491c0-5845-4210-adf2-85a0f918ffb8",
   "metadata": {},
   "outputs": [
    {
     "data": {
      "text/plain": [
       "tensor([[3.8835e-01, 5.1563e-01, 9.6944e-02, 6.4924e-02],\n",
       "        [1.9195e-01, 3.1988e-01, 4.6286e-02, 4.4849e-02],\n",
       "        [3.1621e-03, 7.0171e-04, 8.4361e-03, 8.0962e-03],\n",
       "        [1.4171e-05, 1.0747e-05, 1.7187e-05, 8.2831e-06],\n",
       "        [1.7239e-05, 8.4760e-06, 1.3381e-05, 1.8683e-05]], device='cuda:0')"
      ]
     },
     "execution_count": 127,
     "metadata": {},
     "output_type": "execute_result"
    }
   ],
   "source": [
    "p_box[0][:5]"
   ]
  },
  {
   "cell_type": "code",
   "execution_count": null,
   "id": "73d13860-2a73-4d9c-9346-b8e5860d217f",
   "metadata": {},
   "outputs": [],
   "source": []
  },
  {
   "cell_type": "code",
   "execution_count": null,
   "id": "6eef05cd-14a1-4ac7-bea8-dbc20233ecd9",
   "metadata": {},
   "outputs": [],
   "source": []
  },
  {
   "cell_type": "code",
   "execution_count": null,
   "id": "4f664d10-cbf1-4856-ae44-101ca96fc087",
   "metadata": {},
   "outputs": [],
   "source": []
  },
  {
   "cell_type": "markdown",
   "id": "5307a629-28db-4631-97c2-51b599bbec7d",
   "metadata": {},
   "source": [
    "<div span style=\"background-color:yellow;    color:red;      text-align:center;    padding:5px;\">\n",
    "<h2>  Evaluation Metrices</h2>\n",
    "</div>"
   ]
  },
  {
   "cell_type": "markdown",
   "id": "c8afd358-4f32-4b69-b8b2-25d61fbf881f",
   "metadata": {},
   "source": [
    "<div span style=\"background-color:yellow;    color:red;      text-align:center;    padding:5px;\">\n",
    "<h2>  Sync for WANDB</h2>\n",
    "</div>"
   ]
  },
  {
   "cell_type": "code",
   "execution_count": null,
   "id": "f5ff60ce-0cd6-4de3-bf37-14260195a421",
   "metadata": {},
   "outputs": [],
   "source": [
    "#run.finish() "
   ]
  },
  {
   "cell_type": "code",
   "execution_count": null,
   "id": "b2c71cef-138d-4560-9044-a048bd2b620c",
   "metadata": {},
   "outputs": [],
   "source": []
  }
 ],
 "metadata": {
  "kernelspec": {
   "display_name": "Python 3 (ipykernel)",
   "language": "python",
   "name": "python3"
  },
  "language_info": {
   "codemirror_mode": {
    "name": "ipython",
    "version": 3
   },
   "file_extension": ".py",
   "mimetype": "text/x-python",
   "name": "python",
   "nbconvert_exporter": "python",
   "pygments_lexer": "ipython3",
   "version": "3.8.20"
  }
 },
 "nbformat": 4,
 "nbformat_minor": 5
}
