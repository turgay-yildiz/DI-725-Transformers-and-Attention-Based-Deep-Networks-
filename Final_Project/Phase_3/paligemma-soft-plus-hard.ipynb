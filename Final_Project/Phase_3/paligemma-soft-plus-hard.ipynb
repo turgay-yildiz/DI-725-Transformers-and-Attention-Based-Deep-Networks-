{
 "cells": [
  {
   "cell_type": "code",
   "execution_count": 1,
   "metadata": {
    "colab": {
     "base_uri": "https://localhost:8080/"
    },
    "collapsed": true,
    "execution": {
     "iopub.execute_input": "2025-05-21T03:27:11.769485Z",
     "iopub.status.busy": "2025-05-21T03:27:11.769305Z",
     "iopub.status.idle": "2025-05-21T03:27:21.220078Z",
     "shell.execute_reply": "2025-05-21T03:27:21.219209Z",
     "shell.execute_reply.started": "2025-05-21T03:27:11.769468Z"
    },
    "id": "UHflqji43qh9",
    "jupyter": {
     "outputs_hidden": true
    },
    "outputId": "b62fb990-2d81-4280-e501-87ed94c94b7a"
   },
   "outputs": [
    {
     "name": "stdout",
     "output_type": "stream",
     "text": [
      "Collecting evaluate\n",
      "  Downloading evaluate-0.4.3-py3-none-any.whl.metadata (9.2 kB)\n",
      "Requirement already satisfied: datasets>=2.0.0 in /usr/local/lib/python3.11/dist-packages (from evaluate) (3.6.0)\n",
      "Requirement already satisfied: numpy>=1.17 in /usr/local/lib/python3.11/dist-packages (from evaluate) (1.26.4)\n",
      "Requirement already satisfied: dill in /usr/local/lib/python3.11/dist-packages (from evaluate) (0.3.8)\n",
      "Requirement already satisfied: pandas in /usr/local/lib/python3.11/dist-packages (from evaluate) (2.2.3)\n",
      "Requirement already satisfied: requests>=2.19.0 in /usr/local/lib/python3.11/dist-packages (from evaluate) (2.32.3)\n",
      "Requirement already satisfied: tqdm>=4.62.1 in /usr/local/lib/python3.11/dist-packages (from evaluate) (4.67.1)\n",
      "Requirement already satisfied: xxhash in /usr/local/lib/python3.11/dist-packages (from evaluate) (3.5.0)\n",
      "Requirement already satisfied: multiprocess in /usr/local/lib/python3.11/dist-packages (from evaluate) (0.70.16)\n",
      "Requirement already satisfied: fsspec>=2021.05.0 in /usr/local/lib/python3.11/dist-packages (from fsspec[http]>=2021.05.0->evaluate) (2025.3.2)\n",
      "Requirement already satisfied: huggingface-hub>=0.7.0 in /usr/local/lib/python3.11/dist-packages (from evaluate) (0.31.1)\n",
      "Requirement already satisfied: packaging in /usr/local/lib/python3.11/dist-packages (from evaluate) (25.0)\n",
      "Requirement already satisfied: filelock in /usr/local/lib/python3.11/dist-packages (from datasets>=2.0.0->evaluate) (3.18.0)\n",
      "Requirement already satisfied: pyarrow>=15.0.0 in /usr/local/lib/python3.11/dist-packages (from datasets>=2.0.0->evaluate) (19.0.1)\n",
      "Collecting fsspec>=2021.05.0 (from fsspec[http]>=2021.05.0->evaluate)\n",
      "  Downloading fsspec-2025.3.0-py3-none-any.whl.metadata (11 kB)\n",
      "Requirement already satisfied: pyyaml>=5.1 in /usr/local/lib/python3.11/dist-packages (from datasets>=2.0.0->evaluate) (6.0.2)\n",
      "Requirement already satisfied: aiohttp!=4.0.0a0,!=4.0.0a1 in /usr/local/lib/python3.11/dist-packages (from fsspec[http]>=2021.05.0->evaluate) (3.11.18)\n",
      "Requirement already satisfied: typing-extensions>=3.7.4.3 in /usr/local/lib/python3.11/dist-packages (from huggingface-hub>=0.7.0->evaluate) (4.13.2)\n",
      "Requirement already satisfied: hf-xet<2.0.0,>=1.1.0 in /usr/local/lib/python3.11/dist-packages (from huggingface-hub>=0.7.0->evaluate) (1.1.0)\n",
      "Requirement already satisfied: mkl_fft in /usr/local/lib/python3.11/dist-packages (from numpy>=1.17->evaluate) (1.3.8)\n",
      "Requirement already satisfied: mkl_random in /usr/local/lib/python3.11/dist-packages (from numpy>=1.17->evaluate) (1.2.4)\n",
      "Requirement already satisfied: mkl_umath in /usr/local/lib/python3.11/dist-packages (from numpy>=1.17->evaluate) (0.1.1)\n",
      "Requirement already satisfied: mkl in /usr/local/lib/python3.11/dist-packages (from numpy>=1.17->evaluate) (2025.1.0)\n",
      "Requirement already satisfied: tbb4py in /usr/local/lib/python3.11/dist-packages (from numpy>=1.17->evaluate) (2022.1.0)\n",
      "Requirement already satisfied: mkl-service in /usr/local/lib/python3.11/dist-packages (from numpy>=1.17->evaluate) (2.4.1)\n",
      "Requirement already satisfied: charset-normalizer<4,>=2 in /usr/local/lib/python3.11/dist-packages (from requests>=2.19.0->evaluate) (3.4.2)\n",
      "Requirement already satisfied: idna<4,>=2.5 in /usr/local/lib/python3.11/dist-packages (from requests>=2.19.0->evaluate) (3.10)\n",
      "Requirement already satisfied: urllib3<3,>=1.21.1 in /usr/local/lib/python3.11/dist-packages (from requests>=2.19.0->evaluate) (2.4.0)\n",
      "Requirement already satisfied: certifi>=2017.4.17 in /usr/local/lib/python3.11/dist-packages (from requests>=2.19.0->evaluate) (2025.4.26)\n",
      "Requirement already satisfied: python-dateutil>=2.8.2 in /usr/local/lib/python3.11/dist-packages (from pandas->evaluate) (2.9.0.post0)\n",
      "Requirement already satisfied: pytz>=2020.1 in /usr/local/lib/python3.11/dist-packages (from pandas->evaluate) (2025.2)\n",
      "Requirement already satisfied: tzdata>=2022.7 in /usr/local/lib/python3.11/dist-packages (from pandas->evaluate) (2025.2)\n",
      "Requirement already satisfied: aiohappyeyeballs>=2.3.0 in /usr/local/lib/python3.11/dist-packages (from aiohttp!=4.0.0a0,!=4.0.0a1->fsspec[http]>=2021.05.0->evaluate) (2.6.1)\n",
      "Requirement already satisfied: aiosignal>=1.1.2 in /usr/local/lib/python3.11/dist-packages (from aiohttp!=4.0.0a0,!=4.0.0a1->fsspec[http]>=2021.05.0->evaluate) (1.3.2)\n",
      "Requirement already satisfied: attrs>=17.3.0 in /usr/local/lib/python3.11/dist-packages (from aiohttp!=4.0.0a0,!=4.0.0a1->fsspec[http]>=2021.05.0->evaluate) (25.3.0)\n",
      "Requirement already satisfied: frozenlist>=1.1.1 in /usr/local/lib/python3.11/dist-packages (from aiohttp!=4.0.0a0,!=4.0.0a1->fsspec[http]>=2021.05.0->evaluate) (1.6.0)\n",
      "Requirement already satisfied: multidict<7.0,>=4.5 in /usr/local/lib/python3.11/dist-packages (from aiohttp!=4.0.0a0,!=4.0.0a1->fsspec[http]>=2021.05.0->evaluate) (6.4.3)\n",
      "Requirement already satisfied: propcache>=0.2.0 in /usr/local/lib/python3.11/dist-packages (from aiohttp!=4.0.0a0,!=4.0.0a1->fsspec[http]>=2021.05.0->evaluate) (0.3.1)\n",
      "Requirement already satisfied: yarl<2.0,>=1.17.0 in /usr/local/lib/python3.11/dist-packages (from aiohttp!=4.0.0a0,!=4.0.0a1->fsspec[http]>=2021.05.0->evaluate) (1.20.0)\n",
      "Requirement already satisfied: six>=1.5 in /usr/local/lib/python3.11/dist-packages (from python-dateutil>=2.8.2->pandas->evaluate) (1.17.0)\n",
      "Requirement already satisfied: intel-openmp<2026,>=2024 in /usr/local/lib/python3.11/dist-packages (from mkl->numpy>=1.17->evaluate) (2024.2.0)\n",
      "Requirement already satisfied: tbb==2022.* in /usr/local/lib/python3.11/dist-packages (from mkl->numpy>=1.17->evaluate) (2022.1.0)\n",
      "Requirement already satisfied: tcmlib==1.* in /usr/local/lib/python3.11/dist-packages (from tbb==2022.*->mkl->numpy>=1.17->evaluate) (1.3.0)\n",
      "Requirement already satisfied: intel-cmplr-lib-rt in /usr/local/lib/python3.11/dist-packages (from mkl_umath->numpy>=1.17->evaluate) (2024.2.0)\n",
      "Requirement already satisfied: intel-cmplr-lib-ur==2024.2.0 in /usr/local/lib/python3.11/dist-packages (from intel-openmp<2026,>=2024->mkl->numpy>=1.17->evaluate) (2024.2.0)\n",
      "Downloading evaluate-0.4.3-py3-none-any.whl (84 kB)\n",
      "\u001b[2K   \u001b[90m━━━━━━━━━━━━━━━━━━━━━━━━━━━━━━━━━━━━━━━━\u001b[0m \u001b[32m84.0/84.0 kB\u001b[0m \u001b[31m4.2 MB/s\u001b[0m eta \u001b[36m0:00:00\u001b[0m\n",
      "\u001b[?25hDownloading fsspec-2025.3.0-py3-none-any.whl (193 kB)\n",
      "\u001b[2K   \u001b[90m━━━━━━━━━━━━━━━━━━━━━━━━━━━━━━━━━━━━━━━━\u001b[0m \u001b[32m193.6/193.6 kB\u001b[0m \u001b[31m13.2 MB/s\u001b[0m eta \u001b[36m0:00:00\u001b[0m\n",
      "\u001b[?25hInstalling collected packages: fsspec, evaluate\n",
      "  Attempting uninstall: fsspec\n",
      "    Found existing installation: fsspec 2025.3.2\n",
      "    Uninstalling fsspec-2025.3.2:\n",
      "      Successfully uninstalled fsspec-2025.3.2\n",
      "\u001b[31mERROR: pip's dependency resolver does not currently take into account all the packages that are installed. This behaviour is the source of the following dependency conflicts.\n",
      "cesium 0.12.4 requires numpy<3.0,>=2.0, but you have numpy 1.26.4 which is incompatible.\n",
      "bigframes 1.42.0 requires rich<14,>=12.4.4, but you have rich 14.0.0 which is incompatible.\n",
      "torch 2.6.0+cu124 requires nvidia-cublas-cu12==12.4.5.8; platform_system == \"Linux\" and platform_machine == \"x86_64\", but you have nvidia-cublas-cu12 12.9.0.13 which is incompatible.\n",
      "torch 2.6.0+cu124 requires nvidia-cudnn-cu12==9.1.0.70; platform_system == \"Linux\" and platform_machine == \"x86_64\", but you have nvidia-cudnn-cu12 9.3.0.75 which is incompatible.\n",
      "torch 2.6.0+cu124 requires nvidia-cufft-cu12==11.2.1.3; platform_system == \"Linux\" and platform_machine == \"x86_64\", but you have nvidia-cufft-cu12 11.4.0.6 which is incompatible.\n",
      "torch 2.6.0+cu124 requires nvidia-curand-cu12==10.3.5.147; platform_system == \"Linux\" and platform_machine == \"x86_64\", but you have nvidia-curand-cu12 10.3.10.19 which is incompatible.\n",
      "torch 2.6.0+cu124 requires nvidia-cusolver-cu12==11.6.1.9; platform_system == \"Linux\" and platform_machine == \"x86_64\", but you have nvidia-cusolver-cu12 11.7.4.40 which is incompatible.\n",
      "torch 2.6.0+cu124 requires nvidia-cusparse-cu12==12.3.1.170; platform_system == \"Linux\" and platform_machine == \"x86_64\", but you have nvidia-cusparse-cu12 12.5.9.5 which is incompatible.\n",
      "torch 2.6.0+cu124 requires nvidia-nvjitlink-cu12==12.4.127; platform_system == \"Linux\" and platform_machine == \"x86_64\", but you have nvidia-nvjitlink-cu12 12.9.41 which is incompatible.\n",
      "gcsfs 2025.3.2 requires fsspec==2025.3.2, but you have fsspec 2025.3.0 which is incompatible.\u001b[0m\u001b[31m\n",
      "\u001b[0mSuccessfully installed evaluate-0.4.3 fsspec-2025.3.0\n",
      "Collecting rouge_score\n",
      "  Downloading rouge_score-0.1.2.tar.gz (17 kB)\n",
      "  Preparing metadata (setup.py) ... \u001b[?25l\u001b[?25hdone\n",
      "Requirement already satisfied: absl-py in /usr/local/lib/python3.11/dist-packages (from rouge_score) (1.4.0)\n",
      "Requirement already satisfied: nltk in /usr/local/lib/python3.11/dist-packages (from rouge_score) (3.9.1)\n",
      "Requirement already satisfied: numpy in /usr/local/lib/python3.11/dist-packages (from rouge_score) (1.26.4)\n",
      "Requirement already satisfied: six>=1.14.0 in /usr/local/lib/python3.11/dist-packages (from rouge_score) (1.17.0)\n",
      "Requirement already satisfied: click in /usr/local/lib/python3.11/dist-packages (from nltk->rouge_score) (8.1.8)\n",
      "Requirement already satisfied: joblib in /usr/local/lib/python3.11/dist-packages (from nltk->rouge_score) (1.5.0)\n",
      "Requirement already satisfied: regex>=2021.8.3 in /usr/local/lib/python3.11/dist-packages (from nltk->rouge_score) (2024.11.6)\n",
      "Requirement already satisfied: tqdm in /usr/local/lib/python3.11/dist-packages (from nltk->rouge_score) (4.67.1)\n",
      "Requirement already satisfied: mkl_fft in /usr/local/lib/python3.11/dist-packages (from numpy->rouge_score) (1.3.8)\n",
      "Requirement already satisfied: mkl_random in /usr/local/lib/python3.11/dist-packages (from numpy->rouge_score) (1.2.4)\n",
      "Requirement already satisfied: mkl_umath in /usr/local/lib/python3.11/dist-packages (from numpy->rouge_score) (0.1.1)\n",
      "Requirement already satisfied: mkl in /usr/local/lib/python3.11/dist-packages (from numpy->rouge_score) (2025.1.0)\n",
      "Requirement already satisfied: tbb4py in /usr/local/lib/python3.11/dist-packages (from numpy->rouge_score) (2022.1.0)\n",
      "Requirement already satisfied: mkl-service in /usr/local/lib/python3.11/dist-packages (from numpy->rouge_score) (2.4.1)\n",
      "Requirement already satisfied: intel-openmp<2026,>=2024 in /usr/local/lib/python3.11/dist-packages (from mkl->numpy->rouge_score) (2024.2.0)\n",
      "Requirement already satisfied: tbb==2022.* in /usr/local/lib/python3.11/dist-packages (from mkl->numpy->rouge_score) (2022.1.0)\n",
      "Requirement already satisfied: tcmlib==1.* in /usr/local/lib/python3.11/dist-packages (from tbb==2022.*->mkl->numpy->rouge_score) (1.3.0)\n",
      "Requirement already satisfied: intel-cmplr-lib-rt in /usr/local/lib/python3.11/dist-packages (from mkl_umath->numpy->rouge_score) (2024.2.0)\n",
      "Requirement already satisfied: intel-cmplr-lib-ur==2024.2.0 in /usr/local/lib/python3.11/dist-packages (from intel-openmp<2026,>=2024->mkl->numpy->rouge_score) (2024.2.0)\n",
      "Building wheels for collected packages: rouge_score\n",
      "  Building wheel for rouge_score (setup.py) ... \u001b[?25l\u001b[?25hdone\n",
      "  Created wheel for rouge_score: filename=rouge_score-0.1.2-py3-none-any.whl size=24934 sha256=4d0da81d4188c6c650eb82775b5c7f7a7ff2ea114cce352cf861c1f9646d2f14\n",
      "  Stored in directory: /root/.cache/pip/wheels/1e/19/43/8a442dc83660ca25e163e1bd1f89919284ab0d0c1475475148\n",
      "Successfully built rouge_score\n",
      "Installing collected packages: rouge_score\n",
      "Successfully installed rouge_score-0.1.2\n"
     ]
    }
   ],
   "source": [
    "\n",
    "!pip install evaluate\n",
    "!pip install rouge_score"
   ]
  },
  {
   "cell_type": "code",
   "execution_count": 2,
   "metadata": {
    "execution": {
     "iopub.execute_input": "2025-05-21T03:27:21.221575Z",
     "iopub.status.busy": "2025-05-21T03:27:21.221256Z",
     "iopub.status.idle": "2025-05-21T03:27:21.225766Z",
     "shell.execute_reply": "2025-05-21T03:27:21.225055Z",
     "shell.execute_reply.started": "2025-05-21T03:27:21.221540Z"
    },
    "id": "hi1Z6cUNi5qu"
   },
   "outputs": [],
   "source": [
    "from IPython.display import display, HTML"
   ]
  },
  {
   "cell_type": "markdown",
   "metadata": {
    "execution": {
     "iopub.execute_input": "2025-05-02T06:47:50.075028Z",
     "iopub.status.busy": "2025-05-02T06:47:50.074537Z",
     "iopub.status.idle": "2025-05-02T06:47:50.080173Z",
     "shell.execute_reply": "2025-05-02T06:47:50.07928Z",
     "shell.execute_reply.started": "2025-05-02T06:47:50.075003Z"
    },
    "id": "UN1gBnmQ4LAj",
    "outputId": "a6ca43c0-0430-484f-bc05-665711eea867"
   },
   "source": [
    "<div style=\"background-color:yellow; text-align:center; padding:40px; font-family:sans-serif;\">\n",
    "  <h1 style=\"color:red;\">DI-725 : Transformers and Attention-Based Deep Networks</h1>\n",
    "  <h2 style=\"color:red;\">Final Project : Phase - 3</h2>\n",
    "  <br><br>\n",
    "  <h4 style=\"color:red;\">Turgay Yıldız</h4>\n",
    "  <br>\n",
    "  <h4 style=\"color:red;\">Graduate School of Informatics, Middle East Technical University (METU)</h4>\n",
    "</div>"
   ]
  },
  {
   "cell_type": "markdown",
   "metadata": {
    "execution": {
     "iopub.execute_input": "2025-05-02T06:47:11.957103Z",
     "iopub.status.busy": "2025-05-02T06:47:11.95643Z",
     "iopub.status.idle": "2025-05-02T06:47:11.961543Z",
     "shell.execute_reply": "2025-05-02T06:47:11.960914Z",
     "shell.execute_reply.started": "2025-05-02T06:47:11.95708Z"
    },
    "id": "lM_sMe2M4uhH",
    "outputId": "fb87cfd2-03e6-4c9e-b395-064dac894355"
   },
   "source": [
    "<div style=\"background-color:yellow; text-align:center; padding:40px; font-family:sans-serif;\">\n",
    "  <h3 style=\"color:red;\">Fetch big_vision code and install dependencies</h3>\n",
    "</div>"
   ]
  },
  {
   "cell_type": "code",
   "execution_count": 3,
   "metadata": {
    "execution": {
     "iopub.execute_input": "2025-05-21T03:27:21.227428Z",
     "iopub.status.busy": "2025-05-21T03:27:21.227257Z",
     "iopub.status.idle": "2025-05-21T03:27:21.240031Z",
     "shell.execute_reply": "2025-05-21T03:27:21.239474Z",
     "shell.execute_reply.started": "2025-05-21T03:27:21.227414Z"
    },
    "id": "0EJMa-2k-UuK"
   },
   "outputs": [],
   "source": [
    "import os\n",
    "import sys"
   ]
  },
  {
   "cell_type": "code",
   "execution_count": 4,
   "metadata": {
    "execution": {
     "iopub.execute_input": "2025-05-21T03:27:21.241330Z",
     "iopub.status.busy": "2025-05-21T03:27:21.240771Z",
     "iopub.status.idle": "2025-05-21T03:27:22.845611Z",
     "shell.execute_reply": "2025-05-21T03:27:22.844852Z",
     "shell.execute_reply.started": "2025-05-21T03:27:21.241312Z"
    },
    "id": "JlP2ZBh3-UoM"
   },
   "outputs": [],
   "source": [
    "# Fetch big_vision repository if python doesn't know about it and install\n",
    "# dependencies needed for this notebook.\n",
    "if not os.path.exists(\"big_vision_repo\"):\n",
    "  !git clone --quiet --branch=main --depth=1 \\\n",
    "     https://github.com/google-research/big_vision big_vision_repo"
   ]
  },
  {
   "cell_type": "code",
   "execution_count": 5,
   "metadata": {
    "execution": {
     "iopub.execute_input": "2025-05-21T03:27:22.846778Z",
     "iopub.status.busy": "2025-05-21T03:27:22.846561Z",
     "iopub.status.idle": "2025-05-21T03:27:22.850651Z",
     "shell.execute_reply": "2025-05-21T03:27:22.850139Z",
     "shell.execute_reply.started": "2025-05-21T03:27:22.846752Z"
    },
    "id": "hjlUuo-E-UlP"
   },
   "outputs": [],
   "source": [
    "# Append big_vision code to python import path\n",
    "if \"big_vision_repo\" not in sys.path:\n",
    "  sys.path.append(\"big_vision_repo\")"
   ]
  },
  {
   "cell_type": "code",
   "execution_count": 6,
   "metadata": {
    "colab": {
     "base_uri": "https://localhost:8080/"
    },
    "execution": {
     "iopub.execute_input": "2025-05-21T03:27:22.851457Z",
     "iopub.status.busy": "2025-05-21T03:27:22.851303Z",
     "iopub.status.idle": "2025-05-21T03:27:26.260907Z",
     "shell.execute_reply": "2025-05-21T03:27:26.260213Z",
     "shell.execute_reply.started": "2025-05-21T03:27:22.851443Z"
    },
    "id": "xAKDOz6_-UKV",
    "outputId": "a961916a-0d3d-4bdc-84c2-e1a7feb31cb8"
   },
   "outputs": [
    {
     "name": "stdout",
     "output_type": "stream",
     "text": [
      "\u001b[2K   \u001b[90m━━━━━━━━━━━━━━━━━━━━━━━━━━━━━━━━━━━━━━━━\u001b[0m \u001b[32m76.7/76.7 kB\u001b[0m \u001b[31m4.6 MB/s\u001b[0m eta \u001b[36m0:00:00\u001b[0m\n",
      "\u001b[?25h"
     ]
    }
   ],
   "source": [
    "# Install missing dependencies. Assume jax~=0.4.25 with GPU available.\n",
    "!pip3 install -q \"overrides\" \"ml_collections\" \"einops~=0.7\" \"sentencepiece\""
   ]
  },
  {
   "cell_type": "markdown",
   "metadata": {
    "id": "VHH3Ja8F5DoX",
    "outputId": "515a14ea-dfc9-4fa9-fa18-e3d391f0effc"
   },
   "source": [
    "<div style=\"background-color:yellow; text-align:center; padding:40px; font-family:sans-serif;\">\n",
    "  <h3 style=\"color:red;\"> Model and Pre-trained weights : </h3>\n",
    "</div>"
   ]
  },
  {
   "cell_type": "code",
   "execution_count": 7,
   "metadata": {
    "execution": {
     "iopub.execute_input": "2025-05-21T03:27:26.262111Z",
     "iopub.status.busy": "2025-05-21T03:27:26.261851Z",
     "iopub.status.idle": "2025-05-21T03:27:26.266168Z",
     "shell.execute_reply": "2025-05-21T03:27:26.265668Z",
     "shell.execute_reply.started": "2025-05-21T03:27:26.262084Z"
    },
    "id": "cxuGG9Ni-GyY"
   },
   "outputs": [],
   "source": [
    "# Note: `userdata.get` is a Colab API. If you're not using Colab, set the env\n",
    "# vars as appropriate or make your credentials available in ~/.kaggle/kaggle.json\n",
    "\n",
    "os.environ[\"...\"]      =    '...'\n",
    "os.environ[\"...\"]      =    '...'"
   ]
  },
  {
   "cell_type": "code",
   "execution_count": 8,
   "metadata": {
    "execution": {
     "iopub.execute_input": "2025-05-21T03:27:26.267109Z",
     "iopub.status.busy": "2025-05-21T03:27:26.266925Z",
     "iopub.status.idle": "2025-05-21T03:27:26.281732Z",
     "shell.execute_reply": "2025-05-21T03:27:26.281038Z",
     "shell.execute_reply.started": "2025-05-21T03:27:26.267093Z"
    },
    "id": "Lbpsmqbd-GvR"
   },
   "outputs": [],
   "source": [
    "# The T4 runtime is tight on memory to finetune this model. Preallocate\n",
    "# all memory ahead of time to avoid OOM'ing due to fragmentation.\n",
    "\n",
    "os.environ[\"XLA_PYTHON_CLIENT_MEM_FRACTION\"] = \"1.0\""
   ]
  },
  {
   "cell_type": "code",
   "execution_count": 9,
   "metadata": {
    "execution": {
     "iopub.execute_input": "2025-05-21T03:27:26.284399Z",
     "iopub.status.busy": "2025-05-21T03:27:26.284182Z",
     "iopub.status.idle": "2025-05-21T03:27:26.587876Z",
     "shell.execute_reply": "2025-05-21T03:27:26.587370Z",
     "shell.execute_reply.started": "2025-05-21T03:27:26.284384Z"
    },
    "id": "CAaOu2kH-Gsn"
   },
   "outputs": [],
   "source": [
    "import kagglehub"
   ]
  },
  {
   "cell_type": "code",
   "execution_count": 10,
   "metadata": {
    "execution": {
     "iopub.execute_input": "2025-05-21T03:27:26.588635Z",
     "iopub.status.busy": "2025-05-21T03:27:26.588468Z",
     "iopub.status.idle": "2025-05-21T03:27:26.592275Z",
     "shell.execute_reply": "2025-05-21T03:27:26.591614Z",
     "shell.execute_reply.started": "2025-05-21T03:27:26.588622Z"
    },
    "id": "lwS8F7Y5-Gmy"
   },
   "outputs": [],
   "source": [
    "# Use these for PaliGemma 1:\n",
    "LLM_VARIANT   = \"gemma_2b\"\n",
    "MODEL_PATH    = \"./paligemma-3b-pt-224.f16.npz\"\n",
    "KAGGLE_HANDLE = \"google/paligemma/jax/paligemma-3b-pt-224\""
   ]
  },
  {
   "cell_type": "code",
   "execution_count": 11,
   "metadata": {
    "colab": {
     "base_uri": "https://localhost:8080/"
    },
    "execution": {
     "iopub.execute_input": "2025-05-21T03:27:26.593331Z",
     "iopub.status.busy": "2025-05-21T03:27:26.593115Z",
     "iopub.status.idle": "2025-05-21T03:27:27.056405Z",
     "shell.execute_reply": "2025-05-21T03:27:27.055854Z",
     "shell.execute_reply.started": "2025-05-21T03:27:26.593315Z"
    },
    "id": "MJKsbiCM-GkN",
    "outputId": "eca3e6f4-c867-4dde-e6f3-843fe824b236"
   },
   "outputs": [
    {
     "name": "stdout",
     "output_type": "stream",
     "text": [
      "Downloading the checkpoint from Kaggle, this could take a few minutes....\n",
      "Model path: /kaggle/input/paligemma/jax/paligemma-3b-pt-224/1/./paligemma-3b-pt-224.f16.npz\n"
     ]
    }
   ],
   "source": [
    "if not os.path.exists(MODEL_PATH):\n",
    "  print(\"Downloading the checkpoint from Kaggle, this could take a few minutes....\")\n",
    "  MODEL_PATH = kagglehub.model_download(KAGGLE_HANDLE, MODEL_PATH)\n",
    "  print(f\"Model path: {MODEL_PATH}\")"
   ]
  },
  {
   "cell_type": "code",
   "execution_count": 12,
   "metadata": {
    "colab": {
     "base_uri": "https://localhost:8080/"
    },
    "execution": {
     "iopub.execute_input": "2025-05-21T03:27:27.057279Z",
     "iopub.status.busy": "2025-05-21T03:27:27.057070Z",
     "iopub.status.idle": "2025-05-21T03:27:31.452344Z",
     "shell.execute_reply": "2025-05-21T03:27:31.451461Z",
     "shell.execute_reply.started": "2025-05-21T03:27:27.057263Z"
    },
    "id": "QFCV-bVi-GhP",
    "outputId": "ac1b52ac-f592-4c77-d087-de8650bcde4f"
   },
   "outputs": [
    {
     "name": "stdout",
     "output_type": "stream",
     "text": [
      "Downloading the model tokenizer...\n",
      "--2025-05-21 03:27:27--  https://storage.googleapis.com/big_vision/paligemma_tokenizer.model\n",
      "Resolving storage.googleapis.com (storage.googleapis.com)... 172.217.167.123, 142.250.66.219, 142.250.67.27, ...\n",
      "Connecting to storage.googleapis.com (storage.googleapis.com)|172.217.167.123|:443... connected.\n",
      "HTTP request sent, awaiting response... 200 OK\n",
      "Length: 4264023 (4.1M) [application/octet-stream]\n",
      "Saving to: ‘./paligemma_tokenizer.model’\n",
      "\n",
      "./paligemma_tokeniz 100%[===================>]   4.07M  1.83MB/s    in 2.2s    \n",
      "\n",
      "2025-05-21 03:27:31 (1.83 MB/s) - ‘./paligemma_tokenizer.model’ saved [4264023/4264023]\n",
      "\n",
      "Tokenizer path: ./paligemma_tokenizer.model\n"
     ]
    }
   ],
   "source": [
    "TOKENIZER_PATH = \"./paligemma_tokenizer.model\"\n",
    "if not os.path.exists(TOKENIZER_PATH):\n",
    "    print(\"Downloading the model tokenizer...\")\n",
    "    !wget https://storage.googleapis.com/big_vision/paligemma_tokenizer.model -O {TOKENIZER_PATH}\n",
    "    print(f\"Tokenizer path: {TOKENIZER_PATH}\")\n"
   ]
  },
  {
   "cell_type": "markdown",
   "metadata": {
    "id": "skWR8fUu5iU1",
    "outputId": "4338af5f-27a3-4264-8a47-32a48b5db218"
   },
   "source": [
    "<div style=\"background-color:yellow; text-align:center; padding:40px; font-family:sans-serif;\">\n",
    "  <h3 style=\"color:red;\"> Core Library Imports : </h3>\n",
    "</div>"
   ]
  },
  {
   "cell_type": "code",
   "execution_count": 14,
   "metadata": {
    "execution": {
     "iopub.execute_input": "2025-05-21T03:27:40.329566Z",
     "iopub.status.busy": "2025-05-21T03:27:40.329020Z",
     "iopub.status.idle": "2025-05-21T03:27:51.753590Z",
     "shell.execute_reply": "2025-05-21T03:27:51.752851Z",
     "shell.execute_reply.started": "2025-05-21T03:27:40.329544Z"
    },
    "id": "zE7BtRvz-Ga3"
   },
   "outputs": [
    {
     "name": "stderr",
     "output_type": "stream",
     "text": [
      "2025-05-21 03:27:41.682766: E external/local_xla/xla/stream_executor/cuda/cuda_fft.cc:477] Unable to register cuFFT factory: Attempting to register factory for plugin cuFFT when one has already been registered\n",
      "WARNING: All log messages before absl::InitializeLog() is called are written to STDERR\n",
      "E0000 00:00:1747798061.862417      35 cuda_dnn.cc:8310] Unable to register cuDNN factory: Attempting to register factory for plugin cuDNN when one has already been registered\n",
      "E0000 00:00:1747798061.915495      35 cuda_blas.cc:1418] Unable to register cuBLAS factory: Attempting to register factory for plugin cuBLAS when one has already been registered\n"
     ]
    }
   ],
   "source": [
    "import base64\n",
    "import functools\n",
    "import html\n",
    "import io\n",
    "import os\n",
    "import warnings\n",
    "\n",
    "import jax\n",
    "import jax.numpy as jnp\n",
    "import numpy as np\n",
    "import ml_collections\n",
    "\n",
    "import tensorflow as tf\n",
    "import sentencepiece\n",
    "\n",
    "from IPython.core.display import display, HTML\n",
    "from PIL import Image\n",
    "\n",
    "# Import model definition from big_vision\n",
    "from big_vision.models.proj.paligemma import paligemma\n",
    "from big_vision.trainers.proj.paligemma import predict_fns\n",
    "\n",
    "# Import big vision utilities\n",
    "import big_vision.datasets.jsonl\n",
    "import big_vision.utils\n",
    "import big_vision.sharding\n"
   ]
  },
  {
   "cell_type": "markdown",
   "metadata": {
    "id": "2_2PUPia51SX",
    "outputId": "87163725-49dc-4124-ddd9-dacee11e15ae"
   },
   "source": [
    "<div style=\"background-color:yellow; text-align:center; padding:40px; font-family:sans-serif;\">\n",
    "  <h3 style=\"color:red;\"> Reserve GPU/TPU for JAX </h3>\n",
    "</div>"
   ]
  },
  {
   "cell_type": "code",
   "execution_count": 15,
   "metadata": {
    "colab": {
     "base_uri": "https://localhost:8080/"
    },
    "execution": {
     "iopub.execute_input": "2025-05-21T03:27:53.235595Z",
     "iopub.status.busy": "2025-05-21T03:27:53.234639Z",
     "iopub.status.idle": "2025-05-21T03:27:54.680798Z",
     "shell.execute_reply": "2025-05-21T03:27:54.680249Z",
     "shell.execute_reply.started": "2025-05-21T03:27:53.235567Z"
    },
    "id": "kV8GDGIP51Pn",
    "outputId": "85ddeac3-a4b2-450b-a35d-a516d1f7f44f"
   },
   "outputs": [
    {
     "name": "stderr",
     "output_type": "stream",
     "text": [
      "INFO:2025-05-21 03:27:54,660:jax._src.xla_bridge:924: Unable to initialize backend 'rocm': module 'jaxlib.xla_extension' has no attribute 'GpuAllocatorConfig'\n",
      "INFO:2025-05-21 03:27:54,676:jax._src.xla_bridge:924: Unable to initialize backend 'tpu': INTERNAL: Failed to open libtpu.so: libtpu.so: cannot open shared object file: No such file or directory\n"
     ]
    },
    {
     "name": "stdout",
     "output_type": "stream",
     "text": [
      "JAX version:  0.5.2\n",
      "JAX platform: gpu\n",
      "JAX devices:  1\n"
     ]
    }
   ],
   "source": [
    "# Don't let TF use the GPU or TPUs\n",
    "# Disables TensorFlow’s access to GPUs/TPUs so JAX can fully utilize them without resource contention.\n",
    "\n",
    "tf.config.set_visible_devices([], \"GPU\")\n",
    "tf.config.set_visible_devices([], \"TPU\")\n",
    "\n",
    "backend = jax.extend.backend.get_backend()\n",
    "print(f\"JAX version:  {jax.__version__}\")\n",
    "print(f\"JAX platform: {backend.platform}\")\n",
    "print(f\"JAX devices:  {jax.device_count()}\")"
   ]
  },
  {
   "cell_type": "markdown",
   "metadata": {
    "id": "8YQdjtXR5OB9",
    "outputId": "0bd31fa4-f61c-4832-b5d0-5d8b1bede748"
   },
   "source": [
    "<div style=\"background-color:yellow; text-align:center; padding:40px; font-family:sans-serif;\">\n",
    "  <h3 style=\"color:red;\">Construct model and load params into RAM </h3>\n",
    "\n",
    " <h5 style=\"color:red;\"> model_config: hyperparameters for both the vision encoder and text decoder.\n",
    "<br>\n",
    "                          Instantiate the combined Vision+LLM model.\n",
    "<br>\n",
    "                          Load pretrained weights into a parameter tree.\n",
    "<br>\n",
    "                          Build a decode function for efficient batched generation.\n",
    "                          </h5>\n",
    "\n",
    "\n",
    "</div>"
   ]
  },
  {
   "cell_type": "code",
   "execution_count": 16,
   "metadata": {
    "execution": {
     "iopub.execute_input": "2025-05-21T03:27:58.695370Z",
     "iopub.status.busy": "2025-05-21T03:27:58.694651Z",
     "iopub.status.idle": "2025-05-21T03:27:58.699396Z",
     "shell.execute_reply": "2025-05-21T03:27:58.698616Z",
     "shell.execute_reply.started": "2025-05-21T03:27:58.695345Z"
    },
    "id": "ASLov65J-GXu"
   },
   "outputs": [],
   "source": [
    "model_config = ml_collections.FrozenConfigDict({\n",
    "    \"llm\": {\"vocab_size\": 257_152, \"variant\": LLM_VARIANT, \"final_logits_softcap\": 0.0},\n",
    "    \"img\": {\"variant\": \"So400m/14\", \"pool_type\": \"none\", \"scan\": True, \"dtype_mm\": \"float16\"}\n",
    "})"
   ]
  },
  {
   "cell_type": "code",
   "execution_count": 17,
   "metadata": {
    "execution": {
     "iopub.execute_input": "2025-05-21T03:27:59.174032Z",
     "iopub.status.busy": "2025-05-21T03:27:59.173778Z",
     "iopub.status.idle": "2025-05-21T03:27:59.314247Z",
     "shell.execute_reply": "2025-05-21T03:27:59.313539Z",
     "shell.execute_reply.started": "2025-05-21T03:27:59.174011Z"
    },
    "id": "BK3LI-Nh-GUe"
   },
   "outputs": [],
   "source": [
    "model     = paligemma.Model(**model_config)\n",
    "tokenizer = sentencepiece.SentencePieceProcessor(TOKENIZER_PATH)"
   ]
  },
  {
   "cell_type": "code",
   "execution_count": 18,
   "metadata": {
    "execution": {
     "iopub.execute_input": "2025-05-21T03:27:59.434828Z",
     "iopub.status.busy": "2025-05-21T03:27:59.434590Z",
     "iopub.status.idle": "2025-05-21T03:28:43.491468Z",
     "shell.execute_reply": "2025-05-21T03:28:43.490665Z",
     "shell.execute_reply.started": "2025-05-21T03:27:59.434810Z"
    },
    "id": "JVfRqTLk-GOW"
   },
   "outputs": [],
   "source": [
    "# Load params - this can take up to 1 minute in T4 colabs.\n",
    "params = paligemma.load(None, MODEL_PATH, model_config)"
   ]
  },
  {
   "cell_type": "markdown",
   "metadata": {
    "id": "HwqRkFY4i5q1"
   },
   "source": [
    "<div style=\"background-color:yellow; text-align:center; padding:40px; font-family:sans-serif;\">\n",
    "  <h3 style=\"color:red;\"> Soft Prompt Embeddings: </h3>\n",
    "</div>"
   ]
  },
  {
   "cell_type": "code",
   "execution_count": 19,
   "metadata": {
    "execution": {
     "iopub.execute_input": "2025-05-21T03:28:43.493614Z",
     "iopub.status.busy": "2025-05-21T03:28:43.492825Z",
     "iopub.status.idle": "2025-05-21T03:28:43.496738Z",
     "shell.execute_reply": "2025-05-21T03:28:43.495947Z",
     "shell.execute_reply.started": "2025-05-21T03:28:43.493593Z"
    },
    "id": "2UxAv3QKi5q1"
   },
   "outputs": [],
   "source": [
    "NUM_SOFT_PROMPT    =   5\n",
    "hidden_size        =   2048 "
   ]
  },
  {
   "cell_type": "code",
   "execution_count": 20,
   "metadata": {
    "execution": {
     "iopub.execute_input": "2025-05-21T03:28:43.497770Z",
     "iopub.status.busy": "2025-05-21T03:28:43.497504Z",
     "iopub.status.idle": "2025-05-21T03:28:45.013134Z",
     "shell.execute_reply": "2025-05-21T03:28:45.012559Z",
     "shell.execute_reply.started": "2025-05-21T03:28:43.497736Z"
    },
    "id": "GskDypRFi5q1"
   },
   "outputs": [],
   "source": [
    "# Initialize soft prompts (e.g. normal random)\n",
    "soft_prompt = jax.random.normal(\n",
    "    jax.random.PRNGKey(0), (NUM_SOFT_PROMPT, hidden_size)\n",
    ").astype(jnp.float32)\n",
    "\n",
    "# Add it to your param PyTree so it's updated by JAX:\n",
    "params = {\"soft_prompt\": soft_prompt, **params}\n"
   ]
  },
  {
   "cell_type": "code",
   "execution_count": 21,
   "metadata": {
    "execution": {
     "iopub.execute_input": "2025-05-21T03:28:45.015180Z",
     "iopub.status.busy": "2025-05-21T03:28:45.014954Z",
     "iopub.status.idle": "2025-05-21T03:28:45.018964Z",
     "shell.execute_reply": "2025-05-21T03:28:45.018316Z",
     "shell.execute_reply.started": "2025-05-21T03:28:45.015164Z"
    },
    "id": "ZTUsR5eK-GIU"
   },
   "outputs": [],
   "source": [
    "# Define `decode` function to sample outputs from the model.\n",
    "decode_fn  =   predict_fns.get_all(model)['decode']\n",
    "decode     =   functools.partial(decode_fn, devices=jax.devices(), eos_token=tokenizer.eos_id())"
   ]
  },
  {
   "cell_type": "markdown",
   "metadata": {
    "execution": {
     "iopub.execute_input": "2025-05-02T06:51:48.14198Z",
     "iopub.status.busy": "2025-05-02T06:51:48.141676Z",
     "iopub.status.idle": "2025-05-02T06:51:48.147245Z",
     "shell.execute_reply": "2025-05-02T06:51:48.14635Z",
     "shell.execute_reply.started": "2025-05-02T06:51:48.141954Z"
    },
    "id": "jed1MpoQ5p4M",
    "outputId": "580c9dd6-cb9e-4ac3-d869-b04adc9b60c5"
   },
   "source": [
    "<div style=\"background-color:yellow; text-align:center; padding:40px; font-family:sans-serif;\">\n",
    "  <h3 style=\"color:red;\"> Prepare for Partial Fine-Tuning :  </h3>\n",
    "\n",
    "  <h5 style=\"color:red;\">  Defines a rule that only attention layers in the LLM (\"llm/layers/attn/…\") are trainable; everything else stays frozen.\n",
    "<br>\n",
    "Creates a parallel \"mask\" PyTree of booleans marking which sub-trees to update.\n",
    "</h5>\n",
    "</div>"
   ]
  },
  {
   "cell_type": "code",
   "execution_count": 22,
   "metadata": {
    "execution": {
     "iopub.execute_input": "2025-05-21T03:28:45.019950Z",
     "iopub.status.busy": "2025-05-21T03:28:45.019703Z",
     "iopub.status.idle": "2025-05-21T03:28:45.033205Z",
     "shell.execute_reply": "2025-05-21T03:28:45.032584Z",
     "shell.execute_reply.started": "2025-05-21T03:28:45.019935Z"
    },
    "id": "Hn3ff4L5-GBB"
   },
   "outputs": [],
   "source": [
    "# To keep HBM usage low and fit in a T4 GPU (16GB HBM) we opt to only finetune\n",
    "# a part of the parameters. Additionally we keep the frozen params in float16\n",
    "# and cast trainable to float32.\n",
    "\n",
    "# Create a pytree mask of the trainable params.\n",
    "def is_trainable_param(name, param):  # pylint: disable=unused-argument\n",
    "  if name.startswith(\"llm/layers/attn/\"):  return True\n",
    "  if name.startswith(\"soft_prompt\"):       return True\n",
    "  if name.startswith(\"llm/\"):              return False\n",
    "  if name.startswith(\"img/\"):              return False\n",
    "\n",
    "  raise ValueError(f\"Unexpected param name {name}\")\n",
    "\n",
    "trainable_mask = big_vision.utils.tree_map_with_names(is_trainable_param, params)\n"
   ]
  },
  {
   "cell_type": "markdown",
   "metadata": {
    "id": "iI7uthrl7YnL",
    "outputId": "9488b99a-2eed-40f3-f9b3-cd474b5ca0da"
   },
   "source": [
    "<div style=\"background-color:yellow; text-align:center; padding:40px; font-family:sans-serif;\">\n",
    "  <h3 style=\"color:red;\"> Sharding & Casting Parameters :  </h3>\n",
    "\n",
    "  <h5 style=\"color:red;\">  Sharding: split tensors across devices (if you had >1 GPU).\n",
    "<br>\n",
    "                        maybe_cast_to_f32: keep the frozen weights in fp16 to save memory; cast the few trainable ones to fp32 so their gradients remain stable.\n",
    "<br>\n",
    "                        The loop unpacks the parameter tree, reshares & casts each leaf, and reassembles it.\n",
    "</h5>\n",
    "</div>\n"
   ]
  },
  {
   "cell_type": "code",
   "execution_count": 23,
   "metadata": {
    "execution": {
     "iopub.execute_input": "2025-05-21T03:28:45.034350Z",
     "iopub.status.busy": "2025-05-21T03:28:45.034057Z",
     "iopub.status.idle": "2025-05-21T03:28:45.045048Z",
     "shell.execute_reply": "2025-05-21T03:28:45.044489Z",
     "shell.execute_reply.started": "2025-05-21T03:28:45.034329Z"
    },
    "id": "6XWlVywoi5q3"
   },
   "outputs": [],
   "source": [
    "# If more than one device is available (e.g. multiple GPUs) the parameters can\n",
    "# be sharded across them to reduce HBM usage per device.\n",
    "mesh = jax.sharding.Mesh(jax.devices(), (\"data\"))"
   ]
  },
  {
   "cell_type": "code",
   "execution_count": 24,
   "metadata": {
    "execution": {
     "iopub.execute_input": "2025-05-21T03:28:45.046009Z",
     "iopub.status.busy": "2025-05-21T03:28:45.045732Z",
     "iopub.status.idle": "2025-05-21T03:28:45.058961Z",
     "shell.execute_reply": "2025-05-21T03:28:45.058307Z",
     "shell.execute_reply.started": "2025-05-21T03:28:45.045990Z"
    },
    "id": "SMp3esfH-F6X"
   },
   "outputs": [],
   "source": [
    "data_sharding = jax.sharding.NamedSharding(\n",
    "    mesh, jax.sharding.PartitionSpec(\"data\"))"
   ]
  },
  {
   "cell_type": "code",
   "execution_count": 25,
   "metadata": {
    "execution": {
     "iopub.execute_input": "2025-05-21T03:28:45.059973Z",
     "iopub.status.busy": "2025-05-21T03:28:45.059698Z",
     "iopub.status.idle": "2025-05-21T03:28:45.071771Z",
     "shell.execute_reply": "2025-05-21T03:28:45.071187Z",
     "shell.execute_reply.started": "2025-05-21T03:28:45.059947Z"
    },
    "id": "fBmbMiIJ-FwA"
   },
   "outputs": [],
   "source": [
    "params_sharding = big_vision.sharding.infer_sharding(\n",
    "    params, strategy=[('.*', 'fsdp(axis=\"data\")')], mesh=mesh)"
   ]
  },
  {
   "cell_type": "code",
   "execution_count": 26,
   "metadata": {
    "execution": {
     "iopub.execute_input": "2025-05-21T03:28:45.072828Z",
     "iopub.status.busy": "2025-05-21T03:28:45.072513Z",
     "iopub.status.idle": "2025-05-21T03:28:45.082964Z",
     "shell.execute_reply": "2025-05-21T03:28:45.082420Z",
     "shell.execute_reply.started": "2025-05-21T03:28:45.072806Z"
    },
    "id": "Iwe1nyhJ-FMR"
   },
   "outputs": [],
   "source": [
    "# Yes: Some donated buffers are not usable.\n",
    "warnings.filterwarnings(\n",
    "    \"ignore\", message=\"Some donated buffers were not usable\")"
   ]
  },
  {
   "cell_type": "code",
   "execution_count": 27,
   "metadata": {
    "execution": {
     "iopub.execute_input": "2025-05-21T03:28:45.085038Z",
     "iopub.status.busy": "2025-05-21T03:28:45.084788Z",
     "iopub.status.idle": "2025-05-21T03:28:45.094836Z",
     "shell.execute_reply": "2025-05-21T03:28:45.094320Z",
     "shell.execute_reply.started": "2025-05-21T03:28:45.085023Z"
    },
    "id": "68c533b0-e398-4508-bba6-c8271e76a9f0",
    "scrolled": true
   },
   "outputs": [],
   "source": [
    "@functools.partial(jax.jit, donate_argnums=(0,), static_argnums=(1,))\n",
    "def maybe_cast_to_f32(params, trainable):\n",
    "  # Cast others to float16, since some GPUs don't support bf16.\n",
    "  return jax.tree.map(lambda p, m: p.astype(jnp.float32)\n",
    "                      if m else p.astype(jnp.float16),\n",
    "                      params, trainable)"
   ]
  },
  {
   "cell_type": "code",
   "execution_count": 28,
   "metadata": {
    "execution": {
     "iopub.execute_input": "2025-05-21T03:28:45.095666Z",
     "iopub.status.busy": "2025-05-21T03:28:45.095500Z",
     "iopub.status.idle": "2025-05-21T03:28:47.508640Z",
     "shell.execute_reply": "2025-05-21T03:28:47.508067Z",
     "shell.execute_reply.started": "2025-05-21T03:28:45.095647Z"
    },
    "id": "p6UHe1iD8jEk"
   },
   "outputs": [],
   "source": [
    "# Loading all params in simultaneous - albeit much faster and more succinct -\n",
    "# requires more RAM than the T4 colab runtimes have by default (12GB RAM).\n",
    "# Instead we do it param by param.\n",
    "params, treedef  = jax.tree.flatten(params)\n",
    "sharding_leaves  = jax.tree.leaves(params_sharding)\n",
    "trainable_leaves = jax.tree.leaves(trainable_mask)\n",
    "\n",
    "for idx, (sharding, trainable) in enumerate(zip(sharding_leaves, trainable_leaves)):\n",
    "  params[idx] = big_vision.utils.reshard(params[idx], sharding)\n",
    "  params[idx] = maybe_cast_to_f32(params[idx], trainable)\n",
    "  params[idx].block_until_ready()\n",
    "params = jax.tree.unflatten(treedef, params)"
   ]
  },
  {
   "cell_type": "code",
   "execution_count": 29,
   "metadata": {
    "execution": {
     "iopub.execute_input": "2025-05-21T03:28:47.509600Z",
     "iopub.status.busy": "2025-05-21T03:28:47.509390Z",
     "iopub.status.idle": "2025-05-21T03:28:47.513723Z",
     "shell.execute_reply": "2025-05-21T03:28:47.512999Z",
     "shell.execute_reply.started": "2025-05-21T03:28:47.509583Z"
    },
    "id": "s07VNVioEAMs"
   },
   "outputs": [],
   "source": [
    "# Print params to show what the model is made of.\n",
    "def parameter_overview(params):\n",
    "  for path, arr in big_vision.utils.tree_flatten_with_names(params)[0]:\n",
    "    print(f\"{path:80s} {str(arr.shape):22s} {arr.dtype}\")\n"
   ]
  },
  {
   "cell_type": "code",
   "execution_count": 30,
   "metadata": {
    "colab": {
     "base_uri": "https://localhost:8080/"
    },
    "execution": {
     "iopub.execute_input": "2025-05-21T03:28:47.514554Z",
     "iopub.status.busy": "2025-05-21T03:28:47.514365Z",
     "iopub.status.idle": "2025-05-21T03:28:47.526460Z",
     "shell.execute_reply": "2025-05-21T03:28:47.525722Z",
     "shell.execute_reply.started": "2025-05-21T03:28:47.514539Z"
    },
    "id": "yKjuhldlEAJ9",
    "outputId": "4c27fe06-918c-4293-cd88-91d6994e300a"
   },
   "outputs": [
    {
     "name": "stdout",
     "output_type": "stream",
     "text": [
      " == Model params == \n",
      "img/Transformer/encoder_norm/bias                                                (1152,)                float16\n",
      "img/Transformer/encoder_norm/scale                                               (1152,)                float16\n",
      "img/Transformer/encoderblock/LayerNorm_0/bias                                    (27, 1152)             float16\n",
      "img/Transformer/encoderblock/LayerNorm_0/scale                                   (27, 1152)             float16\n",
      "img/Transformer/encoderblock/LayerNorm_1/bias                                    (27, 1152)             float16\n",
      "img/Transformer/encoderblock/LayerNorm_1/scale                                   (27, 1152)             float16\n",
      "img/Transformer/encoderblock/MlpBlock_0/Dense_0/bias                             (27, 4304)             float16\n",
      "img/Transformer/encoderblock/MlpBlock_0/Dense_0/kernel                           (27, 1152, 4304)       float16\n",
      "img/Transformer/encoderblock/MlpBlock_0/Dense_1/bias                             (27, 1152)             float16\n",
      "img/Transformer/encoderblock/MlpBlock_0/Dense_1/kernel                           (27, 4304, 1152)       float16\n",
      "img/Transformer/encoderblock/MultiHeadDotProductAttention_0/key/bias             (27, 16, 72)           float16\n",
      "img/Transformer/encoderblock/MultiHeadDotProductAttention_0/key/kernel           (27, 1152, 16, 72)     float16\n",
      "img/Transformer/encoderblock/MultiHeadDotProductAttention_0/out/bias             (27, 1152)             float16\n",
      "img/Transformer/encoderblock/MultiHeadDotProductAttention_0/out/kernel           (27, 16, 72, 1152)     float16\n",
      "img/Transformer/encoderblock/MultiHeadDotProductAttention_0/query/bias           (27, 16, 72)           float16\n",
      "img/Transformer/encoderblock/MultiHeadDotProductAttention_0/query/kernel         (27, 1152, 16, 72)     float16\n",
      "img/Transformer/encoderblock/MultiHeadDotProductAttention_0/value/bias           (27, 16, 72)           float16\n",
      "img/Transformer/encoderblock/MultiHeadDotProductAttention_0/value/kernel         (27, 1152, 16, 72)     float16\n",
      "img/embedding/bias                                                               (1152,)                float16\n",
      "img/embedding/kernel                                                             (14, 14, 3, 1152)      float16\n",
      "img/head/bias                                                                    (2048,)                float16\n",
      "img/head/kernel                                                                  (1152, 2048)           float16\n",
      "img/pos_embedding                                                                (1, 256, 1152)         float16\n",
      "llm/embedder/input_embedding                                                     (257152, 2048)         float16\n",
      "llm/final_norm/scale                                                             (2048,)                float16\n",
      "llm/layers/attn/attn_vec_einsum/w                                                (18, 8, 256, 2048)     float32\n",
      "llm/layers/attn/kv_einsum/w                                                      (18, 2, 1, 2048, 256)  float32\n",
      "llm/layers/attn/q_einsum/w                                                       (18, 8, 2048, 256)     float32\n",
      "llm/layers/mlp/gating_einsum                                                     (18, 2, 2048, 16384)   float16\n",
      "llm/layers/mlp/linear                                                            (18, 16384, 2048)      float16\n",
      "llm/layers/pre_attention_norm/scale                                              (18, 2048)             float16\n",
      "llm/layers/pre_ffw_norm/scale                                                    (18, 2048)             float16\n",
      "soft_prompt                                                                      (5, 2048)              float32\n"
     ]
    }
   ],
   "source": [
    "print(\" == Model params == \")\n",
    "parameter_overview(params)"
   ]
  },
  {
   "cell_type": "markdown",
   "metadata": {
    "execution": {
     "iopub.execute_input": "2025-05-01T21:05:03.618581Z",
     "iopub.status.busy": "2025-05-01T21:05:03.618308Z",
     "iopub.status.idle": "2025-05-01T21:05:03.623664Z",
     "shell.execute_reply": "2025-05-01T21:05:03.623032Z",
     "shell.execute_reply.started": "2025-05-01T21:05:03.61856Z"
    },
    "id": "WH_1HRpMqhuW",
    "outputId": "a6037f1d-e8cf-436c-d18a-47404ff945eb"
   },
   "source": [
    "<div style=\"background-color:yellow; text-align:center; padding:40px; font-family:sans-serif;\">\n",
    "  <h3 style=\"color:red;\"> Define preprocess functions to create inputs to the model :  </h3>\n",
    "</div>"
   ]
  },
  {
   "cell_type": "code",
   "execution_count": 31,
   "metadata": {
    "execution": {
     "iopub.execute_input": "2025-05-21T03:28:47.528323Z",
     "iopub.status.busy": "2025-05-21T03:28:47.527909Z",
     "iopub.status.idle": "2025-05-21T03:28:47.540330Z",
     "shell.execute_reply": "2025-05-21T03:28:47.539599Z",
     "shell.execute_reply.started": "2025-05-21T03:28:47.528300Z"
    },
    "id": "0zrFyYeVEAHD"
   },
   "outputs": [],
   "source": [
    "# @title Define preprocess functions to create inputs to the model.\n",
    "\n",
    "def preprocess_image(image, size=224):\n",
    "  # Model has been trained to handle images of different aspects ratios\n",
    "  # resized to 224x224 in the range [-1, 1]. Bilinear and antialias resize\n",
    "  # options are helpful to improve quality in some tasks.\n",
    "  image = np.asarray(image)\n",
    "  if image.ndim == 2:  # Convert image without last channel into greyscale.\n",
    "    image = np.stack((image,)*3, axis=-1)\n",
    "  image = image[..., :3]  # Remove alpha layer.\n",
    "  assert image.shape[-1] == 3\n",
    "\n",
    "  image = tf.constant(image)\n",
    "  image = tf.image.resize(image, (size, size), method='bilinear', antialias=True)\n",
    "  return image.numpy() / 127.5 - 1.0  # [0, 255]->[-1,1]\n",
    "################################################################################################\n",
    "################################################################################################\n",
    "################################################################################################\n",
    "# choice of separator between prefix and suffix\n",
    "SEP = \"\\n\"\n",
    "\n",
    "def preprocess_tokens(\n",
    "    prefix: str,\n",
    "    suffix: str = None,\n",
    "    seqlen: int = None,\n",
    "    num_soft_prompt: int = NUM_SOFT_PROMPT\n",
    "):\n",
    "    \"\"\"\n",
    "    Build token sequences for:\n",
    "      [ BOS + prefix tokens ]  -> bidirectional attention, no loss\n",
    "      [ SOFT_PROMPT placeholders ] -> bidirectional attention, no loss\n",
    "      [ SEP + suffix tokens + EOS ] -> causal attention, contributing to loss\n",
    "\n",
    "    Returns:\n",
    "      tokens:   (seqlen,) int32\n",
    "      mask_ar:  (seqlen,) int32   # 0 = full attention; 1 = causal\n",
    "      mask_loss:(seqlen,) int32   # 0 = no loss;   1 = include in loss\n",
    "      mask_input:(seqlen,) int32  # 0 = padding;   1 = real token\n",
    "    \"\"\"\n",
    "    # 1) encode prefix (with BOS) and separator\n",
    "    prefix_ids = tokenizer.encode(prefix, add_bos=True, add_eos=False)\n",
    "    sep_ids    = tokenizer.encode(SEP,    add_bos=False, add_eos=False)\n",
    "\n",
    "    # 2) prepare soft-prompt placeholders as zeros\n",
    "    #    these will get real embeddings later, but here: discrete id = 0\n",
    "    sp_ids = [0] * num_soft_prompt\n",
    "\n",
    "    # 3) encode suffix if provided (with EOS)\n",
    "    if suffix is not None:\n",
    "        suffix_ids = tokenizer.encode(suffix, add_bos=False, add_eos=True)\n",
    "    else:\n",
    "        suffix_ids = []\n",
    "\n",
    "    # 4) concatenate tokens\n",
    "    tokens = prefix_ids + sep_ids + sp_ids + suffix_ids\n",
    "\n",
    "    # 5) build masks\n",
    "    #    prefix + soft prompts = bidirectional, no loss\n",
    "    n_pre  = len(prefix_ids) + len(sep_ids) + len(sp_ids)\n",
    "    mask_ar    = [0] * n_pre + [1] * len(suffix_ids)\n",
    "    mask_loss  = [0] * n_pre + [1] * len(suffix_ids)\n",
    "    mask_input = [1] * len(tokens)\n",
    "\n",
    "    # 6) pad or truncate to seqlen\n",
    "    if seqlen is not None:\n",
    "        if len(tokens) < seqlen:\n",
    "            pad_len = seqlen - len(tokens)\n",
    "            tokens     += [0] * pad_len\n",
    "            mask_ar    += [0] * pad_len\n",
    "            mask_loss  += [0] * pad_len\n",
    "            mask_input += [0] * pad_len\n",
    "        else:\n",
    "            tokens     = tokens[:seqlen]\n",
    "            mask_ar    = mask_ar[:seqlen]\n",
    "            mask_loss  = mask_loss[:seqlen]\n",
    "            mask_input = mask_input[:seqlen]\n",
    "\n",
    "    # 7) return numpy arrays\n",
    "    return (\n",
    "        np.array(tokens,     dtype=np.int32),\n",
    "        np.array(mask_ar,    dtype=np.int32),\n",
    "        np.array(mask_loss,  dtype=np.int32),\n",
    "        np.array(mask_input, dtype=np.int32),\n",
    "    )\n",
    "#----------------------------------------------------------------------------------------------#\n",
    "#----------------------------------------------------------------------------------------------#\n",
    "#----------------------------------------------------------------------------------------------#\n",
    "def postprocess_tokens(tokens):\n",
    "  tokens = tokens.tolist()  # np.array to list[int]\n",
    "  try:  # Remove tokens at and after EOS if any.\n",
    "    eos_pos = tokens.index(tokenizer.eos_id())\n",
    "    tokens = tokens[:eos_pos]\n",
    "  except ValueError:\n",
    "    pass\n",
    "  return tokenizer.decode(tokens)\n"
   ]
  },
  {
   "cell_type": "markdown",
   "metadata": {
    "id": "8SoyORZgquEe",
    "outputId": "7f3a2fa9-144c-4deb-e7b0-9466ffe8d1bf"
   },
   "source": [
    "<div style=\"background-color:yellow; text-align:center; padding:40px; font-family:sans-serif;\">\n",
    "  <h3 style=\"color:red;\"> Import Data  :  </h3>\n",
    "</div>"
   ]
  },
  {
   "cell_type": "code",
   "execution_count": 32,
   "metadata": {
    "execution": {
     "iopub.execute_input": "2025-05-21T03:29:22.846313Z",
     "iopub.status.busy": "2025-05-21T03:29:22.845566Z",
     "iopub.status.idle": "2025-05-21T03:29:22.849735Z",
     "shell.execute_reply": "2025-05-21T03:29:22.849021Z",
     "shell.execute_reply.started": "2025-05-21T03:29:22.846287Z"
    },
    "id": "_HgszSHUGy0A"
   },
   "outputs": [],
   "source": [
    "import os\n",
    "import tensorflow as tf\n",
    "import pandas as pd\n",
    "import numpy as np"
   ]
  },
  {
   "cell_type": "code",
   "execution_count": null,
   "metadata": {
    "colab": {
     "base_uri": "https://localhost:8080/"
    },
    "id": "x1xWmw94j-EF",
    "outputId": "dca9deff-f47b-443c-d892-a621b015ec4c"
   },
   "outputs": [
    {
     "name": "stdout",
     "output_type": "stream",
     "text": [
      "Mounted at /content/drive\n"
     ]
    }
   ],
   "source": [
    "#from google.colab import drive\n",
    "#drive.mount('/content/drive')"
   ]
  },
  {
   "cell_type": "code",
   "execution_count": null,
   "metadata": {
    "id": "SbhRYi1bkCHj"
   },
   "outputs": [],
   "source": [
    "# 2. Paths & constants\n",
    "#DATA_DIR   = '/content/drive/MyDrive/extracted_folder/'\n",
    "#CSV_PATH   = os.path.join(DATA_DIR, 'captions.csv')\n",
    "#IMAGE_ROOT = os.path.join(DATA_DIR, 'resized')\n",
    "#BATCH_SIZE = 32\n",
    "#IMG_SIZE   = (224, 224)"
   ]
  },
  {
   "cell_type": "code",
   "execution_count": null,
   "metadata": {
    "id": "iW7D8b-hkIxc"
   },
   "outputs": [],
   "source": [
    "#captions_df = pd.read_csv(CSV_PATH)"
   ]
  },
  {
   "cell_type": "code",
   "execution_count": 33,
   "metadata": {
    "execution": {
     "iopub.execute_input": "2025-05-21T03:29:27.815803Z",
     "iopub.status.busy": "2025-05-21T03:29:27.815518Z",
     "iopub.status.idle": "2025-05-21T03:29:28.192134Z",
     "shell.execute_reply": "2025-05-21T03:29:28.191504Z",
     "shell.execute_reply.started": "2025-05-21T03:29:27.815781Z"
    },
    "id": "dtahreE7i5q9"
   },
   "outputs": [
    {
     "name": "stdout",
     "output_type": "stream",
     "text": [
      "  source split           image  \\\n",
      "0   NWPU  test  NWPU_31430.jpg   \n",
      "1   NWPU  test  NWPU_31431.jpg   \n",
      "2   NWPU  test  NWPU_31432.jpg   \n",
      "3   NWPU  test  NWPU_31433.jpg   \n",
      "4   NWPU  test  NWPU_31434.jpg   \n",
      "\n",
      "                                           caption_1  \\\n",
      "0   A gray plane on the runway and the lawn beside .   \n",
      "1  Three small planes parked in a line on the air...   \n",
      "2  A plane parked in a line on the airport with s...   \n",
      "3  A small plane and a big plane parked next to b...   \n",
      "4       Two planes parked next to boarding bridges .   \n",
      "\n",
      "                                           caption_2  \\\n",
      "0        A grey plane is on the runway by the lawn .   \n",
      "1  There are four aircraft on the open ground, Th...   \n",
      "2  A white plane was parked on the instruction li...   \n",
      "3  A white plane and a gray plane parked at the b...   \n",
      "4  Two aircraft were parked at the departure gates .   \n",
      "\n",
      "                                           caption_3  \\\n",
      "0  There is an airplane on the runway with a larg...   \n",
      "1  There are many planes of different sizes in a ...   \n",
      "2  An airplane parked in an open area with many c...   \n",
      "3  Two planes of different sizes are neatly parke...   \n",
      "4  Two planes of different sizes are neatly parke...   \n",
      "\n",
      "                                           caption_4  \\\n",
      "0  A plane is parked on the runway next to the gr...   \n",
      "1             Four planes are parked on the runway .   \n",
      "2              A plane is parked on the open space .   \n",
      "3  A large plane and a small plane are parked nea...   \n",
      "4       Two planes are parked next to the terminal .   \n",
      "\n",
      "                                           caption_5  \n",
      "0  There is a plane on the runway beside the grass .  \n",
      "1  Four planes of different sizes were on the mar...  \n",
      "2            There is 1 plane on the ground marked .  \n",
      "3              Two planes are on the marked ground .  \n",
      "4              Two planes are on the marked ground .  \n"
     ]
    }
   ],
   "source": [
    "captions_df = pd.read_csv('/kaggle/input/rsics-dataset/captions.csv')\n",
    "print(captions_df.head())"
   ]
  },
  {
   "cell_type": "code",
   "execution_count": 34,
   "metadata": {
    "execution": {
     "iopub.execute_input": "2025-05-21T03:29:34.822313Z",
     "iopub.status.busy": "2025-05-21T03:29:34.822011Z",
     "iopub.status.idle": "2025-05-21T03:29:34.826284Z",
     "shell.execute_reply": "2025-05-21T03:29:34.825502Z",
     "shell.execute_reply.started": "2025-05-21T03:29:34.822293Z"
    },
    "id": "1s_HUEaOGvCn"
   },
   "outputs": [],
   "source": [
    "\n",
    "IMAGE_ROOT = \"/kaggle/input/rsics-dataset/resized\"\n",
    "BATCH_SIZE = 8\n",
    "IMG_SIZE   = (224, 224)"
   ]
  },
  {
   "cell_type": "code",
   "execution_count": 35,
   "metadata": {
    "colab": {
     "base_uri": "https://localhost:8080/"
    },
    "execution": {
     "iopub.execute_input": "2025-05-21T03:29:35.382035Z",
     "iopub.status.busy": "2025-05-21T03:29:35.381285Z",
     "iopub.status.idle": "2025-05-21T03:29:35.397177Z",
     "shell.execute_reply": "2025-05-21T03:29:35.396339Z",
     "shell.execute_reply.started": "2025-05-21T03:29:35.382007Z"
    },
    "id": "-F5zSNzPKHOu",
    "outputId": "05708c81-c354-45f2-dbca-fa777bd76d4c"
   },
   "outputs": [
    {
     "name": "stdout",
     "output_type": "stream",
     "text": [
      "All split labels: ['test' 'val' 'train']\n",
      "Counts:\n",
      " split\n",
      "train    35614\n",
      "test      4454\n",
      "val       4453\n",
      "Name: count, dtype: int64\n"
     ]
    }
   ],
   "source": [
    "print(\"All split labels:\", captions_df['split'].unique())\n",
    "print(\"Counts:\\n\", captions_df['split'].value_counts())"
   ]
  },
  {
   "cell_type": "code",
   "execution_count": 36,
   "metadata": {
    "execution": {
     "iopub.execute_input": "2025-05-21T03:29:35.911986Z",
     "iopub.status.busy": "2025-05-21T03:29:35.911422Z",
     "iopub.status.idle": "2025-05-21T03:29:35.932457Z",
     "shell.execute_reply": "2025-05-21T03:29:35.931922Z",
     "shell.execute_reply.started": "2025-05-21T03:29:35.911962Z"
    },
    "id": "bYrO8v1UKHL4"
   },
   "outputs": [],
   "source": [
    "# 4. Filter into splits\n",
    "splits = {}\n",
    "for split_name in ['train', 'val', 'test']:\n",
    "    splits[split_name] = captions_df[captions_df['split'] == split_name]"
   ]
  },
  {
   "cell_type": "code",
   "execution_count": 37,
   "metadata": {
    "execution": {
     "iopub.execute_input": "2025-05-21T03:29:36.459518Z",
     "iopub.status.busy": "2025-05-21T03:29:36.459255Z",
     "iopub.status.idle": "2025-05-21T03:29:36.464043Z",
     "shell.execute_reply": "2025-05-21T03:29:36.463249Z",
     "shell.execute_reply.started": "2025-05-21T03:29:36.459500Z"
    },
    "id": "9boO9ocTKGiO"
   },
   "outputs": [],
   "source": [
    "# 5. Convert each split-DataFrame into (paths, captions)\n",
    "def df_to_paths_and_captions(split_df):\n",
    "    # Full paths\n",
    "    paths = split_df['image'].apply(lambda fn: os.path.join(IMAGE_ROOT, fn)).tolist()\n",
    "    # List-of-captions per example\n",
    "    captions_cols = [f'caption_{i}' for i in range(1,6)]\n",
    "    captions = split_df[captions_cols].values.tolist()\n",
    "    return paths, captions"
   ]
  },
  {
   "cell_type": "code",
   "execution_count": 38,
   "metadata": {
    "execution": {
     "iopub.execute_input": "2025-05-21T03:29:37.210728Z",
     "iopub.status.busy": "2025-05-21T03:29:37.210501Z",
     "iopub.status.idle": "2025-05-21T03:29:37.276372Z",
     "shell.execute_reply": "2025-05-21T03:29:37.275631Z",
     "shell.execute_reply.started": "2025-05-21T03:29:37.210711Z"
    },
    "id": "UTtccQ1oIP7S"
   },
   "outputs": [],
   "source": [
    "train_paths, train_caps = df_to_paths_and_captions(splits['train'])\n",
    "val_paths,   val_caps   = df_to_paths_and_captions(splits['val'])\n",
    "test_paths,  test_caps  = df_to_paths_and_captions(splits['test'])"
   ]
  },
  {
   "cell_type": "code",
   "execution_count": 39,
   "metadata": {
    "execution": {
     "iopub.execute_input": "2025-05-21T03:29:39.648100Z",
     "iopub.status.busy": "2025-05-21T03:29:39.647416Z",
     "iopub.status.idle": "2025-05-21T03:29:39.653403Z",
     "shell.execute_reply": "2025-05-21T03:29:39.652638Z",
     "shell.execute_reply.started": "2025-05-21T03:29:39.648075Z"
    },
    "id": "Wgpm8HTEISvx"
   },
   "outputs": [],
   "source": [
    "# 6. Preprocessing fn: load image + return captions list\n",
    "def _load_and_preprocess(path, captions):\n",
    "    # Read & decode\n",
    "    img = tf.io.read_file(path)\n",
    "    img = tf.image.decode_image(img, channels=3, expand_animations=False)\n",
    "    # Resize & normalize\n",
    "    img = tf.image.resize(img, IMG_SIZE)\n",
    "    img = tf.cast(img, tf.float32) / 255.0\n",
    "    return img, captions\n",
    "\n",
    "# 7. Build the tf.data pipeline\n",
    "def make_dataset(paths, captions, shuffle=False):\n",
    "    # turn your Python list-of-strings into a tf.string tensor\n",
    "    paths_ds = tf.data.Dataset.from_tensor_slices(tf.constant(paths, dtype=tf.string))\n",
    "    # turn your list-of-lists-of-strings into a [5] tf.string tensor\n",
    "    caps_ds  = tf.data.Dataset.from_tensor_slices(tf.constant(captions, dtype=tf.string))\n",
    "\n",
    "    ds = tf.data.Dataset.zip((paths_ds, caps_ds))\n",
    "    if shuffle:\n",
    "        ds = ds.shuffle(buffer_size=len(paths))\n",
    "    ds = ( ds\n",
    "           .map(_load_and_preprocess, num_parallel_calls=tf.data.AUTOTUNE)\n",
    "           .batch(BATCH_SIZE)\n",
    "           .prefetch(tf.data.AUTOTUNE)\n",
    "         )\n",
    "    return ds"
   ]
  },
  {
   "cell_type": "code",
   "execution_count": 40,
   "metadata": {
    "execution": {
     "iopub.execute_input": "2025-05-21T03:29:40.060985Z",
     "iopub.status.busy": "2025-05-21T03:29:40.060771Z",
     "iopub.status.idle": "2025-05-21T03:29:40.455867Z",
     "shell.execute_reply": "2025-05-21T03:29:40.455359Z",
     "shell.execute_reply.started": "2025-05-21T03:29:40.060969Z"
    },
    "id": "oWuvduvbIE-H"
   },
   "outputs": [],
   "source": [
    "train_ds = make_dataset(train_paths, train_caps, shuffle=True)\n",
    "val_ds   = make_dataset(val_paths,   val_caps,   shuffle=True)\n",
    "test_ds  = make_dataset(test_paths,  test_caps,  shuffle=False)"
   ]
  },
  {
   "cell_type": "code",
   "execution_count": 41,
   "metadata": {
    "colab": {
     "base_uri": "https://localhost:8080/"
    },
    "execution": {
     "iopub.execute_input": "2025-05-21T03:29:40.460525Z",
     "iopub.status.busy": "2025-05-21T03:29:40.460313Z",
     "iopub.status.idle": "2025-05-21T03:29:40.554372Z",
     "shell.execute_reply": "2025-05-21T03:29:40.553645Z",
     "shell.execute_reply.started": "2025-05-21T03:29:40.460509Z"
    },
    "id": "mHiB8o5aIE7W",
    "outputId": "47b6e53c-3338-4045-e10e-b6c7565bab68"
   },
   "outputs": [
    {
     "name": "stdout",
     "output_type": "stream",
     "text": [
      "Images batch shape: (8, 224, 224, 3)\n",
      "Captions batch shape: 8 examples\n",
      "First example captions: tf.Tensor(\n",
      "[b'A gray plane on the runway and the lawn beside .'\n",
      " b'A grey plane is on the runway by the lawn .'\n",
      " b'There is an airplane on the runway with a large lawn by the runway .'\n",
      " b'A plane is parked on the runway next to the grass .'\n",
      " b'There is a plane on the runway beside the grass .'], shape=(5,), dtype=string)\n"
     ]
    }
   ],
   "source": [
    "# 8. Quick sanity check\n",
    "for imgs, caps in test_ds.take(1):\n",
    "    print(\"Images batch shape:\", imgs.shape)            # (BATCH_SIZE, H, W, 3)\n",
    "    print(\"Captions batch shape:\", len(caps), \"examples\")\n",
    "    print(\"First example captions:\", caps[0])            # a list of 5 strings"
   ]
  },
  {
   "cell_type": "code",
   "execution_count": 42,
   "metadata": {
    "execution": {
     "iopub.execute_input": "2025-05-21T03:29:51.145308Z",
     "iopub.status.busy": "2025-05-21T03:29:51.144586Z",
     "iopub.status.idle": "2025-05-21T03:29:51.148439Z",
     "shell.execute_reply": "2025-05-21T03:29:51.147753Z",
     "shell.execute_reply.started": "2025-05-21T03:29:51.145279Z"
    },
    "id": "poCJbdZoi5q_"
   },
   "outputs": [],
   "source": [
    "SEQLEN  =  64"
   ]
  },
  {
   "cell_type": "code",
   "execution_count": 47,
   "metadata": {
    "execution": {
     "iopub.execute_input": "2025-05-21T03:30:51.095123Z",
     "iopub.status.busy": "2025-05-21T03:30:51.094414Z",
     "iopub.status.idle": "2025-05-21T03:30:51.102081Z",
     "shell.execute_reply": "2025-05-21T03:30:51.101429Z",
     "shell.execute_reply.started": "2025-05-21T03:30:51.095095Z"
    },
    "id": "JfY9ONOTi5q_"
   },
   "outputs": [],
   "source": [
    "def train_data_iterator():\n",
    "    \"\"\"Never-ending iterator over training examples from train_ds.\"\"\"\n",
    "    while True:\n",
    "        for image_batch, caps_batch in train_ds:\n",
    "            images_np = image_batch.numpy()      # [B,H,W,3]\n",
    "            caps_np   = caps_batch.numpy()       # [B,5] bytes\n",
    "\n",
    "            for img, caps in zip(images_np, caps_np):\n",
    "                # Decode all captions and pick one at random\n",
    "                decoded_caps = [c.decode('utf-8') for c in caps]\n",
    "                suffix       = decoded_caps[np.random.randint(len(decoded_caps))].lower()\n",
    "                prefix       = \"caption en\"\n",
    "\n",
    "                # Prepare tokens and masks (includes soft-prompt placeholders)\n",
    "                tokens, mask_ar, mask_loss, mask_input = preprocess_tokens(\n",
    "                    prefix=prefix,\n",
    "                    suffix=suffix,\n",
    "                    seqlen=SEQLEN,\n",
    "                    num_soft_prompt=NUM_SOFT_PROMPT\n",
    "                )\n",
    "\n",
    "                # Normalize image to [-1,1]\n",
    "                img_proc = img * 2.0 - 1.0\n",
    "\n",
    "                yield [{\n",
    "                    \"image\":      img_proc,\n",
    "                    \"text\":       tokens,\n",
    "                    \"mask_ar\":    mask_ar,\n",
    "                    \"mask_loss\":  mask_loss,\n",
    "                    \"mask_input\": mask_input,\n",
    "                }, decoded_caps]\n",
    "\n",
    "\n",
    "def validation_data_iterator():\n",
    "    \"\"\"Single-pass iterator over validation examples from val_ds.\"\"\"\n",
    "    for image_batch, caps_batch in val_ds:\n",
    "        images_np = image_batch.numpy()\n",
    "        caps_np   = caps_batch.numpy()\n",
    "\n",
    "        for img, caps in zip(images_np, caps_np):\n",
    "            decoded_caps = [c.decode('utf-8') for c in caps]\n",
    "            prefix       = \"caption en\"\n",
    "\n",
    "            # No suffix during validation; only prefix + soft-prompts\n",
    "            tokens, mask_ar, mask_loss, mask_input = preprocess_tokens(\n",
    "                prefix=prefix,\n",
    "                suffix=None,\n",
    "                seqlen=SEQLEN,\n",
    "                num_soft_prompt=NUM_SOFT_PROMPT\n",
    "            )\n",
    "\n",
    "            # Normalize image\n",
    "            img_proc = img * 2.0 - 1.0\n",
    "\n",
    "            yield [{\n",
    "                \"image\":      img_proc,\n",
    "                \"text\":       tokens,\n",
    "                \"mask_ar\":    mask_ar,\n",
    "                \"mask_loss\":  mask_loss,\n",
    "                \"mask_input\": mask_input,\n",
    "            }, decoded_caps]"
   ]
  },
  {
   "cell_type": "markdown",
   "metadata": {
    "id": "V_wE54fwi5rA"
   },
   "source": [
    "<div style=\"background-color:yellow; text-align:center; padding:40px; font-family:sans-serif;\">\n",
    "  <h3 style=\"color:red;\"> Display Samples :  </h3>\n",
    "</div>"
   ]
  },
  {
   "cell_type": "code",
   "execution_count": 48,
   "metadata": {
    "execution": {
     "iopub.execute_input": "2025-05-21T03:30:55.281079Z",
     "iopub.status.busy": "2025-05-21T03:30:55.280806Z",
     "iopub.status.idle": "2025-05-21T03:30:55.286304Z",
     "shell.execute_reply": "2025-05-21T03:30:55.285533Z",
     "shell.execute_reply.started": "2025-05-21T03:30:55.281059Z"
    },
    "id": "NrE27d6rEABL"
   },
   "outputs": [],
   "source": [
    "# @title Inspect training examples.\n",
    "def render_inline(image, resize=(128, 128)):\n",
    "  \"\"\"Convert image into inline html.\"\"\"\n",
    "  image = Image.fromarray(image)\n",
    "  image.resize(resize)\n",
    "  with io.BytesIO() as buffer:\n",
    "    image.save(buffer, format='jpeg')\n",
    "    image_b64 = str(base64.b64encode(buffer.getvalue()), \"utf-8\")\n",
    "    return f\"data:image/jpeg;base64,{image_b64}\"\n",
    "\n",
    "def render_example(image, caption):\n",
    "  image = ((image + 1)/2 * 255).astype(np.uint8)  # [-1,1] -> [0, 255]\n",
    "  return f\"\"\"\n",
    "    <div style=\"display: inline-flex; align-items: center; justify-content: center;\">\n",
    "        <img style=\"width:128px; height:128px;\" src=\"{render_inline(image, resize=(64,64))}\" />\n",
    "        <p style=\"width:256px; margin:10px; font-size:small;\">{html.escape(caption)}</p>\n",
    "    </div>\n",
    "    \"\"\"\n"
   ]
  },
  {
   "cell_type": "code",
   "execution_count": 49,
   "metadata": {
    "execution": {
     "iopub.execute_input": "2025-05-21T03:30:55.553408Z",
     "iopub.status.busy": "2025-05-21T03:30:55.552822Z",
     "iopub.status.idle": "2025-05-21T03:30:55.556166Z",
     "shell.execute_reply": "2025-05-21T03:30:55.555589Z",
     "shell.execute_reply.started": "2025-05-21T03:30:55.553388Z"
    },
    "id": "DIzG9x62i5rA"
   },
   "outputs": [],
   "source": [
    "import html"
   ]
  },
  {
   "cell_type": "code",
   "execution_count": 50,
   "metadata": {
    "execution": {
     "iopub.execute_input": "2025-05-21T03:30:55.896310Z",
     "iopub.status.busy": "2025-05-21T03:30:55.895701Z",
     "iopub.status.idle": "2025-05-21T03:30:56.064462Z",
     "shell.execute_reply": "2025-05-21T03:30:56.063710Z",
     "shell.execute_reply.started": "2025-05-21T03:30:55.896285Z"
    },
    "id": "807hpxWVK2Ee"
   },
   "outputs": [
    {
     "data": {
      "text/html": [
       "<h3>Training examples </h3>\n",
       "    <div style=\"display: inline-flex; align-items: center; justify-content: center;\">\n",
       "        <img style=\"width:128px; height:128px;\" src=\"data:image/jpeg;base64,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\" />\n",
       "        <p style=\"width:256px; margin:10px; font-size:small;\">The roundabout connects five roads and a building is next to the roundabout .</p>\n",
       "    </div>\n",
       "    <hr style='width:100%;'>\n",
       "    <div style=\"display: inline-flex; align-items: center; justify-content: center;\">\n",
       "        <img style=\"width:128px; height:128px;\" src=\"data:image/jpeg;base64,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\" />\n",
       "        <p style=\"width:256px; margin:10px; font-size:small;\">The runway with two aiming point markings goes through the lawn .</p>\n",
       "    </div>\n",
       "    <hr style='width:100%;'>\n",
       "    <div style=\"display: inline-flex; align-items: center; justify-content: center;\">\n",
       "        <img style=\"width:128px; height:128px;\" src=\"data:image/jpeg;base64,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\" />\n",
       "        <p style=\"width:256px; margin:10px; font-size:small;\">The folded mountain has a continuous series of rugged mountains and its rocks are red .</p>\n",
       "    </div>\n",
       "    <hr style='width:100%;'>\n",
       "    <div style=\"display: inline-flex; align-items: center; justify-content: center;\">\n",
       "        <img style=\"width:128px; height:128px;\" src=\"data:image/jpeg;base64,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\" />\n",
       "        <p style=\"width:256px; margin:10px; font-size:small;\">many boats are in a port near many buildings .</p>\n",
       "    </div>\n",
       "    <hr style='width:100%;'>"
      ],
      "text/plain": [
       "<IPython.core.display.HTML object>"
      ]
     },
     "metadata": {},
     "output_type": "display_data"
    }
   ],
   "source": [
    "html_out = \"\"\n",
    "for idx, example in zip(range(4), train_data_iterator()):\n",
    "    img = example[0][\"image\"]\n",
    "\n",
    "    html_out += render_example(img, example[1][0])\n",
    "    # optionally a divider between images:\n",
    "    html_out += \"<hr style='width:100%;'>\"\n",
    "\n",
    "display(HTML(\"<h3>Training examples </h3>\" + html_out))\n"
   ]
  },
  {
   "cell_type": "markdown",
   "metadata": {
    "id": "L0BGswEDi5rA"
   },
   "source": [
    "<div style=\"background-color:yellow; text-align:center; padding:40px; font-family:sans-serif;\">\n",
    "  <h3 style=\"color:red;\"> Training step with simple SGD :  </h3>\n",
    "</div>"
   ]
  },
  {
   "cell_type": "code",
   "execution_count": 51,
   "metadata": {
    "execution": {
     "iopub.execute_input": "2025-05-21T03:31:08.848854Z",
     "iopub.status.busy": "2025-05-21T03:31:08.848618Z",
     "iopub.status.idle": "2025-05-21T03:31:08.856083Z",
     "shell.execute_reply": "2025-05-21T03:31:08.855262Z",
     "shell.execute_reply.started": "2025-05-21T03:31:08.848838Z"
    },
    "id": "7_QtGvX6OYUT"
   },
   "outputs": [],
   "source": [
    "# @title Define the training step and evaluation loop.\n",
    "#\n",
    "# The main update_fn using simple SGD.\n",
    "#\n",
    "@functools.partial(jax.jit, donate_argnums=(0,))\n",
    "def update_fn(params, batch, learning_rate):\n",
    "  imgs, txts, mask_ar = batch[\"image\"], batch[\"text\"], batch[\"mask_ar\"]\n",
    "\n",
    "  def loss_fn(params):\n",
    "    text_logits, _ = model.apply({\"params\": params}, imgs, txts[:, :-1], mask_ar[:, :-1], train=True)\n",
    "    logp = jax.nn.log_softmax(text_logits, axis=-1)\n",
    "\n",
    "    # The model takes as input txts[:, :-1] but the loss is defined as predicting\n",
    "    # next tokens txts[:, 1:]. Additionally, mask_loss[:, 1:] indicates which tokens\n",
    "    # are part of the loss (e.g. prefix and padded tokens are not included).\n",
    "    mask_loss = batch[\"mask_loss\"][:, 1:]\n",
    "    targets = jax.nn.one_hot(txts[:, 1:], text_logits.shape[-1])\n",
    "\n",
    "    # Compute the loss per example. i.e. the mean of per token pplx.\n",
    "    # Since each example has a different number of tokens we normalize it.\n",
    "    token_pplx = jnp.sum(logp * targets, axis=-1)  # sum across vocab_size.\n",
    "    example_loss = -jnp.sum(token_pplx * mask_loss, axis=-1)  # sum across seq_len.\n",
    "    example_loss /= jnp.clip(jnp.sum(mask_loss, -1), 1)  # weight by num of tokens.\n",
    "\n",
    "    # batch_loss: mean of per example loss.\n",
    "    return jnp.mean(example_loss)\n",
    "\n",
    "  loss, grads = jax.value_and_grad(loss_fn)(params)\n",
    "\n",
    "  # Apply gradients to trainable params using SGD.\n",
    "  def apply_grad(param, gradient, trainable):\n",
    "    if not trainable: return param\n",
    "    return param - learning_rate * gradient\n",
    "\n",
    "  params = jax.tree_util.tree_map(apply_grad, params, grads, trainable_mask)\n",
    "\n",
    "  return params, loss"
   ]
  },
  {
   "cell_type": "markdown",
   "metadata": {
    "id": "fMqCJnzJi5rB"
   },
   "source": [
    "<div style=\"background-color:yellow; text-align:center; padding:40px; font-family:sans-serif;\">\n",
    "  <h3 style=\"color:red;\"> Evaluation / Inference Loop :  </h3>\n",
    "</div>"
   ]
  },
  {
   "cell_type": "code",
   "execution_count": 52,
   "metadata": {
    "execution": {
     "iopub.execute_input": "2025-05-21T03:31:12.445677Z",
     "iopub.status.busy": "2025-05-21T03:31:12.444969Z",
     "iopub.status.idle": "2025-05-21T03:31:12.452480Z",
     "shell.execute_reply": "2025-05-21T03:31:12.451633Z",
     "shell.execute_reply.started": "2025-05-21T03:31:12.445650Z"
    },
    "id": "o33Hb-o7i5rB"
   },
   "outputs": [],
   "source": [
    "# Evaluation/inference loop.\n",
    "def make_predictions(data_iterator, *, num_examples=None,\n",
    "                     batch_size=4, seqlen=SEQLEN, sampler=\"greedy\"):\n",
    "  outputs = []\n",
    "  while True:\n",
    "    # Construct a list of examples in the batch.\n",
    "    examples = []\n",
    "    captions = []\n",
    "    try:\n",
    "      for _ in range(batch_size):\n",
    "\n",
    "        example, caps = next(data_iterator)\n",
    "        example[\"_mask\"]   = np.array(True)\n",
    "        example[\"caption\"] = caps\n",
    "\n",
    "        # Keep the caption aside\n",
    "        caption = example.pop(\"caption\")\n",
    "        captions.append(caption)\n",
    "\n",
    "        examples.append(example)\n",
    "\n",
    "\n",
    "    except StopIteration:\n",
    "      if len(examples) == 0:\n",
    "        return outputs\n",
    "\n",
    "    # Not enough examples to complete a batch. Pad by repeating last example.\n",
    "    while len(examples) % batch_size:\n",
    "      examples.append(dict(examples[-1]))\n",
    "      examples[-1][\"_mask\"] = np.array(False)  # Indicates padding example.\n",
    "\n",
    "    # Convert list of examples into a dict of np.arrays and load onto devices.\n",
    "    batch = jax.tree.map(lambda *x: np.stack(x), *examples)\n",
    "    batch = big_vision.utils.reshard(batch, data_sharding)\n",
    "\n",
    "    # Make model predictions\n",
    "    tokens = decode({\"params\": params}, batch=batch,\n",
    "                    max_decode_len=seqlen, sampler=sampler)\n",
    "\n",
    "    # Fetch model predictions to device and detokenize.\n",
    "    tokens, mask = jax.device_get((tokens, batch[\"_mask\"]))\n",
    "    tokens = tokens[mask]  # remove padding examples.\n",
    "    responses = [postprocess_tokens(t) for t in tokens]\n",
    "\n",
    "    # Append to html output.\n",
    "    for example, response, caption in zip(examples, responses, captions):\n",
    "        outputs.append((example[\"image\"], response, caption))\n",
    "\n",
    "        if num_examples and len(outputs) >= num_examples:\n",
    "            return outputs"
   ]
  },
  {
   "cell_type": "markdown",
   "metadata": {
    "execution": {
     "iopub.execute_input": "2025-05-02T07:37:59.333628Z",
     "iopub.status.busy": "2025-05-02T07:37:59.333126Z",
     "iopub.status.idle": "2025-05-02T07:37:59.339059Z",
     "shell.execute_reply": "2025-05-02T07:37:59.337947Z",
     "shell.execute_reply.started": "2025-05-02T07:37:59.333604Z"
    },
    "id": "PuqC8L--tMhq",
    "outputId": "bcb50f18-7b1b-4b57-fd84-2b3156af0f0f"
   },
   "source": [
    "<div style=\"background-color:yellow; text-align:center; padding:40px; font-family:sans-serif;\">\n",
    "  <h3 style=\"color:red;\"> WANDB :  </h3>\n",
    "</div>"
   ]
  },
  {
   "cell_type": "code",
   "execution_count": null,
   "metadata": {
    "execution": {
     "iopub.execute_input": "2025-05-14T02:04:20.084854Z",
     "iopub.status.busy": "2025-05-14T02:04:20.084557Z",
     "iopub.status.idle": "2025-05-14T02:04:24.047293Z",
     "shell.execute_reply": "2025-05-14T02:04:24.043662Z",
     "shell.execute_reply.started": "2025-05-14T02:04:20.084829Z"
    },
    "id": "Rm02mGgki5rB"
   },
   "outputs": [],
   "source": [
    "#!pip install wandb"
   ]
  },
  {
   "cell_type": "code",
   "execution_count": 53,
   "metadata": {
    "execution": {
     "iopub.execute_input": "2025-05-21T03:31:17.052989Z",
     "iopub.status.busy": "2025-05-21T03:31:17.052305Z",
     "iopub.status.idle": "2025-05-21T03:31:19.078810Z",
     "shell.execute_reply": "2025-05-21T03:31:19.078016Z",
     "shell.execute_reply.started": "2025-05-21T03:31:17.052962Z"
    },
    "id": "5aDEF3c_VE0U"
   },
   "outputs": [],
   "source": [
    "import wandb"
   ]
  },
  {
   "cell_type": "code",
   "execution_count": 54,
   "metadata": {
    "execution": {
     "iopub.execute_input": "2025-05-21T03:31:27.045412Z",
     "iopub.status.busy": "2025-05-21T03:31:27.044857Z",
     "iopub.status.idle": "2025-05-21T03:31:27.048787Z",
     "shell.execute_reply": "2025-05-21T03:31:27.048022Z",
     "shell.execute_reply.started": "2025-05-21T03:31:27.045387Z"
    },
    "id": "pJd2cBlEVBuQ"
   },
   "outputs": [],
   "source": [
    "os.environ[\"...\"]       = \"...\""
   ]
  },
  {
   "cell_type": "code",
   "execution_count": 55,
   "metadata": {
    "colab": {
     "base_uri": "https://localhost:8080/",
     "height": 142
    },
    "execution": {
     "iopub.execute_input": "2025-05-21T03:31:43.647762Z",
     "iopub.status.busy": "2025-05-21T03:31:43.647185Z",
     "iopub.status.idle": "2025-05-21T03:32:05.596101Z",
     "shell.execute_reply": "2025-05-21T03:32:05.595574Z",
     "shell.execute_reply.started": "2025-05-21T03:31:43.647737Z"
    },
    "id": "8R2xowiKi5rB",
    "outputId": "dc69bf82-e55a-448a-90e5-17e80b1dbde5"
   },
   "outputs": [
    {
     "name": "stderr",
     "output_type": "stream",
     "text": [
      "\u001b[34m\u001b[1mwandb\u001b[0m: Using wandb-core as the SDK backend.  Please refer to https://wandb.me/wandb-core for more information.\n",
      "\u001b[34m\u001b[1mwandb\u001b[0m: Currently logged in as: \u001b[33mturgay-yildiz-phi-e-pi\u001b[0m (\u001b[33mDI_725___Final_Project\u001b[0m) to \u001b[32mhttps://api.wandb.ai\u001b[0m. Use \u001b[1m`wandb login --relogin`\u001b[0m to force relogin\n"
     ]
    },
    {
     "data": {
      "text/html": [
       "Tracking run with wandb version 0.19.9"
      ],
      "text/plain": [
       "<IPython.core.display.HTML object>"
      ]
     },
     "metadata": {},
     "output_type": "display_data"
    },
    {
     "data": {
      "text/html": [
       "Run data is saved locally in <code>/kaggle/working/wandb/run-20250521_033154-ijv58qbr</code>"
      ],
      "text/plain": [
       "<IPython.core.display.HTML object>"
      ]
     },
     "metadata": {},
     "output_type": "display_data"
    },
    {
     "data": {
      "text/html": [
       "Syncing run <strong><a href='https://wandb.ai/DI_725___Final_Project/Phase_3___Soft_plus_Hard/runs/ijv58qbr' target=\"_blank\">feasible-bush-1</a></strong> to <a href='https://wandb.ai/DI_725___Final_Project/Phase_3___Soft_plus_Hard' target=\"_blank\">Weights & Biases</a> (<a href='https://wandb.me/developer-guide' target=\"_blank\">docs</a>)<br>"
      ],
      "text/plain": [
       "<IPython.core.display.HTML object>"
      ]
     },
     "metadata": {},
     "output_type": "display_data"
    },
    {
     "data": {
      "text/html": [
       " View project at <a href='https://wandb.ai/DI_725___Final_Project/Phase_3___Soft_plus_Hard' target=\"_blank\">https://wandb.ai/DI_725___Final_Project/Phase_3___Soft_plus_Hard</a>"
      ],
      "text/plain": [
       "<IPython.core.display.HTML object>"
      ]
     },
     "metadata": {},
     "output_type": "display_data"
    },
    {
     "data": {
      "text/html": [
       " View run at <a href='https://wandb.ai/DI_725___Final_Project/Phase_3___Soft_plus_Hard/runs/ijv58qbr' target=\"_blank\">https://wandb.ai/DI_725___Final_Project/Phase_3___Soft_plus_Hard/runs/ijv58qbr</a>"
      ],
      "text/plain": [
       "<IPython.core.display.HTML object>"
      ]
     },
     "metadata": {},
     "output_type": "display_data"
    }
   ],
   "source": [
    "run  =  wandb.init(project=\"...\", entity=\"...\") "
   ]
  },
  {
   "cell_type": "markdown",
   "metadata": {
    "execution": {
     "iopub.execute_input": "2025-05-02T07:40:50.298843Z",
     "iopub.status.busy": "2025-05-02T07:40:50.298628Z",
     "iopub.status.idle": "2025-05-02T07:40:50.304331Z",
     "shell.execute_reply": "2025-05-02T07:40:50.303471Z",
     "shell.execute_reply.started": "2025-05-02T07:40:50.298819Z"
    },
    "id": "JaoT9rNIt2wO",
    "outputId": "6efe8793-ec84-40ac-d48e-8fca0ebd52cb"
   },
   "source": [
    "<div style=\"background-color:yellow; text-align:center; padding:40px; font-family:sans-serif;\">\n",
    "  <h3 style=\"color:red;\"> Train :  </h3>\n",
    "</div>"
   ]
  },
  {
   "cell_type": "code",
   "execution_count": null,
   "metadata": {
    "colab": {
     "base_uri": "https://localhost:8080/",
     "height": 1000,
     "referenced_widgets": [
      "378135bab63e456bb73232a188bb3c0a",
      "f55196ff5bfa49e39d6b1a2a86115a80",
      "91016a321e5c4790b704d2e7eee9fa72",
      "0ed951abbbd94ce099d4d9d8af052311",
      "2be016149c394f438c3b8c918f17c5d5",
      "0077cd058d5b449f8892370ed91ad804",
      "55ddabb4b6e248aea537e5de27df1d0c",
      "61fc26e90e2f4207b9a47fe93e120e46",
      "f1317125e21848d891eb8fe7d8bca191",
      "468ec665621f476bb6353f439656e231",
      "440424657e3b4b14ac5269dc54ade400",
      "3e8bd9a27e51457e82d8e5233877b91f",
      "6204bc1e59684b4db58346d4b45f801e",
      "3d87eb3cf6614c7b877095405d13c5d3",
      "3c100ebcd5794676bac310c033d25806",
      "006829c8bd58405483dcd5b448a2b849",
      "66f8d15a81274b70b29407053d8039bc",
      "97498ccd881d4f3582caf30d4802762c",
      "d8695deec6b746a8ab5f005edbf7f7d7",
      "28e6499fe15843878e7f1423dbb4449e",
      "186a86f2c01a4071a99a75343488d03f",
      "b31ce7d431014e0eae533e3a55b83909",
      "d251854bd7e244c7a53661562b659f88",
      "3779e4059c4e422b88d9e0a8d9667a9d",
      "3969348fc7fc4141b5ac0333747bfc87",
      "4dc2c8f408cc40a4897b5f4c5bd38135",
      "cb84e501685d40e9ab4d2a827aaa703e",
      "3c70d3ece9fe439d8f516e72f00b8f09",
      "c7702b7a1eb4485e99d0919dccd3d50c",
      "172ec8302c6e4d12ae45f43fd80e8582",
      "271ab3c602d146d7b52cdfb029cb801a",
      "64d5d8bbfd744f84bd46e88188c40d64",
      "1b78a93402864eb29ac49534211b61dd",
      "0b56c29048b64955b977a6458a1d2d95",
      "36ccea48887c4bb787b695b4d45bca53",
      "32fbdf8b11164577ba0f25bee2adfcaa",
      "d94d2c3a17d24dd393b887f3155f6789",
      "c4bee61910b14e13847cebbfc76d6bb9",
      "c5cf8da8da4b40f4998cc472aff1da89",
      "b37b3e1b62564ee49d7ad1331d278978",
      "a752b5d5ffcf427ead3e6d80655aff53",
      "15d1e524a24b4b4ea9bba6cceb1b50da",
      "7e7b5ebcf3f64a6a91f5244a2ff345d2",
      "ec846a81edfb433d882f77e72443c8e3",
      "14ce388b7e2a40c1bfdabd5c3e88a1b1",
      "d398b0c2a496473698c410677d775588",
      "ad7698d2a85a433598f27759e49ec281",
      "4db388109aca4fd7bcf1cb153b661926",
      "0d49380014fe417eabe3a9d42bd3f1cb",
      "2fedc5c7dd924f12a00720a6c3d2ca07",
      "f92b6eb8efdf431499cc8821600da606",
      "1ebf69087cd34162a0acf82fe0f465d2",
      "59eb90c7434a4b069a6d37c78e5376d8",
      "e055ed92ccd740979632f83181d8d2ce",
      "c9e886bc8af741e9ae105d8698d30e47"
     ]
    },
    "id": "lMq6146UD_7b",
    "outputId": "c1b9c47e-bc87-4c9b-8668-347dc86ad3eb"
   },
   "outputs": [],
   "source": [
    "import io, base64\n",
    "from PIL import Image\n",
    "from IPython.display import HTML, display\n",
    "\n",
    "import wandb\n",
    "import pickle\n",
    "import evaluate\n",
    "import tqdm\n",
    "#---------------------------------------------------------------------------------------------------------------------------#\n",
    "# 1) Install & load metrics\n",
    "#    pip install evaluate\n",
    "bleu_metric   = evaluate.load(\"bleu\")\n",
    "rouge_metric  = evaluate.load(\"rouge\")\n",
    "meteor_metric = evaluate.load(\"meteor\")\n",
    "#---------------------------------------------------------------------------------------------------------------------------#\n",
    "# 2) Hyperparams\n",
    "BATCH_SIZE     = 8\n",
    "TRAIN_EXAMPLES = 30000\n",
    "LEARNING_RATE  = 0.0001\n",
    "\n",
    "TRAIN_STEPS = TRAIN_EXAMPLES // BATCH_SIZE\n",
    "EVAL_STEPS  = 100\n",
    "#---------------------------------------------------------------------------------------------------------------------------#\n",
    "run.config.update({\n",
    "    \"model_name\"     : \"PaliGemma Hard-Prompt + Soft-Prompt\",\n",
    "    \"batch_size\"     : BATCH_SIZE,\n",
    "    \"train_examples\" : TRAIN_EXAMPLES,\n",
    "    \"learning_rate\"  : LEARNING_RATE,\n",
    "    \"train_steps\"    : TRAIN_STEPS,\n",
    "    \"eval_steps\"     : EVAL_STEPS,\n",
    "})\n",
    "#---------------------------------------------------------------------------------------------------------------------------#\n",
    "# 3) Data & scheduler\n",
    "train_data_it = train_data_iterator()\n",
    "\n",
    "sched_fn  = big_vision.utils.create_learning_rate_schedule(\n",
    "                                                                total_steps    = TRAIN_STEPS + 1,\n",
    "                                                                base           = LEARNING_RATE,\n",
    "                                                                decay_type     = \"linear\",\n",
    "                                                                warmup_percent = 0.1,\n",
    "                                                          )\n",
    "#---------------------------------------------------------------------------------------------------------------------------#\n",
    "#                                           Training loop\n",
    "#---------------------------------------------------------------------------------------------------------------------------#\n",
    "for step in range(1, TRAIN_STEPS + 1):\n",
    "    # ——— train step ———\n",
    "\n",
    "    examples = [next(train_data_it)[0] for _ in range(BATCH_SIZE)]\n",
    "\n",
    "    batch    = jax.tree.map(lambda *x: np.stack(x), *examples)\n",
    "    batch    = big_vision.utils.reshard(batch, data_sharding)\n",
    "\n",
    "    lr           = sched_fn(step)\n",
    "    params, loss = update_fn(params, batch, lr)\n",
    "    loss_val     = float(jax.device_get(loss))\n",
    "\n",
    "    print(f\"step: {step}/{TRAIN_STEPS}   lr: {lr:.8f}   loss: {loss_val:.4f}\")\n",
    "    wandb.log({\"train/loss\": loss_val, \"train/lr\": lr}, step=step)\n",
    "\n",
    "#---------------------------------------------------------------------------------------------------------------------------#\n",
    "#                                         ——— eval step ———\n",
    "#---------------------------------------------------------------------------------------------------------------------------#\n",
    "    if step == 1 or step % EVAL_STEPS == 0:\n",
    "        print(f\"→ Evaluation at step {step}\")\n",
    "\n",
    "        # A) Batch‐collect all validation examples once\n",
    "        all_examples = []\n",
    "        all_captions = []\n",
    "\n",
    "        val_it = validation_data_iterator()\n",
    "\n",
    "        num_to_eval = 64\n",
    "\n",
    "        for _ in range(num_to_eval):\n",
    "            example, caps = next(val_it)\n",
    "\n",
    "            all_examples.append(example)\n",
    "            all_captions.append(caps)\n",
    "\n",
    "        # B) One big make_predictions call\n",
    "        #    This internally pads to multiples of batch_size as needed.\n",
    "\n",
    "        demo_outputs = make_predictions(\n",
    "            iter(zip(all_examples, all_captions)),\n",
    "            num_examples = num_to_eval,\n",
    "            batch_size   = BATCH_SIZE,\n",
    "        )\n",
    "\n",
    "        # demo_outputs is a list of (img, pred, ref) of length num_to_eval\n",
    "        all_hyps = [pred for (_, pred, _) in demo_outputs]\n",
    "        all_refs = [[ref] for (_, _, ref) in demo_outputs]\n",
    "\n",
    "#---------------------------------------------------------------------------------------------------------------------------#\n",
    "#                                          compute & log BLEU/ROUGE/METEOR …\n",
    "#---------------------------------------------------------------------------------------------------------------------------#\n",
    "        # 1) Filter out any fully empty predictions\n",
    "        # Filter out any empty predictions, just in case\n",
    "        filtered = [(h, refs) for h, refs in zip(all_hyps, all_refs) if h.strip()]\n",
    "        if filtered:\n",
    "            all_hyps, all_refs = zip(*filtered)\n",
    "            all_hyps, all_refs = list(all_hyps), list(all_refs)\n",
    "        else:\n",
    "            all_hyps, all_refs = [], []\n",
    "\n",
    "        # Only call metrics if we have at least one example\n",
    "        if all_hyps:\n",
    "            bleu_res = bleu_metric.compute(\n",
    "                predictions=all_hyps,\n",
    "                references=all_refs,\n",
    "                smooth=True   # avoid zero‐div errors\n",
    "            )\n",
    "            rouge_res = rouge_metric.compute(\n",
    "                predictions=all_hyps,\n",
    "                references=all_refs\n",
    "            )\n",
    "            meteor_res = meteor_metric.compute(\n",
    "                predictions=all_hyps,\n",
    "                references=all_refs\n",
    "            )\n",
    "        else:\n",
    "            # no valid hyps → set everything to zero\n",
    "            bleu_res   = {\"bleu\": 0.0}\n",
    "            rouge_res  = {\"rouge1\": 0.0, \"rouge2\": 0.0, \"rougeL\": 0.0}\n",
    "            meteor_res = {\"meteor\": 0.0}\n",
    "\n",
    "        print(f\"   BLEU:   {bleu_res['bleu']:.5f}\")\n",
    "        print(f\"   ROUGE1: {rouge_res['rouge1']:.5f}, ROUGE2: {rouge_res['rouge2']:.5f}, ROUGEL: {rouge_res['rougeL']:.5f}\")\n",
    "        print(f\"   METEOR: {meteor_res['meteor']:.5f}\")\n",
    "\n",
    "        wandb.log({\n",
    "            \"eval/bleu\":    bleu_res[\"bleu\"],\n",
    "            \"eval/rouge1\":  rouge_res[\"rouge1\"],\n",
    "            \"eval/rouge2\":  rouge_res[\"rouge2\"],\n",
    "            \"eval/rougeL\":  rouge_res[\"rougeL\"],\n",
    "            \"eval/meteor\":  meteor_res[\"meteor\"],\n",
    "            \"eval/loss\":    loss_val,\n",
    "        }, step=step)\n",
    "\n",
    "#---------------------------------------------------------------------------------------------------------------------------#\n",
    "#                         ---- Display side‐by‐side in Colab ----\n",
    "#---------------------------------------------------------------------------------------------------------------------------#\n",
    "\n",
    "        html = \"<div style='display:flex; gap:16px;'>\"\n",
    "        for img, pred, ref in demo_outputs[:4]:\n",
    "            img_u8 = ((img + 1) * 127.5).astype(\"uint8\")\n",
    "            buf    = io.BytesIO()\n",
    "            Image.fromarray(img_u8).save(buf, format=\"PNG\")\n",
    "            b64    = base64.b64encode(buf.getvalue()).decode(\"utf-8\")\n",
    "            html += f\"\"\"\n",
    "              <div style='text-align:center;'>\n",
    "                <img src=\"data:image/png;base64,{b64}\" width=\"200\"/><br/>\n",
    "                <strong>Pred:</strong> {pred}<br/>\n",
    "                <strong>Ref:</strong> {ref}\n",
    "              </div>\n",
    "            \"\"\"\n",
    "        html += \"</div>\"\n",
    "        display(HTML(html))\n",
    "#---------------------------------------------------------------------------------------------------------------------------#\n",
    "        # ---- D) W&B table ----\n",
    "#---------------------------------------------------------------------------------------------------------------------------#\n",
    "        table = wandb.Table(columns=[\"image\",\"predicted\",\"reference\"])\n",
    "        for img, pred, ref in demo_outputs[:4]:\n",
    "            wb_img = wandb.Image(((img + 1) * 127.5).astype(\"uint8\"))\n",
    "            table.add_data(wb_img, pred, ref)\n",
    "        wandb.log({\"eval/samples_table\": table}, step=step)\n",
    "#---------------------------------------------------------------------------------------------------------------------------"
   ]
  },
  {
   "cell_type": "code",
   "execution_count": null,
   "metadata": {
    "id": "l0_hf0XgD_yE"
   },
   "outputs": [],
   "source": [
    "\n",
    "#wandb.finish()\n"
   ]
  },
  {
   "cell_type": "code",
   "execution_count": null,
   "metadata": {
    "id": "YamfwMqsD_hM"
   },
   "outputs": [],
   "source": []
  }
 ],
 "metadata": {
  "accelerator": "GPU",
  "colab": {
   "gpuType": "T4",
   "provenance": []
  },
  "kaggle": {
   "accelerator": "gpu",
   "dataSources": [
    {
     "datasetId": 7305746,
     "sourceId": 11642684,
     "sourceType": "datasetVersion"
    },
    {
     "modelId": 23393,
     "modelInstanceId": 37999,
     "sourceId": 45318,
     "sourceType": "modelInstanceVersion"
    }
   ],
   "dockerImageVersionId": 31041,
   "isGpuEnabled": true,
   "isInternetEnabled": true,
   "language": "python",
   "sourceType": "notebook"
  },
  "kernelspec": {
   "display_name": "Python 3 (ipykernel)",
   "language": "python",
   "name": "python3"
  },
  "language_info": {
   "codemirror_mode": {
    "name": "ipython",
    "version": 3
   },
   "file_extension": ".py",
   "mimetype": "text/x-python",
   "name": "python",
   "nbconvert_exporter": "python",
   "pygments_lexer": "ipython3",
   "version": "3.12.7"
  },
  "widgets": {
   "application/vnd.jupyter.widget-state+json": {
    "006829c8bd58405483dcd5b448a2b849": {
     "model_module": "@jupyter-widgets/base",
     "model_module_version": "1.2.0",
     "model_name": "LayoutModel",
     "state": {
      "_model_module": "@jupyter-widgets/base",
      "_model_module_version": "1.2.0",
      "_model_name": "LayoutModel",
      "_view_count": null,
      "_view_module": "@jupyter-widgets/base",
      "_view_module_version": "1.2.0",
      "_view_name": "LayoutView",
      "align_content": null,
      "align_items": null,
      "align_self": null,
      "border": null,
      "bottom": null,
      "display": null,
      "flex": null,
      "flex_flow": null,
      "grid_area": null,
      "grid_auto_columns": null,
      "grid_auto_flow": null,
      "grid_auto_rows": null,
      "grid_column": null,
      "grid_gap": null,
      "grid_row": null,
      "grid_template_areas": null,
      "grid_template_columns": null,
      "grid_template_rows": null,
      "height": null,
      "justify_content": null,
      "justify_items": null,
      "left": null,
      "margin": null,
      "max_height": null,
      "max_width": null,
      "min_height": null,
      "min_width": null,
      "object_fit": null,
      "object_position": null,
      "order": null,
      "overflow": null,
      "overflow_x": null,
      "overflow_y": null,
      "padding": null,
      "right": null,
      "top": null,
      "visibility": null,
      "width": null
     }
    },
    "0077cd058d5b449f8892370ed91ad804": {
     "model_module": "@jupyter-widgets/base",
     "model_module_version": "1.2.0",
     "model_name": "LayoutModel",
     "state": {
      "_model_module": "@jupyter-widgets/base",
      "_model_module_version": "1.2.0",
      "_model_name": "LayoutModel",
      "_view_count": null,
      "_view_module": "@jupyter-widgets/base",
      "_view_module_version": "1.2.0",
      "_view_name": "LayoutView",
      "align_content": null,
      "align_items": null,
      "align_self": null,
      "border": null,
      "bottom": null,
      "display": null,
      "flex": null,
      "flex_flow": null,
      "grid_area": null,
      "grid_auto_columns": null,
      "grid_auto_flow": null,
      "grid_auto_rows": null,
      "grid_column": null,
      "grid_gap": null,
      "grid_row": null,
      "grid_template_areas": null,
      "grid_template_columns": null,
      "grid_template_rows": null,
      "height": null,
      "justify_content": null,
      "justify_items": null,
      "left": null,
      "margin": null,
      "max_height": null,
      "max_width": null,
      "min_height": null,
      "min_width": null,
      "object_fit": null,
      "object_position": null,
      "order": null,
      "overflow": null,
      "overflow_x": null,
      "overflow_y": null,
      "padding": null,
      "right": null,
      "top": null,
      "visibility": null,
      "width": null
     }
    },
    "0b56c29048b64955b977a6458a1d2d95": {
     "model_module": "@jupyter-widgets/controls",
     "model_module_version": "1.5.0",
     "model_name": "HBoxModel",
     "state": {
      "_dom_classes": [],
      "_model_module": "@jupyter-widgets/controls",
      "_model_module_version": "1.5.0",
      "_model_name": "HBoxModel",
      "_view_count": null,
      "_view_module": "@jupyter-widgets/controls",
      "_view_module_version": "1.5.0",
      "_view_name": "HBoxView",
      "box_style": "",
      "children": [
       "IPY_MODEL_36ccea48887c4bb787b695b4d45bca53",
       "IPY_MODEL_32fbdf8b11164577ba0f25bee2adfcaa",
       "IPY_MODEL_d94d2c3a17d24dd393b887f3155f6789"
      ],
      "layout": "IPY_MODEL_c4bee61910b14e13847cebbfc76d6bb9"
     }
    },
    "0d49380014fe417eabe3a9d42bd3f1cb": {
     "model_module": "@jupyter-widgets/base",
     "model_module_version": "1.2.0",
     "model_name": "LayoutModel",
     "state": {
      "_model_module": "@jupyter-widgets/base",
      "_model_module_version": "1.2.0",
      "_model_name": "LayoutModel",
      "_view_count": null,
      "_view_module": "@jupyter-widgets/base",
      "_view_module_version": "1.2.0",
      "_view_name": "LayoutView",
      "align_content": null,
      "align_items": null,
      "align_self": null,
      "border": null,
      "bottom": null,
      "display": null,
      "flex": null,
      "flex_flow": null,
      "grid_area": null,
      "grid_auto_columns": null,
      "grid_auto_flow": null,
      "grid_auto_rows": null,
      "grid_column": null,
      "grid_gap": null,
      "grid_row": null,
      "grid_template_areas": null,
      "grid_template_columns": null,
      "grid_template_rows": null,
      "height": null,
      "justify_content": null,
      "justify_items": null,
      "left": null,
      "margin": null,
      "max_height": null,
      "max_width": null,
      "min_height": null,
      "min_width": null,
      "object_fit": null,
      "object_position": null,
      "order": null,
      "overflow": null,
      "overflow_x": null,
      "overflow_y": null,
      "padding": null,
      "right": null,
      "top": null,
      "visibility": null,
      "width": null
     }
    },
    "0ed951abbbd94ce099d4d9d8af052311": {
     "model_module": "@jupyter-widgets/controls",
     "model_module_version": "1.5.0",
     "model_name": "HTMLModel",
     "state": {
      "_dom_classes": [],
      "_model_module": "@jupyter-widgets/controls",
      "_model_module_version": "1.5.0",
      "_model_name": "HTMLModel",
      "_view_count": null,
      "_view_module": "@jupyter-widgets/controls",
      "_view_module_version": "1.5.0",
      "_view_name": "HTMLView",
      "description": "",
      "description_tooltip": null,
      "layout": "IPY_MODEL_468ec665621f476bb6353f439656e231",
      "placeholder": "​",
      "style": "IPY_MODEL_440424657e3b4b14ac5269dc54ade400",
      "value": " 5.94k/5.94k [00:00&lt;00:00, 307kB/s]"
     }
    },
    "14ce388b7e2a40c1bfdabd5c3e88a1b1": {
     "model_module": "@jupyter-widgets/controls",
     "model_module_version": "1.5.0",
     "model_name": "HBoxModel",
     "state": {
      "_dom_classes": [],
      "_model_module": "@jupyter-widgets/controls",
      "_model_module_version": "1.5.0",
      "_model_name": "HBoxModel",
      "_view_count": null,
      "_view_module": "@jupyter-widgets/controls",
      "_view_module_version": "1.5.0",
      "_view_name": "HBoxView",
      "box_style": "",
      "children": [
       "IPY_MODEL_d398b0c2a496473698c410677d775588",
       "IPY_MODEL_ad7698d2a85a433598f27759e49ec281",
       "IPY_MODEL_4db388109aca4fd7bcf1cb153b661926"
      ],
      "layout": "IPY_MODEL_0d49380014fe417eabe3a9d42bd3f1cb"
     }
    },
    "15d1e524a24b4b4ea9bba6cceb1b50da": {
     "model_module": "@jupyter-widgets/controls",
     "model_module_version": "1.5.0",
     "model_name": "ProgressStyleModel",
     "state": {
      "_model_module": "@jupyter-widgets/controls",
      "_model_module_version": "1.5.0",
      "_model_name": "ProgressStyleModel",
      "_view_count": null,
      "_view_module": "@jupyter-widgets/base",
      "_view_module_version": "1.2.0",
      "_view_name": "StyleView",
      "bar_color": null,
      "description_width": ""
     }
    },
    "172ec8302c6e4d12ae45f43fd80e8582": {
     "model_module": "@jupyter-widgets/base",
     "model_module_version": "1.2.0",
     "model_name": "LayoutModel",
     "state": {
      "_model_module": "@jupyter-widgets/base",
      "_model_module_version": "1.2.0",
      "_model_name": "LayoutModel",
      "_view_count": null,
      "_view_module": "@jupyter-widgets/base",
      "_view_module_version": "1.2.0",
      "_view_name": "LayoutView",
      "align_content": null,
      "align_items": null,
      "align_self": null,
      "border": null,
      "bottom": null,
      "display": null,
      "flex": null,
      "flex_flow": null,
      "grid_area": null,
      "grid_auto_columns": null,
      "grid_auto_flow": null,
      "grid_auto_rows": null,
      "grid_column": null,
      "grid_gap": null,
      "grid_row": null,
      "grid_template_areas": null,
      "grid_template_columns": null,
      "grid_template_rows": null,
      "height": null,
      "justify_content": null,
      "justify_items": null,
      "left": null,
      "margin": null,
      "max_height": null,
      "max_width": null,
      "min_height": null,
      "min_width": null,
      "object_fit": null,
      "object_position": null,
      "order": null,
      "overflow": null,
      "overflow_x": null,
      "overflow_y": null,
      "padding": null,
      "right": null,
      "top": null,
      "visibility": null,
      "width": null
     }
    },
    "186a86f2c01a4071a99a75343488d03f": {
     "model_module": "@jupyter-widgets/base",
     "model_module_version": "1.2.0",
     "model_name": "LayoutModel",
     "state": {
      "_model_module": "@jupyter-widgets/base",
      "_model_module_version": "1.2.0",
      "_model_name": "LayoutModel",
      "_view_count": null,
      "_view_module": "@jupyter-widgets/base",
      "_view_module_version": "1.2.0",
      "_view_name": "LayoutView",
      "align_content": null,
      "align_items": null,
      "align_self": null,
      "border": null,
      "bottom": null,
      "display": null,
      "flex": null,
      "flex_flow": null,
      "grid_area": null,
      "grid_auto_columns": null,
      "grid_auto_flow": null,
      "grid_auto_rows": null,
      "grid_column": null,
      "grid_gap": null,
      "grid_row": null,
      "grid_template_areas": null,
      "grid_template_columns": null,
      "grid_template_rows": null,
      "height": null,
      "justify_content": null,
      "justify_items": null,
      "left": null,
      "margin": null,
      "max_height": null,
      "max_width": null,
      "min_height": null,
      "min_width": null,
      "object_fit": null,
      "object_position": null,
      "order": null,
      "overflow": null,
      "overflow_x": null,
      "overflow_y": null,
      "padding": null,
      "right": null,
      "top": null,
      "visibility": null,
      "width": null
     }
    },
    "1b78a93402864eb29ac49534211b61dd": {
     "model_module": "@jupyter-widgets/controls",
     "model_module_version": "1.5.0",
     "model_name": "DescriptionStyleModel",
     "state": {
      "_model_module": "@jupyter-widgets/controls",
      "_model_module_version": "1.5.0",
      "_model_name": "DescriptionStyleModel",
      "_view_count": null,
      "_view_module": "@jupyter-widgets/base",
      "_view_module_version": "1.2.0",
      "_view_name": "StyleView",
      "description_width": ""
     }
    },
    "1ebf69087cd34162a0acf82fe0f465d2": {
     "model_module": "@jupyter-widgets/base",
     "model_module_version": "1.2.0",
     "model_name": "LayoutModel",
     "state": {
      "_model_module": "@jupyter-widgets/base",
      "_model_module_version": "1.2.0",
      "_model_name": "LayoutModel",
      "_view_count": null,
      "_view_module": "@jupyter-widgets/base",
      "_view_module_version": "1.2.0",
      "_view_name": "LayoutView",
      "align_content": null,
      "align_items": null,
      "align_self": null,
      "border": null,
      "bottom": null,
      "display": null,
      "flex": null,
      "flex_flow": null,
      "grid_area": null,
      "grid_auto_columns": null,
      "grid_auto_flow": null,
      "grid_auto_rows": null,
      "grid_column": null,
      "grid_gap": null,
      "grid_row": null,
      "grid_template_areas": null,
      "grid_template_columns": null,
      "grid_template_rows": null,
      "height": null,
      "justify_content": null,
      "justify_items": null,
      "left": null,
      "margin": null,
      "max_height": null,
      "max_width": null,
      "min_height": null,
      "min_width": null,
      "object_fit": null,
      "object_position": null,
      "order": null,
      "overflow": null,
      "overflow_x": null,
      "overflow_y": null,
      "padding": null,
      "right": null,
      "top": null,
      "visibility": null,
      "width": null
     }
    },
    "271ab3c602d146d7b52cdfb029cb801a": {
     "model_module": "@jupyter-widgets/controls",
     "model_module_version": "1.5.0",
     "model_name": "ProgressStyleModel",
     "state": {
      "_model_module": "@jupyter-widgets/controls",
      "_model_module_version": "1.5.0",
      "_model_name": "ProgressStyleModel",
      "_view_count": null,
      "_view_module": "@jupyter-widgets/base",
      "_view_module_version": "1.2.0",
      "_view_name": "StyleView",
      "bar_color": null,
      "description_width": ""
     }
    },
    "28e6499fe15843878e7f1423dbb4449e": {
     "model_module": "@jupyter-widgets/controls",
     "model_module_version": "1.5.0",
     "model_name": "ProgressStyleModel",
     "state": {
      "_model_module": "@jupyter-widgets/controls",
      "_model_module_version": "1.5.0",
      "_model_name": "ProgressStyleModel",
      "_view_count": null,
      "_view_module": "@jupyter-widgets/base",
      "_view_module_version": "1.2.0",
      "_view_name": "StyleView",
      "bar_color": null,
      "description_width": ""
     }
    },
    "2be016149c394f438c3b8c918f17c5d5": {
     "model_module": "@jupyter-widgets/base",
     "model_module_version": "1.2.0",
     "model_name": "LayoutModel",
     "state": {
      "_model_module": "@jupyter-widgets/base",
      "_model_module_version": "1.2.0",
      "_model_name": "LayoutModel",
      "_view_count": null,
      "_view_module": "@jupyter-widgets/base",
      "_view_module_version": "1.2.0",
      "_view_name": "LayoutView",
      "align_content": null,
      "align_items": null,
      "align_self": null,
      "border": null,
      "bottom": null,
      "display": null,
      "flex": null,
      "flex_flow": null,
      "grid_area": null,
      "grid_auto_columns": null,
      "grid_auto_flow": null,
      "grid_auto_rows": null,
      "grid_column": null,
      "grid_gap": null,
      "grid_row": null,
      "grid_template_areas": null,
      "grid_template_columns": null,
      "grid_template_rows": null,
      "height": null,
      "justify_content": null,
      "justify_items": null,
      "left": null,
      "margin": null,
      "max_height": null,
      "max_width": null,
      "min_height": null,
      "min_width": null,
      "object_fit": null,
      "object_position": null,
      "order": null,
      "overflow": null,
      "overflow_x": null,
      "overflow_y": null,
      "padding": null,
      "right": null,
      "top": null,
      "visibility": null,
      "width": null
     }
    },
    "2fedc5c7dd924f12a00720a6c3d2ca07": {
     "model_module": "@jupyter-widgets/base",
     "model_module_version": "1.2.0",
     "model_name": "LayoutModel",
     "state": {
      "_model_module": "@jupyter-widgets/base",
      "_model_module_version": "1.2.0",
      "_model_name": "LayoutModel",
      "_view_count": null,
      "_view_module": "@jupyter-widgets/base",
      "_view_module_version": "1.2.0",
      "_view_name": "LayoutView",
      "align_content": null,
      "align_items": null,
      "align_self": null,
      "border": null,
      "bottom": null,
      "display": null,
      "flex": null,
      "flex_flow": null,
      "grid_area": null,
      "grid_auto_columns": null,
      "grid_auto_flow": null,
      "grid_auto_rows": null,
      "grid_column": null,
      "grid_gap": null,
      "grid_row": null,
      "grid_template_areas": null,
      "grid_template_columns": null,
      "grid_template_rows": null,
      "height": null,
      "justify_content": null,
      "justify_items": null,
      "left": null,
      "margin": null,
      "max_height": null,
      "max_width": null,
      "min_height": null,
      "min_width": null,
      "object_fit": null,
      "object_position": null,
      "order": null,
      "overflow": null,
      "overflow_x": null,
      "overflow_y": null,
      "padding": null,
      "right": null,
      "top": null,
      "visibility": null,
      "width": null
     }
    },
    "32fbdf8b11164577ba0f25bee2adfcaa": {
     "model_module": "@jupyter-widgets/controls",
     "model_module_version": "1.5.0",
     "model_name": "FloatProgressModel",
     "state": {
      "_dom_classes": [],
      "_model_module": "@jupyter-widgets/controls",
      "_model_module_version": "1.5.0",
      "_model_name": "FloatProgressModel",
      "_view_count": null,
      "_view_module": "@jupyter-widgets/controls",
      "_view_module_version": "1.5.0",
      "_view_name": "ProgressView",
      "bar_style": "success",
      "description": "",
      "description_tooltip": null,
      "layout": "IPY_MODEL_a752b5d5ffcf427ead3e6d80655aff53",
      "max": 6270,
      "min": 0,
      "orientation": "horizontal",
      "style": "IPY_MODEL_15d1e524a24b4b4ea9bba6cceb1b50da",
      "value": 6270
     }
    },
    "36ccea48887c4bb787b695b4d45bca53": {
     "model_module": "@jupyter-widgets/controls",
     "model_module_version": "1.5.0",
     "model_name": "HTMLModel",
     "state": {
      "_dom_classes": [],
      "_model_module": "@jupyter-widgets/controls",
      "_model_module_version": "1.5.0",
      "_model_name": "HTMLModel",
      "_view_count": null,
      "_view_module": "@jupyter-widgets/controls",
      "_view_module_version": "1.5.0",
      "_view_name": "HTMLView",
      "description": "",
      "description_tooltip": null,
      "layout": "IPY_MODEL_c5cf8da8da4b40f4998cc472aff1da89",
      "placeholder": "​",
      "style": "IPY_MODEL_b37b3e1b62564ee49d7ad1331d278978",
      "value": "Downloading builder script: 100%"
     }
    },
    "3779e4059c4e422b88d9e0a8d9667a9d": {
     "model_module": "@jupyter-widgets/controls",
     "model_module_version": "1.5.0",
     "model_name": "HTMLModel",
     "state": {
      "_dom_classes": [],
      "_model_module": "@jupyter-widgets/controls",
      "_model_module_version": "1.5.0",
      "_model_name": "HTMLModel",
      "_view_count": null,
      "_view_module": "@jupyter-widgets/controls",
      "_view_module_version": "1.5.0",
      "_view_name": "HTMLView",
      "description": "",
      "description_tooltip": null,
      "layout": "IPY_MODEL_3c70d3ece9fe439d8f516e72f00b8f09",
      "placeholder": "​",
      "style": "IPY_MODEL_c7702b7a1eb4485e99d0919dccd3d50c",
      "value": "Downloading extra modules: 100%"
     }
    },
    "378135bab63e456bb73232a188bb3c0a": {
     "model_module": "@jupyter-widgets/controls",
     "model_module_version": "1.5.0",
     "model_name": "HBoxModel",
     "state": {
      "_dom_classes": [],
      "_model_module": "@jupyter-widgets/controls",
      "_model_module_version": "1.5.0",
      "_model_name": "HBoxModel",
      "_view_count": null,
      "_view_module": "@jupyter-widgets/controls",
      "_view_module_version": "1.5.0",
      "_view_name": "HBoxView",
      "box_style": "",
      "children": [
       "IPY_MODEL_f55196ff5bfa49e39d6b1a2a86115a80",
       "IPY_MODEL_91016a321e5c4790b704d2e7eee9fa72",
       "IPY_MODEL_0ed951abbbd94ce099d4d9d8af052311"
      ],
      "layout": "IPY_MODEL_2be016149c394f438c3b8c918f17c5d5"
     }
    },
    "3969348fc7fc4141b5ac0333747bfc87": {
     "model_module": "@jupyter-widgets/controls",
     "model_module_version": "1.5.0",
     "model_name": "FloatProgressModel",
     "state": {
      "_dom_classes": [],
      "_model_module": "@jupyter-widgets/controls",
      "_model_module_version": "1.5.0",
      "_model_name": "FloatProgressModel",
      "_view_count": null,
      "_view_module": "@jupyter-widgets/controls",
      "_view_module_version": "1.5.0",
      "_view_name": "ProgressView",
      "bar_style": "success",
      "description": "",
      "description_tooltip": null,
      "layout": "IPY_MODEL_172ec8302c6e4d12ae45f43fd80e8582",
      "max": 3344,
      "min": 0,
      "orientation": "horizontal",
      "style": "IPY_MODEL_271ab3c602d146d7b52cdfb029cb801a",
      "value": 3344
     }
    },
    "3c100ebcd5794676bac310c033d25806": {
     "model_module": "@jupyter-widgets/controls",
     "model_module_version": "1.5.0",
     "model_name": "HTMLModel",
     "state": {
      "_dom_classes": [],
      "_model_module": "@jupyter-widgets/controls",
      "_model_module_version": "1.5.0",
      "_model_name": "HTMLModel",
      "_view_count": null,
      "_view_module": "@jupyter-widgets/controls",
      "_view_module_version": "1.5.0",
      "_view_name": "HTMLView",
      "description": "",
      "description_tooltip": null,
      "layout": "IPY_MODEL_186a86f2c01a4071a99a75343488d03f",
      "placeholder": "​",
      "style": "IPY_MODEL_b31ce7d431014e0eae533e3a55b83909",
      "value": " 4.07k/? [00:00&lt;00:00, 424kB/s]"
     }
    },
    "3c70d3ece9fe439d8f516e72f00b8f09": {
     "model_module": "@jupyter-widgets/base",
     "model_module_version": "1.2.0",
     "model_name": "LayoutModel",
     "state": {
      "_model_module": "@jupyter-widgets/base",
      "_model_module_version": "1.2.0",
      "_model_name": "LayoutModel",
      "_view_count": null,
      "_view_module": "@jupyter-widgets/base",
      "_view_module_version": "1.2.0",
      "_view_name": "LayoutView",
      "align_content": null,
      "align_items": null,
      "align_self": null,
      "border": null,
      "bottom": null,
      "display": null,
      "flex": null,
      "flex_flow": null,
      "grid_area": null,
      "grid_auto_columns": null,
      "grid_auto_flow": null,
      "grid_auto_rows": null,
      "grid_column": null,
      "grid_gap": null,
      "grid_row": null,
      "grid_template_areas": null,
      "grid_template_columns": null,
      "grid_template_rows": null,
      "height": null,
      "justify_content": null,
      "justify_items": null,
      "left": null,
      "margin": null,
      "max_height": null,
      "max_width": null,
      "min_height": null,
      "min_width": null,
      "object_fit": null,
      "object_position": null,
      "order": null,
      "overflow": null,
      "overflow_x": null,
      "overflow_y": null,
      "padding": null,
      "right": null,
      "top": null,
      "visibility": null,
      "width": null
     }
    },
    "3d87eb3cf6614c7b877095405d13c5d3": {
     "model_module": "@jupyter-widgets/controls",
     "model_module_version": "1.5.0",
     "model_name": "FloatProgressModel",
     "state": {
      "_dom_classes": [],
      "_model_module": "@jupyter-widgets/controls",
      "_model_module_version": "1.5.0",
      "_model_name": "FloatProgressModel",
      "_view_count": null,
      "_view_module": "@jupyter-widgets/controls",
      "_view_module_version": "1.5.0",
      "_view_name": "ProgressView",
      "bar_style": "success",
      "description": "",
      "description_tooltip": null,
      "layout": "IPY_MODEL_d8695deec6b746a8ab5f005edbf7f7d7",
      "max": 1554,
      "min": 0,
      "orientation": "horizontal",
      "style": "IPY_MODEL_28e6499fe15843878e7f1423dbb4449e",
      "value": 1554
     }
    },
    "3e8bd9a27e51457e82d8e5233877b91f": {
     "model_module": "@jupyter-widgets/controls",
     "model_module_version": "1.5.0",
     "model_name": "HBoxModel",
     "state": {
      "_dom_classes": [],
      "_model_module": "@jupyter-widgets/controls",
      "_model_module_version": "1.5.0",
      "_model_name": "HBoxModel",
      "_view_count": null,
      "_view_module": "@jupyter-widgets/controls",
      "_view_module_version": "1.5.0",
      "_view_name": "HBoxView",
      "box_style": "",
      "children": [
       "IPY_MODEL_6204bc1e59684b4db58346d4b45f801e",
       "IPY_MODEL_3d87eb3cf6614c7b877095405d13c5d3",
       "IPY_MODEL_3c100ebcd5794676bac310c033d25806"
      ],
      "layout": "IPY_MODEL_006829c8bd58405483dcd5b448a2b849"
     }
    },
    "440424657e3b4b14ac5269dc54ade400": {
     "model_module": "@jupyter-widgets/controls",
     "model_module_version": "1.5.0",
     "model_name": "DescriptionStyleModel",
     "state": {
      "_model_module": "@jupyter-widgets/controls",
      "_model_module_version": "1.5.0",
      "_model_name": "DescriptionStyleModel",
      "_view_count": null,
      "_view_module": "@jupyter-widgets/base",
      "_view_module_version": "1.2.0",
      "_view_name": "StyleView",
      "description_width": ""
     }
    },
    "468ec665621f476bb6353f439656e231": {
     "model_module": "@jupyter-widgets/base",
     "model_module_version": "1.2.0",
     "model_name": "LayoutModel",
     "state": {
      "_model_module": "@jupyter-widgets/base",
      "_model_module_version": "1.2.0",
      "_model_name": "LayoutModel",
      "_view_count": null,
      "_view_module": "@jupyter-widgets/base",
      "_view_module_version": "1.2.0",
      "_view_name": "LayoutView",
      "align_content": null,
      "align_items": null,
      "align_self": null,
      "border": null,
      "bottom": null,
      "display": null,
      "flex": null,
      "flex_flow": null,
      "grid_area": null,
      "grid_auto_columns": null,
      "grid_auto_flow": null,
      "grid_auto_rows": null,
      "grid_column": null,
      "grid_gap": null,
      "grid_row": null,
      "grid_template_areas": null,
      "grid_template_columns": null,
      "grid_template_rows": null,
      "height": null,
      "justify_content": null,
      "justify_items": null,
      "left": null,
      "margin": null,
      "max_height": null,
      "max_width": null,
      "min_height": null,
      "min_width": null,
      "object_fit": null,
      "object_position": null,
      "order": null,
      "overflow": null,
      "overflow_x": null,
      "overflow_y": null,
      "padding": null,
      "right": null,
      "top": null,
      "visibility": null,
      "width": null
     }
    },
    "4db388109aca4fd7bcf1cb153b661926": {
     "model_module": "@jupyter-widgets/controls",
     "model_module_version": "1.5.0",
     "model_name": "HTMLModel",
     "state": {
      "_dom_classes": [],
      "_model_module": "@jupyter-widgets/controls",
      "_model_module_version": "1.5.0",
      "_model_name": "HTMLModel",
      "_view_count": null,
      "_view_module": "@jupyter-widgets/controls",
      "_view_module_version": "1.5.0",
      "_view_name": "HTMLView",
      "description": "",
      "description_tooltip": null,
      "layout": "IPY_MODEL_e055ed92ccd740979632f83181d8d2ce",
      "placeholder": "​",
      "style": "IPY_MODEL_c9e886bc8af741e9ae105d8698d30e47",
      "value": " 7.02k/7.02k [00:00&lt;00:00, 493kB/s]"
     }
    },
    "4dc2c8f408cc40a4897b5f4c5bd38135": {
     "model_module": "@jupyter-widgets/controls",
     "model_module_version": "1.5.0",
     "model_name": "HTMLModel",
     "state": {
      "_dom_classes": [],
      "_model_module": "@jupyter-widgets/controls",
      "_model_module_version": "1.5.0",
      "_model_name": "HTMLModel",
      "_view_count": null,
      "_view_module": "@jupyter-widgets/controls",
      "_view_module_version": "1.5.0",
      "_view_name": "HTMLView",
      "description": "",
      "description_tooltip": null,
      "layout": "IPY_MODEL_64d5d8bbfd744f84bd46e88188c40d64",
      "placeholder": "​",
      "style": "IPY_MODEL_1b78a93402864eb29ac49534211b61dd",
      "value": " 3.34k/3.34k [00:00&lt;00:00, 272kB/s]"
     }
    },
    "55ddabb4b6e248aea537e5de27df1d0c": {
     "model_module": "@jupyter-widgets/controls",
     "model_module_version": "1.5.0",
     "model_name": "DescriptionStyleModel",
     "state": {
      "_model_module": "@jupyter-widgets/controls",
      "_model_module_version": "1.5.0",
      "_model_name": "DescriptionStyleModel",
      "_view_count": null,
      "_view_module": "@jupyter-widgets/base",
      "_view_module_version": "1.2.0",
      "_view_name": "StyleView",
      "description_width": ""
     }
    },
    "59eb90c7434a4b069a6d37c78e5376d8": {
     "model_module": "@jupyter-widgets/controls",
     "model_module_version": "1.5.0",
     "model_name": "ProgressStyleModel",
     "state": {
      "_model_module": "@jupyter-widgets/controls",
      "_model_module_version": "1.5.0",
      "_model_name": "ProgressStyleModel",
      "_view_count": null,
      "_view_module": "@jupyter-widgets/base",
      "_view_module_version": "1.2.0",
      "_view_name": "StyleView",
      "bar_color": null,
      "description_width": ""
     }
    },
    "61fc26e90e2f4207b9a47fe93e120e46": {
     "model_module": "@jupyter-widgets/base",
     "model_module_version": "1.2.0",
     "model_name": "LayoutModel",
     "state": {
      "_model_module": "@jupyter-widgets/base",
      "_model_module_version": "1.2.0",
      "_model_name": "LayoutModel",
      "_view_count": null,
      "_view_module": "@jupyter-widgets/base",
      "_view_module_version": "1.2.0",
      "_view_name": "LayoutView",
      "align_content": null,
      "align_items": null,
      "align_self": null,
      "border": null,
      "bottom": null,
      "display": null,
      "flex": null,
      "flex_flow": null,
      "grid_area": null,
      "grid_auto_columns": null,
      "grid_auto_flow": null,
      "grid_auto_rows": null,
      "grid_column": null,
      "grid_gap": null,
      "grid_row": null,
      "grid_template_areas": null,
      "grid_template_columns": null,
      "grid_template_rows": null,
      "height": null,
      "justify_content": null,
      "justify_items": null,
      "left": null,
      "margin": null,
      "max_height": null,
      "max_width": null,
      "min_height": null,
      "min_width": null,
      "object_fit": null,
      "object_position": null,
      "order": null,
      "overflow": null,
      "overflow_x": null,
      "overflow_y": null,
      "padding": null,
      "right": null,
      "top": null,
      "visibility": null,
      "width": null
     }
    },
    "6204bc1e59684b4db58346d4b45f801e": {
     "model_module": "@jupyter-widgets/controls",
     "model_module_version": "1.5.0",
     "model_name": "HTMLModel",
     "state": {
      "_dom_classes": [],
      "_model_module": "@jupyter-widgets/controls",
      "_model_module_version": "1.5.0",
      "_model_name": "HTMLModel",
      "_view_count": null,
      "_view_module": "@jupyter-widgets/controls",
      "_view_module_version": "1.5.0",
      "_view_name": "HTMLView",
      "description": "",
      "description_tooltip": null,
      "layout": "IPY_MODEL_66f8d15a81274b70b29407053d8039bc",
      "placeholder": "​",
      "style": "IPY_MODEL_97498ccd881d4f3582caf30d4802762c",
      "value": "Downloading extra modules: "
     }
    },
    "64d5d8bbfd744f84bd46e88188c40d64": {
     "model_module": "@jupyter-widgets/base",
     "model_module_version": "1.2.0",
     "model_name": "LayoutModel",
     "state": {
      "_model_module": "@jupyter-widgets/base",
      "_model_module_version": "1.2.0",
      "_model_name": "LayoutModel",
      "_view_count": null,
      "_view_module": "@jupyter-widgets/base",
      "_view_module_version": "1.2.0",
      "_view_name": "LayoutView",
      "align_content": null,
      "align_items": null,
      "align_self": null,
      "border": null,
      "bottom": null,
      "display": null,
      "flex": null,
      "flex_flow": null,
      "grid_area": null,
      "grid_auto_columns": null,
      "grid_auto_flow": null,
      "grid_auto_rows": null,
      "grid_column": null,
      "grid_gap": null,
      "grid_row": null,
      "grid_template_areas": null,
      "grid_template_columns": null,
      "grid_template_rows": null,
      "height": null,
      "justify_content": null,
      "justify_items": null,
      "left": null,
      "margin": null,
      "max_height": null,
      "max_width": null,
      "min_height": null,
      "min_width": null,
      "object_fit": null,
      "object_position": null,
      "order": null,
      "overflow": null,
      "overflow_x": null,
      "overflow_y": null,
      "padding": null,
      "right": null,
      "top": null,
      "visibility": null,
      "width": null
     }
    },
    "66f8d15a81274b70b29407053d8039bc": {
     "model_module": "@jupyter-widgets/base",
     "model_module_version": "1.2.0",
     "model_name": "LayoutModel",
     "state": {
      "_model_module": "@jupyter-widgets/base",
      "_model_module_version": "1.2.0",
      "_model_name": "LayoutModel",
      "_view_count": null,
      "_view_module": "@jupyter-widgets/base",
      "_view_module_version": "1.2.0",
      "_view_name": "LayoutView",
      "align_content": null,
      "align_items": null,
      "align_self": null,
      "border": null,
      "bottom": null,
      "display": null,
      "flex": null,
      "flex_flow": null,
      "grid_area": null,
      "grid_auto_columns": null,
      "grid_auto_flow": null,
      "grid_auto_rows": null,
      "grid_column": null,
      "grid_gap": null,
      "grid_row": null,
      "grid_template_areas": null,
      "grid_template_columns": null,
      "grid_template_rows": null,
      "height": null,
      "justify_content": null,
      "justify_items": null,
      "left": null,
      "margin": null,
      "max_height": null,
      "max_width": null,
      "min_height": null,
      "min_width": null,
      "object_fit": null,
      "object_position": null,
      "order": null,
      "overflow": null,
      "overflow_x": null,
      "overflow_y": null,
      "padding": null,
      "right": null,
      "top": null,
      "visibility": null,
      "width": null
     }
    },
    "7e7b5ebcf3f64a6a91f5244a2ff345d2": {
     "model_module": "@jupyter-widgets/base",
     "model_module_version": "1.2.0",
     "model_name": "LayoutModel",
     "state": {
      "_model_module": "@jupyter-widgets/base",
      "_model_module_version": "1.2.0",
      "_model_name": "LayoutModel",
      "_view_count": null,
      "_view_module": "@jupyter-widgets/base",
      "_view_module_version": "1.2.0",
      "_view_name": "LayoutView",
      "align_content": null,
      "align_items": null,
      "align_self": null,
      "border": null,
      "bottom": null,
      "display": null,
      "flex": null,
      "flex_flow": null,
      "grid_area": null,
      "grid_auto_columns": null,
      "grid_auto_flow": null,
      "grid_auto_rows": null,
      "grid_column": null,
      "grid_gap": null,
      "grid_row": null,
      "grid_template_areas": null,
      "grid_template_columns": null,
      "grid_template_rows": null,
      "height": null,
      "justify_content": null,
      "justify_items": null,
      "left": null,
      "margin": null,
      "max_height": null,
      "max_width": null,
      "min_height": null,
      "min_width": null,
      "object_fit": null,
      "object_position": null,
      "order": null,
      "overflow": null,
      "overflow_x": null,
      "overflow_y": null,
      "padding": null,
      "right": null,
      "top": null,
      "visibility": null,
      "width": null
     }
    },
    "91016a321e5c4790b704d2e7eee9fa72": {
     "model_module": "@jupyter-widgets/controls",
     "model_module_version": "1.5.0",
     "model_name": "FloatProgressModel",
     "state": {
      "_dom_classes": [],
      "_model_module": "@jupyter-widgets/controls",
      "_model_module_version": "1.5.0",
      "_model_name": "FloatProgressModel",
      "_view_count": null,
      "_view_module": "@jupyter-widgets/controls",
      "_view_module_version": "1.5.0",
      "_view_name": "ProgressView",
      "bar_style": "success",
      "description": "",
      "description_tooltip": null,
      "layout": "IPY_MODEL_61fc26e90e2f4207b9a47fe93e120e46",
      "max": 5937,
      "min": 0,
      "orientation": "horizontal",
      "style": "IPY_MODEL_f1317125e21848d891eb8fe7d8bca191",
      "value": 5937
     }
    },
    "97498ccd881d4f3582caf30d4802762c": {
     "model_module": "@jupyter-widgets/controls",
     "model_module_version": "1.5.0",
     "model_name": "DescriptionStyleModel",
     "state": {
      "_model_module": "@jupyter-widgets/controls",
      "_model_module_version": "1.5.0",
      "_model_name": "DescriptionStyleModel",
      "_view_count": null,
      "_view_module": "@jupyter-widgets/base",
      "_view_module_version": "1.2.0",
      "_view_name": "StyleView",
      "description_width": ""
     }
    },
    "a752b5d5ffcf427ead3e6d80655aff53": {
     "model_module": "@jupyter-widgets/base",
     "model_module_version": "1.2.0",
     "model_name": "LayoutModel",
     "state": {
      "_model_module": "@jupyter-widgets/base",
      "_model_module_version": "1.2.0",
      "_model_name": "LayoutModel",
      "_view_count": null,
      "_view_module": "@jupyter-widgets/base",
      "_view_module_version": "1.2.0",
      "_view_name": "LayoutView",
      "align_content": null,
      "align_items": null,
      "align_self": null,
      "border": null,
      "bottom": null,
      "display": null,
      "flex": null,
      "flex_flow": null,
      "grid_area": null,
      "grid_auto_columns": null,
      "grid_auto_flow": null,
      "grid_auto_rows": null,
      "grid_column": null,
      "grid_gap": null,
      "grid_row": null,
      "grid_template_areas": null,
      "grid_template_columns": null,
      "grid_template_rows": null,
      "height": null,
      "justify_content": null,
      "justify_items": null,
      "left": null,
      "margin": null,
      "max_height": null,
      "max_width": null,
      "min_height": null,
      "min_width": null,
      "object_fit": null,
      "object_position": null,
      "order": null,
      "overflow": null,
      "overflow_x": null,
      "overflow_y": null,
      "padding": null,
      "right": null,
      "top": null,
      "visibility": null,
      "width": null
     }
    },
    "ad7698d2a85a433598f27759e49ec281": {
     "model_module": "@jupyter-widgets/controls",
     "model_module_version": "1.5.0",
     "model_name": "FloatProgressModel",
     "state": {
      "_dom_classes": [],
      "_model_module": "@jupyter-widgets/controls",
      "_model_module_version": "1.5.0",
      "_model_name": "FloatProgressModel",
      "_view_count": null,
      "_view_module": "@jupyter-widgets/controls",
      "_view_module_version": "1.5.0",
      "_view_name": "ProgressView",
      "bar_style": "success",
      "description": "",
      "description_tooltip": null,
      "layout": "IPY_MODEL_1ebf69087cd34162a0acf82fe0f465d2",
      "max": 7021,
      "min": 0,
      "orientation": "horizontal",
      "style": "IPY_MODEL_59eb90c7434a4b069a6d37c78e5376d8",
      "value": 7021
     }
    },
    "b31ce7d431014e0eae533e3a55b83909": {
     "model_module": "@jupyter-widgets/controls",
     "model_module_version": "1.5.0",
     "model_name": "DescriptionStyleModel",
     "state": {
      "_model_module": "@jupyter-widgets/controls",
      "_model_module_version": "1.5.0",
      "_model_name": "DescriptionStyleModel",
      "_view_count": null,
      "_view_module": "@jupyter-widgets/base",
      "_view_module_version": "1.2.0",
      "_view_name": "StyleView",
      "description_width": ""
     }
    },
    "b37b3e1b62564ee49d7ad1331d278978": {
     "model_module": "@jupyter-widgets/controls",
     "model_module_version": "1.5.0",
     "model_name": "DescriptionStyleModel",
     "state": {
      "_model_module": "@jupyter-widgets/controls",
      "_model_module_version": "1.5.0",
      "_model_name": "DescriptionStyleModel",
      "_view_count": null,
      "_view_module": "@jupyter-widgets/base",
      "_view_module_version": "1.2.0",
      "_view_name": "StyleView",
      "description_width": ""
     }
    },
    "c4bee61910b14e13847cebbfc76d6bb9": {
     "model_module": "@jupyter-widgets/base",
     "model_module_version": "1.2.0",
     "model_name": "LayoutModel",
     "state": {
      "_model_module": "@jupyter-widgets/base",
      "_model_module_version": "1.2.0",
      "_model_name": "LayoutModel",
      "_view_count": null,
      "_view_module": "@jupyter-widgets/base",
      "_view_module_version": "1.2.0",
      "_view_name": "LayoutView",
      "align_content": null,
      "align_items": null,
      "align_self": null,
      "border": null,
      "bottom": null,
      "display": null,
      "flex": null,
      "flex_flow": null,
      "grid_area": null,
      "grid_auto_columns": null,
      "grid_auto_flow": null,
      "grid_auto_rows": null,
      "grid_column": null,
      "grid_gap": null,
      "grid_row": null,
      "grid_template_areas": null,
      "grid_template_columns": null,
      "grid_template_rows": null,
      "height": null,
      "justify_content": null,
      "justify_items": null,
      "left": null,
      "margin": null,
      "max_height": null,
      "max_width": null,
      "min_height": null,
      "min_width": null,
      "object_fit": null,
      "object_position": null,
      "order": null,
      "overflow": null,
      "overflow_x": null,
      "overflow_y": null,
      "padding": null,
      "right": null,
      "top": null,
      "visibility": null,
      "width": null
     }
    },
    "c5cf8da8da4b40f4998cc472aff1da89": {
     "model_module": "@jupyter-widgets/base",
     "model_module_version": "1.2.0",
     "model_name": "LayoutModel",
     "state": {
      "_model_module": "@jupyter-widgets/base",
      "_model_module_version": "1.2.0",
      "_model_name": "LayoutModel",
      "_view_count": null,
      "_view_module": "@jupyter-widgets/base",
      "_view_module_version": "1.2.0",
      "_view_name": "LayoutView",
      "align_content": null,
      "align_items": null,
      "align_self": null,
      "border": null,
      "bottom": null,
      "display": null,
      "flex": null,
      "flex_flow": null,
      "grid_area": null,
      "grid_auto_columns": null,
      "grid_auto_flow": null,
      "grid_auto_rows": null,
      "grid_column": null,
      "grid_gap": null,
      "grid_row": null,
      "grid_template_areas": null,
      "grid_template_columns": null,
      "grid_template_rows": null,
      "height": null,
      "justify_content": null,
      "justify_items": null,
      "left": null,
      "margin": null,
      "max_height": null,
      "max_width": null,
      "min_height": null,
      "min_width": null,
      "object_fit": null,
      "object_position": null,
      "order": null,
      "overflow": null,
      "overflow_x": null,
      "overflow_y": null,
      "padding": null,
      "right": null,
      "top": null,
      "visibility": null,
      "width": null
     }
    },
    "c7702b7a1eb4485e99d0919dccd3d50c": {
     "model_module": "@jupyter-widgets/controls",
     "model_module_version": "1.5.0",
     "model_name": "DescriptionStyleModel",
     "state": {
      "_model_module": "@jupyter-widgets/controls",
      "_model_module_version": "1.5.0",
      "_model_name": "DescriptionStyleModel",
      "_view_count": null,
      "_view_module": "@jupyter-widgets/base",
      "_view_module_version": "1.2.0",
      "_view_name": "StyleView",
      "description_width": ""
     }
    },
    "c9e886bc8af741e9ae105d8698d30e47": {
     "model_module": "@jupyter-widgets/controls",
     "model_module_version": "1.5.0",
     "model_name": "DescriptionStyleModel",
     "state": {
      "_model_module": "@jupyter-widgets/controls",
      "_model_module_version": "1.5.0",
      "_model_name": "DescriptionStyleModel",
      "_view_count": null,
      "_view_module": "@jupyter-widgets/base",
      "_view_module_version": "1.2.0",
      "_view_name": "StyleView",
      "description_width": ""
     }
    },
    "cb84e501685d40e9ab4d2a827aaa703e": {
     "model_module": "@jupyter-widgets/base",
     "model_module_version": "1.2.0",
     "model_name": "LayoutModel",
     "state": {
      "_model_module": "@jupyter-widgets/base",
      "_model_module_version": "1.2.0",
      "_model_name": "LayoutModel",
      "_view_count": null,
      "_view_module": "@jupyter-widgets/base",
      "_view_module_version": "1.2.0",
      "_view_name": "LayoutView",
      "align_content": null,
      "align_items": null,
      "align_self": null,
      "border": null,
      "bottom": null,
      "display": null,
      "flex": null,
      "flex_flow": null,
      "grid_area": null,
      "grid_auto_columns": null,
      "grid_auto_flow": null,
      "grid_auto_rows": null,
      "grid_column": null,
      "grid_gap": null,
      "grid_row": null,
      "grid_template_areas": null,
      "grid_template_columns": null,
      "grid_template_rows": null,
      "height": null,
      "justify_content": null,
      "justify_items": null,
      "left": null,
      "margin": null,
      "max_height": null,
      "max_width": null,
      "min_height": null,
      "min_width": null,
      "object_fit": null,
      "object_position": null,
      "order": null,
      "overflow": null,
      "overflow_x": null,
      "overflow_y": null,
      "padding": null,
      "right": null,
      "top": null,
      "visibility": null,
      "width": null
     }
    },
    "d251854bd7e244c7a53661562b659f88": {
     "model_module": "@jupyter-widgets/controls",
     "model_module_version": "1.5.0",
     "model_name": "HBoxModel",
     "state": {
      "_dom_classes": [],
      "_model_module": "@jupyter-widgets/controls",
      "_model_module_version": "1.5.0",
      "_model_name": "HBoxModel",
      "_view_count": null,
      "_view_module": "@jupyter-widgets/controls",
      "_view_module_version": "1.5.0",
      "_view_name": "HBoxView",
      "box_style": "",
      "children": [
       "IPY_MODEL_3779e4059c4e422b88d9e0a8d9667a9d",
       "IPY_MODEL_3969348fc7fc4141b5ac0333747bfc87",
       "IPY_MODEL_4dc2c8f408cc40a4897b5f4c5bd38135"
      ],
      "layout": "IPY_MODEL_cb84e501685d40e9ab4d2a827aaa703e"
     }
    },
    "d398b0c2a496473698c410677d775588": {
     "model_module": "@jupyter-widgets/controls",
     "model_module_version": "1.5.0",
     "model_name": "HTMLModel",
     "state": {
      "_dom_classes": [],
      "_model_module": "@jupyter-widgets/controls",
      "_model_module_version": "1.5.0",
      "_model_name": "HTMLModel",
      "_view_count": null,
      "_view_module": "@jupyter-widgets/controls",
      "_view_module_version": "1.5.0",
      "_view_name": "HTMLView",
      "description": "",
      "description_tooltip": null,
      "layout": "IPY_MODEL_2fedc5c7dd924f12a00720a6c3d2ca07",
      "placeholder": "​",
      "style": "IPY_MODEL_f92b6eb8efdf431499cc8821600da606",
      "value": "Downloading builder script: 100%"
     }
    },
    "d8695deec6b746a8ab5f005edbf7f7d7": {
     "model_module": "@jupyter-widgets/base",
     "model_module_version": "1.2.0",
     "model_name": "LayoutModel",
     "state": {
      "_model_module": "@jupyter-widgets/base",
      "_model_module_version": "1.2.0",
      "_model_name": "LayoutModel",
      "_view_count": null,
      "_view_module": "@jupyter-widgets/base",
      "_view_module_version": "1.2.0",
      "_view_name": "LayoutView",
      "align_content": null,
      "align_items": null,
      "align_self": null,
      "border": null,
      "bottom": null,
      "display": null,
      "flex": null,
      "flex_flow": null,
      "grid_area": null,
      "grid_auto_columns": null,
      "grid_auto_flow": null,
      "grid_auto_rows": null,
      "grid_column": null,
      "grid_gap": null,
      "grid_row": null,
      "grid_template_areas": null,
      "grid_template_columns": null,
      "grid_template_rows": null,
      "height": null,
      "justify_content": null,
      "justify_items": null,
      "left": null,
      "margin": null,
      "max_height": null,
      "max_width": null,
      "min_height": null,
      "min_width": null,
      "object_fit": null,
      "object_position": null,
      "order": null,
      "overflow": null,
      "overflow_x": null,
      "overflow_y": null,
      "padding": null,
      "right": null,
      "top": null,
      "visibility": null,
      "width": null
     }
    },
    "d94d2c3a17d24dd393b887f3155f6789": {
     "model_module": "@jupyter-widgets/controls",
     "model_module_version": "1.5.0",
     "model_name": "HTMLModel",
     "state": {
      "_dom_classes": [],
      "_model_module": "@jupyter-widgets/controls",
      "_model_module_version": "1.5.0",
      "_model_name": "HTMLModel",
      "_view_count": null,
      "_view_module": "@jupyter-widgets/controls",
      "_view_module_version": "1.5.0",
      "_view_name": "HTMLView",
      "description": "",
      "description_tooltip": null,
      "layout": "IPY_MODEL_7e7b5ebcf3f64a6a91f5244a2ff345d2",
      "placeholder": "​",
      "style": "IPY_MODEL_ec846a81edfb433d882f77e72443c8e3",
      "value": " 6.27k/6.27k [00:00&lt;00:00, 537kB/s]"
     }
    },
    "e055ed92ccd740979632f83181d8d2ce": {
     "model_module": "@jupyter-widgets/base",
     "model_module_version": "1.2.0",
     "model_name": "LayoutModel",
     "state": {
      "_model_module": "@jupyter-widgets/base",
      "_model_module_version": "1.2.0",
      "_model_name": "LayoutModel",
      "_view_count": null,
      "_view_module": "@jupyter-widgets/base",
      "_view_module_version": "1.2.0",
      "_view_name": "LayoutView",
      "align_content": null,
      "align_items": null,
      "align_self": null,
      "border": null,
      "bottom": null,
      "display": null,
      "flex": null,
      "flex_flow": null,
      "grid_area": null,
      "grid_auto_columns": null,
      "grid_auto_flow": null,
      "grid_auto_rows": null,
      "grid_column": null,
      "grid_gap": null,
      "grid_row": null,
      "grid_template_areas": null,
      "grid_template_columns": null,
      "grid_template_rows": null,
      "height": null,
      "justify_content": null,
      "justify_items": null,
      "left": null,
      "margin": null,
      "max_height": null,
      "max_width": null,
      "min_height": null,
      "min_width": null,
      "object_fit": null,
      "object_position": null,
      "order": null,
      "overflow": null,
      "overflow_x": null,
      "overflow_y": null,
      "padding": null,
      "right": null,
      "top": null,
      "visibility": null,
      "width": null
     }
    },
    "ec846a81edfb433d882f77e72443c8e3": {
     "model_module": "@jupyter-widgets/controls",
     "model_module_version": "1.5.0",
     "model_name": "DescriptionStyleModel",
     "state": {
      "_model_module": "@jupyter-widgets/controls",
      "_model_module_version": "1.5.0",
      "_model_name": "DescriptionStyleModel",
      "_view_count": null,
      "_view_module": "@jupyter-widgets/base",
      "_view_module_version": "1.2.0",
      "_view_name": "StyleView",
      "description_width": ""
     }
    },
    "f1317125e21848d891eb8fe7d8bca191": {
     "model_module": "@jupyter-widgets/controls",
     "model_module_version": "1.5.0",
     "model_name": "ProgressStyleModel",
     "state": {
      "_model_module": "@jupyter-widgets/controls",
      "_model_module_version": "1.5.0",
      "_model_name": "ProgressStyleModel",
      "_view_count": null,
      "_view_module": "@jupyter-widgets/base",
      "_view_module_version": "1.2.0",
      "_view_name": "StyleView",
      "bar_color": null,
      "description_width": ""
     }
    },
    "f55196ff5bfa49e39d6b1a2a86115a80": {
     "model_module": "@jupyter-widgets/controls",
     "model_module_version": "1.5.0",
     "model_name": "HTMLModel",
     "state": {
      "_dom_classes": [],
      "_model_module": "@jupyter-widgets/controls",
      "_model_module_version": "1.5.0",
      "_model_name": "HTMLModel",
      "_view_count": null,
      "_view_module": "@jupyter-widgets/controls",
      "_view_module_version": "1.5.0",
      "_view_name": "HTMLView",
      "description": "",
      "description_tooltip": null,
      "layout": "IPY_MODEL_0077cd058d5b449f8892370ed91ad804",
      "placeholder": "​",
      "style": "IPY_MODEL_55ddabb4b6e248aea537e5de27df1d0c",
      "value": "Downloading builder script: 100%"
     }
    },
    "f92b6eb8efdf431499cc8821600da606": {
     "model_module": "@jupyter-widgets/controls",
     "model_module_version": "1.5.0",
     "model_name": "DescriptionStyleModel",
     "state": {
      "_model_module": "@jupyter-widgets/controls",
      "_model_module_version": "1.5.0",
      "_model_name": "DescriptionStyleModel",
      "_view_count": null,
      "_view_module": "@jupyter-widgets/base",
      "_view_module_version": "1.2.0",
      "_view_name": "StyleView",
      "description_width": ""
     }
    }
   }
  }
 },
 "nbformat": 4,
 "nbformat_minor": 4
}
