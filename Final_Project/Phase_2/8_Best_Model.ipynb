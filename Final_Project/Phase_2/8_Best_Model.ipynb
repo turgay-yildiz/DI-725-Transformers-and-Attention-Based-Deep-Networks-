{
 "cells": [
  {
   "cell_type": "code",
   "execution_count": null,
   "metadata": {
    "colab": {
     "base_uri": "https://localhost:8080/"
    },
    "execution": {
     "iopub.execute_input": "2025-05-14T19:29:51.544065Z",
     "iopub.status.busy": "2025-05-14T19:29:51.543887Z",
     "iopub.status.idle": "2025-05-14T19:30:01.368943Z",
     "shell.execute_reply": "2025-05-14T19:30:01.368267Z",
     "shell.execute_reply.started": "2025-05-14T19:29:51.544051Z"
    },
    "id": "UHflqji43qh9",
    "jupyter": {
     "outputs_hidden": true
    },
    "outputId": "b62fb990-2d81-4280-e501-87ed94c94b7a"
   },
   "outputs": [],
   "source": [
    "\n",
    "!pip install evaluate\n",
    "!pip install rouge_score"
   ]
  },
  {
   "cell_type": "code",
   "execution_count": null,
   "metadata": {
    "execution": {
     "iopub.execute_input": "2025-05-14T19:30:06.327372Z",
     "iopub.status.busy": "2025-05-14T19:30:06.326732Z",
     "iopub.status.idle": "2025-05-14T19:30:06.330488Z",
     "shell.execute_reply": "2025-05-14T19:30:06.329841Z",
     "shell.execute_reply.started": "2025-05-14T19:30:06.327348Z"
    },
    "id": "hi1Z6cUNi5qu"
   },
   "outputs": [],
   "source": [
    "from IPython.display import display, HTML"
   ]
  },
  {
   "cell_type": "markdown",
   "metadata": {
    "execution": {
     "iopub.execute_input": "2025-05-02T06:47:50.075028Z",
     "iopub.status.busy": "2025-05-02T06:47:50.074537Z",
     "iopub.status.idle": "2025-05-02T06:47:50.080173Z",
     "shell.execute_reply": "2025-05-02T06:47:50.07928Z",
     "shell.execute_reply.started": "2025-05-02T06:47:50.075003Z"
    },
    "id": "UN1gBnmQ4LAj",
    "outputId": "a6ca43c0-0430-484f-bc05-665711eea867"
   },
   "source": [
    "<div style=\"background-color:yellow; text-align:center; padding:40px; font-family:sans-serif;\">\n",
    "  <h1 style=\"color:red;\">DI-725 : Transformers and Attention-Based Deep Networks</h1>\n",
    "  <h2 style=\"color:red;\">Final Project : Phase - 2</h2>\n",
    "  <br><br>\n",
    "    <h2 style=\"color:red;\">Best Model</h2>\n",
    "    <br>\n",
    "  <h4 style=\"color:red;\">Turgay Yıldız</h4>\n",
    "  <br>\n",
    "  <h4 style=\"color:red;\">Graduate School of Informatics, Middle East Technical University (METU)</h4>\n",
    "</div>"
   ]
  },
  {
   "cell_type": "markdown",
   "metadata": {
    "execution": {
     "iopub.execute_input": "2025-05-02T06:47:11.957103Z",
     "iopub.status.busy": "2025-05-02T06:47:11.95643Z",
     "iopub.status.idle": "2025-05-02T06:47:11.961543Z",
     "shell.execute_reply": "2025-05-02T06:47:11.960914Z",
     "shell.execute_reply.started": "2025-05-02T06:47:11.95708Z"
    },
    "id": "lM_sMe2M4uhH",
    "outputId": "fb87cfd2-03e6-4c9e-b395-064dac894355"
   },
   "source": [
    "<div style=\"background-color:yellow; text-align:center; padding:40px; font-family:sans-serif;\">\n",
    "  <h3 style=\"color:red;\">Fetch big_vision code and install dependencies</h3>\n",
    "</div>"
   ]
  },
  {
   "cell_type": "code",
   "execution_count": null,
   "metadata": {
    "execution": {
     "iopub.execute_input": "2025-05-14T19:30:09.444387Z",
     "iopub.status.busy": "2025-05-14T19:30:09.444103Z",
     "iopub.status.idle": "2025-05-14T19:30:09.448084Z",
     "shell.execute_reply": "2025-05-14T19:30:09.447320Z",
     "shell.execute_reply.started": "2025-05-14T19:30:09.444368Z"
    },
    "id": "0EJMa-2k-UuK"
   },
   "outputs": [],
   "source": [
    "import os\n",
    "import sys"
   ]
  },
  {
   "cell_type": "code",
   "execution_count": null,
   "metadata": {
    "execution": {
     "iopub.execute_input": "2025-05-14T19:30:09.652291Z",
     "iopub.status.busy": "2025-05-14T19:30:09.651874Z",
     "iopub.status.idle": "2025-05-14T19:30:10.788588Z",
     "shell.execute_reply": "2025-05-14T19:30:10.787788Z",
     "shell.execute_reply.started": "2025-05-14T19:30:09.652269Z"
    },
    "id": "JlP2ZBh3-UoM"
   },
   "outputs": [],
   "source": [
    "# Fetch big_vision repository if python doesn't know about it and install\n",
    "# dependencies needed for this notebook.\n",
    "if not os.path.exists(\"big_vision_repo\"):\n",
    "  !git clone --quiet --branch=main --depth=1 \\\n",
    "     https://github.com/google-research/big_vision big_vision_repo"
   ]
  },
  {
   "cell_type": "code",
   "execution_count": null,
   "metadata": {
    "execution": {
     "iopub.execute_input": "2025-05-14T19:30:10.790405Z",
     "iopub.status.busy": "2025-05-14T19:30:10.790130Z",
     "iopub.status.idle": "2025-05-14T19:30:10.794426Z",
     "shell.execute_reply": "2025-05-14T19:30:10.793720Z",
     "shell.execute_reply.started": "2025-05-14T19:30:10.790380Z"
    },
    "id": "hjlUuo-E-UlP"
   },
   "outputs": [],
   "source": [
    "# Append big_vision code to python import path\n",
    "if \"big_vision_repo\" not in sys.path:\n",
    "  sys.path.append(\"big_vision_repo\")"
   ]
  },
  {
   "cell_type": "code",
   "execution_count": null,
   "metadata": {
    "colab": {
     "base_uri": "https://localhost:8080/"
    },
    "execution": {
     "iopub.execute_input": "2025-05-14T19:30:10.795367Z",
     "iopub.status.busy": "2025-05-14T19:30:10.795181Z",
     "iopub.status.idle": "2025-05-14T19:30:13.985815Z",
     "shell.execute_reply": "2025-05-14T19:30:13.985081Z",
     "shell.execute_reply.started": "2025-05-14T19:30:10.795352Z"
    },
    "id": "xAKDOz6_-UKV",
    "outputId": "a961916a-0d3d-4bdc-84c2-e1a7feb31cb8"
   },
   "outputs": [],
   "source": [
    "# Install missing dependencies. Assume jax~=0.4.25 with GPU available.\n",
    "!pip3 install -q \"overrides\" \"ml_collections\" \"einops~=0.7\" \"sentencepiece\""
   ]
  },
  {
   "cell_type": "markdown",
   "metadata": {
    "id": "VHH3Ja8F5DoX",
    "outputId": "515a14ea-dfc9-4fa9-fa18-e3d391f0effc"
   },
   "source": [
    "<div style=\"background-color:yellow; text-align:center; padding:40px; font-family:sans-serif;\">\n",
    "  <h3 style=\"color:red;\"> Model and Pre-trained weights : </h3>\n",
    "</div>"
   ]
  },
  {
   "cell_type": "code",
   "execution_count": null,
   "metadata": {
    "execution": {
     "iopub.execute_input": "2025-05-14T19:33:10.667198Z",
     "iopub.status.busy": "2025-05-14T19:33:10.666610Z",
     "iopub.status.idle": "2025-05-14T19:33:10.670712Z",
     "shell.execute_reply": "2025-05-14T19:33:10.670072Z",
     "shell.execute_reply.started": "2025-05-14T19:33:10.667168Z"
    },
    "id": "cxuGG9Ni-GyY"
   },
   "outputs": [],
   "source": [
    "# Note: `userdata.get` is a Colab API. If you're not using Colab, set the env\n",
    "# vars as appropriate or make your credentials available in ~/.kaggle/kaggle.json\n",
    "\n",
    "os.environ[\"...\"]      =    '...'\n",
    "os.environ[\"...\"]      =    '...'"
   ]
  },
  {
   "cell_type": "code",
   "execution_count": null,
   "metadata": {
    "execution": {
     "iopub.execute_input": "2025-05-14T19:33:11.661567Z",
     "iopub.status.busy": "2025-05-14T19:33:11.661289Z",
     "iopub.status.idle": "2025-05-14T19:33:11.665163Z",
     "shell.execute_reply": "2025-05-14T19:33:11.664506Z",
     "shell.execute_reply.started": "2025-05-14T19:33:11.661545Z"
    },
    "id": "Lbpsmqbd-GvR"
   },
   "outputs": [],
   "source": [
    "# The T4 runtime is tight on memory to finetune this model. Preallocate\n",
    "# all memory ahead of time to avoid OOM'ing due to fragmentation.\n",
    "\n",
    "os.environ[\"XLA_PYTHON_CLIENT_MEM_FRACTION\"] = \"1.0\""
   ]
  },
  {
   "cell_type": "code",
   "execution_count": null,
   "metadata": {
    "execution": {
     "iopub.execute_input": "2025-05-14T19:33:12.557494Z",
     "iopub.status.busy": "2025-05-14T19:33:12.557083Z",
     "iopub.status.idle": "2025-05-14T19:33:12.561303Z",
     "shell.execute_reply": "2025-05-14T19:33:12.560645Z",
     "shell.execute_reply.started": "2025-05-14T19:33:12.557470Z"
    },
    "id": "CAaOu2kH-Gsn"
   },
   "outputs": [],
   "source": [
    "import kagglehub"
   ]
  },
  {
   "cell_type": "code",
   "execution_count": null,
   "metadata": {
    "execution": {
     "iopub.execute_input": "2025-05-14T19:33:13.154221Z",
     "iopub.status.busy": "2025-05-14T19:33:13.153973Z",
     "iopub.status.idle": "2025-05-14T19:33:13.157742Z",
     "shell.execute_reply": "2025-05-14T19:33:13.156982Z",
     "shell.execute_reply.started": "2025-05-14T19:33:13.154203Z"
    },
    "id": "lwS8F7Y5-Gmy"
   },
   "outputs": [],
   "source": [
    "# Use these for PaliGemma 1:\n",
    "LLM_VARIANT   = \"gemma_2b\"\n",
    "MODEL_PATH    = \"./paligemma-3b-pt-224.f16.npz\"\n",
    "KAGGLE_HANDLE = \"google/paligemma/jax/paligemma-3b-pt-224\""
   ]
  },
  {
   "cell_type": "code",
   "execution_count": null,
   "metadata": {
    "colab": {
     "base_uri": "https://localhost:8080/"
    },
    "execution": {
     "iopub.execute_input": "2025-05-14T19:33:13.774491Z",
     "iopub.status.busy": "2025-05-14T19:33:13.773976Z",
     "iopub.status.idle": "2025-05-14T19:33:16.691777Z",
     "shell.execute_reply": "2025-05-14T19:33:16.691201Z",
     "shell.execute_reply.started": "2025-05-14T19:33:13.774469Z"
    },
    "id": "MJKsbiCM-GkN",
    "outputId": "eca3e6f4-c867-4dde-e6f3-843fe824b236"
   },
   "outputs": [],
   "source": [
    "if not os.path.exists(MODEL_PATH):\n",
    "  print(\"Downloading the checkpoint from Kaggle, this could take a few minutes....\")\n",
    "  MODEL_PATH = kagglehub.model_download(KAGGLE_HANDLE, MODEL_PATH)\n",
    "  print(f\"Model path: {MODEL_PATH}\")"
   ]
  },
  {
   "cell_type": "code",
   "execution_count": null,
   "metadata": {
    "colab": {
     "base_uri": "https://localhost:8080/"
    },
    "execution": {
     "iopub.execute_input": "2025-05-14T19:33:23.220442Z",
     "iopub.status.busy": "2025-05-14T19:33:23.219936Z",
     "iopub.status.idle": "2025-05-14T19:33:24.632661Z",
     "shell.execute_reply": "2025-05-14T19:33:24.631800Z",
     "shell.execute_reply.started": "2025-05-14T19:33:23.220411Z"
    },
    "id": "QFCV-bVi-GhP",
    "outputId": "ac1b52ac-f592-4c77-d087-de8650bcde4f"
   },
   "outputs": [],
   "source": [
    "TOKENIZER_PATH = \"./paligemma_tokenizer.model\"\n",
    "if not os.path.exists(TOKENIZER_PATH):\n",
    "    print(\"Downloading the model tokenizer...\")\n",
    "    !wget https://storage.googleapis.com/big_vision/paligemma_tokenizer.model -O {TOKENIZER_PATH}\n",
    "    print(f\"Tokenizer path: {TOKENIZER_PATH}\")\n"
   ]
  },
  {
   "cell_type": "markdown",
   "metadata": {
    "id": "skWR8fUu5iU1",
    "outputId": "4338af5f-27a3-4264-8a47-32a48b5db218"
   },
   "source": [
    "<div style=\"background-color:yellow; text-align:center; padding:40px; font-family:sans-serif;\">\n",
    "  <h3 style=\"color:red;\"> Core Library Imports : </h3>\n",
    "</div>"
   ]
  },
  {
   "cell_type": "code",
   "execution_count": null,
   "metadata": {
    "execution": {
     "iopub.execute_input": "2025-05-14T19:33:26.602269Z",
     "iopub.status.busy": "2025-05-14T19:33:26.601738Z",
     "iopub.status.idle": "2025-05-14T19:33:40.314490Z",
     "shell.execute_reply": "2025-05-14T19:33:40.313909Z",
     "shell.execute_reply.started": "2025-05-14T19:33:26.602241Z"
    },
    "id": "zE7BtRvz-Ga3"
   },
   "outputs": [],
   "source": [
    "import base64\n",
    "import functools\n",
    "import html\n",
    "import io\n",
    "import os\n",
    "import warnings\n",
    "\n",
    "import jax\n",
    "import jax.numpy as jnp\n",
    "import numpy as np\n",
    "import ml_collections\n",
    "\n",
    "import tensorflow as tf\n",
    "import sentencepiece\n",
    "\n",
    "from IPython.core.display import display, HTML\n",
    "from PIL import Image\n",
    "\n",
    "# Import model definition from big_vision\n",
    "from big_vision.models.proj.paligemma import paligemma\n",
    "from big_vision.trainers.proj.paligemma import predict_fns\n",
    "\n",
    "# Import big vision utilities\n",
    "import big_vision.datasets.jsonl\n",
    "import big_vision.utils\n",
    "import big_vision.sharding\n"
   ]
  },
  {
   "cell_type": "markdown",
   "metadata": {
    "id": "2_2PUPia51SX",
    "outputId": "87163725-49dc-4124-ddd9-dacee11e15ae"
   },
   "source": [
    "<div style=\"background-color:yellow; text-align:center; padding:40px; font-family:sans-serif;\">\n",
    "  <h3 style=\"color:red;\"> Reserve GPU/TPU for JAX </h3>\n",
    "</div>"
   ]
  },
  {
   "cell_type": "code",
   "execution_count": null,
   "metadata": {
    "colab": {
     "base_uri": "https://localhost:8080/"
    },
    "execution": {
     "iopub.execute_input": "2025-05-14T19:33:40.315985Z",
     "iopub.status.busy": "2025-05-14T19:33:40.315500Z",
     "iopub.status.idle": "2025-05-14T19:33:41.952185Z",
     "shell.execute_reply": "2025-05-14T19:33:41.951446Z",
     "shell.execute_reply.started": "2025-05-14T19:33:40.315964Z"
    },
    "id": "kV8GDGIP51Pn",
    "outputId": "85ddeac3-a4b2-450b-a35d-a516d1f7f44f"
   },
   "outputs": [],
   "source": [
    "# Don't let TF use the GPU or TPUs\n",
    "# Disables TensorFlow’s access to GPUs/TPUs so JAX can fully utilize them without resource contention.\n",
    "\n",
    "tf.config.set_visible_devices([], \"GPU\")\n",
    "tf.config.set_visible_devices([], \"TPU\")\n",
    "\n",
    "backend = jax.extend.backend.get_backend()\n",
    "print(f\"JAX version:  {jax.__version__}\")\n",
    "print(f\"JAX platform: {backend.platform}\")\n",
    "print(f\"JAX devices:  {jax.device_count()}\")"
   ]
  },
  {
   "cell_type": "markdown",
   "metadata": {
    "id": "8YQdjtXR5OB9",
    "outputId": "0bd31fa4-f61c-4832-b5d0-5d8b1bede748"
   },
   "source": [
    "<div style=\"background-color:yellow; text-align:center; padding:40px; font-family:sans-serif;\">\n",
    "  <h3 style=\"color:red;\">Construct model and load params into RAM </h3>\n",
    "\n",
    " <h5 style=\"color:red;\"> model_config: hyperparameters for both the vision encoder and text decoder.\n",
    "<br>\n",
    "                          Instantiate the combined Vision+LLM model.\n",
    "<br>\n",
    "                          Load pretrained weights into a parameter tree.\n",
    "<br>\n",
    "                          Build a decode function for efficient batched generation.\n",
    "                          </h5>\n",
    "\n",
    "\n",
    "</div>"
   ]
  },
  {
   "cell_type": "code",
   "execution_count": null,
   "metadata": {
    "execution": {
     "iopub.execute_input": "2025-05-14T19:33:41.953504Z",
     "iopub.status.busy": "2025-05-14T19:33:41.953238Z",
     "iopub.status.idle": "2025-05-14T19:33:41.957331Z",
     "shell.execute_reply": "2025-05-14T19:33:41.956636Z",
     "shell.execute_reply.started": "2025-05-14T19:33:41.953479Z"
    },
    "id": "ASLov65J-GXu"
   },
   "outputs": [],
   "source": [
    "model_config = ml_collections.FrozenConfigDict({\n",
    "    \"llm\": {\"vocab_size\": 257_152, \"variant\": LLM_VARIANT, \"final_logits_softcap\": 0.0},\n",
    "    \"img\": {\"variant\": \"So400m/14\", \"pool_type\": \"none\", \"scan\": True, \"dtype_mm\": \"float16\"}\n",
    "})"
   ]
  },
  {
   "cell_type": "code",
   "execution_count": null,
   "metadata": {
    "execution": {
     "iopub.execute_input": "2025-05-14T19:33:41.959124Z",
     "iopub.status.busy": "2025-05-14T19:33:41.958786Z",
     "iopub.status.idle": "2025-05-14T19:33:42.125906Z",
     "shell.execute_reply": "2025-05-14T19:33:42.125202Z",
     "shell.execute_reply.started": "2025-05-14T19:33:41.959110Z"
    },
    "id": "BK3LI-Nh-GUe"
   },
   "outputs": [],
   "source": [
    "model     = paligemma.Model(**model_config)\n",
    "tokenizer = sentencepiece.SentencePieceProcessor(TOKENIZER_PATH)"
   ]
  },
  {
   "cell_type": "code",
   "execution_count": null,
   "metadata": {
    "execution": {
     "iopub.execute_input": "2025-05-14T19:33:42.126917Z",
     "iopub.status.busy": "2025-05-14T19:33:42.126669Z",
     "iopub.status.idle": "2025-05-14T19:34:43.020902Z",
     "shell.execute_reply": "2025-05-14T19:34:43.020280Z",
     "shell.execute_reply.started": "2025-05-14T19:33:42.126893Z"
    },
    "id": "JVfRqTLk-GOW"
   },
   "outputs": [],
   "source": [
    "# Load params - this can take up to 1 minute in T4 colabs.\n",
    "params = paligemma.load(None, MODEL_PATH, model_config)"
   ]
  },
  {
   "cell_type": "markdown",
   "metadata": {
    "id": "HwqRkFY4i5q1"
   },
   "source": [
    "<div style=\"background-color:yellow; text-align:center; padding:40px; font-family:sans-serif;\">\n",
    "  <h3 style=\"color:red;\"> Soft Prompt Embeddings: </h3>\n",
    "</div>"
   ]
  },
  {
   "cell_type": "code",
   "execution_count": null,
   "metadata": {
    "execution": {
     "iopub.execute_input": "2025-05-14T19:34:43.022826Z",
     "iopub.status.busy": "2025-05-14T19:34:43.022604Z",
     "iopub.status.idle": "2025-05-14T19:34:43.026530Z",
     "shell.execute_reply": "2025-05-14T19:34:43.025839Z",
     "shell.execute_reply.started": "2025-05-14T19:34:43.022811Z"
    },
    "id": "2UxAv3QKi5q1"
   },
   "outputs": [],
   "source": [
    "PROMPT_LEN    =   10\n",
    "hidden_size   =   2048"
   ]
  },
  {
   "cell_type": "code",
   "execution_count": null,
   "metadata": {
    "execution": {
     "iopub.execute_input": "2025-05-14T19:34:43.027502Z",
     "iopub.status.busy": "2025-05-14T19:34:43.027254Z",
     "iopub.status.idle": "2025-05-14T19:34:44.608052Z",
     "shell.execute_reply": "2025-05-14T19:34:44.607277Z",
     "shell.execute_reply.started": "2025-05-14T19:34:43.027480Z"
    },
    "id": "GskDypRFi5q1"
   },
   "outputs": [],
   "source": [
    "# Initialize soft prompts (e.g. normal random)\n",
    "soft_prompt = jax.random.normal(\n",
    "    jax.random.PRNGKey(0), (PROMPT_LEN, hidden_size)\n",
    ").astype(jnp.float32)\n",
    "\n",
    "# Add it to your param PyTree so it's updated by JAX:\n",
    "params = {\"soft_prompt\": soft_prompt, **params}\n"
   ]
  },
  {
   "cell_type": "code",
   "execution_count": null,
   "metadata": {
    "execution": {
     "iopub.execute_input": "2025-05-14T19:34:44.609519Z",
     "iopub.status.busy": "2025-05-14T19:34:44.608949Z",
     "iopub.status.idle": "2025-05-14T19:34:44.613203Z",
     "shell.execute_reply": "2025-05-14T19:34:44.612438Z",
     "shell.execute_reply.started": "2025-05-14T19:34:44.609500Z"
    },
    "id": "ZTUsR5eK-GIU"
   },
   "outputs": [],
   "source": [
    "# Define `decode` function to sample outputs from the model.\n",
    "decode_fn  =   predict_fns.get_all(model)['decode']\n",
    "decode     =   functools.partial(decode_fn, devices=jax.devices(), eos_token=tokenizer.eos_id())"
   ]
  },
  {
   "cell_type": "markdown",
   "metadata": {
    "execution": {
     "iopub.execute_input": "2025-05-02T06:51:48.14198Z",
     "iopub.status.busy": "2025-05-02T06:51:48.141676Z",
     "iopub.status.idle": "2025-05-02T06:51:48.147245Z",
     "shell.execute_reply": "2025-05-02T06:51:48.14635Z",
     "shell.execute_reply.started": "2025-05-02T06:51:48.141954Z"
    },
    "id": "jed1MpoQ5p4M",
    "outputId": "580c9dd6-cb9e-4ac3-d869-b04adc9b60c5"
   },
   "source": [
    "<div style=\"background-color:yellow; text-align:center; padding:40px; font-family:sans-serif;\">\n",
    "  <h3 style=\"color:red;\"> Prepare for Partial Fine-Tuning :  </h3>\n",
    "\n",
    "  <h5 style=\"color:red;\">  Defines a rule that only attention layers in the LLM (\"llm/layers/attn/…\") are trainable; everything else stays frozen.\n",
    "<br>\n",
    "Creates a parallel \"mask\" PyTree of booleans marking which sub-trees to update.\n",
    "</h5>\n",
    "</div>"
   ]
  },
  {
   "cell_type": "code",
   "execution_count": null,
   "metadata": {
    "execution": {
     "iopub.execute_input": "2025-05-14T19:34:44.614315Z",
     "iopub.status.busy": "2025-05-14T19:34:44.613861Z",
     "iopub.status.idle": "2025-05-14T19:34:44.633254Z",
     "shell.execute_reply": "2025-05-14T19:34:44.632511Z",
     "shell.execute_reply.started": "2025-05-14T19:34:44.614299Z"
    },
    "id": "Hn3ff4L5-GBB"
   },
   "outputs": [],
   "source": [
    "# To keep HBM usage low and fit in a T4 GPU (16GB HBM) we opt to only finetune\n",
    "# a part of the parameters. Additionally we keep the frozen params in float16\n",
    "# and cast trainable to float32.\n",
    "\n",
    "# Create a pytree mask of the trainable params.\n",
    "def is_trainable_param(name, param):  # pylint: disable=unused-argument\n",
    "  if name.startswith(\"llm/layers/attn/\"):  return True\n",
    "  if name.startswith(\"soft_prompt\"):       return True\n",
    "  if name.startswith(\"llm/\"):              return False\n",
    "  if name.startswith(\"img/\"):              return False\n",
    "\n",
    "  raise ValueError(f\"Unexpected param name {name}\")\n",
    "\n",
    "trainable_mask = big_vision.utils.tree_map_with_names(is_trainable_param, params)\n"
   ]
  },
  {
   "cell_type": "markdown",
   "metadata": {
    "id": "iI7uthrl7YnL",
    "outputId": "9488b99a-2eed-40f3-f9b3-cd474b5ca0da"
   },
   "source": [
    "<div style=\"background-color:yellow; text-align:center; padding:40px; font-family:sans-serif;\">\n",
    "  <h3 style=\"color:red;\"> Sharding & Casting Parameters :  </h3>\n",
    "\n",
    "  <h5 style=\"color:red;\">  Sharding: split tensors across devices (if you had >1 GPU).\n",
    "<br>\n",
    "                        maybe_cast_to_f32: keep the frozen weights in fp16 to save memory; cast the few trainable ones to fp32 so their gradients remain stable.\n",
    "<br>\n",
    "                        The loop unpacks the parameter tree, reshares & casts each leaf, and reassembles it.\n",
    "</h5>\n",
    "</div>\n"
   ]
  },
  {
   "cell_type": "code",
   "execution_count": null,
   "metadata": {
    "execution": {
     "iopub.execute_input": "2025-05-14T19:34:44.635428Z",
     "iopub.status.busy": "2025-05-14T19:34:44.635224Z",
     "iopub.status.idle": "2025-05-14T19:34:44.648590Z",
     "shell.execute_reply": "2025-05-14T19:34:44.647964Z",
     "shell.execute_reply.started": "2025-05-14T19:34:44.635414Z"
    },
    "id": "6XWlVywoi5q3"
   },
   "outputs": [],
   "source": [
    "# If more than one device is available (e.g. multiple GPUs) the parameters can\n",
    "# be sharded across them to reduce HBM usage per device.\n",
    "mesh = jax.sharding.Mesh(jax.devices(), (\"data\"))"
   ]
  },
  {
   "cell_type": "code",
   "execution_count": null,
   "metadata": {
    "execution": {
     "iopub.execute_input": "2025-05-14T19:34:44.649522Z",
     "iopub.status.busy": "2025-05-14T19:34:44.649261Z",
     "iopub.status.idle": "2025-05-14T19:34:44.663541Z",
     "shell.execute_reply": "2025-05-14T19:34:44.663035Z",
     "shell.execute_reply.started": "2025-05-14T19:34:44.649503Z"
    },
    "id": "SMp3esfH-F6X"
   },
   "outputs": [],
   "source": [
    "data_sharding = jax.sharding.NamedSharding(\n",
    "    mesh, jax.sharding.PartitionSpec(\"data\"))"
   ]
  },
  {
   "cell_type": "code",
   "execution_count": null,
   "metadata": {
    "execution": {
     "iopub.execute_input": "2025-05-14T19:34:44.664378Z",
     "iopub.status.busy": "2025-05-14T19:34:44.664178Z",
     "iopub.status.idle": "2025-05-14T19:34:44.680628Z",
     "shell.execute_reply": "2025-05-14T19:34:44.679943Z",
     "shell.execute_reply.started": "2025-05-14T19:34:44.664364Z"
    },
    "id": "fBmbMiIJ-FwA"
   },
   "outputs": [],
   "source": [
    "params_sharding = big_vision.sharding.infer_sharding(\n",
    "    params, strategy=[('.*', 'fsdp(axis=\"data\")')], mesh=mesh)"
   ]
  },
  {
   "cell_type": "code",
   "execution_count": null,
   "metadata": {
    "execution": {
     "iopub.execute_input": "2025-05-14T19:34:44.681511Z",
     "iopub.status.busy": "2025-05-14T19:34:44.681332Z",
     "iopub.status.idle": "2025-05-14T19:34:44.698170Z",
     "shell.execute_reply": "2025-05-14T19:34:44.697525Z",
     "shell.execute_reply.started": "2025-05-14T19:34:44.681498Z"
    },
    "id": "Iwe1nyhJ-FMR"
   },
   "outputs": [],
   "source": [
    "# Yes: Some donated buffers are not usable.\n",
    "warnings.filterwarnings(\n",
    "    \"ignore\", message=\"Some donated buffers were not usable\")"
   ]
  },
  {
   "cell_type": "code",
   "execution_count": null,
   "metadata": {
    "execution": {
     "iopub.execute_input": "2025-05-14T19:34:44.698929Z",
     "iopub.status.busy": "2025-05-14T19:34:44.698749Z",
     "iopub.status.idle": "2025-05-14T19:34:44.713033Z",
     "shell.execute_reply": "2025-05-14T19:34:44.712494Z",
     "shell.execute_reply.started": "2025-05-14T19:34:44.698914Z"
    },
    "id": "68c533b0-e398-4508-bba6-c8271e76a9f0"
   },
   "outputs": [],
   "source": [
    "@functools.partial(jax.jit, donate_argnums=(0,), static_argnums=(1,))\n",
    "def maybe_cast_to_f32(params, trainable):\n",
    "  # Cast others to float16, since some GPUs don't support bf16.\n",
    "  return jax.tree.map(lambda p, m: p.astype(jnp.float32)\n",
    "                      if m else p.astype(jnp.float16),\n",
    "                      params, trainable)"
   ]
  },
  {
   "cell_type": "code",
   "execution_count": null,
   "metadata": {
    "execution": {
     "iopub.execute_input": "2025-05-14T19:34:44.713930Z",
     "iopub.status.busy": "2025-05-14T19:34:44.713722Z",
     "iopub.status.idle": "2025-05-14T19:34:47.151626Z",
     "shell.execute_reply": "2025-05-14T19:34:47.150874Z",
     "shell.execute_reply.started": "2025-05-14T19:34:44.713906Z"
    },
    "id": "p6UHe1iD8jEk"
   },
   "outputs": [],
   "source": [
    "# Loading all params in simultaneous - albeit much faster and more succinct -\n",
    "# requires more RAM than the T4 colab runtimes have by default (12GB RAM).\n",
    "# Instead we do it param by param.\n",
    "params, treedef  = jax.tree.flatten(params)\n",
    "sharding_leaves  = jax.tree.leaves(params_sharding)\n",
    "trainable_leaves = jax.tree.leaves(trainable_mask)\n",
    "\n",
    "for idx, (sharding, trainable) in enumerate(zip(sharding_leaves, trainable_leaves)):\n",
    "  params[idx] = big_vision.utils.reshard(params[idx], sharding)\n",
    "  params[idx] = maybe_cast_to_f32(params[idx], trainable)\n",
    "  params[idx].block_until_ready()\n",
    "params = jax.tree.unflatten(treedef, params)"
   ]
  },
  {
   "cell_type": "code",
   "execution_count": null,
   "metadata": {
    "execution": {
     "iopub.execute_input": "2025-05-14T19:34:47.152910Z",
     "iopub.status.busy": "2025-05-14T19:34:47.152552Z",
     "iopub.status.idle": "2025-05-14T19:34:47.157033Z",
     "shell.execute_reply": "2025-05-14T19:34:47.156334Z",
     "shell.execute_reply.started": "2025-05-14T19:34:47.152886Z"
    },
    "id": "s07VNVioEAMs"
   },
   "outputs": [],
   "source": [
    "# Print params to show what the model is made of.\n",
    "def parameter_overview(params):\n",
    "  for path, arr in big_vision.utils.tree_flatten_with_names(params)[0]:\n",
    "    print(f\"{path:80s} {str(arr.shape):22s} {arr.dtype}\")\n"
   ]
  },
  {
   "cell_type": "code",
   "execution_count": null,
   "metadata": {
    "colab": {
     "base_uri": "https://localhost:8080/"
    },
    "execution": {
     "iopub.execute_input": "2025-05-14T19:34:47.157961Z",
     "iopub.status.busy": "2025-05-14T19:34:47.157720Z",
     "iopub.status.idle": "2025-05-14T19:34:47.172715Z",
     "shell.execute_reply": "2025-05-14T19:34:47.172022Z",
     "shell.execute_reply.started": "2025-05-14T19:34:47.157939Z"
    },
    "id": "yKjuhldlEAJ9",
    "outputId": "4c27fe06-918c-4293-cd88-91d6994e300a"
   },
   "outputs": [],
   "source": [
    "print(\" == Model params == \")\n",
    "parameter_overview(params)"
   ]
  },
  {
   "cell_type": "markdown",
   "metadata": {
    "execution": {
     "iopub.execute_input": "2025-05-01T21:05:03.618581Z",
     "iopub.status.busy": "2025-05-01T21:05:03.618308Z",
     "iopub.status.idle": "2025-05-01T21:05:03.623664Z",
     "shell.execute_reply": "2025-05-01T21:05:03.623032Z",
     "shell.execute_reply.started": "2025-05-01T21:05:03.61856Z"
    },
    "id": "WH_1HRpMqhuW",
    "outputId": "a6037f1d-e8cf-436c-d18a-47404ff945eb"
   },
   "source": [
    "<div style=\"background-color:yellow; text-align:center; padding:40px; font-family:sans-serif;\">\n",
    "  <h3 style=\"color:red;\"> Define preprocess functions to create inputs to the model :  </h3>\n",
    "</div>"
   ]
  },
  {
   "cell_type": "code",
   "execution_count": null,
   "metadata": {
    "execution": {
     "iopub.execute_input": "2025-05-14T19:35:16.484029Z",
     "iopub.status.busy": "2025-05-14T19:35:16.483450Z",
     "iopub.status.idle": "2025-05-14T19:35:16.492977Z",
     "shell.execute_reply": "2025-05-14T19:35:16.492326Z",
     "shell.execute_reply.started": "2025-05-14T19:35:16.484003Z"
    },
    "id": "0zrFyYeVEAHD"
   },
   "outputs": [],
   "source": [
    "# @title Define preprocess functions to create inputs to the model.\n",
    "\n",
    "def preprocess_image(image, size=224):\n",
    "  # Model has been trained to handle images of different aspects ratios\n",
    "  # resized to 224x224 in the range [-1, 1]. Bilinear and antialias resize\n",
    "  # options are helpful to improve quality in some tasks.\n",
    "  image = np.asarray(image)\n",
    "  if image.ndim == 2:  # Convert image without last channel into greyscale.\n",
    "    image = np.stack((image,)*3, axis=-1)\n",
    "  image = image[..., :3]  # Remove alpha layer.\n",
    "  assert image.shape[-1] == 3\n",
    "\n",
    "  image = tf.constant(image)\n",
    "  image = tf.image.resize(image, (size, size), method='bilinear', antialias=True)\n",
    "  return image.numpy() / 127.5 - 1.0  # [0, 255]->[-1,1]\n",
    "#----------------------------------------------------------------------------------------------#\n",
    "#----------------------------------------------------------------------------------------------#\n",
    "#----------------------------------------------------------------------------------------------#\n",
    "def preprocess_tokens(suffix: str | None, seqlen: int = None):\n",
    "    \"\"\"\n",
    "    Tokenize only the suffix (caption) and build masks,\n",
    "    leaving room for PROMPT_LEN soft‐prompt embeddings.\n",
    "\n",
    "    Returns:\n",
    "      tokens      : np.int32 array of length seqlen (or PROMPT_LEN if no suffix)\n",
    "      mask_ar     : np.int32 array, 0=full attention (for prefix), 1=causal (for suffix)\n",
    "      mask_loss   : np.int32 array, 0=no loss on prefix, 1=loss on suffix\n",
    "      mask_input  : np.int32 array, 1=real token, 0=padding\n",
    "    \"\"\"\n",
    "    # 1) Tokenize suffix if given\n",
    "    if suffix is not None:\n",
    "        # separator token\n",
    "        sep_ids = tokenizer.encode(\"\\n\", add_bos=False, add_eos=False)\n",
    "        suf_ids = tokenizer.encode(suffix, add_bos=False, add_eos=True)\n",
    "\n",
    "        tokens_suf    = sep_ids + suf_ids\n",
    "        mask_ar_suf   = [1] * len(tokens_suf)\n",
    "        mask_loss_suf = [1] * len(tokens_suf)\n",
    "    else:\n",
    "        tokens_suf    = []\n",
    "        mask_ar_suf   = []\n",
    "        mask_loss_suf = []\n",
    "\n",
    "    # 2) Build the combined sequence\n",
    "    #    Prefix (soft prompts) occupy positions [0..PROMPT_LEN-1], so we\n",
    "    #    start our discrete IDs at index PROMPT_LEN.\n",
    "    tokens     = [0] * PROMPT_LEN  + tokens_suf\n",
    "    mask_ar    = [0] * PROMPT_LEN  + mask_ar_suf\n",
    "    mask_loss  = [0] * PROMPT_LEN  + mask_loss_suf\n",
    "    mask_input = [0] * PROMPT_LEN  + [1] * len(tokens_suf)\n",
    "\n",
    "    # 3) Pad/truncate to seqlen if requested\n",
    "    if seqlen is not None:\n",
    "        length = len(tokens)\n",
    "        if length < seqlen:\n",
    "            pad_len = seqlen - length\n",
    "            tokens     += [0] * pad_len\n",
    "            mask_ar    += [0] * pad_len\n",
    "            mask_loss  += [0] * pad_len\n",
    "            mask_input += [0] * pad_len\n",
    "        else:\n",
    "            tokens     = tokens[:seqlen]\n",
    "            mask_ar    = mask_ar[:seqlen]\n",
    "            mask_loss  = mask_loss[:seqlen]\n",
    "            mask_input = mask_input[:seqlen]\n",
    "\n",
    "    # 4) Return as arrays\n",
    "    return (\n",
    "        np.array(tokens,     dtype=np.int32),\n",
    "        np.array(mask_ar,    dtype=np.int32),\n",
    "        np.array(mask_loss,  dtype=np.int32),\n",
    "        np.array(mask_input, dtype=np.int32),\n",
    "    )\n",
    "#----------------------------------------------------------------------------------------------#\n",
    "#----------------------------------------------------------------------------------------------#\n",
    "#----------------------------------------------------------------------------------------------#\n",
    "def postprocess_tokens(tokens):\n",
    "  tokens = tokens.tolist()  # np.array to list[int]\n",
    "  try:  # Remove tokens at and after EOS if any.\n",
    "    eos_pos = tokens.index(tokenizer.eos_id())\n",
    "    tokens = tokens[:eos_pos]\n",
    "  except ValueError:\n",
    "    pass\n",
    "  return tokenizer.decode(tokens)\n"
   ]
  },
  {
   "cell_type": "markdown",
   "metadata": {
    "id": "8SoyORZgquEe",
    "outputId": "7f3a2fa9-144c-4deb-e7b0-9466ffe8d1bf"
   },
   "source": [
    "<div style=\"background-color:yellow; text-align:center; padding:40px; font-family:sans-serif;\">\n",
    "  <h3 style=\"color:red;\"> Import Data  :  </h3>\n",
    "</div>"
   ]
  },
  {
   "cell_type": "code",
   "execution_count": null,
   "metadata": {
    "execution": {
     "iopub.execute_input": "2025-05-14T19:35:17.101258Z",
     "iopub.status.busy": "2025-05-14T19:35:17.100990Z",
     "iopub.status.idle": "2025-05-14T19:35:17.104751Z",
     "shell.execute_reply": "2025-05-14T19:35:17.104030Z",
     "shell.execute_reply.started": "2025-05-14T19:35:17.101238Z"
    },
    "id": "_HgszSHUGy0A"
   },
   "outputs": [],
   "source": [
    "import os\n",
    "import tensorflow as tf\n",
    "import pandas as pd\n",
    "import numpy as np"
   ]
  },
  {
   "cell_type": "code",
   "execution_count": null,
   "metadata": {
    "colab": {
     "base_uri": "https://localhost:8080/"
    },
    "id": "x1xWmw94j-EF",
    "outputId": "dca9deff-f47b-443c-d892-a621b015ec4c"
   },
   "outputs": [],
   "source": [
    "#from google.colab import drive\n",
    "#drive.mount('/content/drive')"
   ]
  },
  {
   "cell_type": "code",
   "execution_count": null,
   "metadata": {
    "id": "SbhRYi1bkCHj"
   },
   "outputs": [],
   "source": [
    "# 2. Paths & constants\n",
    "#DATA_DIR   = '/content/drive/MyDrive/extracted_folder/'\n",
    "#CSV_PATH   = os.path.join(DATA_DIR, 'captions.csv')\n",
    "#IMAGE_ROOT = os.path.join(DATA_DIR, 'resized')\n",
    "#BATCH_SIZE = 32\n",
    "#IMG_SIZE   = (224, 224)"
   ]
  },
  {
   "cell_type": "code",
   "execution_count": null,
   "metadata": {
    "id": "iW7D8b-hkIxc"
   },
   "outputs": [],
   "source": [
    "#captions_df = pd.read_csv(CSV_PATH)"
   ]
  },
  {
   "cell_type": "code",
   "execution_count": null,
   "metadata": {
    "execution": {
     "iopub.execute_input": "2025-05-14T19:42:36.121960Z",
     "iopub.status.busy": "2025-05-14T19:42:36.121673Z",
     "iopub.status.idle": "2025-05-14T19:42:36.125519Z",
     "shell.execute_reply": "2025-05-14T19:42:36.124675Z",
     "shell.execute_reply.started": "2025-05-14T19:42:36.121940Z"
    }
   },
   "outputs": [],
   "source": [
    "path_csv  =  \"/kaggle/input/riscm-dataset/captions.csv\""
   ]
  },
  {
   "cell_type": "code",
   "execution_count": null,
   "metadata": {
    "execution": {
     "iopub.execute_input": "2025-05-14T19:42:47.976662Z",
     "iopub.status.busy": "2025-05-14T19:42:47.975989Z",
     "iopub.status.idle": "2025-05-14T19:42:48.324224Z",
     "shell.execute_reply": "2025-05-14T19:42:48.323409Z",
     "shell.execute_reply.started": "2025-05-14T19:42:47.976639Z"
    },
    "id": "dtahreE7i5q9"
   },
   "outputs": [],
   "source": [
    "captions_df = pd.read_csv(path_csv) \n",
    "print(captions_df.head()) "
   ]
  },
  {
   "cell_type": "code",
   "execution_count": null,
   "metadata": {
    "execution": {
     "iopub.execute_input": "2025-05-14T19:43:09.327283Z",
     "iopub.status.busy": "2025-05-14T19:43:09.326981Z",
     "iopub.status.idle": "2025-05-14T19:43:09.331095Z",
     "shell.execute_reply": "2025-05-14T19:43:09.330416Z",
     "shell.execute_reply.started": "2025-05-14T19:43:09.327262Z"
    },
    "id": "1s_HUEaOGvCn"
   },
   "outputs": [],
   "source": [
    "\n",
    "IMAGE_ROOT = \"/kaggle/input/riscm-dataset/resized\"\n",
    "BATCH_SIZE = 8\n",
    "IMG_SIZE   = (224, 224)"
   ]
  },
  {
   "cell_type": "code",
   "execution_count": null,
   "metadata": {
    "colab": {
     "base_uri": "https://localhost:8080/"
    },
    "execution": {
     "iopub.execute_input": "2025-05-14T19:43:10.137338Z",
     "iopub.status.busy": "2025-05-14T19:43:10.137049Z",
     "iopub.status.idle": "2025-05-14T19:43:10.150567Z",
     "shell.execute_reply": "2025-05-14T19:43:10.149903Z",
     "shell.execute_reply.started": "2025-05-14T19:43:10.137317Z"
    },
    "id": "-F5zSNzPKHOu",
    "outputId": "05708c81-c354-45f2-dbca-fa777bd76d4c"
   },
   "outputs": [],
   "source": [
    "print(\"All split labels:\", captions_df['split'].unique())\n",
    "print(\"Counts:\\n\", captions_df['split'].value_counts())"
   ]
  },
  {
   "cell_type": "code",
   "execution_count": null,
   "metadata": {
    "execution": {
     "iopub.execute_input": "2025-05-14T19:43:10.949553Z",
     "iopub.status.busy": "2025-05-14T19:43:10.949286Z",
     "iopub.status.idle": "2025-05-14T19:43:10.970785Z",
     "shell.execute_reply": "2025-05-14T19:43:10.970201Z",
     "shell.execute_reply.started": "2025-05-14T19:43:10.949532Z"
    },
    "id": "bYrO8v1UKHL4"
   },
   "outputs": [],
   "source": [
    "# 4. Filter into splits\n",
    "splits = {}\n",
    "for split_name in ['train', 'val', 'test']:\n",
    "    splits[split_name] = captions_df[captions_df['split'] == split_name]"
   ]
  },
  {
   "cell_type": "code",
   "execution_count": null,
   "metadata": {
    "execution": {
     "iopub.execute_input": "2025-05-14T19:43:11.688207Z",
     "iopub.status.busy": "2025-05-14T19:43:11.687545Z",
     "iopub.status.idle": "2025-05-14T19:43:11.693297Z",
     "shell.execute_reply": "2025-05-14T19:43:11.692496Z",
     "shell.execute_reply.started": "2025-05-14T19:43:11.688176Z"
    },
    "id": "9boO9ocTKGiO"
   },
   "outputs": [],
   "source": [
    "# 5. Convert each split-DataFrame into (paths, captions)\n",
    "def df_to_paths_and_captions(split_df):\n",
    "    # Full paths\n",
    "    paths = split_df['image'].apply(lambda fn: os.path.join(IMAGE_ROOT, fn)).tolist()\n",
    "    # List-of-captions per example\n",
    "    captions_cols = [f'caption_{i}' for i in range(1,6)]\n",
    "    captions = split_df[captions_cols].values.tolist()\n",
    "    return paths, captions"
   ]
  },
  {
   "cell_type": "code",
   "execution_count": null,
   "metadata": {
    "execution": {
     "iopub.execute_input": "2025-05-14T19:43:14.891376Z",
     "iopub.status.busy": "2025-05-14T19:43:14.891093Z",
     "iopub.status.idle": "2025-05-14T19:43:15.205538Z",
     "shell.execute_reply": "2025-05-14T19:43:15.204853Z",
     "shell.execute_reply.started": "2025-05-14T19:43:14.891356Z"
    },
    "id": "UTtccQ1oIP7S"
   },
   "outputs": [],
   "source": [
    "train_paths, train_caps = df_to_paths_and_captions(splits['train'])\n",
    "val_paths,   val_caps   = df_to_paths_and_captions(splits['val'])\n",
    "test_paths,  test_caps  = df_to_paths_and_captions(splits['test'])"
   ]
  },
  {
   "cell_type": "code",
   "execution_count": null,
   "metadata": {
    "execution": {
     "iopub.execute_input": "2025-05-14T19:43:15.312703Z",
     "iopub.status.busy": "2025-05-14T19:43:15.312496Z",
     "iopub.status.idle": "2025-05-14T19:43:15.318246Z",
     "shell.execute_reply": "2025-05-14T19:43:15.317546Z",
     "shell.execute_reply.started": "2025-05-14T19:43:15.312680Z"
    },
    "id": "Wgpm8HTEISvx"
   },
   "outputs": [],
   "source": [
    "# 6. Preprocessing fn: load image + return captions list\n",
    "def _load_and_preprocess(path, captions):\n",
    "    # Read & decode\n",
    "    img = tf.io.read_file(path)\n",
    "    img = tf.image.decode_image(img, channels=3, expand_animations=False)\n",
    "    # Resize & normalize\n",
    "    img = tf.image.resize(img, IMG_SIZE)\n",
    "    img = tf.cast(img, tf.float32) / 255.0\n",
    "    return img, captions\n",
    "\n",
    "# 7. Build the tf.data pipeline\n",
    "def make_dataset(paths, captions, shuffle=False):\n",
    "    # turn your Python list-of-strings into a tf.string tensor\n",
    "    paths_ds = tf.data.Dataset.from_tensor_slices(tf.constant(paths, dtype=tf.string))\n",
    "    # turn your list-of-lists-of-strings into a [5] tf.string tensor\n",
    "    caps_ds  = tf.data.Dataset.from_tensor_slices(tf.constant(captions, dtype=tf.string))\n",
    "\n",
    "    ds = tf.data.Dataset.zip((paths_ds, caps_ds))\n",
    "    if shuffle:\n",
    "        ds = ds.shuffle(buffer_size=len(paths))\n",
    "    ds = ( ds\n",
    "           .map(_load_and_preprocess, num_parallel_calls=tf.data.AUTOTUNE)\n",
    "           .batch(BATCH_SIZE)\n",
    "           .prefetch(tf.data.AUTOTUNE)\n",
    "         )\n",
    "    return ds"
   ]
  },
  {
   "cell_type": "code",
   "execution_count": null,
   "metadata": {
    "execution": {
     "iopub.execute_input": "2025-05-14T19:43:18.376978Z",
     "iopub.status.busy": "2025-05-14T19:43:18.376696Z",
     "iopub.status.idle": "2025-05-14T19:43:18.539494Z",
     "shell.execute_reply": "2025-05-14T19:43:18.538936Z",
     "shell.execute_reply.started": "2025-05-14T19:43:18.376958Z"
    },
    "id": "oWuvduvbIE-H"
   },
   "outputs": [],
   "source": [
    "train_ds = make_dataset(train_paths, train_caps, shuffle=True)\n",
    "val_ds   = make_dataset(val_paths,   val_caps,   shuffle=True)\n",
    "test_ds  = make_dataset(test_paths,  test_caps,  shuffle=False)"
   ]
  },
  {
   "cell_type": "code",
   "execution_count": null,
   "metadata": {
    "colab": {
     "base_uri": "https://localhost:8080/"
    },
    "execution": {
     "iopub.execute_input": "2025-05-14T19:43:18.791642Z",
     "iopub.status.busy": "2025-05-14T19:43:18.791362Z",
     "iopub.status.idle": "2025-05-14T19:43:18.874960Z",
     "shell.execute_reply": "2025-05-14T19:43:18.874386Z",
     "shell.execute_reply.started": "2025-05-14T19:43:18.791622Z"
    },
    "id": "mHiB8o5aIE7W",
    "outputId": "47b6e53c-3338-4045-e10e-b6c7565bab68"
   },
   "outputs": [],
   "source": [
    "# 8. Quick sanity check\n",
    "for imgs, caps in test_ds.take(1):\n",
    "    print(\"Images batch shape:\", imgs.shape)            # (BATCH_SIZE, H, W, 3)\n",
    "    print(\"Captions batch shape:\", len(caps), \"examples\")\n",
    "    print(\"First example captions:\", caps[0])            # a list of 5 strings"
   ]
  },
  {
   "cell_type": "code",
   "execution_count": null,
   "metadata": {
    "execution": {
     "iopub.execute_input": "2025-05-14T19:43:20.377026Z",
     "iopub.status.busy": "2025-05-14T19:43:20.376346Z",
     "iopub.status.idle": "2025-05-14T19:43:20.380273Z",
     "shell.execute_reply": "2025-05-14T19:43:20.379498Z",
     "shell.execute_reply.started": "2025-05-14T19:43:20.377001Z"
    },
    "id": "poCJbdZoi5q_"
   },
   "outputs": [],
   "source": [
    "SEQLEN  =  64"
   ]
  },
  {
   "cell_type": "code",
   "execution_count": null,
   "metadata": {
    "execution": {
     "iopub.execute_input": "2025-05-14T19:43:21.200422Z",
     "iopub.status.busy": "2025-05-14T19:43:21.200137Z",
     "iopub.status.idle": "2025-05-14T19:43:21.207659Z",
     "shell.execute_reply": "2025-05-14T19:43:21.207021Z",
     "shell.execute_reply.started": "2025-05-14T19:43:21.200401Z"
    },
    "id": "emSWd_NsEAEA"
   },
   "outputs": [],
   "source": [
    "def train_data_iterator():\n",
    "    \"\"\"Never-ending iterator over training examples from train_ds.\"\"\"\n",
    "    while True:\n",
    "        for image_batch, caps_batch in train_ds:\n",
    "            images_np = image_batch.numpy()      # [B,H,W,3]\n",
    "            caps_np   = caps_batch.numpy()       # [B,5] bytes\n",
    "\n",
    "            for img, caps in zip(images_np, caps_np):\n",
    "                decoded_caps = [c.decode('utf-8') for c in caps]             #  All Captions\n",
    "                suffix       = decoded_caps[np.random.randint(5)].lower()    #  Randomly pick one\n",
    "\n",
    "                # Prepare tokens and masks\n",
    "                tokens, mask_ar, mask_loss, mask_in   =  preprocess_tokens(suffix,  128)\n",
    "\n",
    "                img_proc = img * 2.0 - 1.0\n",
    "                yield [{\n",
    "                    \"image\": img_proc,\n",
    "                    \"text\": np.asarray(tokens, dtype=np.int32),\n",
    "                    \"mask_ar\": np.asarray(mask_ar, dtype=np.int32),\n",
    "                    \"mask_loss\": np.asarray(mask_loss, dtype=np.int32),\n",
    "                    \"mask_input\": np.asarray(mask_in,  dtype=np.int32),  # ← Add this\n",
    "                }, decoded_caps]\n",
    "\n",
    "def validation_data_iterator():\n",
    "    \"\"\"Single-pass iterator over validation examples from val_ds.\"\"\"\n",
    "    for image_batch, caps_batch in val_ds:\n",
    "        images_np = image_batch.numpy()\n",
    "        caps_np   = caps_batch.numpy()\n",
    "\n",
    "        for img, caps in zip(images_np, caps_np):\n",
    "            decoded_caps = [c.decode('utf-8') for c in caps]       #  All Captions\n",
    "\n",
    "            # Prepare tokens and masks\n",
    "            tokens, mask_ar, mask_loss, mask_in   =  preprocess_tokens(None,  128)    # suffix = None\n",
    "\n",
    "            img_proc = img * 2. - 1.\n",
    "            yield [{\n",
    "                \"image\": img_proc,\n",
    "                \"text\": np.asarray(tokens, dtype=np.int32),\n",
    "                \"mask_input\": np.asarray(mask_in, dtype=np.int32),\n",
    "                \"mask_ar\": np.asarray(mask_ar, dtype=np.int32),\n",
    "            }, decoded_caps]\n"
   ]
  },
  {
   "cell_type": "code",
   "execution_count": null,
   "metadata": {
    "id": "JfY9ONOTi5q_"
   },
   "outputs": [],
   "source": []
  },
  {
   "cell_type": "markdown",
   "metadata": {
    "id": "V_wE54fwi5rA"
   },
   "source": [
    "<div style=\"background-color:yellow; text-align:center; padding:40px; font-family:sans-serif;\">\n",
    "  <h3 style=\"color:red;\"> Display Samples :  </h3>\n",
    "</div>"
   ]
  },
  {
   "cell_type": "code",
   "execution_count": null,
   "metadata": {
    "id": "NrE27d6rEABL"
   },
   "outputs": [],
   "source": [
    "# @title Inspect training examples.\n",
    "def render_inline(image, resize=(128, 128)):\n",
    "  \"\"\"Convert image into inline html.\"\"\"\n",
    "  image = Image.fromarray(image)\n",
    "  image.resize(resize)\n",
    "  with io.BytesIO() as buffer:\n",
    "    image.save(buffer, format='jpeg')\n",
    "    image_b64 = str(base64.b64encode(buffer.getvalue()), \"utf-8\")\n",
    "    return f\"data:image/jpeg;base64,{image_b64}\"\n",
    "\n",
    "def render_example(image, caption):\n",
    "  image = ((image + 1)/2 * 255).astype(np.uint8)  # [-1,1] -> [0, 255]\n",
    "  return f\"\"\"\n",
    "    <div style=\"display: inline-flex; align-items: center; justify-content: center;\">\n",
    "        <img style=\"width:128px; height:128px;\" src=\"{render_inline(image, resize=(64,64))}\" />\n",
    "        <p style=\"width:256px; margin:10px; font-size:small;\">{html.escape(caption)}</p>\n",
    "    </div>\n",
    "    \"\"\"\n"
   ]
  },
  {
   "cell_type": "code",
   "execution_count": null,
   "metadata": {
    "id": "DIzG9x62i5rA"
   },
   "outputs": [],
   "source": [
    "import html"
   ]
  },
  {
   "cell_type": "code",
   "execution_count": null,
   "metadata": {
    "id": "807hpxWVK2Ee"
   },
   "outputs": [],
   "source": [
    "html_out = \"\"\n",
    "for idx, example in zip(range(4), train_data_iterator()):\n",
    "    img = example[0][\"image\"]\n",
    "\n",
    "    html_out += render_example(img, example[1][0])\n",
    "    # optionally a divider between images:\n",
    "    html_out += \"<hr style='width:100%;'>\"\n",
    "\n",
    "display(HTML(\"<h3>Training examples </h3>\" + html_out))\n"
   ]
  },
  {
   "cell_type": "markdown",
   "metadata": {
    "id": "L0BGswEDi5rA"
   },
   "source": [
    "<div style=\"background-color:yellow; text-align:center; padding:40px; font-family:sans-serif;\">\n",
    "  <h3 style=\"color:red;\"> Training step with simple SGD :  </h3>\n",
    "</div>"
   ]
  },
  {
   "cell_type": "code",
   "execution_count": null,
   "metadata": {
    "execution": {
     "iopub.execute_input": "2025-05-14T19:43:27.535079Z",
     "iopub.status.busy": "2025-05-14T19:43:27.534406Z",
     "iopub.status.idle": "2025-05-14T19:43:27.541462Z",
     "shell.execute_reply": "2025-05-14T19:43:27.540866Z",
     "shell.execute_reply.started": "2025-05-14T19:43:27.535056Z"
    },
    "id": "7_QtGvX6OYUT"
   },
   "outputs": [],
   "source": [
    "# @title Define the training step and evaluation loop.\n",
    "#\n",
    "# The main update_fn using simple SGD.\n",
    "#\n",
    "@functools.partial(jax.jit, donate_argnums=(0,))\n",
    "def update_fn(params, batch, learning_rate):\n",
    "  imgs, txts, mask_ar = batch[\"image\"], batch[\"text\"], batch[\"mask_ar\"]\n",
    "\n",
    "  def loss_fn(params):\n",
    "    text_logits, _ = model.apply({\"params\": params}, imgs, txts[:, :-1], mask_ar[:, :-1], train=True)\n",
    "    logp = jax.nn.log_softmax(text_logits, axis=-1)\n",
    "\n",
    "    # The model takes as input txts[:, :-1] but the loss is defined as predicting\n",
    "    # next tokens txts[:, 1:]. Additionally, mask_loss[:, 1:] indicates which tokens\n",
    "    # are part of the loss (e.g. prefix and padded tokens are not included).\n",
    "    mask_loss = batch[\"mask_loss\"][:, 1:]\n",
    "    targets = jax.nn.one_hot(txts[:, 1:], text_logits.shape[-1])\n",
    "\n",
    "    # Compute the loss per example. i.e. the mean of per token pplx.\n",
    "    # Since each example has a different number of tokens we normalize it.\n",
    "    token_pplx = jnp.sum(logp * targets, axis=-1)  # sum across vocab_size.\n",
    "    example_loss = -jnp.sum(token_pplx * mask_loss, axis=-1)  # sum across seq_len.\n",
    "    example_loss /= jnp.clip(jnp.sum(mask_loss, -1), 1)  # weight by num of tokens.\n",
    "\n",
    "    # batch_loss: mean of per example loss.\n",
    "    return jnp.mean(example_loss)\n",
    "\n",
    "  loss, grads = jax.value_and_grad(loss_fn)(params)\n",
    "\n",
    "  # Apply gradients to trainable params using SGD.\n",
    "  def apply_grad(param, gradient, trainable):\n",
    "    if not trainable: return param\n",
    "    return param - learning_rate * gradient\n",
    "\n",
    "  params = jax.tree_util.tree_map(apply_grad, params, grads, trainable_mask)\n",
    "\n",
    "  return params, loss"
   ]
  },
  {
   "cell_type": "markdown",
   "metadata": {
    "id": "fMqCJnzJi5rB"
   },
   "source": [
    "<div style=\"background-color:yellow; text-align:center; padding:40px; font-family:sans-serif;\">\n",
    "  <h3 style=\"color:red;\"> Evaluation / Inference Loop :  </h3>\n",
    "</div>"
   ]
  },
  {
   "cell_type": "code",
   "execution_count": null,
   "metadata": {
    "execution": {
     "iopub.execute_input": "2025-05-14T19:43:29.998259Z",
     "iopub.status.busy": "2025-05-14T19:43:29.997967Z",
     "iopub.status.idle": "2025-05-14T19:43:30.005410Z",
     "shell.execute_reply": "2025-05-14T19:43:30.004698Z",
     "shell.execute_reply.started": "2025-05-14T19:43:29.998237Z"
    },
    "id": "o33Hb-o7i5rB"
   },
   "outputs": [],
   "source": [
    "# Evaluation/inference loop.\n",
    "def make_predictions(data_iterator, *, num_examples=None,\n",
    "                     batch_size=4, seqlen=SEQLEN, sampler=\"greedy\"):\n",
    "  outputs = []\n",
    "  while True:\n",
    "    # Construct a list of examples in the batch.\n",
    "    examples = []\n",
    "    captions = []\n",
    "    try:\n",
    "      for _ in range(batch_size):\n",
    "\n",
    "        example, caps = next(data_iterator)\n",
    "        example[\"_mask\"]   = np.array(True)\n",
    "        example[\"caption\"] = caps\n",
    "\n",
    "        # Keep the caption aside\n",
    "        caption = example.pop(\"caption\")\n",
    "        captions.append(caption)\n",
    "\n",
    "        examples.append(example)\n",
    "\n",
    "\n",
    "    except StopIteration:\n",
    "      if len(examples) == 0:\n",
    "        return outputs\n",
    "\n",
    "    # Not enough examples to complete a batch. Pad by repeating last example.\n",
    "    while len(examples) % batch_size:\n",
    "      examples.append(dict(examples[-1]))\n",
    "      examples[-1][\"_mask\"] = np.array(False)  # Indicates padding example.\n",
    "\n",
    "    # Convert list of examples into a dict of np.arrays and load onto devices.\n",
    "    batch = jax.tree.map(lambda *x: np.stack(x), *examples)\n",
    "    batch = big_vision.utils.reshard(batch, data_sharding)\n",
    "\n",
    "    # Make model predictions\n",
    "    tokens = decode({\"params\": params}, batch=batch,\n",
    "                    max_decode_len=seqlen, sampler=sampler)\n",
    "\n",
    "    # Fetch model predictions to device and detokenize.\n",
    "    tokens, mask = jax.device_get((tokens, batch[\"_mask\"]))\n",
    "    tokens = tokens[mask]  # remove padding examples.\n",
    "    responses = [postprocess_tokens(t) for t in tokens]\n",
    "\n",
    "    # Append to html output.\n",
    "    for example, response, caption in zip(examples, responses, captions):\n",
    "        outputs.append((example[\"image\"], response, caption))\n",
    "\n",
    "        if num_examples and len(outputs) >= num_examples:\n",
    "            return outputs"
   ]
  },
  {
   "cell_type": "markdown",
   "metadata": {
    "execution": {
     "iopub.execute_input": "2025-05-02T07:37:59.333628Z",
     "iopub.status.busy": "2025-05-02T07:37:59.333126Z",
     "iopub.status.idle": "2025-05-02T07:37:59.339059Z",
     "shell.execute_reply": "2025-05-02T07:37:59.337947Z",
     "shell.execute_reply.started": "2025-05-02T07:37:59.333604Z"
    },
    "id": "PuqC8L--tMhq",
    "outputId": "bcb50f18-7b1b-4b57-fd84-2b3156af0f0f"
   },
   "source": [
    "<div style=\"background-color:yellow; text-align:center; padding:40px; font-family:sans-serif;\">\n",
    "  <h3 style=\"color:red;\"> WANDB :  </h3>\n",
    "</div>"
   ]
  },
  {
   "cell_type": "code",
   "execution_count": null,
   "metadata": {
    "id": "Rm02mGgki5rB"
   },
   "outputs": [],
   "source": [
    "#!pip install wandb"
   ]
  },
  {
   "cell_type": "code",
   "execution_count": null,
   "metadata": {
    "execution": {
     "iopub.execute_input": "2025-05-14T19:43:36.082725Z",
     "iopub.status.busy": "2025-05-14T19:43:36.082203Z",
     "iopub.status.idle": "2025-05-14T19:43:38.153055Z",
     "shell.execute_reply": "2025-05-14T19:43:38.152515Z",
     "shell.execute_reply.started": "2025-05-14T19:43:36.082703Z"
    },
    "id": "5aDEF3c_VE0U"
   },
   "outputs": [],
   "source": [
    "import wandb"
   ]
  },
  {
   "cell_type": "code",
   "execution_count": null,
   "metadata": {
    "execution": {
     "iopub.execute_input": "2025-05-14T19:43:39.472619Z",
     "iopub.status.busy": "2025-05-14T19:43:39.472374Z",
     "iopub.status.idle": "2025-05-14T19:43:39.476059Z",
     "shell.execute_reply": "2025-05-14T19:43:39.475294Z",
     "shell.execute_reply.started": "2025-05-14T19:43:39.472603Z"
    },
    "id": "pJd2cBlEVBuQ"
   },
   "outputs": [],
   "source": [
    "os.environ[\"...\"]       = \"...\""
   ]
  },
  {
   "cell_type": "code",
   "execution_count": null,
   "metadata": {
    "colab": {
     "base_uri": "https://localhost:8080/",
     "height": 142
    },
    "execution": {
     "iopub.execute_input": "2025-05-14T19:43:39.778486Z",
     "iopub.status.busy": "2025-05-14T19:43:39.778249Z",
     "iopub.status.idle": "2025-05-14T19:43:53.684591Z",
     "shell.execute_reply": "2025-05-14T19:43:53.683819Z",
     "shell.execute_reply.started": "2025-05-14T19:43:39.778469Z"
    },
    "id": "8R2xowiKi5rB",
    "outputId": "dc69bf82-e55a-448a-90e5-17e80b1dbde5"
   },
   "outputs": [],
   "source": [
    "run  =  wandb.init(project=\"...\", entity=\"...\")"
   ]
  },
  {
   "cell_type": "markdown",
   "metadata": {
    "execution": {
     "iopub.execute_input": "2025-05-02T07:40:50.298843Z",
     "iopub.status.busy": "2025-05-02T07:40:50.298628Z",
     "iopub.status.idle": "2025-05-02T07:40:50.304331Z",
     "shell.execute_reply": "2025-05-02T07:40:50.303471Z",
     "shell.execute_reply.started": "2025-05-02T07:40:50.298819Z"
    },
    "id": "JaoT9rNIt2wO",
    "outputId": "6efe8793-ec84-40ac-d48e-8fca0ebd52cb"
   },
   "source": [
    "<div style=\"background-color:yellow; text-align:center; padding:40px; font-family:sans-serif;\">\n",
    "  <h3 style=\"color:red;\"> Train :  </h3>\n",
    "</div>"
   ]
  },
  {
   "cell_type": "code",
   "execution_count": null,
   "metadata": {
    "colab": {
     "base_uri": "https://localhost:8080/",
     "height": 1000,
     "referenced_widgets": [
      "378135bab63e456bb73232a188bb3c0a",
      "f55196ff5bfa49e39d6b1a2a86115a80",
      "91016a321e5c4790b704d2e7eee9fa72",
      "0ed951abbbd94ce099d4d9d8af052311",
      "2be016149c394f438c3b8c918f17c5d5",
      "0077cd058d5b449f8892370ed91ad804",
      "55ddabb4b6e248aea537e5de27df1d0c",
      "61fc26e90e2f4207b9a47fe93e120e46",
      "f1317125e21848d891eb8fe7d8bca191",
      "468ec665621f476bb6353f439656e231",
      "440424657e3b4b14ac5269dc54ade400",
      "3e8bd9a27e51457e82d8e5233877b91f",
      "6204bc1e59684b4db58346d4b45f801e",
      "3d87eb3cf6614c7b877095405d13c5d3",
      "3c100ebcd5794676bac310c033d25806",
      "006829c8bd58405483dcd5b448a2b849",
      "66f8d15a81274b70b29407053d8039bc",
      "97498ccd881d4f3582caf30d4802762c",
      "d8695deec6b746a8ab5f005edbf7f7d7",
      "28e6499fe15843878e7f1423dbb4449e",
      "186a86f2c01a4071a99a75343488d03f",
      "b31ce7d431014e0eae533e3a55b83909",
      "d251854bd7e244c7a53661562b659f88",
      "3779e4059c4e422b88d9e0a8d9667a9d",
      "3969348fc7fc4141b5ac0333747bfc87",
      "4dc2c8f408cc40a4897b5f4c5bd38135",
      "cb84e501685d40e9ab4d2a827aaa703e",
      "3c70d3ece9fe439d8f516e72f00b8f09",
      "c7702b7a1eb4485e99d0919dccd3d50c",
      "172ec8302c6e4d12ae45f43fd80e8582",
      "271ab3c602d146d7b52cdfb029cb801a",
      "64d5d8bbfd744f84bd46e88188c40d64",
      "1b78a93402864eb29ac49534211b61dd",
      "0b56c29048b64955b977a6458a1d2d95",
      "36ccea48887c4bb787b695b4d45bca53",
      "32fbdf8b11164577ba0f25bee2adfcaa",
      "d94d2c3a17d24dd393b887f3155f6789",
      "c4bee61910b14e13847cebbfc76d6bb9",
      "c5cf8da8da4b40f4998cc472aff1da89",
      "b37b3e1b62564ee49d7ad1331d278978",
      "a752b5d5ffcf427ead3e6d80655aff53",
      "15d1e524a24b4b4ea9bba6cceb1b50da",
      "7e7b5ebcf3f64a6a91f5244a2ff345d2",
      "ec846a81edfb433d882f77e72443c8e3",
      "14ce388b7e2a40c1bfdabd5c3e88a1b1",
      "d398b0c2a496473698c410677d775588",
      "ad7698d2a85a433598f27759e49ec281",
      "4db388109aca4fd7bcf1cb153b661926",
      "0d49380014fe417eabe3a9d42bd3f1cb",
      "2fedc5c7dd924f12a00720a6c3d2ca07",
      "f92b6eb8efdf431499cc8821600da606",
      "1ebf69087cd34162a0acf82fe0f465d2",
      "59eb90c7434a4b069a6d37c78e5376d8",
      "e055ed92ccd740979632f83181d8d2ce",
      "c9e886bc8af741e9ae105d8698d30e47"
     ]
    },
    "id": "lMq6146UD_7b",
    "outputId": "c1b9c47e-bc87-4c9b-8668-347dc86ad3eb"
   },
   "outputs": [],
   "source": [
    "import io, base64\n",
    "from PIL import Image\n",
    "from IPython.display import HTML, display\n",
    "\n",
    "import wandb\n",
    "import pickle\n",
    "import evaluate\n",
    "import tqdm\n",
    "#---------------------------------------------------------------------------------------------------------------------------#\n",
    "# 1) Install & load metrics\n",
    "#    pip install evaluate\n",
    "bleu_metric   = evaluate.load(\"bleu\")\n",
    "rouge_metric  = evaluate.load(\"rouge\")\n",
    "meteor_metric = evaluate.load(\"meteor\")\n",
    "#---------------------------------------------------------------------------------------------------------------------------#\n",
    "# 2) Hyperparams\n",
    "BATCH_SIZE     = 8\n",
    "TRAIN_EXAMPLES = 30000\n",
    "LEARNING_RATE  = 0.001\n",
    "\n",
    "TRAIN_STEPS = TRAIN_EXAMPLES // BATCH_SIZE\n",
    "EVAL_STEPS  = 1000 \n",
    "#---------------------------------------------------------------------------------------------------------------------------#\n",
    "run.config.update({\n",
    "    \"model_name\"     : \"PaliGemma Soft-Prompt Best-Model\",\n",
    "    \"batch_size\"     : BATCH_SIZE,\n",
    "    \"train_examples\" : TRAIN_EXAMPLES,\n",
    "    \"learning_rate\"  : LEARNING_RATE,\n",
    "    \"train_steps\"    : TRAIN_STEPS,\n",
    "    \"eval_steps\"     : EVAL_STEPS,\n",
    "})\n",
    "#---------------------------------------------------------------------------------------------------------------------------#\n",
    "# 3) Data & scheduler\n",
    "train_data_it = train_data_iterator()\n",
    "\n",
    "sched_fn  = big_vision.utils.create_learning_rate_schedule(\n",
    "                                                                total_steps    = TRAIN_STEPS + 1,\n",
    "                                                                base           = LEARNING_RATE,\n",
    "                                                                decay_type     = \"cosine\",\n",
    "                                                                warmup_percent = 0.05, \n",
    "                                                          )\n",
    "#---------------------------------------------------------------------------------------------------------------------------#\n",
    "#                                           Training loop\n",
    "#---------------------------------------------------------------------------------------------------------------------------#\n",
    "for step in range(1, TRAIN_STEPS + 1):\n",
    "    # ——— train step ———\n",
    "\n",
    "    examples = [next(train_data_it)[0] for _ in range(BATCH_SIZE)]\n",
    "\n",
    "    batch    = jax.tree.map(lambda *x: np.stack(x), *examples)\n",
    "    batch    = big_vision.utils.reshard(batch, data_sharding)\n",
    "\n",
    "    lr           = sched_fn(step)\n",
    "    params, loss = update_fn(params, batch, lr)\n",
    "    loss_val     = float(jax.device_get(loss))\n",
    "\n",
    "    print(f\"step: {step}/{TRAIN_STEPS}   lr: {lr:.8f}   loss: {loss_val:.4f}\")\n",
    "    wandb.log({\"train/loss\": loss_val, \"train/lr\": lr}, step=step)\n",
    "\n",
    "#---------------------------------------------------------------------------------------------------------------------------#\n",
    "#                                         ——— eval step ———\n",
    "#---------------------------------------------------------------------------------------------------------------------------#\n",
    "    if step == 1 or step % EVAL_STEPS == 0:\n",
    "        print(f\"→ Evaluation at step {step}\")\n",
    "\n",
    "        # A) Batch‐collect all validation examples once\n",
    "        all_examples = []\n",
    "        all_captions = []\n",
    "\n",
    "        val_it = validation_data_iterator()\n",
    "\n",
    "        num_to_eval = 128 \n",
    "\n",
    "        for _ in range(num_to_eval):\n",
    "            example, caps = next(val_it)\n",
    "\n",
    "            all_examples.append(example)\n",
    "            all_captions.append(caps)\n",
    "\n",
    "        # B) One big make_predictions call\n",
    "        #    This internally pads to multiples of batch_size as needed.\n",
    "\n",
    "        demo_outputs = make_predictions(\n",
    "            iter(zip(all_examples, all_captions)),\n",
    "            num_examples = num_to_eval,\n",
    "            batch_size   = BATCH_SIZE,\n",
    "        )\n",
    "\n",
    "        # demo_outputs is a list of (img, pred, ref) of length num_to_eval\n",
    "        all_hyps = [pred for (_, pred, _) in demo_outputs]\n",
    "        all_refs = [[ref] for (_, _, ref) in demo_outputs]\n",
    "\n",
    "#---------------------------------------------------------------------------------------------------------------------------#\n",
    "#                                          compute & log BLEU/ROUGE/METEOR …\n",
    "#---------------------------------------------------------------------------------------------------------------------------#\n",
    "        # 1) Filter out any fully empty predictions\n",
    "        # Filter out any empty predictions, just in case\n",
    "        filtered = [(h, refs) for h, refs in zip(all_hyps, all_refs) if h.strip()]\n",
    "        if filtered:\n",
    "            all_hyps, all_refs = zip(*filtered)\n",
    "            all_hyps, all_refs = list(all_hyps), list(all_refs)\n",
    "        else:\n",
    "            all_hyps, all_refs = [], []\n",
    "\n",
    "        # Only call metrics if we have at least one example\n",
    "        if all_hyps:\n",
    "            bleu_res = bleu_metric.compute(\n",
    "                predictions=all_hyps,\n",
    "                references=all_refs,\n",
    "                smooth=True   # avoid zero‐div errors\n",
    "            )\n",
    "            rouge_res = rouge_metric.compute(\n",
    "                predictions=all_hyps,\n",
    "                references=all_refs\n",
    "            )\n",
    "            meteor_res = meteor_metric.compute(\n",
    "                predictions=all_hyps,\n",
    "                references=all_refs\n",
    "            )\n",
    "        else:\n",
    "            # no valid hyps → set everything to zero\n",
    "            bleu_res   = {\"bleu\": 0.0}\n",
    "            rouge_res  = {\"rouge1\": 0.0, \"rouge2\": 0.0, \"rougeL\": 0.0}\n",
    "            meteor_res = {\"meteor\": 0.0}\n",
    "\n",
    "        print(f\"   BLEU:   {bleu_res['bleu']:.5f}\")\n",
    "        print(f\"   ROUGE1: {rouge_res['rouge1']:.5f}, ROUGE2: {rouge_res['rouge2']:.5f}, ROUGEL: {rouge_res['rougeL']:.5f}\")\n",
    "        print(f\"   METEOR: {meteor_res['meteor']:.5f}\")\n",
    "\n",
    "        wandb.log({\n",
    "            \"eval/bleu\":    bleu_res[\"bleu\"],\n",
    "            \"eval/rouge1\":  rouge_res[\"rouge1\"],\n",
    "            \"eval/rouge2\":  rouge_res[\"rouge2\"],\n",
    "            \"eval/rougeL\":  rouge_res[\"rougeL\"],\n",
    "            \"eval/meteor\":  meteor_res[\"meteor\"],\n",
    "            \"eval/loss\":    loss_val,\n",
    "        }, step=step)\n",
    "\n",
    "#---------------------------------------------------------------------------------------------------------------------------#\n",
    "#                         ---- Display side‐by‐side in Colab ----\n",
    "#---------------------------------------------------------------------------------------------------------------------------#\n",
    "\n",
    "        html = \"<div style='display:flex; gap:16px;'>\"\n",
    "        for img, pred, ref in demo_outputs[:4]:\n",
    "            img_u8 = ((img + 1) * 127.5).astype(\"uint8\")\n",
    "            buf    = io.BytesIO()\n",
    "            Image.fromarray(img_u8).save(buf, format=\"PNG\")\n",
    "            b64    = base64.b64encode(buf.getvalue()).decode(\"utf-8\")\n",
    "            html += f\"\"\"\n",
    "              <div style='text-align:center;'>\n",
    "                <img src=\"data:image/png;base64,{b64}\" width=\"200\"/><br/>\n",
    "                <strong>Pred:</strong> {pred}<br/>\n",
    "                <strong>Ref:</strong> {ref}\n",
    "              </div>\n",
    "            \"\"\"\n",
    "        html += \"</div>\"\n",
    "        display(HTML(html))\n",
    "#---------------------------------------------------------------------------------------------------------------------------#\n",
    "        # ---- D) W&B table ----\n",
    "#---------------------------------------------------------------------------------------------------------------------------#\n",
    "        table = wandb.Table(columns=[\"image\",\"predicted\",\"reference\"])\n",
    "        for img, pred, ref in demo_outputs[:4]:\n",
    "            wb_img = wandb.Image(((img + 1) * 127.5).astype(\"uint8\"))\n",
    "            table.add_data(wb_img, pred, ref)\n",
    "        wandb.log({\"eval/samples_table\": table}, step=step)\n",
    "#---------------------------------------------------------------------------------------------------------------------------"
   ]
  },
  {
   "cell_type": "code",
   "execution_count": null,
   "metadata": {
    "id": "l0_hf0XgD_yE"
   },
   "outputs": [],
   "source": [
    "\n",
    "#wandb.finish()\n"
   ]
  },
  {
   "cell_type": "code",
   "execution_count": null,
   "metadata": {
    "id": "YamfwMqsD_hM"
   },
   "outputs": [],
   "source": []
  }
 ],
 "metadata": {
  "accelerator": "GPU",
  "colab": {
   "gpuType": "T4",
   "provenance": []
  },
  "kaggle": {
   "accelerator": "gpu",
   "dataSources": [
    {
     "datasetId": 7420397,
     "sourceId": 11814154,
     "sourceType": "datasetVersion"
    },
    {
     "modelId": 23393,
     "modelInstanceId": 37999,
     "sourceId": 45318,
     "sourceType": "modelInstanceVersion"
    }
   ],
   "dockerImageVersionId": 31041,
   "isGpuEnabled": true,
   "isInternetEnabled": true,
   "language": "python",
   "sourceType": "notebook"
  },
  "kernelspec": {
   "display_name": "Python 3 (ipykernel)",
   "language": "python",
   "name": "python3"
  },
  "language_info": {
   "codemirror_mode": {
    "name": "ipython",
    "version": 3
   },
   "file_extension": ".py",
   "mimetype": "text/x-python",
   "name": "python",
   "nbconvert_exporter": "python",
   "pygments_lexer": "ipython3",
   "version": "3.12.7"
  },
  "widgets": {
   "application/vnd.jupyter.widget-state+json": {
    "006829c8bd58405483dcd5b448a2b849": {
     "model_module": "@jupyter-widgets/base",
     "model_module_version": "1.2.0",
     "model_name": "LayoutModel",
     "state": {
      "_model_module": "@jupyter-widgets/base",
      "_model_module_version": "1.2.0",
      "_model_name": "LayoutModel",
      "_view_count": null,
      "_view_module": "@jupyter-widgets/base",
      "_view_module_version": "1.2.0",
      "_view_name": "LayoutView",
      "align_content": null,
      "align_items": null,
      "align_self": null,
      "border": null,
      "bottom": null,
      "display": null,
      "flex": null,
      "flex_flow": null,
      "grid_area": null,
      "grid_auto_columns": null,
      "grid_auto_flow": null,
      "grid_auto_rows": null,
      "grid_column": null,
      "grid_gap": null,
      "grid_row": null,
      "grid_template_areas": null,
      "grid_template_columns": null,
      "grid_template_rows": null,
      "height": null,
      "justify_content": null,
      "justify_items": null,
      "left": null,
      "margin": null,
      "max_height": null,
      "max_width": null,
      "min_height": null,
      "min_width": null,
      "object_fit": null,
      "object_position": null,
      "order": null,
      "overflow": null,
      "overflow_x": null,
      "overflow_y": null,
      "padding": null,
      "right": null,
      "top": null,
      "visibility": null,
      "width": null
     }
    },
    "0077cd058d5b449f8892370ed91ad804": {
     "model_module": "@jupyter-widgets/base",
     "model_module_version": "1.2.0",
     "model_name": "LayoutModel",
     "state": {
      "_model_module": "@jupyter-widgets/base",
      "_model_module_version": "1.2.0",
      "_model_name": "LayoutModel",
      "_view_count": null,
      "_view_module": "@jupyter-widgets/base",
      "_view_module_version": "1.2.0",
      "_view_name": "LayoutView",
      "align_content": null,
      "align_items": null,
      "align_self": null,
      "border": null,
      "bottom": null,
      "display": null,
      "flex": null,
      "flex_flow": null,
      "grid_area": null,
      "grid_auto_columns": null,
      "grid_auto_flow": null,
      "grid_auto_rows": null,
      "grid_column": null,
      "grid_gap": null,
      "grid_row": null,
      "grid_template_areas": null,
      "grid_template_columns": null,
      "grid_template_rows": null,
      "height": null,
      "justify_content": null,
      "justify_items": null,
      "left": null,
      "margin": null,
      "max_height": null,
      "max_width": null,
      "min_height": null,
      "min_width": null,
      "object_fit": null,
      "object_position": null,
      "order": null,
      "overflow": null,
      "overflow_x": null,
      "overflow_y": null,
      "padding": null,
      "right": null,
      "top": null,
      "visibility": null,
      "width": null
     }
    },
    "0b56c29048b64955b977a6458a1d2d95": {
     "model_module": "@jupyter-widgets/controls",
     "model_module_version": "1.5.0",
     "model_name": "HBoxModel",
     "state": {
      "_dom_classes": [],
      "_model_module": "@jupyter-widgets/controls",
      "_model_module_version": "1.5.0",
      "_model_name": "HBoxModel",
      "_view_count": null,
      "_view_module": "@jupyter-widgets/controls",
      "_view_module_version": "1.5.0",
      "_view_name": "HBoxView",
      "box_style": "",
      "children": [
       "IPY_MODEL_36ccea48887c4bb787b695b4d45bca53",
       "IPY_MODEL_32fbdf8b11164577ba0f25bee2adfcaa",
       "IPY_MODEL_d94d2c3a17d24dd393b887f3155f6789"
      ],
      "layout": "IPY_MODEL_c4bee61910b14e13847cebbfc76d6bb9"
     }
    },
    "0d49380014fe417eabe3a9d42bd3f1cb": {
     "model_module": "@jupyter-widgets/base",
     "model_module_version": "1.2.0",
     "model_name": "LayoutModel",
     "state": {
      "_model_module": "@jupyter-widgets/base",
      "_model_module_version": "1.2.0",
      "_model_name": "LayoutModel",
      "_view_count": null,
      "_view_module": "@jupyter-widgets/base",
      "_view_module_version": "1.2.0",
      "_view_name": "LayoutView",
      "align_content": null,
      "align_items": null,
      "align_self": null,
      "border": null,
      "bottom": null,
      "display": null,
      "flex": null,
      "flex_flow": null,
      "grid_area": null,
      "grid_auto_columns": null,
      "grid_auto_flow": null,
      "grid_auto_rows": null,
      "grid_column": null,
      "grid_gap": null,
      "grid_row": null,
      "grid_template_areas": null,
      "grid_template_columns": null,
      "grid_template_rows": null,
      "height": null,
      "justify_content": null,
      "justify_items": null,
      "left": null,
      "margin": null,
      "max_height": null,
      "max_width": null,
      "min_height": null,
      "min_width": null,
      "object_fit": null,
      "object_position": null,
      "order": null,
      "overflow": null,
      "overflow_x": null,
      "overflow_y": null,
      "padding": null,
      "right": null,
      "top": null,
      "visibility": null,
      "width": null
     }
    },
    "0ed951abbbd94ce099d4d9d8af052311": {
     "model_module": "@jupyter-widgets/controls",
     "model_module_version": "1.5.0",
     "model_name": "HTMLModel",
     "state": {
      "_dom_classes": [],
      "_model_module": "@jupyter-widgets/controls",
      "_model_module_version": "1.5.0",
      "_model_name": "HTMLModel",
      "_view_count": null,
      "_view_module": "@jupyter-widgets/controls",
      "_view_module_version": "1.5.0",
      "_view_name": "HTMLView",
      "description": "",
      "description_tooltip": null,
      "layout": "IPY_MODEL_468ec665621f476bb6353f439656e231",
      "placeholder": "​",
      "style": "IPY_MODEL_440424657e3b4b14ac5269dc54ade400",
      "value": " 5.94k/5.94k [00:00&lt;00:00, 307kB/s]"
     }
    },
    "14ce388b7e2a40c1bfdabd5c3e88a1b1": {
     "model_module": "@jupyter-widgets/controls",
     "model_module_version": "1.5.0",
     "model_name": "HBoxModel",
     "state": {
      "_dom_classes": [],
      "_model_module": "@jupyter-widgets/controls",
      "_model_module_version": "1.5.0",
      "_model_name": "HBoxModel",
      "_view_count": null,
      "_view_module": "@jupyter-widgets/controls",
      "_view_module_version": "1.5.0",
      "_view_name": "HBoxView",
      "box_style": "",
      "children": [
       "IPY_MODEL_d398b0c2a496473698c410677d775588",
       "IPY_MODEL_ad7698d2a85a433598f27759e49ec281",
       "IPY_MODEL_4db388109aca4fd7bcf1cb153b661926"
      ],
      "layout": "IPY_MODEL_0d49380014fe417eabe3a9d42bd3f1cb"
     }
    },
    "15d1e524a24b4b4ea9bba6cceb1b50da": {
     "model_module": "@jupyter-widgets/controls",
     "model_module_version": "1.5.0",
     "model_name": "ProgressStyleModel",
     "state": {
      "_model_module": "@jupyter-widgets/controls",
      "_model_module_version": "1.5.0",
      "_model_name": "ProgressStyleModel",
      "_view_count": null,
      "_view_module": "@jupyter-widgets/base",
      "_view_module_version": "1.2.0",
      "_view_name": "StyleView",
      "bar_color": null,
      "description_width": ""
     }
    },
    "172ec8302c6e4d12ae45f43fd80e8582": {
     "model_module": "@jupyter-widgets/base",
     "model_module_version": "1.2.0",
     "model_name": "LayoutModel",
     "state": {
      "_model_module": "@jupyter-widgets/base",
      "_model_module_version": "1.2.0",
      "_model_name": "LayoutModel",
      "_view_count": null,
      "_view_module": "@jupyter-widgets/base",
      "_view_module_version": "1.2.0",
      "_view_name": "LayoutView",
      "align_content": null,
      "align_items": null,
      "align_self": null,
      "border": null,
      "bottom": null,
      "display": null,
      "flex": null,
      "flex_flow": null,
      "grid_area": null,
      "grid_auto_columns": null,
      "grid_auto_flow": null,
      "grid_auto_rows": null,
      "grid_column": null,
      "grid_gap": null,
      "grid_row": null,
      "grid_template_areas": null,
      "grid_template_columns": null,
      "grid_template_rows": null,
      "height": null,
      "justify_content": null,
      "justify_items": null,
      "left": null,
      "margin": null,
      "max_height": null,
      "max_width": null,
      "min_height": null,
      "min_width": null,
      "object_fit": null,
      "object_position": null,
      "order": null,
      "overflow": null,
      "overflow_x": null,
      "overflow_y": null,
      "padding": null,
      "right": null,
      "top": null,
      "visibility": null,
      "width": null
     }
    },
    "186a86f2c01a4071a99a75343488d03f": {
     "model_module": "@jupyter-widgets/base",
     "model_module_version": "1.2.0",
     "model_name": "LayoutModel",
     "state": {
      "_model_module": "@jupyter-widgets/base",
      "_model_module_version": "1.2.0",
      "_model_name": "LayoutModel",
      "_view_count": null,
      "_view_module": "@jupyter-widgets/base",
      "_view_module_version": "1.2.0",
      "_view_name": "LayoutView",
      "align_content": null,
      "align_items": null,
      "align_self": null,
      "border": null,
      "bottom": null,
      "display": null,
      "flex": null,
      "flex_flow": null,
      "grid_area": null,
      "grid_auto_columns": null,
      "grid_auto_flow": null,
      "grid_auto_rows": null,
      "grid_column": null,
      "grid_gap": null,
      "grid_row": null,
      "grid_template_areas": null,
      "grid_template_columns": null,
      "grid_template_rows": null,
      "height": null,
      "justify_content": null,
      "justify_items": null,
      "left": null,
      "margin": null,
      "max_height": null,
      "max_width": null,
      "min_height": null,
      "min_width": null,
      "object_fit": null,
      "object_position": null,
      "order": null,
      "overflow": null,
      "overflow_x": null,
      "overflow_y": null,
      "padding": null,
      "right": null,
      "top": null,
      "visibility": null,
      "width": null
     }
    },
    "1b78a93402864eb29ac49534211b61dd": {
     "model_module": "@jupyter-widgets/controls",
     "model_module_version": "1.5.0",
     "model_name": "DescriptionStyleModel",
     "state": {
      "_model_module": "@jupyter-widgets/controls",
      "_model_module_version": "1.5.0",
      "_model_name": "DescriptionStyleModel",
      "_view_count": null,
      "_view_module": "@jupyter-widgets/base",
      "_view_module_version": "1.2.0",
      "_view_name": "StyleView",
      "description_width": ""
     }
    },
    "1ebf69087cd34162a0acf82fe0f465d2": {
     "model_module": "@jupyter-widgets/base",
     "model_module_version": "1.2.0",
     "model_name": "LayoutModel",
     "state": {
      "_model_module": "@jupyter-widgets/base",
      "_model_module_version": "1.2.0",
      "_model_name": "LayoutModel",
      "_view_count": null,
      "_view_module": "@jupyter-widgets/base",
      "_view_module_version": "1.2.0",
      "_view_name": "LayoutView",
      "align_content": null,
      "align_items": null,
      "align_self": null,
      "border": null,
      "bottom": null,
      "display": null,
      "flex": null,
      "flex_flow": null,
      "grid_area": null,
      "grid_auto_columns": null,
      "grid_auto_flow": null,
      "grid_auto_rows": null,
      "grid_column": null,
      "grid_gap": null,
      "grid_row": null,
      "grid_template_areas": null,
      "grid_template_columns": null,
      "grid_template_rows": null,
      "height": null,
      "justify_content": null,
      "justify_items": null,
      "left": null,
      "margin": null,
      "max_height": null,
      "max_width": null,
      "min_height": null,
      "min_width": null,
      "object_fit": null,
      "object_position": null,
      "order": null,
      "overflow": null,
      "overflow_x": null,
      "overflow_y": null,
      "padding": null,
      "right": null,
      "top": null,
      "visibility": null,
      "width": null
     }
    },
    "271ab3c602d146d7b52cdfb029cb801a": {
     "model_module": "@jupyter-widgets/controls",
     "model_module_version": "1.5.0",
     "model_name": "ProgressStyleModel",
     "state": {
      "_model_module": "@jupyter-widgets/controls",
      "_model_module_version": "1.5.0",
      "_model_name": "ProgressStyleModel",
      "_view_count": null,
      "_view_module": "@jupyter-widgets/base",
      "_view_module_version": "1.2.0",
      "_view_name": "StyleView",
      "bar_color": null,
      "description_width": ""
     }
    },
    "28e6499fe15843878e7f1423dbb4449e": {
     "model_module": "@jupyter-widgets/controls",
     "model_module_version": "1.5.0",
     "model_name": "ProgressStyleModel",
     "state": {
      "_model_module": "@jupyter-widgets/controls",
      "_model_module_version": "1.5.0",
      "_model_name": "ProgressStyleModel",
      "_view_count": null,
      "_view_module": "@jupyter-widgets/base",
      "_view_module_version": "1.2.0",
      "_view_name": "StyleView",
      "bar_color": null,
      "description_width": ""
     }
    },
    "2be016149c394f438c3b8c918f17c5d5": {
     "model_module": "@jupyter-widgets/base",
     "model_module_version": "1.2.0",
     "model_name": "LayoutModel",
     "state": {
      "_model_module": "@jupyter-widgets/base",
      "_model_module_version": "1.2.0",
      "_model_name": "LayoutModel",
      "_view_count": null,
      "_view_module": "@jupyter-widgets/base",
      "_view_module_version": "1.2.0",
      "_view_name": "LayoutView",
      "align_content": null,
      "align_items": null,
      "align_self": null,
      "border": null,
      "bottom": null,
      "display": null,
      "flex": null,
      "flex_flow": null,
      "grid_area": null,
      "grid_auto_columns": null,
      "grid_auto_flow": null,
      "grid_auto_rows": null,
      "grid_column": null,
      "grid_gap": null,
      "grid_row": null,
      "grid_template_areas": null,
      "grid_template_columns": null,
      "grid_template_rows": null,
      "height": null,
      "justify_content": null,
      "justify_items": null,
      "left": null,
      "margin": null,
      "max_height": null,
      "max_width": null,
      "min_height": null,
      "min_width": null,
      "object_fit": null,
      "object_position": null,
      "order": null,
      "overflow": null,
      "overflow_x": null,
      "overflow_y": null,
      "padding": null,
      "right": null,
      "top": null,
      "visibility": null,
      "width": null
     }
    },
    "2fedc5c7dd924f12a00720a6c3d2ca07": {
     "model_module": "@jupyter-widgets/base",
     "model_module_version": "1.2.0",
     "model_name": "LayoutModel",
     "state": {
      "_model_module": "@jupyter-widgets/base",
      "_model_module_version": "1.2.0",
      "_model_name": "LayoutModel",
      "_view_count": null,
      "_view_module": "@jupyter-widgets/base",
      "_view_module_version": "1.2.0",
      "_view_name": "LayoutView",
      "align_content": null,
      "align_items": null,
      "align_self": null,
      "border": null,
      "bottom": null,
      "display": null,
      "flex": null,
      "flex_flow": null,
      "grid_area": null,
      "grid_auto_columns": null,
      "grid_auto_flow": null,
      "grid_auto_rows": null,
      "grid_column": null,
      "grid_gap": null,
      "grid_row": null,
      "grid_template_areas": null,
      "grid_template_columns": null,
      "grid_template_rows": null,
      "height": null,
      "justify_content": null,
      "justify_items": null,
      "left": null,
      "margin": null,
      "max_height": null,
      "max_width": null,
      "min_height": null,
      "min_width": null,
      "object_fit": null,
      "object_position": null,
      "order": null,
      "overflow": null,
      "overflow_x": null,
      "overflow_y": null,
      "padding": null,
      "right": null,
      "top": null,
      "visibility": null,
      "width": null
     }
    },
    "32fbdf8b11164577ba0f25bee2adfcaa": {
     "model_module": "@jupyter-widgets/controls",
     "model_module_version": "1.5.0",
     "model_name": "FloatProgressModel",
     "state": {
      "_dom_classes": [],
      "_model_module": "@jupyter-widgets/controls",
      "_model_module_version": "1.5.0",
      "_model_name": "FloatProgressModel",
      "_view_count": null,
      "_view_module": "@jupyter-widgets/controls",
      "_view_module_version": "1.5.0",
      "_view_name": "ProgressView",
      "bar_style": "success",
      "description": "",
      "description_tooltip": null,
      "layout": "IPY_MODEL_a752b5d5ffcf427ead3e6d80655aff53",
      "max": 6270,
      "min": 0,
      "orientation": "horizontal",
      "style": "IPY_MODEL_15d1e524a24b4b4ea9bba6cceb1b50da",
      "value": 6270
     }
    },
    "36ccea48887c4bb787b695b4d45bca53": {
     "model_module": "@jupyter-widgets/controls",
     "model_module_version": "1.5.0",
     "model_name": "HTMLModel",
     "state": {
      "_dom_classes": [],
      "_model_module": "@jupyter-widgets/controls",
      "_model_module_version": "1.5.0",
      "_model_name": "HTMLModel",
      "_view_count": null,
      "_view_module": "@jupyter-widgets/controls",
      "_view_module_version": "1.5.0",
      "_view_name": "HTMLView",
      "description": "",
      "description_tooltip": null,
      "layout": "IPY_MODEL_c5cf8da8da4b40f4998cc472aff1da89",
      "placeholder": "​",
      "style": "IPY_MODEL_b37b3e1b62564ee49d7ad1331d278978",
      "value": "Downloading builder script: 100%"
     }
    },
    "3779e4059c4e422b88d9e0a8d9667a9d": {
     "model_module": "@jupyter-widgets/controls",
     "model_module_version": "1.5.0",
     "model_name": "HTMLModel",
     "state": {
      "_dom_classes": [],
      "_model_module": "@jupyter-widgets/controls",
      "_model_module_version": "1.5.0",
      "_model_name": "HTMLModel",
      "_view_count": null,
      "_view_module": "@jupyter-widgets/controls",
      "_view_module_version": "1.5.0",
      "_view_name": "HTMLView",
      "description": "",
      "description_tooltip": null,
      "layout": "IPY_MODEL_3c70d3ece9fe439d8f516e72f00b8f09",
      "placeholder": "​",
      "style": "IPY_MODEL_c7702b7a1eb4485e99d0919dccd3d50c",
      "value": "Downloading extra modules: 100%"
     }
    },
    "378135bab63e456bb73232a188bb3c0a": {
     "model_module": "@jupyter-widgets/controls",
     "model_module_version": "1.5.0",
     "model_name": "HBoxModel",
     "state": {
      "_dom_classes": [],
      "_model_module": "@jupyter-widgets/controls",
      "_model_module_version": "1.5.0",
      "_model_name": "HBoxModel",
      "_view_count": null,
      "_view_module": "@jupyter-widgets/controls",
      "_view_module_version": "1.5.0",
      "_view_name": "HBoxView",
      "box_style": "",
      "children": [
       "IPY_MODEL_f55196ff5bfa49e39d6b1a2a86115a80",
       "IPY_MODEL_91016a321e5c4790b704d2e7eee9fa72",
       "IPY_MODEL_0ed951abbbd94ce099d4d9d8af052311"
      ],
      "layout": "IPY_MODEL_2be016149c394f438c3b8c918f17c5d5"
     }
    },
    "3969348fc7fc4141b5ac0333747bfc87": {
     "model_module": "@jupyter-widgets/controls",
     "model_module_version": "1.5.0",
     "model_name": "FloatProgressModel",
     "state": {
      "_dom_classes": [],
      "_model_module": "@jupyter-widgets/controls",
      "_model_module_version": "1.5.0",
      "_model_name": "FloatProgressModel",
      "_view_count": null,
      "_view_module": "@jupyter-widgets/controls",
      "_view_module_version": "1.5.0",
      "_view_name": "ProgressView",
      "bar_style": "success",
      "description": "",
      "description_tooltip": null,
      "layout": "IPY_MODEL_172ec8302c6e4d12ae45f43fd80e8582",
      "max": 3344,
      "min": 0,
      "orientation": "horizontal",
      "style": "IPY_MODEL_271ab3c602d146d7b52cdfb029cb801a",
      "value": 3344
     }
    },
    "3c100ebcd5794676bac310c033d25806": {
     "model_module": "@jupyter-widgets/controls",
     "model_module_version": "1.5.0",
     "model_name": "HTMLModel",
     "state": {
      "_dom_classes": [],
      "_model_module": "@jupyter-widgets/controls",
      "_model_module_version": "1.5.0",
      "_model_name": "HTMLModel",
      "_view_count": null,
      "_view_module": "@jupyter-widgets/controls",
      "_view_module_version": "1.5.0",
      "_view_name": "HTMLView",
      "description": "",
      "description_tooltip": null,
      "layout": "IPY_MODEL_186a86f2c01a4071a99a75343488d03f",
      "placeholder": "​",
      "style": "IPY_MODEL_b31ce7d431014e0eae533e3a55b83909",
      "value": " 4.07k/? [00:00&lt;00:00, 424kB/s]"
     }
    },
    "3c70d3ece9fe439d8f516e72f00b8f09": {
     "model_module": "@jupyter-widgets/base",
     "model_module_version": "1.2.0",
     "model_name": "LayoutModel",
     "state": {
      "_model_module": "@jupyter-widgets/base",
      "_model_module_version": "1.2.0",
      "_model_name": "LayoutModel",
      "_view_count": null,
      "_view_module": "@jupyter-widgets/base",
      "_view_module_version": "1.2.0",
      "_view_name": "LayoutView",
      "align_content": null,
      "align_items": null,
      "align_self": null,
      "border": null,
      "bottom": null,
      "display": null,
      "flex": null,
      "flex_flow": null,
      "grid_area": null,
      "grid_auto_columns": null,
      "grid_auto_flow": null,
      "grid_auto_rows": null,
      "grid_column": null,
      "grid_gap": null,
      "grid_row": null,
      "grid_template_areas": null,
      "grid_template_columns": null,
      "grid_template_rows": null,
      "height": null,
      "justify_content": null,
      "justify_items": null,
      "left": null,
      "margin": null,
      "max_height": null,
      "max_width": null,
      "min_height": null,
      "min_width": null,
      "object_fit": null,
      "object_position": null,
      "order": null,
      "overflow": null,
      "overflow_x": null,
      "overflow_y": null,
      "padding": null,
      "right": null,
      "top": null,
      "visibility": null,
      "width": null
     }
    },
    "3d87eb3cf6614c7b877095405d13c5d3": {
     "model_module": "@jupyter-widgets/controls",
     "model_module_version": "1.5.0",
     "model_name": "FloatProgressModel",
     "state": {
      "_dom_classes": [],
      "_model_module": "@jupyter-widgets/controls",
      "_model_module_version": "1.5.0",
      "_model_name": "FloatProgressModel",
      "_view_count": null,
      "_view_module": "@jupyter-widgets/controls",
      "_view_module_version": "1.5.0",
      "_view_name": "ProgressView",
      "bar_style": "success",
      "description": "",
      "description_tooltip": null,
      "layout": "IPY_MODEL_d8695deec6b746a8ab5f005edbf7f7d7",
      "max": 1554,
      "min": 0,
      "orientation": "horizontal",
      "style": "IPY_MODEL_28e6499fe15843878e7f1423dbb4449e",
      "value": 1554
     }
    },
    "3e8bd9a27e51457e82d8e5233877b91f": {
     "model_module": "@jupyter-widgets/controls",
     "model_module_version": "1.5.0",
     "model_name": "HBoxModel",
     "state": {
      "_dom_classes": [],
      "_model_module": "@jupyter-widgets/controls",
      "_model_module_version": "1.5.0",
      "_model_name": "HBoxModel",
      "_view_count": null,
      "_view_module": "@jupyter-widgets/controls",
      "_view_module_version": "1.5.0",
      "_view_name": "HBoxView",
      "box_style": "",
      "children": [
       "IPY_MODEL_6204bc1e59684b4db58346d4b45f801e",
       "IPY_MODEL_3d87eb3cf6614c7b877095405d13c5d3",
       "IPY_MODEL_3c100ebcd5794676bac310c033d25806"
      ],
      "layout": "IPY_MODEL_006829c8bd58405483dcd5b448a2b849"
     }
    },
    "440424657e3b4b14ac5269dc54ade400": {
     "model_module": "@jupyter-widgets/controls",
     "model_module_version": "1.5.0",
     "model_name": "DescriptionStyleModel",
     "state": {
      "_model_module": "@jupyter-widgets/controls",
      "_model_module_version": "1.5.0",
      "_model_name": "DescriptionStyleModel",
      "_view_count": null,
      "_view_module": "@jupyter-widgets/base",
      "_view_module_version": "1.2.0",
      "_view_name": "StyleView",
      "description_width": ""
     }
    },
    "468ec665621f476bb6353f439656e231": {
     "model_module": "@jupyter-widgets/base",
     "model_module_version": "1.2.0",
     "model_name": "LayoutModel",
     "state": {
      "_model_module": "@jupyter-widgets/base",
      "_model_module_version": "1.2.0",
      "_model_name": "LayoutModel",
      "_view_count": null,
      "_view_module": "@jupyter-widgets/base",
      "_view_module_version": "1.2.0",
      "_view_name": "LayoutView",
      "align_content": null,
      "align_items": null,
      "align_self": null,
      "border": null,
      "bottom": null,
      "display": null,
      "flex": null,
      "flex_flow": null,
      "grid_area": null,
      "grid_auto_columns": null,
      "grid_auto_flow": null,
      "grid_auto_rows": null,
      "grid_column": null,
      "grid_gap": null,
      "grid_row": null,
      "grid_template_areas": null,
      "grid_template_columns": null,
      "grid_template_rows": null,
      "height": null,
      "justify_content": null,
      "justify_items": null,
      "left": null,
      "margin": null,
      "max_height": null,
      "max_width": null,
      "min_height": null,
      "min_width": null,
      "object_fit": null,
      "object_position": null,
      "order": null,
      "overflow": null,
      "overflow_x": null,
      "overflow_y": null,
      "padding": null,
      "right": null,
      "top": null,
      "visibility": null,
      "width": null
     }
    },
    "4db388109aca4fd7bcf1cb153b661926": {
     "model_module": "@jupyter-widgets/controls",
     "model_module_version": "1.5.0",
     "model_name": "HTMLModel",
     "state": {
      "_dom_classes": [],
      "_model_module": "@jupyter-widgets/controls",
      "_model_module_version": "1.5.0",
      "_model_name": "HTMLModel",
      "_view_count": null,
      "_view_module": "@jupyter-widgets/controls",
      "_view_module_version": "1.5.0",
      "_view_name": "HTMLView",
      "description": "",
      "description_tooltip": null,
      "layout": "IPY_MODEL_e055ed92ccd740979632f83181d8d2ce",
      "placeholder": "​",
      "style": "IPY_MODEL_c9e886bc8af741e9ae105d8698d30e47",
      "value": " 7.02k/7.02k [00:00&lt;00:00, 493kB/s]"
     }
    },
    "4dc2c8f408cc40a4897b5f4c5bd38135": {
     "model_module": "@jupyter-widgets/controls",
     "model_module_version": "1.5.0",
     "model_name": "HTMLModel",
     "state": {
      "_dom_classes": [],
      "_model_module": "@jupyter-widgets/controls",
      "_model_module_version": "1.5.0",
      "_model_name": "HTMLModel",
      "_view_count": null,
      "_view_module": "@jupyter-widgets/controls",
      "_view_module_version": "1.5.0",
      "_view_name": "HTMLView",
      "description": "",
      "description_tooltip": null,
      "layout": "IPY_MODEL_64d5d8bbfd744f84bd46e88188c40d64",
      "placeholder": "​",
      "style": "IPY_MODEL_1b78a93402864eb29ac49534211b61dd",
      "value": " 3.34k/3.34k [00:00&lt;00:00, 272kB/s]"
     }
    },
    "55ddabb4b6e248aea537e5de27df1d0c": {
     "model_module": "@jupyter-widgets/controls",
     "model_module_version": "1.5.0",
     "model_name": "DescriptionStyleModel",
     "state": {
      "_model_module": "@jupyter-widgets/controls",
      "_model_module_version": "1.5.0",
      "_model_name": "DescriptionStyleModel",
      "_view_count": null,
      "_view_module": "@jupyter-widgets/base",
      "_view_module_version": "1.2.0",
      "_view_name": "StyleView",
      "description_width": ""
     }
    },
    "59eb90c7434a4b069a6d37c78e5376d8": {
     "model_module": "@jupyter-widgets/controls",
     "model_module_version": "1.5.0",
     "model_name": "ProgressStyleModel",
     "state": {
      "_model_module": "@jupyter-widgets/controls",
      "_model_module_version": "1.5.0",
      "_model_name": "ProgressStyleModel",
      "_view_count": null,
      "_view_module": "@jupyter-widgets/base",
      "_view_module_version": "1.2.0",
      "_view_name": "StyleView",
      "bar_color": null,
      "description_width": ""
     }
    },
    "61fc26e90e2f4207b9a47fe93e120e46": {
     "model_module": "@jupyter-widgets/base",
     "model_module_version": "1.2.0",
     "model_name": "LayoutModel",
     "state": {
      "_model_module": "@jupyter-widgets/base",
      "_model_module_version": "1.2.0",
      "_model_name": "LayoutModel",
      "_view_count": null,
      "_view_module": "@jupyter-widgets/base",
      "_view_module_version": "1.2.0",
      "_view_name": "LayoutView",
      "align_content": null,
      "align_items": null,
      "align_self": null,
      "border": null,
      "bottom": null,
      "display": null,
      "flex": null,
      "flex_flow": null,
      "grid_area": null,
      "grid_auto_columns": null,
      "grid_auto_flow": null,
      "grid_auto_rows": null,
      "grid_column": null,
      "grid_gap": null,
      "grid_row": null,
      "grid_template_areas": null,
      "grid_template_columns": null,
      "grid_template_rows": null,
      "height": null,
      "justify_content": null,
      "justify_items": null,
      "left": null,
      "margin": null,
      "max_height": null,
      "max_width": null,
      "min_height": null,
      "min_width": null,
      "object_fit": null,
      "object_position": null,
      "order": null,
      "overflow": null,
      "overflow_x": null,
      "overflow_y": null,
      "padding": null,
      "right": null,
      "top": null,
      "visibility": null,
      "width": null
     }
    },
    "6204bc1e59684b4db58346d4b45f801e": {
     "model_module": "@jupyter-widgets/controls",
     "model_module_version": "1.5.0",
     "model_name": "HTMLModel",
     "state": {
      "_dom_classes": [],
      "_model_module": "@jupyter-widgets/controls",
      "_model_module_version": "1.5.0",
      "_model_name": "HTMLModel",
      "_view_count": null,
      "_view_module": "@jupyter-widgets/controls",
      "_view_module_version": "1.5.0",
      "_view_name": "HTMLView",
      "description": "",
      "description_tooltip": null,
      "layout": "IPY_MODEL_66f8d15a81274b70b29407053d8039bc",
      "placeholder": "​",
      "style": "IPY_MODEL_97498ccd881d4f3582caf30d4802762c",
      "value": "Downloading extra modules: "
     }
    },
    "64d5d8bbfd744f84bd46e88188c40d64": {
     "model_module": "@jupyter-widgets/base",
     "model_module_version": "1.2.0",
     "model_name": "LayoutModel",
     "state": {
      "_model_module": "@jupyter-widgets/base",
      "_model_module_version": "1.2.0",
      "_model_name": "LayoutModel",
      "_view_count": null,
      "_view_module": "@jupyter-widgets/base",
      "_view_module_version": "1.2.0",
      "_view_name": "LayoutView",
      "align_content": null,
      "align_items": null,
      "align_self": null,
      "border": null,
      "bottom": null,
      "display": null,
      "flex": null,
      "flex_flow": null,
      "grid_area": null,
      "grid_auto_columns": null,
      "grid_auto_flow": null,
      "grid_auto_rows": null,
      "grid_column": null,
      "grid_gap": null,
      "grid_row": null,
      "grid_template_areas": null,
      "grid_template_columns": null,
      "grid_template_rows": null,
      "height": null,
      "justify_content": null,
      "justify_items": null,
      "left": null,
      "margin": null,
      "max_height": null,
      "max_width": null,
      "min_height": null,
      "min_width": null,
      "object_fit": null,
      "object_position": null,
      "order": null,
      "overflow": null,
      "overflow_x": null,
      "overflow_y": null,
      "padding": null,
      "right": null,
      "top": null,
      "visibility": null,
      "width": null
     }
    },
    "66f8d15a81274b70b29407053d8039bc": {
     "model_module": "@jupyter-widgets/base",
     "model_module_version": "1.2.0",
     "model_name": "LayoutModel",
     "state": {
      "_model_module": "@jupyter-widgets/base",
      "_model_module_version": "1.2.0",
      "_model_name": "LayoutModel",
      "_view_count": null,
      "_view_module": "@jupyter-widgets/base",
      "_view_module_version": "1.2.0",
      "_view_name": "LayoutView",
      "align_content": null,
      "align_items": null,
      "align_self": null,
      "border": null,
      "bottom": null,
      "display": null,
      "flex": null,
      "flex_flow": null,
      "grid_area": null,
      "grid_auto_columns": null,
      "grid_auto_flow": null,
      "grid_auto_rows": null,
      "grid_column": null,
      "grid_gap": null,
      "grid_row": null,
      "grid_template_areas": null,
      "grid_template_columns": null,
      "grid_template_rows": null,
      "height": null,
      "justify_content": null,
      "justify_items": null,
      "left": null,
      "margin": null,
      "max_height": null,
      "max_width": null,
      "min_height": null,
      "min_width": null,
      "object_fit": null,
      "object_position": null,
      "order": null,
      "overflow": null,
      "overflow_x": null,
      "overflow_y": null,
      "padding": null,
      "right": null,
      "top": null,
      "visibility": null,
      "width": null
     }
    },
    "7e7b5ebcf3f64a6a91f5244a2ff345d2": {
     "model_module": "@jupyter-widgets/base",
     "model_module_version": "1.2.0",
     "model_name": "LayoutModel",
     "state": {
      "_model_module": "@jupyter-widgets/base",
      "_model_module_version": "1.2.0",
      "_model_name": "LayoutModel",
      "_view_count": null,
      "_view_module": "@jupyter-widgets/base",
      "_view_module_version": "1.2.0",
      "_view_name": "LayoutView",
      "align_content": null,
      "align_items": null,
      "align_self": null,
      "border": null,
      "bottom": null,
      "display": null,
      "flex": null,
      "flex_flow": null,
      "grid_area": null,
      "grid_auto_columns": null,
      "grid_auto_flow": null,
      "grid_auto_rows": null,
      "grid_column": null,
      "grid_gap": null,
      "grid_row": null,
      "grid_template_areas": null,
      "grid_template_columns": null,
      "grid_template_rows": null,
      "height": null,
      "justify_content": null,
      "justify_items": null,
      "left": null,
      "margin": null,
      "max_height": null,
      "max_width": null,
      "min_height": null,
      "min_width": null,
      "object_fit": null,
      "object_position": null,
      "order": null,
      "overflow": null,
      "overflow_x": null,
      "overflow_y": null,
      "padding": null,
      "right": null,
      "top": null,
      "visibility": null,
      "width": null
     }
    },
    "91016a321e5c4790b704d2e7eee9fa72": {
     "model_module": "@jupyter-widgets/controls",
     "model_module_version": "1.5.0",
     "model_name": "FloatProgressModel",
     "state": {
      "_dom_classes": [],
      "_model_module": "@jupyter-widgets/controls",
      "_model_module_version": "1.5.0",
      "_model_name": "FloatProgressModel",
      "_view_count": null,
      "_view_module": "@jupyter-widgets/controls",
      "_view_module_version": "1.5.0",
      "_view_name": "ProgressView",
      "bar_style": "success",
      "description": "",
      "description_tooltip": null,
      "layout": "IPY_MODEL_61fc26e90e2f4207b9a47fe93e120e46",
      "max": 5937,
      "min": 0,
      "orientation": "horizontal",
      "style": "IPY_MODEL_f1317125e21848d891eb8fe7d8bca191",
      "value": 5937
     }
    },
    "97498ccd881d4f3582caf30d4802762c": {
     "model_module": "@jupyter-widgets/controls",
     "model_module_version": "1.5.0",
     "model_name": "DescriptionStyleModel",
     "state": {
      "_model_module": "@jupyter-widgets/controls",
      "_model_module_version": "1.5.0",
      "_model_name": "DescriptionStyleModel",
      "_view_count": null,
      "_view_module": "@jupyter-widgets/base",
      "_view_module_version": "1.2.0",
      "_view_name": "StyleView",
      "description_width": ""
     }
    },
    "a752b5d5ffcf427ead3e6d80655aff53": {
     "model_module": "@jupyter-widgets/base",
     "model_module_version": "1.2.0",
     "model_name": "LayoutModel",
     "state": {
      "_model_module": "@jupyter-widgets/base",
      "_model_module_version": "1.2.0",
      "_model_name": "LayoutModel",
      "_view_count": null,
      "_view_module": "@jupyter-widgets/base",
      "_view_module_version": "1.2.0",
      "_view_name": "LayoutView",
      "align_content": null,
      "align_items": null,
      "align_self": null,
      "border": null,
      "bottom": null,
      "display": null,
      "flex": null,
      "flex_flow": null,
      "grid_area": null,
      "grid_auto_columns": null,
      "grid_auto_flow": null,
      "grid_auto_rows": null,
      "grid_column": null,
      "grid_gap": null,
      "grid_row": null,
      "grid_template_areas": null,
      "grid_template_columns": null,
      "grid_template_rows": null,
      "height": null,
      "justify_content": null,
      "justify_items": null,
      "left": null,
      "margin": null,
      "max_height": null,
      "max_width": null,
      "min_height": null,
      "min_width": null,
      "object_fit": null,
      "object_position": null,
      "order": null,
      "overflow": null,
      "overflow_x": null,
      "overflow_y": null,
      "padding": null,
      "right": null,
      "top": null,
      "visibility": null,
      "width": null
     }
    },
    "ad7698d2a85a433598f27759e49ec281": {
     "model_module": "@jupyter-widgets/controls",
     "model_module_version": "1.5.0",
     "model_name": "FloatProgressModel",
     "state": {
      "_dom_classes": [],
      "_model_module": "@jupyter-widgets/controls",
      "_model_module_version": "1.5.0",
      "_model_name": "FloatProgressModel",
      "_view_count": null,
      "_view_module": "@jupyter-widgets/controls",
      "_view_module_version": "1.5.0",
      "_view_name": "ProgressView",
      "bar_style": "success",
      "description": "",
      "description_tooltip": null,
      "layout": "IPY_MODEL_1ebf69087cd34162a0acf82fe0f465d2",
      "max": 7021,
      "min": 0,
      "orientation": "horizontal",
      "style": "IPY_MODEL_59eb90c7434a4b069a6d37c78e5376d8",
      "value": 7021
     }
    },
    "b31ce7d431014e0eae533e3a55b83909": {
     "model_module": "@jupyter-widgets/controls",
     "model_module_version": "1.5.0",
     "model_name": "DescriptionStyleModel",
     "state": {
      "_model_module": "@jupyter-widgets/controls",
      "_model_module_version": "1.5.0",
      "_model_name": "DescriptionStyleModel",
      "_view_count": null,
      "_view_module": "@jupyter-widgets/base",
      "_view_module_version": "1.2.0",
      "_view_name": "StyleView",
      "description_width": ""
     }
    },
    "b37b3e1b62564ee49d7ad1331d278978": {
     "model_module": "@jupyter-widgets/controls",
     "model_module_version": "1.5.0",
     "model_name": "DescriptionStyleModel",
     "state": {
      "_model_module": "@jupyter-widgets/controls",
      "_model_module_version": "1.5.0",
      "_model_name": "DescriptionStyleModel",
      "_view_count": null,
      "_view_module": "@jupyter-widgets/base",
      "_view_module_version": "1.2.0",
      "_view_name": "StyleView",
      "description_width": ""
     }
    },
    "c4bee61910b14e13847cebbfc76d6bb9": {
     "model_module": "@jupyter-widgets/base",
     "model_module_version": "1.2.0",
     "model_name": "LayoutModel",
     "state": {
      "_model_module": "@jupyter-widgets/base",
      "_model_module_version": "1.2.0",
      "_model_name": "LayoutModel",
      "_view_count": null,
      "_view_module": "@jupyter-widgets/base",
      "_view_module_version": "1.2.0",
      "_view_name": "LayoutView",
      "align_content": null,
      "align_items": null,
      "align_self": null,
      "border": null,
      "bottom": null,
      "display": null,
      "flex": null,
      "flex_flow": null,
      "grid_area": null,
      "grid_auto_columns": null,
      "grid_auto_flow": null,
      "grid_auto_rows": null,
      "grid_column": null,
      "grid_gap": null,
      "grid_row": null,
      "grid_template_areas": null,
      "grid_template_columns": null,
      "grid_template_rows": null,
      "height": null,
      "justify_content": null,
      "justify_items": null,
      "left": null,
      "margin": null,
      "max_height": null,
      "max_width": null,
      "min_height": null,
      "min_width": null,
      "object_fit": null,
      "object_position": null,
      "order": null,
      "overflow": null,
      "overflow_x": null,
      "overflow_y": null,
      "padding": null,
      "right": null,
      "top": null,
      "visibility": null,
      "width": null
     }
    },
    "c5cf8da8da4b40f4998cc472aff1da89": {
     "model_module": "@jupyter-widgets/base",
     "model_module_version": "1.2.0",
     "model_name": "LayoutModel",
     "state": {
      "_model_module": "@jupyter-widgets/base",
      "_model_module_version": "1.2.0",
      "_model_name": "LayoutModel",
      "_view_count": null,
      "_view_module": "@jupyter-widgets/base",
      "_view_module_version": "1.2.0",
      "_view_name": "LayoutView",
      "align_content": null,
      "align_items": null,
      "align_self": null,
      "border": null,
      "bottom": null,
      "display": null,
      "flex": null,
      "flex_flow": null,
      "grid_area": null,
      "grid_auto_columns": null,
      "grid_auto_flow": null,
      "grid_auto_rows": null,
      "grid_column": null,
      "grid_gap": null,
      "grid_row": null,
      "grid_template_areas": null,
      "grid_template_columns": null,
      "grid_template_rows": null,
      "height": null,
      "justify_content": null,
      "justify_items": null,
      "left": null,
      "margin": null,
      "max_height": null,
      "max_width": null,
      "min_height": null,
      "min_width": null,
      "object_fit": null,
      "object_position": null,
      "order": null,
      "overflow": null,
      "overflow_x": null,
      "overflow_y": null,
      "padding": null,
      "right": null,
      "top": null,
      "visibility": null,
      "width": null
     }
    },
    "c7702b7a1eb4485e99d0919dccd3d50c": {
     "model_module": "@jupyter-widgets/controls",
     "model_module_version": "1.5.0",
     "model_name": "DescriptionStyleModel",
     "state": {
      "_model_module": "@jupyter-widgets/controls",
      "_model_module_version": "1.5.0",
      "_model_name": "DescriptionStyleModel",
      "_view_count": null,
      "_view_module": "@jupyter-widgets/base",
      "_view_module_version": "1.2.0",
      "_view_name": "StyleView",
      "description_width": ""
     }
    },
    "c9e886bc8af741e9ae105d8698d30e47": {
     "model_module": "@jupyter-widgets/controls",
     "model_module_version": "1.5.0",
     "model_name": "DescriptionStyleModel",
     "state": {
      "_model_module": "@jupyter-widgets/controls",
      "_model_module_version": "1.5.0",
      "_model_name": "DescriptionStyleModel",
      "_view_count": null,
      "_view_module": "@jupyter-widgets/base",
      "_view_module_version": "1.2.0",
      "_view_name": "StyleView",
      "description_width": ""
     }
    },
    "cb84e501685d40e9ab4d2a827aaa703e": {
     "model_module": "@jupyter-widgets/base",
     "model_module_version": "1.2.0",
     "model_name": "LayoutModel",
     "state": {
      "_model_module": "@jupyter-widgets/base",
      "_model_module_version": "1.2.0",
      "_model_name": "LayoutModel",
      "_view_count": null,
      "_view_module": "@jupyter-widgets/base",
      "_view_module_version": "1.2.0",
      "_view_name": "LayoutView",
      "align_content": null,
      "align_items": null,
      "align_self": null,
      "border": null,
      "bottom": null,
      "display": null,
      "flex": null,
      "flex_flow": null,
      "grid_area": null,
      "grid_auto_columns": null,
      "grid_auto_flow": null,
      "grid_auto_rows": null,
      "grid_column": null,
      "grid_gap": null,
      "grid_row": null,
      "grid_template_areas": null,
      "grid_template_columns": null,
      "grid_template_rows": null,
      "height": null,
      "justify_content": null,
      "justify_items": null,
      "left": null,
      "margin": null,
      "max_height": null,
      "max_width": null,
      "min_height": null,
      "min_width": null,
      "object_fit": null,
      "object_position": null,
      "order": null,
      "overflow": null,
      "overflow_x": null,
      "overflow_y": null,
      "padding": null,
      "right": null,
      "top": null,
      "visibility": null,
      "width": null
     }
    },
    "d251854bd7e244c7a53661562b659f88": {
     "model_module": "@jupyter-widgets/controls",
     "model_module_version": "1.5.0",
     "model_name": "HBoxModel",
     "state": {
      "_dom_classes": [],
      "_model_module": "@jupyter-widgets/controls",
      "_model_module_version": "1.5.0",
      "_model_name": "HBoxModel",
      "_view_count": null,
      "_view_module": "@jupyter-widgets/controls",
      "_view_module_version": "1.5.0",
      "_view_name": "HBoxView",
      "box_style": "",
      "children": [
       "IPY_MODEL_3779e4059c4e422b88d9e0a8d9667a9d",
       "IPY_MODEL_3969348fc7fc4141b5ac0333747bfc87",
       "IPY_MODEL_4dc2c8f408cc40a4897b5f4c5bd38135"
      ],
      "layout": "IPY_MODEL_cb84e501685d40e9ab4d2a827aaa703e"
     }
    },
    "d398b0c2a496473698c410677d775588": {
     "model_module": "@jupyter-widgets/controls",
     "model_module_version": "1.5.0",
     "model_name": "HTMLModel",
     "state": {
      "_dom_classes": [],
      "_model_module": "@jupyter-widgets/controls",
      "_model_module_version": "1.5.0",
      "_model_name": "HTMLModel",
      "_view_count": null,
      "_view_module": "@jupyter-widgets/controls",
      "_view_module_version": "1.5.0",
      "_view_name": "HTMLView",
      "description": "",
      "description_tooltip": null,
      "layout": "IPY_MODEL_2fedc5c7dd924f12a00720a6c3d2ca07",
      "placeholder": "​",
      "style": "IPY_MODEL_f92b6eb8efdf431499cc8821600da606",
      "value": "Downloading builder script: 100%"
     }
    },
    "d8695deec6b746a8ab5f005edbf7f7d7": {
     "model_module": "@jupyter-widgets/base",
     "model_module_version": "1.2.0",
     "model_name": "LayoutModel",
     "state": {
      "_model_module": "@jupyter-widgets/base",
      "_model_module_version": "1.2.0",
      "_model_name": "LayoutModel",
      "_view_count": null,
      "_view_module": "@jupyter-widgets/base",
      "_view_module_version": "1.2.0",
      "_view_name": "LayoutView",
      "align_content": null,
      "align_items": null,
      "align_self": null,
      "border": null,
      "bottom": null,
      "display": null,
      "flex": null,
      "flex_flow": null,
      "grid_area": null,
      "grid_auto_columns": null,
      "grid_auto_flow": null,
      "grid_auto_rows": null,
      "grid_column": null,
      "grid_gap": null,
      "grid_row": null,
      "grid_template_areas": null,
      "grid_template_columns": null,
      "grid_template_rows": null,
      "height": null,
      "justify_content": null,
      "justify_items": null,
      "left": null,
      "margin": null,
      "max_height": null,
      "max_width": null,
      "min_height": null,
      "min_width": null,
      "object_fit": null,
      "object_position": null,
      "order": null,
      "overflow": null,
      "overflow_x": null,
      "overflow_y": null,
      "padding": null,
      "right": null,
      "top": null,
      "visibility": null,
      "width": null
     }
    },
    "d94d2c3a17d24dd393b887f3155f6789": {
     "model_module": "@jupyter-widgets/controls",
     "model_module_version": "1.5.0",
     "model_name": "HTMLModel",
     "state": {
      "_dom_classes": [],
      "_model_module": "@jupyter-widgets/controls",
      "_model_module_version": "1.5.0",
      "_model_name": "HTMLModel",
      "_view_count": null,
      "_view_module": "@jupyter-widgets/controls",
      "_view_module_version": "1.5.0",
      "_view_name": "HTMLView",
      "description": "",
      "description_tooltip": null,
      "layout": "IPY_MODEL_7e7b5ebcf3f64a6a91f5244a2ff345d2",
      "placeholder": "​",
      "style": "IPY_MODEL_ec846a81edfb433d882f77e72443c8e3",
      "value": " 6.27k/6.27k [00:00&lt;00:00, 537kB/s]"
     }
    },
    "e055ed92ccd740979632f83181d8d2ce": {
     "model_module": "@jupyter-widgets/base",
     "model_module_version": "1.2.0",
     "model_name": "LayoutModel",
     "state": {
      "_model_module": "@jupyter-widgets/base",
      "_model_module_version": "1.2.0",
      "_model_name": "LayoutModel",
      "_view_count": null,
      "_view_module": "@jupyter-widgets/base",
      "_view_module_version": "1.2.0",
      "_view_name": "LayoutView",
      "align_content": null,
      "align_items": null,
      "align_self": null,
      "border": null,
      "bottom": null,
      "display": null,
      "flex": null,
      "flex_flow": null,
      "grid_area": null,
      "grid_auto_columns": null,
      "grid_auto_flow": null,
      "grid_auto_rows": null,
      "grid_column": null,
      "grid_gap": null,
      "grid_row": null,
      "grid_template_areas": null,
      "grid_template_columns": null,
      "grid_template_rows": null,
      "height": null,
      "justify_content": null,
      "justify_items": null,
      "left": null,
      "margin": null,
      "max_height": null,
      "max_width": null,
      "min_height": null,
      "min_width": null,
      "object_fit": null,
      "object_position": null,
      "order": null,
      "overflow": null,
      "overflow_x": null,
      "overflow_y": null,
      "padding": null,
      "right": null,
      "top": null,
      "visibility": null,
      "width": null
     }
    },
    "ec846a81edfb433d882f77e72443c8e3": {
     "model_module": "@jupyter-widgets/controls",
     "model_module_version": "1.5.0",
     "model_name": "DescriptionStyleModel",
     "state": {
      "_model_module": "@jupyter-widgets/controls",
      "_model_module_version": "1.5.0",
      "_model_name": "DescriptionStyleModel",
      "_view_count": null,
      "_view_module": "@jupyter-widgets/base",
      "_view_module_version": "1.2.0",
      "_view_name": "StyleView",
      "description_width": ""
     }
    },
    "f1317125e21848d891eb8fe7d8bca191": {
     "model_module": "@jupyter-widgets/controls",
     "model_module_version": "1.5.0",
     "model_name": "ProgressStyleModel",
     "state": {
      "_model_module": "@jupyter-widgets/controls",
      "_model_module_version": "1.5.0",
      "_model_name": "ProgressStyleModel",
      "_view_count": null,
      "_view_module": "@jupyter-widgets/base",
      "_view_module_version": "1.2.0",
      "_view_name": "StyleView",
      "bar_color": null,
      "description_width": ""
     }
    },
    "f55196ff5bfa49e39d6b1a2a86115a80": {
     "model_module": "@jupyter-widgets/controls",
     "model_module_version": "1.5.0",
     "model_name": "HTMLModel",
     "state": {
      "_dom_classes": [],
      "_model_module": "@jupyter-widgets/controls",
      "_model_module_version": "1.5.0",
      "_model_name": "HTMLModel",
      "_view_count": null,
      "_view_module": "@jupyter-widgets/controls",
      "_view_module_version": "1.5.0",
      "_view_name": "HTMLView",
      "description": "",
      "description_tooltip": null,
      "layout": "IPY_MODEL_0077cd058d5b449f8892370ed91ad804",
      "placeholder": "​",
      "style": "IPY_MODEL_55ddabb4b6e248aea537e5de27df1d0c",
      "value": "Downloading builder script: 100%"
     }
    },
    "f92b6eb8efdf431499cc8821600da606": {
     "model_module": "@jupyter-widgets/controls",
     "model_module_version": "1.5.0",
     "model_name": "DescriptionStyleModel",
     "state": {
      "_model_module": "@jupyter-widgets/controls",
      "_model_module_version": "1.5.0",
      "_model_name": "DescriptionStyleModel",
      "_view_count": null,
      "_view_module": "@jupyter-widgets/base",
      "_view_module_version": "1.2.0",
      "_view_name": "StyleView",
      "description_width": ""
     }
    }
   }
  }
 },
 "nbformat": 4,
 "nbformat_minor": 4
}
